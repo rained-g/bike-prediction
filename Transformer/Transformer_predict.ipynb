{
 "cells": [
  {
   "cell_type": "code",
   "execution_count": 1,
   "metadata": {},
   "outputs": [],
   "source": [
    "import torch\n",
    "import torch.nn as nn\n",
    "import torch.optim as optim\n",
    "import matplotlib.pyplot as plt\n",
    "from sklearn.metrics import mean_squared_error, mean_absolute_error\n",
    "from torch.utils.data import DataLoader, TensorDataset\n",
    "import pandas as pd\n",
    "import numpy as np\n",
    "import seaborn as sns\n",
    "from tqdm.notebook import tqdm\n",
    "import math\n",
    "from sklearn.preprocessing import StandardScaler\n",
    "import random\n",
    "import wandb\n",
    "import os\n",
    "device = torch.device(\"cuda:0\")"
   ]
  },
  {
   "cell_type": "markdown",
   "metadata": {},
   "source": [
    "### 1、 加载数据集并进行处理"
   ]
  },
  {
   "cell_type": "markdown",
   "metadata": {},
   "source": [
    "#### 1.1 读取数据集"
   ]
  },
  {
   "cell_type": "code",
   "execution_count": 2,
   "metadata": {},
   "outputs": [
    {
     "data": {
      "text/html": [
       "<div>\n",
       "<style scoped>\n",
       "    .dataframe tbody tr th:only-of-type {\n",
       "        vertical-align: middle;\n",
       "    }\n",
       "\n",
       "    .dataframe tbody tr th {\n",
       "        vertical-align: top;\n",
       "    }\n",
       "\n",
       "    .dataframe thead th {\n",
       "        text-align: right;\n",
       "    }\n",
       "</style>\n",
       "<table border=\"1\" class=\"dataframe\">\n",
       "  <thead>\n",
       "    <tr style=\"text-align: right;\">\n",
       "      <th></th>\n",
       "      <th>instant</th>\n",
       "      <th>dteday</th>\n",
       "      <th>season</th>\n",
       "      <th>yr</th>\n",
       "      <th>mnth</th>\n",
       "      <th>hr</th>\n",
       "      <th>holiday</th>\n",
       "      <th>weekday</th>\n",
       "      <th>workingday</th>\n",
       "      <th>weathersit</th>\n",
       "      <th>temp</th>\n",
       "      <th>atemp</th>\n",
       "      <th>hum</th>\n",
       "      <th>windspeed</th>\n",
       "      <th>casual</th>\n",
       "      <th>registered</th>\n",
       "      <th>cnt</th>\n",
       "    </tr>\n",
       "  </thead>\n",
       "  <tbody>\n",
       "    <tr>\n",
       "      <th>0</th>\n",
       "      <td>1.0</td>\n",
       "      <td>2011/1/1</td>\n",
       "      <td>1.0</td>\n",
       "      <td>0.0</td>\n",
       "      <td>1.0</td>\n",
       "      <td>0.0</td>\n",
       "      <td>0.0</td>\n",
       "      <td>6.0</td>\n",
       "      <td>0.0</td>\n",
       "      <td>1.0</td>\n",
       "      <td>0.24</td>\n",
       "      <td>0.2879</td>\n",
       "      <td>0.81</td>\n",
       "      <td>0.0</td>\n",
       "      <td>3.0</td>\n",
       "      <td>13.0</td>\n",
       "      <td>16.0</td>\n",
       "    </tr>\n",
       "    <tr>\n",
       "      <th>1</th>\n",
       "      <td>2.0</td>\n",
       "      <td>2011/1/1</td>\n",
       "      <td>1.0</td>\n",
       "      <td>0.0</td>\n",
       "      <td>1.0</td>\n",
       "      <td>1.0</td>\n",
       "      <td>0.0</td>\n",
       "      <td>6.0</td>\n",
       "      <td>0.0</td>\n",
       "      <td>1.0</td>\n",
       "      <td>0.22</td>\n",
       "      <td>0.2727</td>\n",
       "      <td>0.80</td>\n",
       "      <td>0.0</td>\n",
       "      <td>8.0</td>\n",
       "      <td>32.0</td>\n",
       "      <td>40.0</td>\n",
       "    </tr>\n",
       "    <tr>\n",
       "      <th>2</th>\n",
       "      <td>3.0</td>\n",
       "      <td>2011/1/1</td>\n",
       "      <td>1.0</td>\n",
       "      <td>0.0</td>\n",
       "      <td>1.0</td>\n",
       "      <td>2.0</td>\n",
       "      <td>0.0</td>\n",
       "      <td>6.0</td>\n",
       "      <td>0.0</td>\n",
       "      <td>1.0</td>\n",
       "      <td>0.22</td>\n",
       "      <td>0.2727</td>\n",
       "      <td>0.80</td>\n",
       "      <td>0.0</td>\n",
       "      <td>5.0</td>\n",
       "      <td>27.0</td>\n",
       "      <td>32.0</td>\n",
       "    </tr>\n",
       "    <tr>\n",
       "      <th>3</th>\n",
       "      <td>4.0</td>\n",
       "      <td>2011/1/1</td>\n",
       "      <td>1.0</td>\n",
       "      <td>0.0</td>\n",
       "      <td>1.0</td>\n",
       "      <td>3.0</td>\n",
       "      <td>0.0</td>\n",
       "      <td>6.0</td>\n",
       "      <td>0.0</td>\n",
       "      <td>1.0</td>\n",
       "      <td>0.24</td>\n",
       "      <td>0.2879</td>\n",
       "      <td>0.75</td>\n",
       "      <td>0.0</td>\n",
       "      <td>3.0</td>\n",
       "      <td>10.0</td>\n",
       "      <td>13.0</td>\n",
       "    </tr>\n",
       "    <tr>\n",
       "      <th>4</th>\n",
       "      <td>5.0</td>\n",
       "      <td>2011/1/1</td>\n",
       "      <td>1.0</td>\n",
       "      <td>0.0</td>\n",
       "      <td>1.0</td>\n",
       "      <td>4.0</td>\n",
       "      <td>0.0</td>\n",
       "      <td>6.0</td>\n",
       "      <td>0.0</td>\n",
       "      <td>1.0</td>\n",
       "      <td>0.24</td>\n",
       "      <td>0.2879</td>\n",
       "      <td>0.75</td>\n",
       "      <td>0.0</td>\n",
       "      <td>0.0</td>\n",
       "      <td>1.0</td>\n",
       "      <td>1.0</td>\n",
       "    </tr>\n",
       "  </tbody>\n",
       "</table>\n",
       "</div>"
      ],
      "text/plain": [
       "   instant    dteday  season   yr  mnth   hr  holiday  weekday  workingday  \\\n",
       "0      1.0  2011/1/1     1.0  0.0   1.0  0.0      0.0      6.0         0.0   \n",
       "1      2.0  2011/1/1     1.0  0.0   1.0  1.0      0.0      6.0         0.0   \n",
       "2      3.0  2011/1/1     1.0  0.0   1.0  2.0      0.0      6.0         0.0   \n",
       "3      4.0  2011/1/1     1.0  0.0   1.0  3.0      0.0      6.0         0.0   \n",
       "4      5.0  2011/1/1     1.0  0.0   1.0  4.0      0.0      6.0         0.0   \n",
       "\n",
       "   weathersit  temp   atemp   hum  windspeed  casual  registered   cnt  \n",
       "0         1.0  0.24  0.2879  0.81        0.0     3.0        13.0  16.0  \n",
       "1         1.0  0.22  0.2727  0.80        0.0     8.0        32.0  40.0  \n",
       "2         1.0  0.22  0.2727  0.80        0.0     5.0        27.0  32.0  \n",
       "3         1.0  0.24  0.2879  0.75        0.0     3.0        10.0  13.0  \n",
       "4         1.0  0.24  0.2879  0.75        0.0     0.0         1.0   1.0  "
      ]
     },
     "execution_count": 2,
     "metadata": {},
     "output_type": "execute_result"
    }
   ],
   "source": [
    "train_dataset = pd.read_csv(\"train_data.csv\")\n",
    "test_dataset = pd.read_csv(\"test_data.csv\")\n",
    "train_dataset.head(5)"
   ]
  },
  {
   "cell_type": "markdown",
   "metadata": {},
   "source": [
    "#### 1.2 处理数据集"
   ]
  },
  {
   "cell_type": "code",
   "execution_count": 3,
   "metadata": {},
   "outputs": [],
   "source": [
    "#对天气以及季节进行编码（季节变为0-3，天气变为0-2）\n",
    "# season_encoder = LabelEncoder()\n",
    "# train_dataset['season'] = season_encoder.fit_transform(train_dataset['season'])\n",
    "# test_dataset['season'] = season_encoder.fit_transform(train_dataset['season'])\n",
    "# weathersit_encoder = LabelEncoder()\n",
    "# train_dataset['weathersit'] = weathersit_encoder.fit_transform(train_dataset['weathersit'])\n",
    "\n",
    "#通过sin和cos编码周期性特征\n",
    "#季节编码\n",
    "train_dataset['season_sin'] = np.sin(2 * np.pi * train_dataset['season'] / 4)\n",
    "train_dataset['season_cos'] = np.cos(2 * np.pi * train_dataset['season'] / 4)\n",
    "test_dataset['season_sin'] = np.sin(2 * np.pi * test_dataset['season'] / 4)\n",
    "test_dataset['season_cos'] = np.cos(2 * np.pi * test_dataset['season'] / 4)\n",
    "#月份编码\n",
    "train_dataset['month_sin'] = np.sin(2 * np.pi * train_dataset['mnth'] / 12)\n",
    "train_dataset['month_cos'] = np.cos(2 * np.pi * train_dataset['mnth'] / 12)\n",
    "test_dataset['month_sin'] = np.sin(2 * np.pi * test_dataset['mnth'] / 12)\n",
    "test_dataset['month_cos'] = np.cos(2 * np.pi * test_dataset['mnth'] / 12)\n",
    "#工作日编码\n",
    "train_dataset['weekday_sin'] = np.sin(2 * np.pi * train_dataset['weekday'] / 7)\n",
    "train_dataset['weekday_cos'] = np.cos(2 * np.pi * train_dataset['weekday'] / 7)\n",
    "test_dataset['weekday_sin'] = np.sin(2 * np.pi * test_dataset['weekday'] / 7)\n",
    "test_dataset['weekday_cos'] = np.cos(2 * np.pi * test_dataset['weekday'] / 7)\n",
    "#小时编码\n",
    "train_dataset['hour_sin'] = np.sin(2 * np.pi * train_dataset['hr'] / 24)\n",
    "train_dataset['hour_cos'] = np.cos(2 * np.pi * train_dataset['hr'] / 24)\n",
    "test_dataset['hour_sin'] = np.sin(2 * np.pi * test_dataset['hr'] / 24)\n",
    "test_dataset['hour_cos'] = np.cos(2 * np.pi * test_dataset['hr'] / 24)\n",
    "\n",
    "# 对训练集特征进行标准化\n",
    "scaler = StandardScaler()\n",
    "features = ['yr', 'holiday', 'workingday', 'weathersit', 'temp', 'atemp', 'hum', 'windspeed', \n",
    "            'season_sin', 'season_cos', 'month_sin', 'month_cos', 'weekday_sin', 'weekday_cos', 'hour_sin', 'hour_cos']\n",
    "train_dataset[features] = scaler.fit_transform(train_dataset[features])\n",
    "#创建滑动窗口\n",
    "def create_timeseries_data(df, window_size=96, forecast_horizon=96):\n",
    "    X, y = [], []       #两个数组用于保存值\n",
    "    for i in range(window_size, len(df) - forecast_horizon + 1):\n",
    "        # X.append(df.iloc[i-window_size:i, 2:].values)  \n",
    "        # 过去96小时的数据\n",
    "        #['mnth','holiday','workingday','weathersit','temp', 'atemp', 'hum', 'windspeed']   8特征值\n",
    "        X.append(df.iloc[i-window_size:i][['yr', 'holiday', 'workingday', 'weathersit', 'temp', 'atemp', 'hum', 'windspeed', 'season_sin', 'season_cos', 'month_sin', 'month_cos', 'weekday_sin', 'weekday_cos', 'hour_sin', 'hour_cos']].values)\n",
    "        y.append(df.iloc[i:i + forecast_horizon]['cnt'].values)    #待预测的未来96小时的cnt\n",
    "    return np.array(X), np.array(y)\n",
    "\n",
    "# 创建96小时的时间窗口数据\n",
    "X, y = create_timeseries_data(train_dataset, window_size=96, forecast_horizon=240)\n",
    "X_test, y_test =  create_timeseries_data(test_dataset, window_size=96, forecast_horizon=240)"
   ]
  },
  {
   "cell_type": "markdown",
   "metadata": {},
   "source": [
    "#### 1.3 划分数据集"
   ]
  },
  {
   "cell_type": "code",
   "execution_count": 4,
   "metadata": {},
   "outputs": [
    {
     "name": "stdout",
     "output_type": "stream",
     "text": [
      "(14735, 96, 16) (14735, 240)\n",
      "(149, 96, 16) (149, 240)\n"
     ]
    }
   ],
   "source": [
    "train_size = int(len(X) * 0.99)\n",
    "val_size = int(len(X) * 0.05)\n",
    "\n",
    "X_train, X_val = X[:train_size], X[train_size:train_size+val_size]\n",
    "y_train, y_val = y[:train_size], y[train_size:train_size+val_size]\n",
    "\n",
    "X_test = X_test[:train_size]\n",
    "y_test = y_test[:train_size]\n",
    "# X_train = X\n",
    "# y_train = y\n",
    "\n",
    "print(X_train.shape, y_train.shape)\n",
    "print(X_val.shape, y_val.shape)\n",
    "\n",
    "if np.any(np.isnan(y_test)):\n",
    "    print(\"y_true contains NaN values\")"
   ]
  },
  {
   "cell_type": "code",
   "execution_count": 5,
   "metadata": {},
   "outputs": [
    {
     "name": "stdout",
     "output_type": "stream",
     "text": [
      "[-0.87183286 -0.16536185 -1.47421353 -0.64597027 -1.39216395 -1.15191222\n",
      "  0.94545653 -1.56519255  1.38671423  0.20965553  0.61473259  1.44825643\n",
      " -1.1023499   0.87615709  0.0060855   1.41836036]\n",
      "float64\n",
      "float64\n"
     ]
    }
   ],
   "source": [
    "print(X_train[0][0])\n",
    "print(X_train.dtype)\n",
    "print(y_train.dtype)"
   ]
  },
  {
   "cell_type": "markdown",
   "metadata": {},
   "source": [
    "### 2、构建Dataloader"
   ]
  },
  {
   "cell_type": "code",
   "execution_count": 6,
   "metadata": {},
   "outputs": [],
   "source": [
    "X_train_tensor = torch.tensor(X_train, dtype=torch.float32)\n",
    "y_train_tensor = torch.tensor(y_train, dtype=torch.float32)\n",
    "\n",
    "\n",
    "X_val_tensor = torch.tensor(X_val, dtype=torch.float32)\n",
    "y_val_tensor = torch.tensor(y_val, dtype=torch.float32)\n",
    "\n",
    "\n",
    "X_test_tensor = torch.tensor(X_test, dtype=torch.float32)\n",
    "y_test_tensor = torch.tensor(y_test, dtype=torch.float32)\n",
    "\n",
    "# 创建DataLoader\n",
    "train_dataset = TensorDataset(X_train_tensor, y_train_tensor)\n",
    "val_dataset = TensorDataset(X_val_tensor, y_val_tensor)\n",
    "test_dataset = TensorDataset(X_test_tensor, y_test_tensor)\n",
    "\n",
    "b_size = 128\n",
    "train_loader = DataLoader(train_dataset, batch_size=b_size, shuffle=True)\n",
    "val_loader = DataLoader(val_dataset, batch_size=b_size)\n",
    "test_loader = DataLoader(test_dataset, batch_size=b_size)\n"
   ]
  },
  {
   "cell_type": "code",
   "execution_count": 7,
   "metadata": {},
   "outputs": [
    {
     "name": "stdout",
     "output_type": "stream",
     "text": [
      "14735\n",
      "[785 384 260 304 468 424 400 470 634 900 761 500 372 267 264 171 191 141\n",
      "  75  56  11  10  30  84 206 395 539 647 743 710 576 620 659 610 495 341\n",
      " 247 215 185 179 127 109  74  22  11  10  23  35  62  86 185 336 392 320\n",
      " 314 306 333 157 106 114 116 113  79  80  51  37  15  10   7  19  59 154\n",
      " 397 332 298 308 341 405 420 370 377 497 456 371 227 151 107  69  31  13\n",
      "   7   3   7  19 143 362 713 382 164 193 260 238 244 254 424 806 784 514\n",
      " 360 225 162  84  33   8   8   6   6  40 175 507 839 366 217 291 390 297\n",
      " 271 319 566 948 844 566 392 269 197 136  42  11  11   3  10  42 159 478\n",
      " 798 355 204 251 326 291 348 460 481 827 692 743 415 260 177 186  68  37\n",
      "  16   6   8  35 143 392 745 400 275 313 387 381 371 455 520 837 642 493\n",
      " 308 190 160 100 249 146  67  15  11  11  28  70 174 266 347 527 573 670\n",
      " 597 615 637 528 473 332 255 204 189 125 111 112  66  28  12  11  24  51\n",
      " 132 223 428 494 562 619 617 568 581 539 453 336 246 196 125 105  48  29\n",
      "   6   4  10  40 147 476]\n"
     ]
    }
   ],
   "source": [
    "# print(len(val_loader))\n",
    "print(len(train_dataset))\n",
    "print(y_test[0])\n",
    "# print(len(val_dataset))"
   ]
  },
  {
   "cell_type": "markdown",
   "metadata": {},
   "source": [
    "### 3、定义Transformer结构"
   ]
  },
  {
   "cell_type": "code",
   "execution_count": 8,
   "metadata": {},
   "outputs": [],
   "source": [
    "class TransformerModel(nn.Module):\n",
    "    def __init__(self, input_dim, seq_len, output_dim, nhead=4, num_encoder_layers=6, dim_feedforward=512):\n",
    "        super(TransformerModel, self).__init__()\n",
    "        \n",
    "        # Transformer Encoder\n",
    "        self.encoder = nn.TransformerEncoder(\n",
    "            nn.TransformerEncoderLayer(\n",
    "                d_model=input_dim, \n",
    "                nhead=nhead, \n",
    "                dim_feedforward=dim_feedforward, \n",
    "                batch_first=True  # 启用 batch_first\n",
    "            ), \n",
    "            num_layers=num_encoder_layers\n",
    "        )\n",
    "        \n",
    "        # Fully connected layer for output prediction\n",
    "        self.fc = nn.Linear(input_dim, output_dim)  # output_dim should be the forecast horizon (96 in your case)\n",
    "    \n",
    "    def forward(self, x):\n",
    "        # x shape: (batch_size, seq_len, input_dim), batch_first=True, so no need for permute\n",
    "        # Pass through the transformer encoder\n",
    "        transformer_out = self.encoder(x)\n",
    "        \n",
    "        # Taking the output of the last time step for prediction\n",
    "        # Here, we want to get predictions for all future 96 hours\n",
    "        output = transformer_out[:, -1, :]  # This is the representation of the last time step\n",
    "        \n",
    "        # Fully connected layer to produce the output for all 96 hours (forecast_horizon)\n",
    "        output = self.fc(output)  # The output should now have shape (batch_size, forecast_horizon)\n",
    "        return output\n",
    "# class PositionalEncoding(nn.Module):\n",
    "#     def __init__(self, d_model, max_len=5000):\n",
    "#         super(PositionalEncoding, self).__init__()\n",
    "#         pe = torch.zeros(max_len, d_model)\n",
    "#         position = torch.arange(0, max_len, dtype=torch.float).unsqueeze(1)\n",
    "#         div_term = torch.exp(torch.arange(0, d_model, 2).float() * (-math.log(10000.0) / d_model))\n",
    "#         pe[:, 0::2] = torch.sin(position * div_term)\n",
    "#         pe[:, 1::2] = torch.cos(position * div_term)\n",
    "#         pe = pe.unsqueeze(0).transpose(0, 1)\n",
    "#         self.register_buffer('pe', pe)\n",
    "    \n",
    "#     def forward(self, x):\n",
    "#         return x + self.pe[:x.size(0), :]\n",
    "\n",
    "# class TransformerModel(nn.Module):\n",
    "#     def __init__(self, input_dim, seq_len, output_dim, nhead=8, num_encoder_layers=6, dropout=0.1):\n",
    "#         super(TransformerModel, self).__init__()\n",
    "        \n",
    "#         # Position encoding\n",
    "#         self.pos_encoder = PositionalEncoding(input_dim)\n",
    "        \n",
    "#         # Transformer Encoder\n",
    "#         self.encoder_layer = nn.TransformerEncoderLayer(\n",
    "#             d_model=input_dim, \n",
    "#             nhead=nhead, \n",
    "#             dropout=dropout\n",
    "#         )\n",
    "#         self.transformer_encoder = nn.TransformerEncoder(\n",
    "#             self.encoder_layer, \n",
    "#             num_layers=num_encoder_layers\n",
    "#         )\n",
    "        \n",
    "#         # Fully connected layer for output prediction\n",
    "#         self.fc = nn.Linear(input_dim, output_dim)  # Output size = forecast horizon (96)\n",
    "    \n",
    "#     def forward(self, x):\n",
    "#         # x shape: (batch_size, seq_len, input_dim)\n",
    "#         x = x.permute(1, 0, 2)  # (seq_len, batch_size, input_dim) for transformer\n",
    "        \n",
    "#         # Add positional encoding\n",
    "#         x = self.pos_encoder(x)\n",
    "        \n",
    "#         # Pass through the transformer encoder\n",
    "#         transformer_out = self.transformer_encoder(x)\n",
    "        \n",
    "#         # Flatten the output and pass through the fully connected layer\n",
    "#         output = transformer_out[-1, :, :]  # Get the output from the last time step\n",
    "#         output = self.fc(output)  # Output size: (batch_size, output_dim)\n",
    "#         return output\n",
    "\n",
    "# Model instance\n",
    "model = TransformerModel(input_dim=X_train.shape[2], seq_len=X_train.shape[1], output_dim=y_train.shape[1]).to(device)"
   ]
  },
  {
   "cell_type": "markdown",
   "metadata": {},
   "source": [
    "### 4、定义训练过程"
   ]
  },
  {
   "cell_type": "markdown",
   "metadata": {},
   "source": [
    "#### 4.1、wandb初始化"
   ]
  },
  {
   "cell_type": "code",
   "execution_count": 9,
   "metadata": {},
   "outputs": [
    {
     "name": "stderr",
     "output_type": "stream",
     "text": [
      "\u001b[34m\u001b[1mwandb\u001b[0m: Using wandb-core as the SDK backend. Please refer to https://wandb.me/wandb-core for more information.\n",
      "\u001b[34m\u001b[1mwandb\u001b[0m: Currently logged in as: \u001b[33mtsjsjym\u001b[0m (\u001b[33mtsjsjym-soochow-university\u001b[0m). Use \u001b[1m`wandb login --relogin`\u001b[0m to force relogin\n"
     ]
    },
    {
     "data": {
      "text/html": [
       "Tracking run with wandb version 0.18.5"
      ],
      "text/plain": [
       "<IPython.core.display.HTML object>"
      ]
     },
     "metadata": {},
     "output_type": "display_data"
    },
    {
     "data": {
      "text/html": [
       "Run data is saved locally in <code>/mnt/sda/ymji/machine-homerwork/wandb/run-20250117_192115-c7znmmo8</code>"
      ],
      "text/plain": [
       "<IPython.core.display.HTML object>"
      ]
     },
     "metadata": {},
     "output_type": "display_data"
    },
    {
     "data": {
      "text/html": [
       "Syncing run <strong><a href='https://wandb.ai/tsjsjym-soochow-university/Transformer-bike-240/runs/c7znmmo8' target=\"_blank\">5</a></strong> to <a href='https://wandb.ai/tsjsjym-soochow-university/Transformer-bike-240' target=\"_blank\">Weights & Biases</a> (<a href='https://wandb.me/run' target=\"_blank\">docs</a>)<br/>"
      ],
      "text/plain": [
       "<IPython.core.display.HTML object>"
      ]
     },
     "metadata": {},
     "output_type": "display_data"
    },
    {
     "data": {
      "text/html": [
       " View project at <a href='https://wandb.ai/tsjsjym-soochow-university/Transformer-bike-240' target=\"_blank\">https://wandb.ai/tsjsjym-soochow-university/Transformer-bike-240</a>"
      ],
      "text/plain": [
       "<IPython.core.display.HTML object>"
      ]
     },
     "metadata": {},
     "output_type": "display_data"
    },
    {
     "data": {
      "text/html": [
       " View run at <a href='https://wandb.ai/tsjsjym-soochow-university/Transformer-bike-240/runs/c7znmmo8' target=\"_blank\">https://wandb.ai/tsjsjym-soochow-university/Transformer-bike-240/runs/c7znmmo8</a>"
      ],
      "text/plain": [
       "<IPython.core.display.HTML object>"
      ]
     },
     "metadata": {},
     "output_type": "display_data"
    }
   ],
   "source": [
    "wandb.init(project=\"Transformer-bike-240\", name=\"5\", config={\n",
    "    \"epochs\": 1000,\n",
    "    \"batch_size\": 128,\n",
    "    \"learning_rate\": 2e-4,\n",
    "    \"initial\" : \"random\",\n",
    "    \"nhead\" : 4,\n",
    "    \"features\" : 16,\n",
    "    \"layer\" : 6\n",
    "})\n",
    "torch.cuda.empty_cache()"
   ]
  },
  {
   "cell_type": "code",
   "execution_count": 10,
   "metadata": {},
   "outputs": [
    {
     "data": {
      "application/vnd.jupyter.widget-view+json": {
       "model_id": "18b29cdb7bca4b70baa0377779e66e8a",
       "version_major": 2,
       "version_minor": 0
      },
      "text/plain": [
       "Epoch 1/1000:   0%|          | 0/1 [00:00<?, ?it/s]"
      ]
     },
     "metadata": {},
     "output_type": "display_data"
    },
    {
     "name": "stdout",
     "output_type": "stream",
     "text": [
      "Epoch 1/1000, Loss: 64871.35721982759\n"
     ]
    },
    {
     "data": {
      "application/vnd.jupyter.widget-view+json": {
       "model_id": "01822764c4a141f1b8dc1625c207d395",
       "version_major": 2,
       "version_minor": 0
      },
      "text/plain": [
       "Epoch 2/1000:   0%|          | 0/1 [00:00<?, ?it/s]"
      ]
     },
     "metadata": {},
     "output_type": "display_data"
    },
    {
     "name": "stdout",
     "output_type": "stream",
     "text": [
      "Epoch 2/1000, Loss: 64663.15035695043\n"
     ]
    },
    {
     "data": {
      "application/vnd.jupyter.widget-view+json": {
       "model_id": "723aacad0a5341c7bdcad49477466b3f",
       "version_major": 2,
       "version_minor": 0
      },
      "text/plain": [
       "Epoch 3/1000:   0%|          | 0/1 [00:00<?, ?it/s]"
      ]
     },
     "metadata": {},
     "output_type": "display_data"
    },
    {
     "name": "stdout",
     "output_type": "stream",
     "text": [
      "Epoch 3/1000, Loss: 64581.25761045259\n"
     ]
    },
    {
     "data": {
      "application/vnd.jupyter.widget-view+json": {
       "model_id": "4898278479344da48c1d08ac8398c0cc",
       "version_major": 2,
       "version_minor": 0
      },
      "text/plain": [
       "Epoch 4/1000:   0%|          | 0/1 [00:00<?, ?it/s]"
      ]
     },
     "metadata": {},
     "output_type": "display_data"
    },
    {
     "name": "stdout",
     "output_type": "stream",
     "text": [
      "Epoch 4/1000, Loss: 64163.94494207974\n"
     ]
    },
    {
     "data": {
      "application/vnd.jupyter.widget-view+json": {
       "model_id": "10e474a47ed7442f802ca98a503db2eb",
       "version_major": 2,
       "version_minor": 0
      },
      "text/plain": [
       "Epoch 5/1000:   0%|          | 0/1 [00:00<?, ?it/s]"
      ]
     },
     "metadata": {},
     "output_type": "display_data"
    },
    {
     "name": "stdout",
     "output_type": "stream",
     "text": [
      "Epoch 5/1000, Loss: 64325.63439520474\n"
     ]
    },
    {
     "data": {
      "application/vnd.jupyter.widget-view+json": {
       "model_id": "0d9067a0a9944dad9c046ee0f5e69577",
       "version_major": 2,
       "version_minor": 0
      },
      "text/plain": [
       "Epoch 6/1000:   0%|          | 0/1 [00:00<?, ?it/s]"
      ]
     },
     "metadata": {},
     "output_type": "display_data"
    },
    {
     "name": "stdout",
     "output_type": "stream",
     "text": [
      "Epoch 6/1000, Loss: 63924.998619342674\n"
     ]
    },
    {
     "data": {
      "application/vnd.jupyter.widget-view+json": {
       "model_id": "8ebd09ea19a94f1f8d94a1d7760fce56",
       "version_major": 2,
       "version_minor": 0
      },
      "text/plain": [
       "Epoch 7/1000:   0%|          | 0/1 [00:00<?, ?it/s]"
      ]
     },
     "metadata": {},
     "output_type": "display_data"
    },
    {
     "name": "stdout",
     "output_type": "stream",
     "text": [
      "Epoch 7/1000, Loss: 63629.843884698275\n"
     ]
    },
    {
     "data": {
      "application/vnd.jupyter.widget-view+json": {
       "model_id": "41cce3d3115a4d988c6d59c1adf0ff69",
       "version_major": 2,
       "version_minor": 0
      },
      "text/plain": [
       "Epoch 8/1000:   0%|          | 0/1 [00:00<?, ?it/s]"
      ]
     },
     "metadata": {},
     "output_type": "display_data"
    },
    {
     "name": "stdout",
     "output_type": "stream",
     "text": [
      "Epoch 8/1000, Loss: 63242.74740705819\n"
     ]
    },
    {
     "data": {
      "application/vnd.jupyter.widget-view+json": {
       "model_id": "4b4de5f069514a84a67ae66055123f84",
       "version_major": 2,
       "version_minor": 0
      },
      "text/plain": [
       "Epoch 9/1000:   0%|          | 0/1 [00:00<?, ?it/s]"
      ]
     },
     "metadata": {},
     "output_type": "display_data"
    },
    {
     "name": "stdout",
     "output_type": "stream",
     "text": [
      "Epoch 9/1000, Loss: 62910.2183122306\n"
     ]
    },
    {
     "data": {
      "application/vnd.jupyter.widget-view+json": {
       "model_id": "3a558d00ed7f4e7ea7a9500bada9523a",
       "version_major": 2,
       "version_minor": 0
      },
      "text/plain": [
       "Epoch 10/1000:   0%|          | 0/1 [00:00<?, ?it/s]"
      ]
     },
     "metadata": {},
     "output_type": "display_data"
    },
    {
     "name": "stdout",
     "output_type": "stream",
     "text": [
      "Epoch 10/1000, Loss: 62413.089372306036\n"
     ]
    },
    {
     "data": {
      "application/vnd.jupyter.widget-view+json": {
       "model_id": "1b304bd8c82c49739eab477663a22060",
       "version_major": 2,
       "version_minor": 0
      },
      "text/plain": [
       "Epoch 11/1000:   0%|          | 0/1 [00:00<?, ?it/s]"
      ]
     },
     "metadata": {},
     "output_type": "display_data"
    },
    {
     "name": "stdout",
     "output_type": "stream",
     "text": [
      "Epoch 11/1000, Loss: 62268.624427532326\n"
     ]
    },
    {
     "data": {
      "application/vnd.jupyter.widget-view+json": {
       "model_id": "fe938e7a028746a298c9fd2b12154df7",
       "version_major": 2,
       "version_minor": 0
      },
      "text/plain": [
       "Epoch 12/1000:   0%|          | 0/1 [00:00<?, ?it/s]"
      ]
     },
     "metadata": {},
     "output_type": "display_data"
    },
    {
     "name": "stdout",
     "output_type": "stream",
     "text": [
      "Epoch 12/1000, Loss: 62002.507071659486\n"
     ]
    },
    {
     "data": {
      "application/vnd.jupyter.widget-view+json": {
       "model_id": "ef3693295de94a108079953242ea03df",
       "version_major": 2,
       "version_minor": 0
      },
      "text/plain": [
       "Epoch 13/1000:   0%|          | 0/1 [00:00<?, ?it/s]"
      ]
     },
     "metadata": {},
     "output_type": "display_data"
    },
    {
     "name": "stdout",
     "output_type": "stream",
     "text": [
      "Epoch 13/1000, Loss: 61380.50548895474\n"
     ]
    },
    {
     "data": {
      "application/vnd.jupyter.widget-view+json": {
       "model_id": "2a3ad18d507c40aab53665e41d9b235b",
       "version_major": 2,
       "version_minor": 0
      },
      "text/plain": [
       "Epoch 14/1000:   0%|          | 0/1 [00:00<?, ?it/s]"
      ]
     },
     "metadata": {},
     "output_type": "display_data"
    },
    {
     "name": "stdout",
     "output_type": "stream",
     "text": [
      "Epoch 14/1000, Loss: 61002.19598599138\n"
     ]
    },
    {
     "data": {
      "application/vnd.jupyter.widget-view+json": {
       "model_id": "c171ec8735924819903bba3f02b0d2b5",
       "version_major": 2,
       "version_minor": 0
      },
      "text/plain": [
       "Epoch 15/1000:   0%|          | 0/1 [00:00<?, ?it/s]"
      ]
     },
     "metadata": {},
     "output_type": "display_data"
    },
    {
     "name": "stdout",
     "output_type": "stream",
     "text": [
      "Epoch 15/1000, Loss: 60637.29007273707\n"
     ]
    },
    {
     "data": {
      "application/vnd.jupyter.widget-view+json": {
       "model_id": "0afca2284c8c4d6d94c1ba6157535161",
       "version_major": 2,
       "version_minor": 0
      },
      "text/plain": [
       "Epoch 16/1000:   0%|          | 0/1 [00:00<?, ?it/s]"
      ]
     },
     "metadata": {},
     "output_type": "display_data"
    },
    {
     "name": "stdout",
     "output_type": "stream",
     "text": [
      "Epoch 16/1000, Loss: 60058.31074892241\n"
     ]
    },
    {
     "data": {
      "application/vnd.jupyter.widget-view+json": {
       "model_id": "d7539344666442919380e8912b64649e",
       "version_major": 2,
       "version_minor": 0
      },
      "text/plain": [
       "Epoch 17/1000:   0%|          | 0/1 [00:00<?, ?it/s]"
      ]
     },
     "metadata": {},
     "output_type": "display_data"
    },
    {
     "name": "stdout",
     "output_type": "stream",
     "text": [
      "Epoch 17/1000, Loss: 59646.203360721986\n"
     ]
    },
    {
     "data": {
      "application/vnd.jupyter.widget-view+json": {
       "model_id": "ad93b2476bb34adebafa4112000a7327",
       "version_major": 2,
       "version_minor": 0
      },
      "text/plain": [
       "Epoch 18/1000:   0%|          | 0/1 [00:00<?, ?it/s]"
      ]
     },
     "metadata": {},
     "output_type": "display_data"
    },
    {
     "name": "stdout",
     "output_type": "stream",
     "text": [
      "Epoch 18/1000, Loss: 59032.568359375\n"
     ]
    },
    {
     "data": {
      "application/vnd.jupyter.widget-view+json": {
       "model_id": "738e2a81b071465a8379cdbee48dfc1d",
       "version_major": 2,
       "version_minor": 0
      },
      "text/plain": [
       "Epoch 19/1000:   0%|          | 0/1 [00:00<?, ?it/s]"
      ]
     },
     "metadata": {},
     "output_type": "display_data"
    },
    {
     "name": "stdout",
     "output_type": "stream",
     "text": [
      "Epoch 19/1000, Loss: 58727.855603448275\n"
     ]
    },
    {
     "data": {
      "application/vnd.jupyter.widget-view+json": {
       "model_id": "575bd639167e4f0b93907b07d84a86b9",
       "version_major": 2,
       "version_minor": 0
      },
      "text/plain": [
       "Epoch 20/1000:   0%|          | 0/1 [00:00<?, ?it/s]"
      ]
     },
     "metadata": {},
     "output_type": "display_data"
    },
    {
     "name": "stdout",
     "output_type": "stream",
     "text": [
      "Epoch 20/1000, Loss: 58097.26919450431\n"
     ]
    },
    {
     "data": {
      "application/vnd.jupyter.widget-view+json": {
       "model_id": "5ca7a4667fe6413aa3ef53cc9387dfa6",
       "version_major": 2,
       "version_minor": 0
      },
      "text/plain": [
       "Epoch 21/1000:   0%|          | 0/1 [00:00<?, ?it/s]"
      ]
     },
     "metadata": {},
     "output_type": "display_data"
    },
    {
     "name": "stdout",
     "output_type": "stream",
     "text": [
      "Epoch 21/1000, Loss: 57569.14129849138\n"
     ]
    },
    {
     "data": {
      "application/vnd.jupyter.widget-view+json": {
       "model_id": "f9d2835b0b2e457892ddc2003dc3b966",
       "version_major": 2,
       "version_minor": 0
      },
      "text/plain": [
       "Epoch 22/1000:   0%|          | 0/1 [00:00<?, ?it/s]"
      ]
     },
     "metadata": {},
     "output_type": "display_data"
    },
    {
     "name": "stdout",
     "output_type": "stream",
     "text": [
      "Epoch 22/1000, Loss: 57051.41473599138\n"
     ]
    },
    {
     "data": {
      "application/vnd.jupyter.widget-view+json": {
       "model_id": "af608bbf14e249a79c77f59487ad6528",
       "version_major": 2,
       "version_minor": 0
      },
      "text/plain": [
       "Epoch 23/1000:   0%|          | 0/1 [00:00<?, ?it/s]"
      ]
     },
     "metadata": {},
     "output_type": "display_data"
    },
    {
     "name": "stdout",
     "output_type": "stream",
     "text": [
      "Epoch 23/1000, Loss: 56571.31327451509\n"
     ]
    },
    {
     "data": {
      "application/vnd.jupyter.widget-view+json": {
       "model_id": "55546003a47744bcad88f25da97f40ab",
       "version_major": 2,
       "version_minor": 0
      },
      "text/plain": [
       "Epoch 24/1000:   0%|          | 0/1 [00:00<?, ?it/s]"
      ]
     },
     "metadata": {},
     "output_type": "display_data"
    },
    {
     "name": "stdout",
     "output_type": "stream",
     "text": [
      "Epoch 24/1000, Loss: 55971.8617658944\n"
     ]
    },
    {
     "data": {
      "application/vnd.jupyter.widget-view+json": {
       "model_id": "016ce5ba82cd4d2c9c52ea04f5f8627e",
       "version_major": 2,
       "version_minor": 0
      },
      "text/plain": [
       "Epoch 25/1000:   0%|          | 0/1 [00:00<?, ?it/s]"
      ]
     },
     "metadata": {},
     "output_type": "display_data"
    },
    {
     "name": "stdout",
     "output_type": "stream",
     "text": [
      "Epoch 25/1000, Loss: 55478.57879849138\n"
     ]
    },
    {
     "data": {
      "application/vnd.jupyter.widget-view+json": {
       "model_id": "bd08d930e5a242a1bc9dfc55c27368a7",
       "version_major": 2,
       "version_minor": 0
      },
      "text/plain": [
       "Epoch 26/1000:   0%|          | 0/1 [00:00<?, ?it/s]"
      ]
     },
     "metadata": {},
     "output_type": "display_data"
    },
    {
     "name": "stdout",
     "output_type": "stream",
     "text": [
      "Epoch 26/1000, Loss: 54980.2348127694\n"
     ]
    },
    {
     "data": {
      "application/vnd.jupyter.widget-view+json": {
       "model_id": "354d5785f7c44ef59cf7a82208bb5fb4",
       "version_major": 2,
       "version_minor": 0
      },
      "text/plain": [
       "Epoch 27/1000:   0%|          | 0/1 [00:00<?, ?it/s]"
      ]
     },
     "metadata": {},
     "output_type": "display_data"
    },
    {
     "name": "stdout",
     "output_type": "stream",
     "text": [
      "Epoch 27/1000, Loss: 54443.47629310345\n"
     ]
    },
    {
     "data": {
      "application/vnd.jupyter.widget-view+json": {
       "model_id": "72066e6956d24565931e662a8079d00e",
       "version_major": 2,
       "version_minor": 0
      },
      "text/plain": [
       "Epoch 28/1000:   0%|          | 0/1 [00:00<?, ?it/s]"
      ]
     },
     "metadata": {},
     "output_type": "display_data"
    },
    {
     "name": "stdout",
     "output_type": "stream",
     "text": [
      "Epoch 28/1000, Loss: 53809.96083647629\n"
     ]
    },
    {
     "data": {
      "application/vnd.jupyter.widget-view+json": {
       "model_id": "c1e5f1537f184cf7b8f10716781dbd40",
       "version_major": 2,
       "version_minor": 0
      },
      "text/plain": [
       "Epoch 29/1000:   0%|          | 0/1 [00:00<?, ?it/s]"
      ]
     },
     "metadata": {},
     "output_type": "display_data"
    },
    {
     "name": "stdout",
     "output_type": "stream",
     "text": [
      "Epoch 29/1000, Loss: 53205.26336880388\n"
     ]
    },
    {
     "data": {
      "application/vnd.jupyter.widget-view+json": {
       "model_id": "7c09e65cc9b94b5fa6d6bfd13dc0b75b",
       "version_major": 2,
       "version_minor": 0
      },
      "text/plain": [
       "Epoch 30/1000:   0%|          | 0/1 [00:00<?, ?it/s]"
      ]
     },
     "metadata": {},
     "output_type": "display_data"
    },
    {
     "name": "stdout",
     "output_type": "stream",
     "text": [
      "Epoch 30/1000, Loss: 52836.85530037715\n"
     ]
    },
    {
     "data": {
      "application/vnd.jupyter.widget-view+json": {
       "model_id": "597b9b9258c144f5bfb6dc5a1a8eb931",
       "version_major": 2,
       "version_minor": 0
      },
      "text/plain": [
       "Epoch 31/1000:   0%|          | 0/1 [00:00<?, ?it/s]"
      ]
     },
     "metadata": {},
     "output_type": "display_data"
    },
    {
     "name": "stdout",
     "output_type": "stream",
     "text": [
      "Epoch 31/1000, Loss: 52107.09678071121\n"
     ]
    },
    {
     "data": {
      "application/vnd.jupyter.widget-view+json": {
       "model_id": "94919ac73586444c9ec73965901a978c",
       "version_major": 2,
       "version_minor": 0
      },
      "text/plain": [
       "Epoch 32/1000:   0%|          | 0/1 [00:00<?, ?it/s]"
      ]
     },
     "metadata": {},
     "output_type": "display_data"
    },
    {
     "name": "stdout",
     "output_type": "stream",
     "text": [
      "Epoch 32/1000, Loss: 51511.04219423491\n"
     ]
    },
    {
     "data": {
      "application/vnd.jupyter.widget-view+json": {
       "model_id": "85b71882784d4ee4a726f0f30c8e8b09",
       "version_major": 2,
       "version_minor": 0
      },
      "text/plain": [
       "Epoch 33/1000:   0%|          | 0/1 [00:00<?, ?it/s]"
      ]
     },
     "metadata": {},
     "output_type": "display_data"
    },
    {
     "name": "stdout",
     "output_type": "stream",
     "text": [
      "Epoch 33/1000, Loss: 51092.0932112069\n"
     ]
    },
    {
     "data": {
      "application/vnd.jupyter.widget-view+json": {
       "model_id": "829a377671124f1f8f46f3bb5d308201",
       "version_major": 2,
       "version_minor": 0
      },
      "text/plain": [
       "Epoch 34/1000:   0%|          | 0/1 [00:00<?, ?it/s]"
      ]
     },
     "metadata": {},
     "output_type": "display_data"
    },
    {
     "name": "stdout",
     "output_type": "stream",
     "text": [
      "Epoch 34/1000, Loss: 50534.1489762931\n"
     ]
    },
    {
     "data": {
      "application/vnd.jupyter.widget-view+json": {
       "model_id": "5a268f1a5c414ca2a481ed4bfc9618a6",
       "version_major": 2,
       "version_minor": 0
      },
      "text/plain": [
       "Epoch 35/1000:   0%|          | 0/1 [00:00<?, ?it/s]"
      ]
     },
     "metadata": {},
     "output_type": "display_data"
    },
    {
     "name": "stdout",
     "output_type": "stream",
     "text": [
      "Epoch 35/1000, Loss: 49897.41487068965\n"
     ]
    },
    {
     "data": {
      "application/vnd.jupyter.widget-view+json": {
       "model_id": "d7f85a24ad544a8398abec78177e46d2",
       "version_major": 2,
       "version_minor": 0
      },
      "text/plain": [
       "Epoch 36/1000:   0%|          | 0/1 [00:00<?, ?it/s]"
      ]
     },
     "metadata": {},
     "output_type": "display_data"
    },
    {
     "name": "stdout",
     "output_type": "stream",
     "text": [
      "Epoch 36/1000, Loss: 49300.29037580819\n"
     ]
    },
    {
     "data": {
      "application/vnd.jupyter.widget-view+json": {
       "model_id": "22aede6dfd1c40ee900ae7d7b526a8b7",
       "version_major": 2,
       "version_minor": 0
      },
      "text/plain": [
       "Epoch 37/1000:   0%|          | 0/1 [00:00<?, ?it/s]"
      ]
     },
     "metadata": {},
     "output_type": "display_data"
    },
    {
     "name": "stdout",
     "output_type": "stream",
     "text": [
      "Epoch 37/1000, Loss: 48815.63688712285\n"
     ]
    },
    {
     "data": {
      "application/vnd.jupyter.widget-view+json": {
       "model_id": "c64bc0576ef645c389bd71a77d103cb9",
       "version_major": 2,
       "version_minor": 0
      },
      "text/plain": [
       "Epoch 38/1000:   0%|          | 0/1 [00:00<?, ?it/s]"
      ]
     },
     "metadata": {},
     "output_type": "display_data"
    },
    {
     "name": "stdout",
     "output_type": "stream",
     "text": [
      "Epoch 38/1000, Loss: 48179.82327586207\n"
     ]
    },
    {
     "data": {
      "application/vnd.jupyter.widget-view+json": {
       "model_id": "d3490a82f0534f538595fc2b23064aed",
       "version_major": 2,
       "version_minor": 0
      },
      "text/plain": [
       "Epoch 39/1000:   0%|          | 0/1 [00:00<?, ?it/s]"
      ]
     },
     "metadata": {},
     "output_type": "display_data"
    },
    {
     "name": "stdout",
     "output_type": "stream",
     "text": [
      "Epoch 39/1000, Loss: 47639.7451171875\n"
     ]
    },
    {
     "data": {
      "application/vnd.jupyter.widget-view+json": {
       "model_id": "a7690bdc50dc4a9e96073f486fbe6bcb",
       "version_major": 2,
       "version_minor": 0
      },
      "text/plain": [
       "Epoch 40/1000:   0%|          | 0/1 [00:00<?, ?it/s]"
      ]
     },
     "metadata": {},
     "output_type": "display_data"
    },
    {
     "name": "stdout",
     "output_type": "stream",
     "text": [
      "Epoch 40/1000, Loss: 47252.837654903014\n"
     ]
    },
    {
     "data": {
      "application/vnd.jupyter.widget-view+json": {
       "model_id": "11d7988b17fd4df6bfdbae727c8d8d81",
       "version_major": 2,
       "version_minor": 0
      },
      "text/plain": [
       "Epoch 41/1000:   0%|          | 0/1 [00:00<?, ?it/s]"
      ]
     },
     "metadata": {},
     "output_type": "display_data"
    },
    {
     "name": "stdout",
     "output_type": "stream",
     "text": [
      "Epoch 41/1000, Loss: 46497.2113752694\n"
     ]
    },
    {
     "data": {
      "application/vnd.jupyter.widget-view+json": {
       "model_id": "998d3ed708264400bff013a4db247b0a",
       "version_major": 2,
       "version_minor": 0
      },
      "text/plain": [
       "Epoch 42/1000:   0%|          | 0/1 [00:00<?, ?it/s]"
      ]
     },
     "metadata": {},
     "output_type": "display_data"
    },
    {
     "name": "stdout",
     "output_type": "stream",
     "text": [
      "Epoch 42/1000, Loss: 46094.39783135776\n"
     ]
    },
    {
     "data": {
      "application/vnd.jupyter.widget-view+json": {
       "model_id": "7165564ba983424e9c740d378aa6b381",
       "version_major": 2,
       "version_minor": 0
      },
      "text/plain": [
       "Epoch 43/1000:   0%|          | 0/1 [00:00<?, ?it/s]"
      ]
     },
     "metadata": {},
     "output_type": "display_data"
    },
    {
     "name": "stdout",
     "output_type": "stream",
     "text": [
      "Epoch 43/1000, Loss: 45499.688712284486\n"
     ]
    },
    {
     "data": {
      "application/vnd.jupyter.widget-view+json": {
       "model_id": "b085ced0731b455eb022f60008a4bdc0",
       "version_major": 2,
       "version_minor": 0
      },
      "text/plain": [
       "Epoch 44/1000:   0%|          | 0/1 [00:00<?, ?it/s]"
      ]
     },
     "metadata": {},
     "output_type": "display_data"
    },
    {
     "name": "stdout",
     "output_type": "stream",
     "text": [
      "Epoch 44/1000, Loss: 44791.38047211746\n"
     ]
    },
    {
     "data": {
      "application/vnd.jupyter.widget-view+json": {
       "model_id": "6df55a9af31c4895b533bd309145e06d",
       "version_major": 2,
       "version_minor": 0
      },
      "text/plain": [
       "Epoch 45/1000:   0%|          | 0/1 [00:00<?, ?it/s]"
      ]
     },
     "metadata": {},
     "output_type": "display_data"
    },
    {
     "name": "stdout",
     "output_type": "stream",
     "text": [
      "Epoch 45/1000, Loss: 44408.917227909486\n"
     ]
    },
    {
     "data": {
      "application/vnd.jupyter.widget-view+json": {
       "model_id": "df0abf69327243e183478691b7deabdd",
       "version_major": 2,
       "version_minor": 0
      },
      "text/plain": [
       "Epoch 46/1000:   0%|          | 0/1 [00:00<?, ?it/s]"
      ]
     },
     "metadata": {},
     "output_type": "display_data"
    },
    {
     "name": "stdout",
     "output_type": "stream",
     "text": [
      "Epoch 46/1000, Loss: 43859.94426858836\n"
     ]
    },
    {
     "data": {
      "application/vnd.jupyter.widget-view+json": {
       "model_id": "969862a649554280b43ac8a5b022f0d0",
       "version_major": 2,
       "version_minor": 0
      },
      "text/plain": [
       "Epoch 47/1000:   0%|          | 0/1 [00:00<?, ?it/s]"
      ]
     },
     "metadata": {},
     "output_type": "display_data"
    },
    {
     "name": "stdout",
     "output_type": "stream",
     "text": [
      "Epoch 47/1000, Loss: 43297.91473599138\n"
     ]
    },
    {
     "data": {
      "application/vnd.jupyter.widget-view+json": {
       "model_id": "e0764cdbe0514e47baa5594a562f1cbb",
       "version_major": 2,
       "version_minor": 0
      },
      "text/plain": [
       "Epoch 48/1000:   0%|          | 0/1 [00:00<?, ?it/s]"
      ]
     },
     "metadata": {},
     "output_type": "display_data"
    },
    {
     "name": "stdout",
     "output_type": "stream",
     "text": [
      "Epoch 48/1000, Loss: 42839.08853044181\n"
     ]
    },
    {
     "data": {
      "application/vnd.jupyter.widget-view+json": {
       "model_id": "0f1764baf13d49c9baa056febb9eb215",
       "version_major": 2,
       "version_minor": 0
      },
      "text/plain": [
       "Epoch 49/1000:   0%|          | 0/1 [00:00<?, ?it/s]"
      ]
     },
     "metadata": {},
     "output_type": "display_data"
    },
    {
     "name": "stdout",
     "output_type": "stream",
     "text": [
      "Epoch 49/1000, Loss: 42282.68618669181\n"
     ]
    },
    {
     "data": {
      "application/vnd.jupyter.widget-view+json": {
       "model_id": "6cac0c0edca94780a52a7eb7695f00f5",
       "version_major": 2,
       "version_minor": 0
      },
      "text/plain": [
       "Epoch 50/1000:   0%|          | 0/1 [00:00<?, ?it/s]"
      ]
     },
     "metadata": {},
     "output_type": "display_data"
    },
    {
     "name": "stdout",
     "output_type": "stream",
     "text": [
      "Epoch 50/1000, Loss: 41747.20127289871\n"
     ]
    },
    {
     "data": {
      "application/vnd.jupyter.widget-view+json": {
       "model_id": "529378cdcc7d4bc88f136757b57cefac",
       "version_major": 2,
       "version_minor": 0
      },
      "text/plain": [
       "Epoch 51/1000:   0%|          | 0/1 [00:00<?, ?it/s]"
      ]
     },
     "metadata": {},
     "output_type": "display_data"
    },
    {
     "name": "stdout",
     "output_type": "stream",
     "text": [
      "Epoch 51/1000, Loss: 41351.234779094826\n"
     ]
    },
    {
     "data": {
      "application/vnd.jupyter.widget-view+json": {
       "model_id": "84af3e9f7e5e498b9b7125f09d0628f9",
       "version_major": 2,
       "version_minor": 0
      },
      "text/plain": [
       "Epoch 52/1000:   0%|          | 0/1 [00:00<?, ?it/s]"
      ]
     },
     "metadata": {},
     "output_type": "display_data"
    },
    {
     "name": "stdout",
     "output_type": "stream",
     "text": [
      "Epoch 52/1000, Loss: 40812.64114695582\n"
     ]
    },
    {
     "data": {
      "application/vnd.jupyter.widget-view+json": {
       "model_id": "37e83c7f884f44ff9e500cc8750e3ffb",
       "version_major": 2,
       "version_minor": 0
      },
      "text/plain": [
       "Epoch 53/1000:   0%|          | 0/1 [00:00<?, ?it/s]"
      ]
     },
     "metadata": {},
     "output_type": "display_data"
    },
    {
     "name": "stdout",
     "output_type": "stream",
     "text": [
      "Epoch 53/1000, Loss: 40255.980334051725\n"
     ]
    },
    {
     "data": {
      "application/vnd.jupyter.widget-view+json": {
       "model_id": "086cbde2436f4d68b5ba35f01d25b72d",
       "version_major": 2,
       "version_minor": 0
      },
      "text/plain": [
       "Epoch 54/1000:   0%|          | 0/1 [00:00<?, ?it/s]"
      ]
     },
     "metadata": {},
     "output_type": "display_data"
    },
    {
     "name": "stdout",
     "output_type": "stream",
     "text": [
      "Epoch 54/1000, Loss: 39759.9431404903\n"
     ]
    },
    {
     "data": {
      "application/vnd.jupyter.widget-view+json": {
       "model_id": "02be39cf0b254123b9e0d3c66c8ec3b9",
       "version_major": 2,
       "version_minor": 0
      },
      "text/plain": [
       "Epoch 55/1000:   0%|          | 0/1 [00:00<?, ?it/s]"
      ]
     },
     "metadata": {},
     "output_type": "display_data"
    },
    {
     "name": "stdout",
     "output_type": "stream",
     "text": [
      "Epoch 55/1000, Loss: 39269.88397427263\n"
     ]
    },
    {
     "data": {
      "application/vnd.jupyter.widget-view+json": {
       "model_id": "01aed27d613340899e5ce64cf97af046",
       "version_major": 2,
       "version_minor": 0
      },
      "text/plain": [
       "Epoch 56/1000:   0%|          | 0/1 [00:00<?, ?it/s]"
      ]
     },
     "metadata": {},
     "output_type": "display_data"
    },
    {
     "name": "stdout",
     "output_type": "stream",
     "text": [
      "Epoch 56/1000, Loss: 38918.030677532326\n"
     ]
    },
    {
     "data": {
      "application/vnd.jupyter.widget-view+json": {
       "model_id": "d374d7188fa1461fab6c32a4e24c0801",
       "version_major": 2,
       "version_minor": 0
      },
      "text/plain": [
       "Epoch 57/1000:   0%|          | 0/1 [00:00<?, ?it/s]"
      ]
     },
     "metadata": {},
     "output_type": "display_data"
    },
    {
     "name": "stdout",
     "output_type": "stream",
     "text": [
      "Epoch 57/1000, Loss: 38415.4260001347\n"
     ]
    },
    {
     "data": {
      "application/vnd.jupyter.widget-view+json": {
       "model_id": "cd03ecd4172b4e3ea2210d3c19b3754f",
       "version_major": 2,
       "version_minor": 0
      },
      "text/plain": [
       "Epoch 58/1000:   0%|          | 0/1 [00:00<?, ?it/s]"
      ]
     },
     "metadata": {},
     "output_type": "display_data"
    },
    {
     "name": "stdout",
     "output_type": "stream",
     "text": [
      "Epoch 58/1000, Loss: 37956.324353448275\n"
     ]
    },
    {
     "data": {
      "application/vnd.jupyter.widget-view+json": {
       "model_id": "19ae66d3b71540468a7bef5ca2058736",
       "version_major": 2,
       "version_minor": 0
      },
      "text/plain": [
       "Epoch 59/1000:   0%|          | 0/1 [00:00<?, ?it/s]"
      ]
     },
     "metadata": {},
     "output_type": "display_data"
    },
    {
     "name": "stdout",
     "output_type": "stream",
     "text": [
      "Epoch 59/1000, Loss: 37586.0832266972\n"
     ]
    },
    {
     "data": {
      "application/vnd.jupyter.widget-view+json": {
       "model_id": "87a80d96db9149468ca15914e076e9c4",
       "version_major": 2,
       "version_minor": 0
      },
      "text/plain": [
       "Epoch 60/1000:   0%|          | 0/1 [00:00<?, ?it/s]"
      ]
     },
     "metadata": {},
     "output_type": "display_data"
    },
    {
     "name": "stdout",
     "output_type": "stream",
     "text": [
      "Epoch 60/1000, Loss: 37132.92421538254\n"
     ]
    },
    {
     "data": {
      "application/vnd.jupyter.widget-view+json": {
       "model_id": "3d3f187e9366472fbf06eed12276f383",
       "version_major": 2,
       "version_minor": 0
      },
      "text/plain": [
       "Epoch 61/1000:   0%|          | 0/1 [00:00<?, ?it/s]"
      ]
     },
     "metadata": {},
     "output_type": "display_data"
    },
    {
     "name": "stdout",
     "output_type": "stream",
     "text": [
      "Epoch 61/1000, Loss: 36679.18047885237\n"
     ]
    },
    {
     "data": {
      "application/vnd.jupyter.widget-view+json": {
       "model_id": "2b8373ce2f3b4a79ad1b11b47824c67f",
       "version_major": 2,
       "version_minor": 0
      },
      "text/plain": [
       "Epoch 62/1000:   0%|          | 0/1 [00:00<?, ?it/s]"
      ]
     },
     "metadata": {},
     "output_type": "display_data"
    },
    {
     "name": "stdout",
     "output_type": "stream",
     "text": [
      "Epoch 62/1000, Loss: 36274.93918372845\n"
     ]
    },
    {
     "data": {
      "application/vnd.jupyter.widget-view+json": {
       "model_id": "356fefb830e541d6b02e449b1bc233fe",
       "version_major": 2,
       "version_minor": 0
      },
      "text/plain": [
       "Epoch 63/1000:   0%|          | 0/1 [00:00<?, ?it/s]"
      ]
     },
     "metadata": {},
     "output_type": "display_data"
    },
    {
     "name": "stdout",
     "output_type": "stream",
     "text": [
      "Epoch 63/1000, Loss: 35859.859290813576\n"
     ]
    },
    {
     "data": {
      "application/vnd.jupyter.widget-view+json": {
       "model_id": "333fe6346a634e0db48aaa96b59f1c32",
       "version_major": 2,
       "version_minor": 0
      },
      "text/plain": [
       "Epoch 64/1000:   0%|          | 0/1 [00:00<?, ?it/s]"
      ]
     },
     "metadata": {},
     "output_type": "display_data"
    },
    {
     "name": "stdout",
     "output_type": "stream",
     "text": [
      "Epoch 64/1000, Loss: 35335.27143386315\n"
     ]
    },
    {
     "data": {
      "application/vnd.jupyter.widget-view+json": {
       "model_id": "c98b25c099264176a8e7346c20115876",
       "version_major": 2,
       "version_minor": 0
      },
      "text/plain": [
       "Epoch 65/1000:   0%|          | 0/1 [00:00<?, ?it/s]"
      ]
     },
     "metadata": {},
     "output_type": "display_data"
    },
    {
     "name": "stdout",
     "output_type": "stream",
     "text": [
      "Epoch 65/1000, Loss: 35062.17825633082\n"
     ]
    },
    {
     "data": {
      "application/vnd.jupyter.widget-view+json": {
       "model_id": "049ccf6fe5aa4d0baf64217c8e21dc5f",
       "version_major": 2,
       "version_minor": 0
      },
      "text/plain": [
       "Epoch 66/1000:   0%|          | 0/1 [00:00<?, ?it/s]"
      ]
     },
     "metadata": {},
     "output_type": "display_data"
    },
    {
     "name": "stdout",
     "output_type": "stream",
     "text": [
      "Epoch 66/1000, Loss: 34726.39483432112\n"
     ]
    },
    {
     "data": {
      "application/vnd.jupyter.widget-view+json": {
       "model_id": "b88785a12f57402ab23a1403afd2a79c",
       "version_major": 2,
       "version_minor": 0
      },
      "text/plain": [
       "Epoch 67/1000:   0%|          | 0/1 [00:00<?, ?it/s]"
      ]
     },
     "metadata": {},
     "output_type": "display_data"
    },
    {
     "name": "stdout",
     "output_type": "stream",
     "text": [
      "Epoch 67/1000, Loss: 34270.64880792026\n"
     ]
    },
    {
     "data": {
      "application/vnd.jupyter.widget-view+json": {
       "model_id": "784d508645a14d30a4b4bf0f8ac572fa",
       "version_major": 2,
       "version_minor": 0
      },
      "text/plain": [
       "Epoch 68/1000:   0%|          | 0/1 [00:00<?, ?it/s]"
      ]
     },
     "metadata": {},
     "output_type": "display_data"
    },
    {
     "name": "stdout",
     "output_type": "stream",
     "text": [
      "Epoch 68/1000, Loss: 33925.852943157326\n"
     ]
    },
    {
     "data": {
      "application/vnd.jupyter.widget-view+json": {
       "model_id": "2adcd7dacb8444f799eeebea46144d16",
       "version_major": 2,
       "version_minor": 0
      },
      "text/plain": [
       "Epoch 69/1000:   0%|          | 0/1 [00:00<?, ?it/s]"
      ]
     },
     "metadata": {},
     "output_type": "display_data"
    },
    {
     "name": "stdout",
     "output_type": "stream",
     "text": [
      "Epoch 69/1000, Loss: 33623.4634294181\n"
     ]
    },
    {
     "data": {
      "application/vnd.jupyter.widget-view+json": {
       "model_id": "20cb7f6728d1437e8de2d33b202fcf66",
       "version_major": 2,
       "version_minor": 0
      },
      "text/plain": [
       "Epoch 70/1000:   0%|          | 0/1 [00:00<?, ?it/s]"
      ]
     },
     "metadata": {},
     "output_type": "display_data"
    },
    {
     "name": "stdout",
     "output_type": "stream",
     "text": [
      "Epoch 70/1000, Loss: 33266.103919719826\n"
     ]
    },
    {
     "data": {
      "application/vnd.jupyter.widget-view+json": {
       "model_id": "014c19c9a5094ebeabc70a3eca9b45f5",
       "version_major": 2,
       "version_minor": 0
      },
      "text/plain": [
       "Epoch 71/1000:   0%|          | 0/1 [00:00<?, ?it/s]"
      ]
     },
     "metadata": {},
     "output_type": "display_data"
    },
    {
     "name": "stdout",
     "output_type": "stream",
     "text": [
      "Epoch 71/1000, Loss: 33057.849137931036\n"
     ]
    },
    {
     "data": {
      "application/vnd.jupyter.widget-view+json": {
       "model_id": "be9e678145ce4d45a48914ed0e7d6eef",
       "version_major": 2,
       "version_minor": 0
      },
      "text/plain": [
       "Epoch 72/1000:   0%|          | 0/1 [00:00<?, ?it/s]"
      ]
     },
     "metadata": {},
     "output_type": "display_data"
    },
    {
     "name": "stdout",
     "output_type": "stream",
     "text": [
      "Epoch 72/1000, Loss: 32727.001700565732\n"
     ]
    },
    {
     "data": {
      "application/vnd.jupyter.widget-view+json": {
       "model_id": "a0a17fd555c54c32a1c8c0c98765855b",
       "version_major": 2,
       "version_minor": 0
      },
      "text/plain": [
       "Epoch 73/1000:   0%|          | 0/1 [00:00<?, ?it/s]"
      ]
     },
     "metadata": {},
     "output_type": "display_data"
    },
    {
     "name": "stdout",
     "output_type": "stream",
     "text": [
      "Epoch 73/1000, Loss: 32354.194133890087\n"
     ]
    },
    {
     "data": {
      "application/vnd.jupyter.widget-view+json": {
       "model_id": "53fc1e5c57114a33b9f3362faee12a2f",
       "version_major": 2,
       "version_minor": 0
      },
      "text/plain": [
       "Epoch 74/1000:   0%|          | 0/1 [00:00<?, ?it/s]"
      ]
     },
     "metadata": {},
     "output_type": "display_data"
    },
    {
     "name": "stdout",
     "output_type": "stream",
     "text": [
      "Epoch 74/1000, Loss: 31977.101444639007\n"
     ]
    },
    {
     "data": {
      "application/vnd.jupyter.widget-view+json": {
       "model_id": "977e9b1f974143cab466ea25daf86bf6",
       "version_major": 2,
       "version_minor": 0
      },
      "text/plain": [
       "Epoch 75/1000:   0%|          | 0/1 [00:00<?, ?it/s]"
      ]
     },
     "metadata": {},
     "output_type": "display_data"
    },
    {
     "name": "stdout",
     "output_type": "stream",
     "text": [
      "Epoch 75/1000, Loss: 31832.124747440732\n"
     ]
    },
    {
     "data": {
      "application/vnd.jupyter.widget-view+json": {
       "model_id": "2b217ddd0f794db1b9bd9dd760840252",
       "version_major": 2,
       "version_minor": 0
      },
      "text/plain": [
       "Epoch 76/1000:   0%|          | 0/1 [00:00<?, ?it/s]"
      ]
     },
     "metadata": {},
     "output_type": "display_data"
    },
    {
     "name": "stdout",
     "output_type": "stream",
     "text": [
      "Epoch 76/1000, Loss: 31527.757189520475\n"
     ]
    },
    {
     "data": {
      "application/vnd.jupyter.widget-view+json": {
       "model_id": "bafe0d5df67349feac56d94f0c87d175",
       "version_major": 2,
       "version_minor": 0
      },
      "text/plain": [
       "Epoch 77/1000:   0%|          | 0/1 [00:00<?, ?it/s]"
      ]
     },
     "metadata": {},
     "output_type": "display_data"
    },
    {
     "name": "stdout",
     "output_type": "stream",
     "text": [
      "Epoch 77/1000, Loss: 31173.02389210668\n"
     ]
    },
    {
     "data": {
      "application/vnd.jupyter.widget-view+json": {
       "model_id": "d93cf2e71afd4e63810b0be1dc021c48",
       "version_major": 2,
       "version_minor": 0
      },
      "text/plain": [
       "Epoch 78/1000:   0%|          | 0/1 [00:00<?, ?it/s]"
      ]
     },
     "metadata": {},
     "output_type": "display_data"
    },
    {
     "name": "stdout",
     "output_type": "stream",
     "text": [
      "Epoch 78/1000, Loss: 30984.497356546337\n"
     ]
    },
    {
     "data": {
      "application/vnd.jupyter.widget-view+json": {
       "model_id": "d84fa6212817416babbfe06f0c53d706",
       "version_major": 2,
       "version_minor": 0
      },
      "text/plain": [
       "Epoch 79/1000:   0%|          | 0/1 [00:00<?, ?it/s]"
      ]
     },
     "metadata": {},
     "output_type": "display_data"
    },
    {
     "name": "stdout",
     "output_type": "stream",
     "text": [
      "Epoch 79/1000, Loss: 30722.450026939656\n"
     ]
    },
    {
     "data": {
      "application/vnd.jupyter.widget-view+json": {
       "model_id": "b6ef1ad81d0e419a8888d3bbcdbf1283",
       "version_major": 2,
       "version_minor": 0
      },
      "text/plain": [
       "Epoch 80/1000:   0%|          | 0/1 [00:00<?, ?it/s]"
      ]
     },
     "metadata": {},
     "output_type": "display_data"
    },
    {
     "name": "stdout",
     "output_type": "stream",
     "text": [
      "Epoch 80/1000, Loss: 30547.143941945043\n"
     ]
    },
    {
     "data": {
      "application/vnd.jupyter.widget-view+json": {
       "model_id": "515896939f7c483bb5c1e6c747eec766",
       "version_major": 2,
       "version_minor": 0
      },
      "text/plain": [
       "Epoch 81/1000:   0%|          | 0/1 [00:00<?, ?it/s]"
      ]
     },
     "metadata": {},
     "output_type": "display_data"
    },
    {
     "name": "stdout",
     "output_type": "stream",
     "text": [
      "Epoch 81/1000, Loss: 30227.16958512931\n"
     ]
    },
    {
     "data": {
      "application/vnd.jupyter.widget-view+json": {
       "model_id": "fa3ccee70a4d4d3788529c0cc16e4129",
       "version_major": 2,
       "version_minor": 0
      },
      "text/plain": [
       "Epoch 82/1000:   0%|          | 0/1 [00:00<?, ?it/s]"
      ]
     },
     "metadata": {},
     "output_type": "display_data"
    },
    {
     "name": "stdout",
     "output_type": "stream",
     "text": [
      "Epoch 82/1000, Loss: 30040.994393184268\n"
     ]
    },
    {
     "data": {
      "application/vnd.jupyter.widget-view+json": {
       "model_id": "fb241458321346f6a30c72df3d89b8d2",
       "version_major": 2,
       "version_minor": 0
      },
      "text/plain": [
       "Epoch 83/1000:   0%|          | 0/1 [00:00<?, ?it/s]"
      ]
     },
     "metadata": {},
     "output_type": "display_data"
    },
    {
     "name": "stdout",
     "output_type": "stream",
     "text": [
      "Epoch 83/1000, Loss: 29836.231058054957\n"
     ]
    },
    {
     "data": {
      "application/vnd.jupyter.widget-view+json": {
       "model_id": "caa9dfc369494ac7ace6d97656384799",
       "version_major": 2,
       "version_minor": 0
      },
      "text/plain": [
       "Epoch 84/1000:   0%|          | 0/1 [00:00<?, ?it/s]"
      ]
     },
     "metadata": {},
     "output_type": "display_data"
    },
    {
     "name": "stdout",
     "output_type": "stream",
     "text": [
      "Epoch 84/1000, Loss: 29627.322821255388\n"
     ]
    },
    {
     "data": {
      "application/vnd.jupyter.widget-view+json": {
       "model_id": "f0887edd13ad4960886975a94929169c",
       "version_major": 2,
       "version_minor": 0
      },
      "text/plain": [
       "Epoch 85/1000:   0%|          | 0/1 [00:00<?, ?it/s]"
      ]
     },
     "metadata": {},
     "output_type": "display_data"
    },
    {
     "name": "stdout",
     "output_type": "stream",
     "text": [
      "Epoch 85/1000, Loss: 29409.812432650862\n"
     ]
    },
    {
     "data": {
      "application/vnd.jupyter.widget-view+json": {
       "model_id": "0a154d9814f44ee7a03baec39a8a8662",
       "version_major": 2,
       "version_minor": 0
      },
      "text/plain": [
       "Epoch 86/1000:   0%|          | 0/1 [00:00<?, ?it/s]"
      ]
     },
     "metadata": {},
     "output_type": "display_data"
    },
    {
     "name": "stdout",
     "output_type": "stream",
     "text": [
      "Epoch 86/1000, Loss: 29269.408405172413\n"
     ]
    },
    {
     "data": {
      "application/vnd.jupyter.widget-view+json": {
       "model_id": "bce8d717cf1140ed9092a0af3958c744",
       "version_major": 2,
       "version_minor": 0
      },
      "text/plain": [
       "Epoch 87/1000:   0%|          | 0/1 [00:00<?, ?it/s]"
      ]
     },
     "metadata": {},
     "output_type": "display_data"
    },
    {
     "name": "stdout",
     "output_type": "stream",
     "text": [
      "Epoch 87/1000, Loss: 29139.317753232757\n"
     ]
    },
    {
     "data": {
      "application/vnd.jupyter.widget-view+json": {
       "model_id": "ba2e6f7a891b488b8e73e4f98af5ebce",
       "version_major": 2,
       "version_minor": 0
      },
      "text/plain": [
       "Epoch 88/1000:   0%|          | 0/1 [00:00<?, ?it/s]"
      ]
     },
     "metadata": {},
     "output_type": "display_data"
    },
    {
     "name": "stdout",
     "output_type": "stream",
     "text": [
      "Epoch 88/1000, Loss: 28912.142948545257\n"
     ]
    },
    {
     "data": {
      "application/vnd.jupyter.widget-view+json": {
       "model_id": "f69a83d3507f455fb920816c13d0936c",
       "version_major": 2,
       "version_minor": 0
      },
      "text/plain": [
       "Epoch 89/1000:   0%|          | 0/1 [00:00<?, ?it/s]"
      ]
     },
     "metadata": {},
     "output_type": "display_data"
    },
    {
     "name": "stdout",
     "output_type": "stream",
     "text": [
      "Epoch 89/1000, Loss: 28742.75631398168\n"
     ]
    },
    {
     "data": {
      "application/vnd.jupyter.widget-view+json": {
       "model_id": "7a44c31a6256408fad8777b9f9cf09fe",
       "version_major": 2,
       "version_minor": 0
      },
      "text/plain": [
       "Epoch 90/1000:   0%|          | 0/1 [00:00<?, ?it/s]"
      ]
     },
     "metadata": {},
     "output_type": "display_data"
    },
    {
     "name": "stdout",
     "output_type": "stream",
     "text": [
      "Epoch 90/1000, Loss: 28611.338614628232\n"
     ]
    },
    {
     "data": {
      "application/vnd.jupyter.widget-view+json": {
       "model_id": "36f1d543c6bb475ea1a69115ceb39ded",
       "version_major": 2,
       "version_minor": 0
      },
      "text/plain": [
       "Epoch 91/1000:   0%|          | 0/1 [00:00<?, ?it/s]"
      ]
     },
     "metadata": {},
     "output_type": "display_data"
    },
    {
     "name": "stdout",
     "output_type": "stream",
     "text": [
      "Epoch 91/1000, Loss: 28476.456425107757\n"
     ]
    },
    {
     "data": {
      "application/vnd.jupyter.widget-view+json": {
       "model_id": "3e14b6ebc35f4b609d7773dc012fa473",
       "version_major": 2,
       "version_minor": 0
      },
      "text/plain": [
       "Epoch 92/1000:   0%|          | 0/1 [00:00<?, ?it/s]"
      ]
     },
     "metadata": {},
     "output_type": "display_data"
    },
    {
     "name": "stdout",
     "output_type": "stream",
     "text": [
      "Epoch 92/1000, Loss: 28239.030172413793\n"
     ]
    },
    {
     "data": {
      "application/vnd.jupyter.widget-view+json": {
       "model_id": "8384e58b06e44e9cbbec6656bbe01fcb",
       "version_major": 2,
       "version_minor": 0
      },
      "text/plain": [
       "Epoch 93/1000:   0%|          | 0/1 [00:00<?, ?it/s]"
      ]
     },
     "metadata": {},
     "output_type": "display_data"
    },
    {
     "name": "stdout",
     "output_type": "stream",
     "text": [
      "Epoch 93/1000, Loss: 28191.919635641163\n"
     ]
    },
    {
     "data": {
      "application/vnd.jupyter.widget-view+json": {
       "model_id": "3df71ced7f4f4a72955d45f6fb756304",
       "version_major": 2,
       "version_minor": 0
      },
      "text/plain": [
       "Epoch 94/1000:   0%|          | 0/1 [00:00<?, ?it/s]"
      ]
     },
     "metadata": {},
     "output_type": "display_data"
    },
    {
     "name": "stdout",
     "output_type": "stream",
     "text": [
      "Epoch 94/1000, Loss: 27993.134479391163\n"
     ]
    },
    {
     "data": {
      "application/vnd.jupyter.widget-view+json": {
       "model_id": "622a469dd9a643538b23b8c9f0867996",
       "version_major": 2,
       "version_minor": 0
      },
      "text/plain": [
       "Epoch 95/1000:   0%|          | 0/1 [00:00<?, ?it/s]"
      ]
     },
     "metadata": {},
     "output_type": "display_data"
    },
    {
     "name": "stdout",
     "output_type": "stream",
     "text": [
      "Epoch 95/1000, Loss: 27834.182263604525\n"
     ]
    },
    {
     "data": {
      "application/vnd.jupyter.widget-view+json": {
       "model_id": "7e019223ed124c3caa1aa7491ffb31c8",
       "version_major": 2,
       "version_minor": 0
      },
      "text/plain": [
       "Epoch 96/1000:   0%|          | 0/1 [00:00<?, ?it/s]"
      ]
     },
     "metadata": {},
     "output_type": "display_data"
    },
    {
     "name": "stdout",
     "output_type": "stream",
     "text": [
      "Epoch 96/1000, Loss: 27684.114459859913\n"
     ]
    },
    {
     "data": {
      "application/vnd.jupyter.widget-view+json": {
       "model_id": "6f1b53d559d74770a96941b3a8f73067",
       "version_major": 2,
       "version_minor": 0
      },
      "text/plain": [
       "Epoch 97/1000:   0%|          | 0/1 [00:00<?, ?it/s]"
      ]
     },
     "metadata": {},
     "output_type": "display_data"
    },
    {
     "name": "stdout",
     "output_type": "stream",
     "text": [
      "Epoch 97/1000, Loss: 27551.07110385237\n"
     ]
    },
    {
     "data": {
      "application/vnd.jupyter.widget-view+json": {
       "model_id": "85e35cb2b5c944eb87d163f257ba35fe",
       "version_major": 2,
       "version_minor": 0
      },
      "text/plain": [
       "Epoch 98/1000:   0%|          | 0/1 [00:00<?, ?it/s]"
      ]
     },
     "metadata": {},
     "output_type": "display_data"
    },
    {
     "name": "stdout",
     "output_type": "stream",
     "text": [
      "Epoch 98/1000, Loss: 27450.019548087286\n"
     ]
    },
    {
     "data": {
      "application/vnd.jupyter.widget-view+json": {
       "model_id": "a4e6e78f2bb44b86b5e3db666a5e7a69",
       "version_major": 2,
       "version_minor": 0
      },
      "text/plain": [
       "Epoch 99/1000:   0%|          | 0/1 [00:00<?, ?it/s]"
      ]
     },
     "metadata": {},
     "output_type": "display_data"
    },
    {
     "name": "stdout",
     "output_type": "stream",
     "text": [
      "Epoch 99/1000, Loss: 27234.209236934268\n"
     ]
    },
    {
     "data": {
      "application/vnd.jupyter.widget-view+json": {
       "model_id": "50a2e4f9cc5b456ebc08c00d624f19d8",
       "version_major": 2,
       "version_minor": 0
      },
      "text/plain": [
       "Epoch 100/1000:   0%|          | 0/1 [00:00<?, ?it/s]"
      ]
     },
     "metadata": {},
     "output_type": "display_data"
    },
    {
     "name": "stdout",
     "output_type": "stream",
     "text": [
      "Epoch 100/1000, Loss: 27185.81903286638\n"
     ]
    },
    {
     "data": {
      "application/vnd.jupyter.widget-view+json": {
       "model_id": "09a1f04029f042afb91f8a66ea326d2a",
       "version_major": 2,
       "version_minor": 0
      },
      "text/plain": [
       "Epoch 101/1000:   0%|          | 0/1 [00:00<?, ?it/s]"
      ]
     },
     "metadata": {},
     "output_type": "display_data"
    },
    {
     "name": "stdout",
     "output_type": "stream",
     "text": [
      "Epoch 101/1000, Loss: 27056.664466594826\n"
     ]
    },
    {
     "data": {
      "application/vnd.jupyter.widget-view+json": {
       "model_id": "2d79b8dc0c8246fd9e5477ee2fb2cafe",
       "version_major": 2,
       "version_minor": 0
      },
      "text/plain": [
       "Epoch 102/1000:   0%|          | 0/1 [00:00<?, ?it/s]"
      ]
     },
     "metadata": {},
     "output_type": "display_data"
    },
    {
     "name": "stdout",
     "output_type": "stream",
     "text": [
      "Epoch 102/1000, Loss: 26857.084051724138\n"
     ]
    },
    {
     "data": {
      "application/vnd.jupyter.widget-view+json": {
       "model_id": "f33d1f7a032c478dace946f9e3760ef6",
       "version_major": 2,
       "version_minor": 0
      },
      "text/plain": [
       "Epoch 103/1000:   0%|          | 0/1 [00:00<?, ?it/s]"
      ]
     },
     "metadata": {},
     "output_type": "display_data"
    },
    {
     "name": "stdout",
     "output_type": "stream",
     "text": [
      "Epoch 103/1000, Loss: 26733.42184132543\n"
     ]
    },
    {
     "data": {
      "application/vnd.jupyter.widget-view+json": {
       "model_id": "77ad768dc70e40a4ab3abb37d6059996",
       "version_major": 2,
       "version_minor": 0
      },
      "text/plain": [
       "Epoch 104/1000:   0%|          | 0/1 [00:00<?, ?it/s]"
      ]
     },
     "metadata": {},
     "output_type": "display_data"
    },
    {
     "name": "stdout",
     "output_type": "stream",
     "text": [
      "Epoch 104/1000, Loss: 26651.100165005388\n"
     ]
    },
    {
     "data": {
      "application/vnd.jupyter.widget-view+json": {
       "model_id": "516757ff8f4a4d8a95544f8e931df885",
       "version_major": 2,
       "version_minor": 0
      },
      "text/plain": [
       "Epoch 105/1000:   0%|          | 0/1 [00:00<?, ?it/s]"
      ]
     },
     "metadata": {},
     "output_type": "display_data"
    },
    {
     "name": "stdout",
     "output_type": "stream",
     "text": [
      "Epoch 105/1000, Loss: 26439.879714439656\n"
     ]
    },
    {
     "data": {
      "application/vnd.jupyter.widget-view+json": {
       "model_id": "e0ea01459a2a4baf96327d015d4d7826",
       "version_major": 2,
       "version_minor": 0
      },
      "text/plain": [
       "Epoch 106/1000:   0%|          | 0/1 [00:00<?, ?it/s]"
      ]
     },
     "metadata": {},
     "output_type": "display_data"
    },
    {
     "name": "stdout",
     "output_type": "stream",
     "text": [
      "Epoch 106/1000, Loss: 26446.31711341595\n"
     ]
    },
    {
     "data": {
      "application/vnd.jupyter.widget-view+json": {
       "model_id": "803e51ca970144c5832c578fda92eca8",
       "version_major": 2,
       "version_minor": 0
      },
      "text/plain": [
       "Epoch 107/1000:   0%|          | 0/1 [00:00<?, ?it/s]"
      ]
     },
     "metadata": {},
     "output_type": "display_data"
    },
    {
     "name": "stdout",
     "output_type": "stream",
     "text": [
      "Epoch 107/1000, Loss: 26280.977555899786\n"
     ]
    },
    {
     "data": {
      "application/vnd.jupyter.widget-view+json": {
       "model_id": "acdbcc337f964940b26a11324b00af17",
       "version_major": 2,
       "version_minor": 0
      },
      "text/plain": [
       "Epoch 108/1000:   0%|          | 0/1 [00:00<?, ?it/s]"
      ]
     },
     "metadata": {},
     "output_type": "display_data"
    },
    {
     "name": "stdout",
     "output_type": "stream",
     "text": [
      "Epoch 108/1000, Loss: 26173.445783943964\n"
     ]
    },
    {
     "data": {
      "application/vnd.jupyter.widget-view+json": {
       "model_id": "fb57380f530e45c68a77646fe70cc54e",
       "version_major": 2,
       "version_minor": 0
      },
      "text/plain": [
       "Epoch 109/1000:   0%|          | 0/1 [00:00<?, ?it/s]"
      ]
     },
     "metadata": {},
     "output_type": "display_data"
    },
    {
     "name": "stdout",
     "output_type": "stream",
     "text": [
      "Epoch 109/1000, Loss: 25973.338884024786\n"
     ]
    },
    {
     "data": {
      "application/vnd.jupyter.widget-view+json": {
       "model_id": "d604325147a644e8b520c47ec8f66e0d",
       "version_major": 2,
       "version_minor": 0
      },
      "text/plain": [
       "Epoch 110/1000:   0%|          | 0/1 [00:00<?, ?it/s]"
      ]
     },
     "metadata": {},
     "output_type": "display_data"
    },
    {
     "name": "stdout",
     "output_type": "stream",
     "text": [
      "Epoch 110/1000, Loss: 25794.668137122844\n"
     ]
    },
    {
     "data": {
      "application/vnd.jupyter.widget-view+json": {
       "model_id": "b817f2b04f364ed4945ee971eb953165",
       "version_major": 2,
       "version_minor": 0
      },
      "text/plain": [
       "Epoch 111/1000:   0%|          | 0/1 [00:00<?, ?it/s]"
      ]
     },
     "metadata": {},
     "output_type": "display_data"
    },
    {
     "name": "stdout",
     "output_type": "stream",
     "text": [
      "Epoch 111/1000, Loss: 25688.280071390087\n"
     ]
    },
    {
     "data": {
      "application/vnd.jupyter.widget-view+json": {
       "model_id": "5b729dcd5bb740198e39eb8472eb9bca",
       "version_major": 2,
       "version_minor": 0
      },
      "text/plain": [
       "Epoch 112/1000:   0%|          | 0/1 [00:00<?, ?it/s]"
      ]
     },
     "metadata": {},
     "output_type": "display_data"
    },
    {
     "name": "stdout",
     "output_type": "stream",
     "text": [
      "Epoch 112/1000, Loss: 25554.85806169181\n"
     ]
    },
    {
     "data": {
      "application/vnd.jupyter.widget-view+json": {
       "model_id": "82832515938a4f25988d8db4cf1c2885",
       "version_major": 2,
       "version_minor": 0
      },
      "text/plain": [
       "Epoch 113/1000:   0%|          | 0/1 [00:00<?, ?it/s]"
      ]
     },
     "metadata": {},
     "output_type": "display_data"
    },
    {
     "name": "stdout",
     "output_type": "stream",
     "text": [
      "Epoch 113/1000, Loss: 25476.92825633082\n"
     ]
    },
    {
     "data": {
      "application/vnd.jupyter.widget-view+json": {
       "model_id": "3e766dae6c0d4082875ad834ed812188",
       "version_major": 2,
       "version_minor": 0
      },
      "text/plain": [
       "Epoch 114/1000:   0%|          | 0/1 [00:00<?, ?it/s]"
      ]
     },
     "metadata": {},
     "output_type": "display_data"
    },
    {
     "name": "stdout",
     "output_type": "stream",
     "text": [
      "Epoch 114/1000, Loss: 25289.672918911638\n"
     ]
    },
    {
     "data": {
      "application/vnd.jupyter.widget-view+json": {
       "model_id": "c86fccb3357d44b5bad8b201c9655cc5",
       "version_major": 2,
       "version_minor": 0
      },
      "text/plain": [
       "Epoch 115/1000:   0%|          | 0/1 [00:00<?, ?it/s]"
      ]
     },
     "metadata": {},
     "output_type": "display_data"
    },
    {
     "name": "stdout",
     "output_type": "stream",
     "text": [
      "Epoch 115/1000, Loss: 25213.338783001076\n"
     ]
    },
    {
     "data": {
      "application/vnd.jupyter.widget-view+json": {
       "model_id": "cf7094b20cfb41b7ac7035973d91dfae",
       "version_major": 2,
       "version_minor": 0
      },
      "text/plain": [
       "Epoch 116/1000:   0%|          | 0/1 [00:00<?, ?it/s]"
      ]
     },
     "metadata": {},
     "output_type": "display_data"
    },
    {
     "name": "stdout",
     "output_type": "stream",
     "text": [
      "Epoch 116/1000, Loss: 24995.354424838362\n"
     ]
    },
    {
     "data": {
      "application/vnd.jupyter.widget-view+json": {
       "model_id": "8520e4d94c68430aaaf01eb2ad446773",
       "version_major": 2,
       "version_minor": 0
      },
      "text/plain": [
       "Epoch 117/1000:   0%|          | 0/1 [00:00<?, ?it/s]"
      ]
     },
     "metadata": {},
     "output_type": "display_data"
    },
    {
     "name": "stdout",
     "output_type": "stream",
     "text": [
      "Epoch 117/1000, Loss: 24890.411503232757\n"
     ]
    },
    {
     "data": {
      "application/vnd.jupyter.widget-view+json": {
       "model_id": "5254c8929ec74ea3b147fc18246f2b20",
       "version_major": 2,
       "version_minor": 0
      },
      "text/plain": [
       "Epoch 118/1000:   0%|          | 0/1 [00:00<?, ?it/s]"
      ]
     },
     "metadata": {},
     "output_type": "display_data"
    },
    {
     "name": "stdout",
     "output_type": "stream",
     "text": [
      "Epoch 118/1000, Loss: 24781.147662984913\n"
     ]
    },
    {
     "data": {
      "application/vnd.jupyter.widget-view+json": {
       "model_id": "f6df53e5c8d545789d4bea00f8e2583d",
       "version_major": 2,
       "version_minor": 0
      },
      "text/plain": [
       "Epoch 119/1000:   0%|          | 0/1 [00:00<?, ?it/s]"
      ]
     },
     "metadata": {},
     "output_type": "display_data"
    },
    {
     "name": "stdout",
     "output_type": "stream",
     "text": [
      "Epoch 119/1000, Loss: 24627.412968076507\n"
     ]
    },
    {
     "data": {
      "application/vnd.jupyter.widget-view+json": {
       "model_id": "ced784bbf14f435195cf29f143d1549f",
       "version_major": 2,
       "version_minor": 0
      },
      "text/plain": [
       "Epoch 120/1000:   0%|          | 0/1 [00:00<?, ?it/s]"
      ]
     },
     "metadata": {},
     "output_type": "display_data"
    },
    {
     "name": "stdout",
     "output_type": "stream",
     "text": [
      "Epoch 120/1000, Loss: 24483.364981815732\n"
     ]
    },
    {
     "data": {
      "application/vnd.jupyter.widget-view+json": {
       "model_id": "481772b02fc543a3b6d9ea91a693ab76",
       "version_major": 2,
       "version_minor": 0
      },
      "text/plain": [
       "Epoch 121/1000:   0%|          | 0/1 [00:00<?, ?it/s]"
      ]
     },
     "metadata": {},
     "output_type": "display_data"
    },
    {
     "name": "stdout",
     "output_type": "stream",
     "text": [
      "Epoch 121/1000, Loss: 24328.114661907326\n"
     ]
    },
    {
     "data": {
      "application/vnd.jupyter.widget-view+json": {
       "model_id": "b47f4f9085114e618c6858443176dea1",
       "version_major": 2,
       "version_minor": 0
      },
      "text/plain": [
       "Epoch 122/1000:   0%|          | 0/1 [00:00<?, ?it/s]"
      ]
     },
     "metadata": {},
     "output_type": "display_data"
    },
    {
     "name": "stdout",
     "output_type": "stream",
     "text": [
      "Epoch 122/1000, Loss: 24189.080734779094\n"
     ]
    },
    {
     "data": {
      "application/vnd.jupyter.widget-view+json": {
       "model_id": "eaa2c347df894c6fa8191a965d37c36c",
       "version_major": 2,
       "version_minor": 0
      },
      "text/plain": [
       "Epoch 123/1000:   0%|          | 0/1 [00:00<?, ?it/s]"
      ]
     },
     "metadata": {},
     "output_type": "display_data"
    },
    {
     "name": "stdout",
     "output_type": "stream",
     "text": [
      "Epoch 123/1000, Loss: 24033.207839439656\n"
     ]
    },
    {
     "data": {
      "application/vnd.jupyter.widget-view+json": {
       "model_id": "942e1e1b319a4cbeaac9478e769670aa",
       "version_major": 2,
       "version_minor": 0
      },
      "text/plain": [
       "Epoch 124/1000:   0%|          | 0/1 [00:00<?, ?it/s]"
      ]
     },
     "metadata": {},
     "output_type": "display_data"
    },
    {
     "name": "stdout",
     "output_type": "stream",
     "text": [
      "Epoch 124/1000, Loss: 23896.297464304957\n"
     ]
    },
    {
     "data": {
      "application/vnd.jupyter.widget-view+json": {
       "model_id": "2774d7aa475c4d09a7cab2b79871c085",
       "version_major": 2,
       "version_minor": 0
      },
      "text/plain": [
       "Epoch 125/1000:   0%|          | 0/1 [00:00<?, ?it/s]"
      ]
     },
     "metadata": {},
     "output_type": "display_data"
    },
    {
     "name": "stdout",
     "output_type": "stream",
     "text": [
      "Epoch 125/1000, Loss: 23764.823191675645\n"
     ]
    },
    {
     "data": {
      "application/vnd.jupyter.widget-view+json": {
       "model_id": "6fe31b1523c44b67bedb11314357515f",
       "version_major": 2,
       "version_minor": 0
      },
      "text/plain": [
       "Epoch 126/1000:   0%|          | 0/1 [00:00<?, ?it/s]"
      ]
     },
     "metadata": {},
     "output_type": "display_data"
    },
    {
     "name": "stdout",
     "output_type": "stream",
     "text": [
      "Epoch 126/1000, Loss: 23541.811422413793\n"
     ]
    },
    {
     "data": {
      "application/vnd.jupyter.widget-view+json": {
       "model_id": "b319bc7bf90e42e7a63571d516333cf4",
       "version_major": 2,
       "version_minor": 0
      },
      "text/plain": [
       "Epoch 127/1000:   0%|          | 0/1 [00:00<?, ?it/s]"
      ]
     },
     "metadata": {},
     "output_type": "display_data"
    },
    {
     "name": "stdout",
     "output_type": "stream",
     "text": [
      "Epoch 127/1000, Loss: 23476.371632543105\n"
     ]
    },
    {
     "data": {
      "application/vnd.jupyter.widget-view+json": {
       "model_id": "60bbc2f4210a4dce9eb6e87fc8c67751",
       "version_major": 2,
       "version_minor": 0
      },
      "text/plain": [
       "Epoch 128/1000:   0%|          | 0/1 [00:00<?, ?it/s]"
      ]
     },
     "metadata": {},
     "output_type": "display_data"
    },
    {
     "name": "stdout",
     "output_type": "stream",
     "text": [
      "Epoch 128/1000, Loss: 23226.290358970906\n"
     ]
    },
    {
     "data": {
      "application/vnd.jupyter.widget-view+json": {
       "model_id": "bd37f11110af47d5a33f7cebb11de5e0",
       "version_major": 2,
       "version_minor": 0
      },
      "text/plain": [
       "Epoch 129/1000:   0%|          | 0/1 [00:00<?, ?it/s]"
      ]
     },
     "metadata": {},
     "output_type": "display_data"
    },
    {
     "name": "stdout",
     "output_type": "stream",
     "text": [
      "Epoch 129/1000, Loss: 23118.22848195043\n"
     ]
    },
    {
     "data": {
      "application/vnd.jupyter.widget-view+json": {
       "model_id": "d17c4c5e026b4f1a87a44730fa50c81d",
       "version_major": 2,
       "version_minor": 0
      },
      "text/plain": [
       "Epoch 130/1000:   0%|          | 0/1 [00:00<?, ?it/s]"
      ]
     },
     "metadata": {},
     "output_type": "display_data"
    },
    {
     "name": "stdout",
     "output_type": "stream",
     "text": [
      "Epoch 130/1000, Loss: 22919.67965382543\n"
     ]
    },
    {
     "data": {
      "application/vnd.jupyter.widget-view+json": {
       "model_id": "135288a3b11c4a28815de32b983a9338",
       "version_major": 2,
       "version_minor": 0
      },
      "text/plain": [
       "Epoch 131/1000:   0%|          | 0/1 [00:00<?, ?it/s]"
      ]
     },
     "metadata": {},
     "output_type": "display_data"
    },
    {
     "name": "stdout",
     "output_type": "stream",
     "text": [
      "Epoch 131/1000, Loss: 22835.324387122844\n"
     ]
    },
    {
     "data": {
      "application/vnd.jupyter.widget-view+json": {
       "model_id": "676069f3e37b4f46984ef67e34997d47",
       "version_major": 2,
       "version_minor": 0
      },
      "text/plain": [
       "Epoch 132/1000:   0%|          | 0/1 [00:00<?, ?it/s]"
      ]
     },
     "metadata": {},
     "output_type": "display_data"
    },
    {
     "name": "stdout",
     "output_type": "stream",
     "text": [
      "Epoch 132/1000, Loss: 22644.106613685344\n"
     ]
    },
    {
     "data": {
      "application/vnd.jupyter.widget-view+json": {
       "model_id": "511b5c0e5b334ef3bf4892a97f6e6281",
       "version_major": 2,
       "version_minor": 0
      },
      "text/plain": [
       "Epoch 133/1000:   0%|          | 0/1 [00:00<?, ?it/s]"
      ]
     },
     "metadata": {},
     "output_type": "display_data"
    },
    {
     "name": "stdout",
     "output_type": "stream",
     "text": [
      "Epoch 133/1000, Loss: 22463.513907596982\n"
     ]
    },
    {
     "data": {
      "application/vnd.jupyter.widget-view+json": {
       "model_id": "5f9ce0f6294c42bbb1bb03f54ee29473",
       "version_major": 2,
       "version_minor": 0
      },
      "text/plain": [
       "Epoch 134/1000:   0%|          | 0/1 [00:00<?, ?it/s]"
      ]
     },
     "metadata": {},
     "output_type": "display_data"
    },
    {
     "name": "stdout",
     "output_type": "stream",
     "text": [
      "Epoch 134/1000, Loss: 22315.345770474138\n"
     ]
    },
    {
     "data": {
      "application/vnd.jupyter.widget-view+json": {
       "model_id": "132b8e1cffbb4494a02f1e95ac047d5e",
       "version_major": 2,
       "version_minor": 0
      },
      "text/plain": [
       "Epoch 135/1000:   0%|          | 0/1 [00:00<?, ?it/s]"
      ]
     },
     "metadata": {},
     "output_type": "display_data"
    },
    {
     "name": "stdout",
     "output_type": "stream",
     "text": [
      "Epoch 135/1000, Loss: 22150.021585398707\n"
     ]
    },
    {
     "data": {
      "application/vnd.jupyter.widget-view+json": {
       "model_id": "2fb84ee55e1741e598275afd85ab4d69",
       "version_major": 2,
       "version_minor": 0
      },
      "text/plain": [
       "Epoch 136/1000:   0%|          | 0/1 [00:00<?, ?it/s]"
      ]
     },
     "metadata": {},
     "output_type": "display_data"
    },
    {
     "name": "stdout",
     "output_type": "stream",
     "text": [
      "Epoch 136/1000, Loss: 22016.442618534482\n"
     ]
    },
    {
     "data": {
      "application/vnd.jupyter.widget-view+json": {
       "model_id": "5fc437592e164f67b9a688d3545256de",
       "version_major": 2,
       "version_minor": 0
      },
      "text/plain": [
       "Epoch 137/1000:   0%|          | 0/1 [00:00<?, ?it/s]"
      ]
     },
     "metadata": {},
     "output_type": "display_data"
    },
    {
     "name": "stdout",
     "output_type": "stream",
     "text": [
      "Epoch 137/1000, Loss: 21876.476613011855\n"
     ]
    },
    {
     "data": {
      "application/vnd.jupyter.widget-view+json": {
       "model_id": "e252a0bd998b4302ae1a39ec4b294a1f",
       "version_major": 2,
       "version_minor": 0
      },
      "text/plain": [
       "Epoch 138/1000:   0%|          | 0/1 [00:00<?, ?it/s]"
      ]
     },
     "metadata": {},
     "output_type": "display_data"
    },
    {
     "name": "stdout",
     "output_type": "stream",
     "text": [
      "Epoch 138/1000, Loss: 21663.13675242457\n"
     ]
    },
    {
     "data": {
      "application/vnd.jupyter.widget-view+json": {
       "model_id": "dd312a1fe57340c4a4d515e3b6778978",
       "version_major": 2,
       "version_minor": 0
      },
      "text/plain": [
       "Epoch 139/1000:   0%|          | 0/1 [00:00<?, ?it/s]"
      ]
     },
     "metadata": {},
     "output_type": "display_data"
    },
    {
     "name": "stdout",
     "output_type": "stream",
     "text": [
      "Epoch 139/1000, Loss: 21521.43682650862\n"
     ]
    },
    {
     "data": {
      "application/vnd.jupyter.widget-view+json": {
       "model_id": "a6f5e62a929f4a6fa28ae68a25639e6a",
       "version_major": 2,
       "version_minor": 0
      },
      "text/plain": [
       "Epoch 140/1000:   0%|          | 0/1 [00:00<?, ?it/s]"
      ]
     },
     "metadata": {},
     "output_type": "display_data"
    },
    {
     "name": "stdout",
     "output_type": "stream",
     "text": [
      "Epoch 140/1000, Loss: 21402.4580078125\n"
     ]
    },
    {
     "data": {
      "application/vnd.jupyter.widget-view+json": {
       "model_id": "6a531eaaba3e41b897dbf986dad8619a",
       "version_major": 2,
       "version_minor": 0
      },
      "text/plain": [
       "Epoch 141/1000:   0%|          | 0/1 [00:00<?, ?it/s]"
      ]
     },
     "metadata": {},
     "output_type": "display_data"
    },
    {
     "name": "stdout",
     "output_type": "stream",
     "text": [
      "Epoch 141/1000, Loss: 21210.40757172683\n"
     ]
    },
    {
     "data": {
      "application/vnd.jupyter.widget-view+json": {
       "model_id": "44edfe0c43d8435a82221c2ff19cc0a4",
       "version_major": 2,
       "version_minor": 0
      },
      "text/plain": [
       "Epoch 142/1000:   0%|          | 0/1 [00:00<?, ?it/s]"
      ]
     },
     "metadata": {},
     "output_type": "display_data"
    },
    {
     "name": "stdout",
     "output_type": "stream",
     "text": [
      "Epoch 142/1000, Loss: 21058.57211408944\n"
     ]
    },
    {
     "data": {
      "application/vnd.jupyter.widget-view+json": {
       "model_id": "7bfcfe748447436491effdc37c161723",
       "version_major": 2,
       "version_minor": 0
      },
      "text/plain": [
       "Epoch 143/1000:   0%|          | 0/1 [00:00<?, ?it/s]"
      ]
     },
     "metadata": {},
     "output_type": "display_data"
    },
    {
     "name": "stdout",
     "output_type": "stream",
     "text": [
      "Epoch 143/1000, Loss: 20945.208125673493\n"
     ]
    },
    {
     "data": {
      "application/vnd.jupyter.widget-view+json": {
       "model_id": "938a73fbcaae4fa496a1e3aa10b7b31a",
       "version_major": 2,
       "version_minor": 0
      },
      "text/plain": [
       "Epoch 144/1000:   0%|          | 0/1 [00:00<?, ?it/s]"
      ]
     },
     "metadata": {},
     "output_type": "display_data"
    },
    {
     "name": "stdout",
     "output_type": "stream",
     "text": [
      "Epoch 144/1000, Loss: 20823.51431169181\n"
     ]
    },
    {
     "data": {
      "application/vnd.jupyter.widget-view+json": {
       "model_id": "3742a8bcadad4a668ce3b28c708c84b1",
       "version_major": 2,
       "version_minor": 0
      },
      "text/plain": [
       "Epoch 145/1000:   0%|          | 0/1 [00:00<?, ?it/s]"
      ]
     },
     "metadata": {},
     "output_type": "display_data"
    },
    {
     "name": "stdout",
     "output_type": "stream",
     "text": [
      "Epoch 145/1000, Loss: 20638.72171336207\n"
     ]
    },
    {
     "data": {
      "application/vnd.jupyter.widget-view+json": {
       "model_id": "7a16696ba91d432fac61d477dd7cf84e",
       "version_major": 2,
       "version_minor": 0
      },
      "text/plain": [
       "Epoch 146/1000:   0%|          | 0/1 [00:00<?, ?it/s]"
      ]
     },
     "metadata": {},
     "output_type": "display_data"
    },
    {
     "name": "stdout",
     "output_type": "stream",
     "text": [
      "Epoch 146/1000, Loss: 20502.574353448275\n"
     ]
    },
    {
     "data": {
      "application/vnd.jupyter.widget-view+json": {
       "model_id": "91d60566053b44a2aa92ec124dbcd0d7",
       "version_major": 2,
       "version_minor": 0
      },
      "text/plain": [
       "Epoch 147/1000:   0%|          | 0/1 [00:00<?, ?it/s]"
      ]
     },
     "metadata": {},
     "output_type": "display_data"
    },
    {
     "name": "stdout",
     "output_type": "stream",
     "text": [
      "Epoch 147/1000, Loss: 20353.596090382543\n"
     ]
    },
    {
     "data": {
      "application/vnd.jupyter.widget-view+json": {
       "model_id": "57a270193b3444a7bce67db68d4bf396",
       "version_major": 2,
       "version_minor": 0
      },
      "text/plain": [
       "Epoch 148/1000:   0%|          | 0/1 [00:00<?, ?it/s]"
      ]
     },
     "metadata": {},
     "output_type": "display_data"
    },
    {
     "name": "stdout",
     "output_type": "stream",
     "text": [
      "Epoch 148/1000, Loss: 20192.188114560882\n"
     ]
    },
    {
     "data": {
      "application/vnd.jupyter.widget-view+json": {
       "model_id": "7a49881d8fc54b41945788111ded26b4",
       "version_major": 2,
       "version_minor": 0
      },
      "text/plain": [
       "Epoch 149/1000:   0%|          | 0/1 [00:00<?, ?it/s]"
      ]
     },
     "metadata": {},
     "output_type": "display_data"
    },
    {
     "name": "stdout",
     "output_type": "stream",
     "text": [
      "Epoch 149/1000, Loss: 20089.21481007543\n"
     ]
    },
    {
     "data": {
      "application/vnd.jupyter.widget-view+json": {
       "model_id": "bd2b45c956b641589fbdf8bce1a3972b",
       "version_major": 2,
       "version_minor": 0
      },
      "text/plain": [
       "Epoch 150/1000:   0%|          | 0/1 [00:00<?, ?it/s]"
      ]
     },
     "metadata": {},
     "output_type": "display_data"
    },
    {
     "name": "stdout",
     "output_type": "stream",
     "text": [
      "Epoch 150/1000, Loss: 19880.330852640087\n"
     ]
    },
    {
     "data": {
      "application/vnd.jupyter.widget-view+json": {
       "model_id": "1d379b1199204edf84fbde5ea5032eef",
       "version_major": 2,
       "version_minor": 0
      },
      "text/plain": [
       "Epoch 151/1000:   0%|          | 0/1 [00:00<?, ?it/s]"
      ]
     },
     "metadata": {},
     "output_type": "display_data"
    },
    {
     "name": "stdout",
     "output_type": "stream",
     "text": [
      "Epoch 151/1000, Loss: 19789.42266635237\n"
     ]
    },
    {
     "data": {
      "application/vnd.jupyter.widget-view+json": {
       "model_id": "da6b258cfe0649fd9a4085d482a21a75",
       "version_major": 2,
       "version_minor": 0
      },
      "text/plain": [
       "Epoch 152/1000:   0%|          | 0/1 [00:00<?, ?it/s]"
      ]
     },
     "metadata": {},
     "output_type": "display_data"
    },
    {
     "name": "stdout",
     "output_type": "stream",
     "text": [
      "Epoch 152/1000, Loss: 19648.843834186424\n"
     ]
    },
    {
     "data": {
      "application/vnd.jupyter.widget-view+json": {
       "model_id": "880d08ab147f4b66a2f7956074bf0ed2",
       "version_major": 2,
       "version_minor": 0
      },
      "text/plain": [
       "Epoch 153/1000:   0%|          | 0/1 [00:00<?, ?it/s]"
      ]
     },
     "metadata": {},
     "output_type": "display_data"
    },
    {
     "name": "stdout",
     "output_type": "stream",
     "text": [
      "Epoch 153/1000, Loss: 19456.301816742995\n"
     ]
    },
    {
     "data": {
      "application/vnd.jupyter.widget-view+json": {
       "model_id": "9051e0072013440fa3d94e425ac70866",
       "version_major": 2,
       "version_minor": 0
      },
      "text/plain": [
       "Epoch 154/1000:   0%|          | 0/1 [00:00<?, ?it/s]"
      ]
     },
     "metadata": {},
     "output_type": "display_data"
    },
    {
     "name": "stdout",
     "output_type": "stream",
     "text": [
      "Epoch 154/1000, Loss: 19349.79947636045\n"
     ]
    },
    {
     "data": {
      "application/vnd.jupyter.widget-view+json": {
       "model_id": "5ae7f29acfa84ffea1f3ff26bb2c0d34",
       "version_major": 2,
       "version_minor": 0
      },
      "text/plain": [
       "Epoch 155/1000:   0%|          | 0/1 [00:00<?, ?it/s]"
      ]
     },
     "metadata": {},
     "output_type": "display_data"
    },
    {
     "name": "stdout",
     "output_type": "stream",
     "text": [
      "Epoch 155/1000, Loss: 19190.817365975214\n"
     ]
    },
    {
     "data": {
      "application/vnd.jupyter.widget-view+json": {
       "model_id": "3953b21a273c4fcb80d1a5221ef6b151",
       "version_major": 2,
       "version_minor": 0
      },
      "text/plain": [
       "Epoch 156/1000:   0%|          | 0/1 [00:00<?, ?it/s]"
      ]
     },
     "metadata": {},
     "output_type": "display_data"
    },
    {
     "name": "stdout",
     "output_type": "stream",
     "text": [
      "Epoch 156/1000, Loss: 19021.529389480063\n"
     ]
    },
    {
     "data": {
      "application/vnd.jupyter.widget-view+json": {
       "model_id": "aab21ee4a13a42a7997104dca1cb0a0a",
       "version_major": 2,
       "version_minor": 0
      },
      "text/plain": [
       "Epoch 157/1000:   0%|          | 0/1 [00:00<?, ?it/s]"
      ]
     },
     "metadata": {},
     "output_type": "display_data"
    },
    {
     "name": "stdout",
     "output_type": "stream",
     "text": [
      "Epoch 157/1000, Loss: 18898.144539668643\n"
     ]
    },
    {
     "data": {
      "application/vnd.jupyter.widget-view+json": {
       "model_id": "a4a00bc665d1459e8bb26fc77f44252d",
       "version_major": 2,
       "version_minor": 0
      },
      "text/plain": [
       "Epoch 158/1000:   0%|          | 0/1 [00:00<?, ?it/s]"
      ]
     },
     "metadata": {},
     "output_type": "display_data"
    },
    {
     "name": "stdout",
     "output_type": "stream",
     "text": [
      "Epoch 158/1000, Loss: 18677.29469457166\n"
     ]
    },
    {
     "data": {
      "application/vnd.jupyter.widget-view+json": {
       "model_id": "7beeca70e50e48bda0f256183a183370",
       "version_major": 2,
       "version_minor": 0
      },
      "text/plain": [
       "Epoch 159/1000:   0%|          | 0/1 [00:00<?, ?it/s]"
      ]
     },
     "metadata": {},
     "output_type": "display_data"
    },
    {
     "name": "stdout",
     "output_type": "stream",
     "text": [
      "Epoch 159/1000, Loss: 18573.819689520475\n"
     ]
    },
    {
     "data": {
      "application/vnd.jupyter.widget-view+json": {
       "model_id": "89c84823bb694017b137c93c3385176d",
       "version_major": 2,
       "version_minor": 0
      },
      "text/plain": [
       "Epoch 160/1000:   0%|          | 0/1 [00:00<?, ?it/s]"
      ]
     },
     "metadata": {},
     "output_type": "display_data"
    },
    {
     "name": "stdout",
     "output_type": "stream",
     "text": [
      "Epoch 160/1000, Loss: 18426.450599407326\n"
     ]
    },
    {
     "data": {
      "application/vnd.jupyter.widget-view+json": {
       "model_id": "09d3e7832f454354a8f31fd71b76ab04",
       "version_major": 2,
       "version_minor": 0
      },
      "text/plain": [
       "Epoch 161/1000:   0%|          | 0/1 [00:00<?, ?it/s]"
      ]
     },
     "metadata": {},
     "output_type": "display_data"
    },
    {
     "name": "stdout",
     "output_type": "stream",
     "text": [
      "Epoch 161/1000, Loss: 18253.958866514007\n"
     ]
    },
    {
     "data": {
      "application/vnd.jupyter.widget-view+json": {
       "model_id": "f685d6af47f144c783ddc2dc0d07a668",
       "version_major": 2,
       "version_minor": 0
      },
      "text/plain": [
       "Epoch 162/1000:   0%|          | 0/1 [00:00<?, ?it/s]"
      ]
     },
     "metadata": {},
     "output_type": "display_data"
    },
    {
     "name": "stdout",
     "output_type": "stream",
     "text": [
      "Epoch 162/1000, Loss: 18207.87901569235\n"
     ]
    },
    {
     "data": {
      "application/vnd.jupyter.widget-view+json": {
       "model_id": "b2f6f518f2334e348dfa3827528c1d3c",
       "version_major": 2,
       "version_minor": 0
      },
      "text/plain": [
       "Epoch 163/1000:   0%|          | 0/1 [00:00<?, ?it/s]"
      ]
     },
     "metadata": {},
     "output_type": "display_data"
    },
    {
     "name": "stdout",
     "output_type": "stream",
     "text": [
      "Epoch 163/1000, Loss: 18055.76743500808\n"
     ]
    },
    {
     "data": {
      "application/vnd.jupyter.widget-view+json": {
       "model_id": "d56729a57d004aba80eb39101e0f3995",
       "version_major": 2,
       "version_minor": 0
      },
      "text/plain": [
       "Epoch 164/1000:   0%|          | 0/1 [00:00<?, ?it/s]"
      ]
     },
     "metadata": {},
     "output_type": "display_data"
    },
    {
     "name": "stdout",
     "output_type": "stream",
     "text": [
      "Epoch 164/1000, Loss: 18003.863533809268\n"
     ]
    },
    {
     "data": {
      "application/vnd.jupyter.widget-view+json": {
       "model_id": "e81dbc3cf15447349e1e2fdc13bac762",
       "version_major": 2,
       "version_minor": 0
      },
      "text/plain": [
       "Epoch 165/1000:   0%|          | 0/1 [00:00<?, ?it/s]"
      ]
     },
     "metadata": {},
     "output_type": "display_data"
    },
    {
     "name": "stdout",
     "output_type": "stream",
     "text": [
      "Epoch 165/1000, Loss: 17783.83218278556\n"
     ]
    },
    {
     "data": {
      "application/vnd.jupyter.widget-view+json": {
       "model_id": "7caa3e5da52542da9cb004bda6a7486f",
       "version_major": 2,
       "version_minor": 0
      },
      "text/plain": [
       "Epoch 166/1000:   0%|          | 0/1 [00:00<?, ?it/s]"
      ]
     },
     "metadata": {},
     "output_type": "display_data"
    },
    {
     "name": "stdout",
     "output_type": "stream",
     "text": [
      "Epoch 166/1000, Loss: 17636.289180360993\n"
     ]
    },
    {
     "data": {
      "application/vnd.jupyter.widget-view+json": {
       "model_id": "561b620b3e774f25b25a79e863a77b08",
       "version_major": 2,
       "version_minor": 0
      },
      "text/plain": [
       "Epoch 167/1000:   0%|          | 0/1 [00:00<?, ?it/s]"
      ]
     },
     "metadata": {},
     "output_type": "display_data"
    },
    {
     "name": "stdout",
     "output_type": "stream",
     "text": [
      "Epoch 167/1000, Loss: 17490.141012257543\n"
     ]
    },
    {
     "data": {
      "application/vnd.jupyter.widget-view+json": {
       "model_id": "2dec3b52e9854df38d2a6c43e22439e5",
       "version_major": 2,
       "version_minor": 0
      },
      "text/plain": [
       "Epoch 168/1000:   0%|          | 0/1 [00:00<?, ?it/s]"
      ]
     },
     "metadata": {},
     "output_type": "display_data"
    },
    {
     "name": "stdout",
     "output_type": "stream",
     "text": [
      "Epoch 168/1000, Loss: 17460.269901670257\n"
     ]
    },
    {
     "data": {
      "application/vnd.jupyter.widget-view+json": {
       "model_id": "58aa950fd7974506af6294c33dc69d56",
       "version_major": 2,
       "version_minor": 0
      },
      "text/plain": [
       "Epoch 169/1000:   0%|          | 0/1 [00:00<?, ?it/s]"
      ]
     },
     "metadata": {},
     "output_type": "display_data"
    },
    {
     "name": "stdout",
     "output_type": "stream",
     "text": [
      "Epoch 169/1000, Loss: 17309.40583748653\n"
     ]
    },
    {
     "data": {
      "application/vnd.jupyter.widget-view+json": {
       "model_id": "b9ea7a01d27744dfb705c7dbebff1dde",
       "version_major": 2,
       "version_minor": 0
      },
      "text/plain": [
       "Epoch 170/1000:   0%|          | 0/1 [00:00<?, ?it/s]"
      ]
     },
     "metadata": {},
     "output_type": "display_data"
    },
    {
     "name": "stdout",
     "output_type": "stream",
     "text": [
      "Epoch 170/1000, Loss: 17157.63615470097\n"
     ]
    },
    {
     "data": {
      "application/vnd.jupyter.widget-view+json": {
       "model_id": "7f2f27c1c8dd48ed8c3b9216f2f8b602",
       "version_major": 2,
       "version_minor": 0
      },
      "text/plain": [
       "Epoch 171/1000:   0%|          | 0/1 [00:00<?, ?it/s]"
      ]
     },
     "metadata": {},
     "output_type": "display_data"
    },
    {
     "name": "stdout",
     "output_type": "stream",
     "text": [
      "Epoch 171/1000, Loss: 17075.549779431574\n"
     ]
    },
    {
     "data": {
      "application/vnd.jupyter.widget-view+json": {
       "model_id": "b7d45bd1cff840318e3a78c6818ab744",
       "version_major": 2,
       "version_minor": 0
      },
      "text/plain": [
       "Epoch 172/1000:   0%|          | 0/1 [00:00<?, ?it/s]"
      ]
     },
     "metadata": {},
     "output_type": "display_data"
    },
    {
     "name": "stdout",
     "output_type": "stream",
     "text": [
      "Epoch 172/1000, Loss: 17024.469305630388\n"
     ]
    },
    {
     "data": {
      "application/vnd.jupyter.widget-view+json": {
       "model_id": "7d0b613504a543b798a2462745ffb9e1",
       "version_major": 2,
       "version_minor": 0
      },
      "text/plain": [
       "Epoch 173/1000:   0%|          | 0/1 [00:00<?, ?it/s]"
      ]
     },
     "metadata": {},
     "output_type": "display_data"
    },
    {
     "name": "stdout",
     "output_type": "stream",
     "text": [
      "Epoch 173/1000, Loss: 16851.11726326778\n"
     ]
    },
    {
     "data": {
      "application/vnd.jupyter.widget-view+json": {
       "model_id": "62c2a052c0dd4b13b7f871e6d470c68d",
       "version_major": 2,
       "version_minor": 0
      },
      "text/plain": [
       "Epoch 174/1000:   0%|          | 0/1 [00:00<?, ?it/s]"
      ]
     },
     "metadata": {},
     "output_type": "display_data"
    },
    {
     "name": "stdout",
     "output_type": "stream",
     "text": [
      "Epoch 174/1000, Loss: 16736.924030172413\n"
     ]
    },
    {
     "data": {
      "application/vnd.jupyter.widget-view+json": {
       "model_id": "7555dddc31934bbbbbf87d978638d113",
       "version_major": 2,
       "version_minor": 0
      },
      "text/plain": [
       "Epoch 175/1000:   0%|          | 0/1 [00:00<?, ?it/s]"
      ]
     },
     "metadata": {},
     "output_type": "display_data"
    },
    {
     "name": "stdout",
     "output_type": "stream",
     "text": [
      "Epoch 175/1000, Loss: 16628.534297548493\n"
     ]
    },
    {
     "data": {
      "application/vnd.jupyter.widget-view+json": {
       "model_id": "4c3a0b34184c46a0af2f5bc3e1753b77",
       "version_major": 2,
       "version_minor": 0
      },
      "text/plain": [
       "Epoch 176/1000:   0%|          | 0/1 [00:00<?, ?it/s]"
      ]
     },
     "metadata": {},
     "output_type": "display_data"
    },
    {
     "name": "stdout",
     "output_type": "stream",
     "text": [
      "Epoch 176/1000, Loss: 16496.221923828125\n"
     ]
    },
    {
     "data": {
      "application/vnd.jupyter.widget-view+json": {
       "model_id": "e244ead9f8fa4e73a3b457e484c1a84d",
       "version_major": 2,
       "version_minor": 0
      },
      "text/plain": [
       "Epoch 177/1000:   0%|          | 0/1 [00:00<?, ?it/s]"
      ]
     },
     "metadata": {},
     "output_type": "display_data"
    },
    {
     "name": "stdout",
     "output_type": "stream",
     "text": [
      "Epoch 177/1000, Loss: 16388.637409078663\n"
     ]
    },
    {
     "data": {
      "application/vnd.jupyter.widget-view+json": {
       "model_id": "c3d83c02f1d64bb082023fc7746ea8e6",
       "version_major": 2,
       "version_minor": 0
      },
      "text/plain": [
       "Epoch 178/1000:   0%|          | 0/1 [00:00<?, ?it/s]"
      ]
     },
     "metadata": {},
     "output_type": "display_data"
    },
    {
     "name": "stdout",
     "output_type": "stream",
     "text": [
      "Epoch 178/1000, Loss: 16322.087941136853\n"
     ]
    },
    {
     "data": {
      "application/vnd.jupyter.widget-view+json": {
       "model_id": "e664d46fe05c4beba9f25350cc51f3a2",
       "version_major": 2,
       "version_minor": 0
      },
      "text/plain": [
       "Epoch 179/1000:   0%|          | 0/1 [00:00<?, ?it/s]"
      ]
     },
     "metadata": {},
     "output_type": "display_data"
    },
    {
     "name": "stdout",
     "output_type": "stream",
     "text": [
      "Epoch 179/1000, Loss: 16206.81584220097\n"
     ]
    },
    {
     "data": {
      "application/vnd.jupyter.widget-view+json": {
       "model_id": "d622a35cd7a74b6dad3484bb65d665c0",
       "version_major": 2,
       "version_minor": 0
      },
      "text/plain": [
       "Epoch 180/1000:   0%|          | 0/1 [00:00<?, ?it/s]"
      ]
     },
     "metadata": {},
     "output_type": "display_data"
    },
    {
     "name": "stdout",
     "output_type": "stream",
     "text": [
      "Epoch 180/1000, Loss: 16111.836829876078\n"
     ]
    },
    {
     "data": {
      "application/vnd.jupyter.widget-view+json": {
       "model_id": "50eada66c4f54377aa48f5b37063c2ee",
       "version_major": 2,
       "version_minor": 0
      },
      "text/plain": [
       "Epoch 181/1000:   0%|          | 0/1 [00:00<?, ?it/s]"
      ]
     },
     "metadata": {},
     "output_type": "display_data"
    },
    {
     "name": "stdout",
     "output_type": "stream",
     "text": [
      "Epoch 181/1000, Loss: 16000.467142039332\n"
     ]
    },
    {
     "data": {
      "application/vnd.jupyter.widget-view+json": {
       "model_id": "20f8fb4c6ca9467a94d98548b13721f7",
       "version_major": 2,
       "version_minor": 0
      },
      "text/plain": [
       "Epoch 182/1000:   0%|          | 0/1 [00:00<?, ?it/s]"
      ]
     },
     "metadata": {},
     "output_type": "display_data"
    },
    {
     "name": "stdout",
     "output_type": "stream",
     "text": [
      "Epoch 182/1000, Loss: 15955.645785627694\n"
     ]
    },
    {
     "data": {
      "application/vnd.jupyter.widget-view+json": {
       "model_id": "3da059221c88476c929753fab79b0b4c",
       "version_major": 2,
       "version_minor": 0
      },
      "text/plain": [
       "Epoch 183/1000:   0%|          | 0/1 [00:00<?, ?it/s]"
      ]
     },
     "metadata": {},
     "output_type": "display_data"
    },
    {
     "name": "stdout",
     "output_type": "stream",
     "text": [
      "Epoch 183/1000, Loss: 15805.394034550107\n"
     ]
    },
    {
     "data": {
      "application/vnd.jupyter.widget-view+json": {
       "model_id": "d5e66ae940e44c86b8e26043ee548f99",
       "version_major": 2,
       "version_minor": 0
      },
      "text/plain": [
       "Epoch 184/1000:   0%|          | 0/1 [00:00<?, ?it/s]"
      ]
     },
     "metadata": {},
     "output_type": "display_data"
    },
    {
     "name": "stdout",
     "output_type": "stream",
     "text": [
      "Epoch 184/1000, Loss: 15724.751826845366\n"
     ]
    },
    {
     "data": {
      "application/vnd.jupyter.widget-view+json": {
       "model_id": "f5d55bb06e724b909ad969f6abbb1bcb",
       "version_major": 2,
       "version_minor": 0
      },
      "text/plain": [
       "Epoch 185/1000:   0%|          | 0/1 [00:00<?, ?it/s]"
      ]
     },
     "metadata": {},
     "output_type": "display_data"
    },
    {
     "name": "stdout",
     "output_type": "stream",
     "text": [
      "Epoch 185/1000, Loss: 15585.610553609913\n"
     ]
    },
    {
     "data": {
      "application/vnd.jupyter.widget-view+json": {
       "model_id": "948f38858ff148138bcf29e7cd10bb00",
       "version_major": 2,
       "version_minor": 0
      },
      "text/plain": [
       "Epoch 186/1000:   0%|          | 0/1 [00:00<?, ?it/s]"
      ]
     },
     "metadata": {},
     "output_type": "display_data"
    },
    {
     "name": "stdout",
     "output_type": "stream",
     "text": [
      "Epoch 186/1000, Loss: 15533.283102101293\n"
     ]
    },
    {
     "data": {
      "application/vnd.jupyter.widget-view+json": {
       "model_id": "89559b0546c341dab10817147702efa7",
       "version_major": 2,
       "version_minor": 0
      },
      "text/plain": [
       "Epoch 187/1000:   0%|          | 0/1 [00:00<?, ?it/s]"
      ]
     },
     "metadata": {},
     "output_type": "display_data"
    },
    {
     "name": "stdout",
     "output_type": "stream",
     "text": [
      "Epoch 187/1000, Loss: 15459.5269649111\n"
     ]
    },
    {
     "data": {
      "application/vnd.jupyter.widget-view+json": {
       "model_id": "3cf85b302c854faba0680503c89c0216",
       "version_major": 2,
       "version_minor": 0
      },
      "text/plain": [
       "Epoch 188/1000:   0%|          | 0/1 [00:00<?, ?it/s]"
      ]
     },
     "metadata": {},
     "output_type": "display_data"
    },
    {
     "name": "stdout",
     "output_type": "stream",
     "text": [
      "Epoch 188/1000, Loss: 15299.744527882543\n"
     ]
    },
    {
     "data": {
      "application/vnd.jupyter.widget-view+json": {
       "model_id": "798badc61f964d6cb0890a72fec16c8f",
       "version_major": 2,
       "version_minor": 0
      },
      "text/plain": [
       "Epoch 189/1000:   0%|          | 0/1 [00:00<?, ?it/s]"
      ]
     },
     "metadata": {},
     "output_type": "display_data"
    },
    {
     "name": "stdout",
     "output_type": "stream",
     "text": [
      "Epoch 189/1000, Loss: 15269.97720231681\n"
     ]
    },
    {
     "data": {
      "application/vnd.jupyter.widget-view+json": {
       "model_id": "da02016374784042a717097ba087b7e9",
       "version_major": 2,
       "version_minor": 0
      },
      "text/plain": [
       "Epoch 190/1000:   0%|          | 0/1 [00:00<?, ?it/s]"
      ]
     },
     "metadata": {},
     "output_type": "display_data"
    },
    {
     "name": "stdout",
     "output_type": "stream",
     "text": [
      "Epoch 190/1000, Loss: 15136.533649313038\n"
     ]
    },
    {
     "data": {
      "application/vnd.jupyter.widget-view+json": {
       "model_id": "4c60d210237a4700a18630183ef0a318",
       "version_major": 2,
       "version_minor": 0
      },
      "text/plain": [
       "Epoch 191/1000:   0%|          | 0/1 [00:00<?, ?it/s]"
      ]
     },
     "metadata": {},
     "output_type": "display_data"
    },
    {
     "name": "stdout",
     "output_type": "stream",
     "text": [
      "Epoch 191/1000, Loss: 15061.179300242457\n"
     ]
    },
    {
     "data": {
      "application/vnd.jupyter.widget-view+json": {
       "model_id": "e7428102bb3341e98cdad61c2aa4b082",
       "version_major": 2,
       "version_minor": 0
      },
      "text/plain": [
       "Epoch 192/1000:   0%|          | 0/1 [00:00<?, ?it/s]"
      ]
     },
     "metadata": {},
     "output_type": "display_data"
    },
    {
     "name": "stdout",
     "output_type": "stream",
     "text": [
      "Epoch 192/1000, Loss: 14955.06982421875\n"
     ]
    },
    {
     "data": {
      "application/vnd.jupyter.widget-view+json": {
       "model_id": "b26e696c55754f3ea8698b278ffc45ae",
       "version_major": 2,
       "version_minor": 0
      },
      "text/plain": [
       "Epoch 193/1000:   0%|          | 0/1 [00:00<?, ?it/s]"
      ]
     },
     "metadata": {},
     "output_type": "display_data"
    },
    {
     "name": "stdout",
     "output_type": "stream",
     "text": [
      "Epoch 193/1000, Loss: 14852.915055899784\n"
     ]
    },
    {
     "data": {
      "application/vnd.jupyter.widget-view+json": {
       "model_id": "5004a1593be34dbb98a07468c083b49f",
       "version_major": 2,
       "version_minor": 0
      },
      "text/plain": [
       "Epoch 194/1000:   0%|          | 0/1 [00:00<?, ?it/s]"
      ]
     },
     "metadata": {},
     "output_type": "display_data"
    },
    {
     "name": "stdout",
     "output_type": "stream",
     "text": [
      "Epoch 194/1000, Loss: 14791.661486395475\n"
     ]
    },
    {
     "data": {
      "application/vnd.jupyter.widget-view+json": {
       "model_id": "380defd0308740a9a734b48af6640193",
       "version_major": 2,
       "version_minor": 0
      },
      "text/plain": [
       "Epoch 195/1000:   0%|          | 0/1 [00:00<?, ?it/s]"
      ]
     },
     "metadata": {},
     "output_type": "display_data"
    },
    {
     "name": "stdout",
     "output_type": "stream",
     "text": [
      "Epoch 195/1000, Loss: 14719.862910829741\n"
     ]
    },
    {
     "data": {
      "application/vnd.jupyter.widget-view+json": {
       "model_id": "ff7cf647e2f346a99b1e49fc803e6170",
       "version_major": 2,
       "version_minor": 0
      },
      "text/plain": [
       "Epoch 196/1000:   0%|          | 0/1 [00:00<?, ?it/s]"
      ]
     },
     "metadata": {},
     "output_type": "display_data"
    },
    {
     "name": "stdout",
     "output_type": "stream",
     "text": [
      "Epoch 196/1000, Loss: 14618.24079842403\n"
     ]
    },
    {
     "data": {
      "application/vnd.jupyter.widget-view+json": {
       "model_id": "f9b30153fb1245678e1d12269bfe6b86",
       "version_major": 2,
       "version_minor": 0
      },
      "text/plain": [
       "Epoch 197/1000:   0%|          | 0/1 [00:00<?, ?it/s]"
      ]
     },
     "metadata": {},
     "output_type": "display_data"
    },
    {
     "name": "stdout",
     "output_type": "stream",
     "text": [
      "Epoch 197/1000, Loss: 14567.410072063578\n"
     ]
    },
    {
     "data": {
      "application/vnd.jupyter.widget-view+json": {
       "model_id": "2087412471f84423a5d43350a8c98993",
       "version_major": 2,
       "version_minor": 0
      },
      "text/plain": [
       "Epoch 198/1000:   0%|          | 0/1 [00:00<?, ?it/s]"
      ]
     },
     "metadata": {},
     "output_type": "display_data"
    },
    {
     "name": "stdout",
     "output_type": "stream",
     "text": [
      "Epoch 198/1000, Loss: 14462.665973531788\n"
     ]
    },
    {
     "data": {
      "application/vnd.jupyter.widget-view+json": {
       "model_id": "7b8df705f8a94a12bbca8c78ec2d6a53",
       "version_major": 2,
       "version_minor": 0
      },
      "text/plain": [
       "Epoch 199/1000:   0%|          | 0/1 [00:00<?, ?it/s]"
      ]
     },
     "metadata": {},
     "output_type": "display_data"
    },
    {
     "name": "stdout",
     "output_type": "stream",
     "text": [
      "Epoch 199/1000, Loss: 14403.43667497306\n"
     ]
    },
    {
     "data": {
      "application/vnd.jupyter.widget-view+json": {
       "model_id": "c715786b27fd44ed833d538031aeae97",
       "version_major": 2,
       "version_minor": 0
      },
      "text/plain": [
       "Epoch 200/1000:   0%|          | 0/1 [00:00<?, ?it/s]"
      ]
     },
     "metadata": {},
     "output_type": "display_data"
    },
    {
     "name": "stdout",
     "output_type": "stream",
     "text": [
      "Epoch 200/1000, Loss: 14277.9720585264\n"
     ]
    },
    {
     "data": {
      "application/vnd.jupyter.widget-view+json": {
       "model_id": "d4d25a5406ba41f298c427cee6ad6b46",
       "version_major": 2,
       "version_minor": 0
      },
      "text/plain": [
       "Epoch 201/1000:   0%|          | 0/1 [00:00<?, ?it/s]"
      ]
     },
     "metadata": {},
     "output_type": "display_data"
    },
    {
     "name": "stdout",
     "output_type": "stream",
     "text": [
      "Epoch 201/1000, Loss: 14209.413077518857\n"
     ]
    },
    {
     "data": {
      "application/vnd.jupyter.widget-view+json": {
       "model_id": "3351946ea1984a1ebfc213155d84277c",
       "version_major": 2,
       "version_minor": 0
      },
      "text/plain": [
       "Epoch 202/1000:   0%|          | 0/1 [00:00<?, ?it/s]"
      ]
     },
     "metadata": {},
     "output_type": "display_data"
    },
    {
     "name": "stdout",
     "output_type": "stream",
     "text": [
      "Epoch 202/1000, Loss: 14154.823856748384\n"
     ]
    },
    {
     "data": {
      "application/vnd.jupyter.widget-view+json": {
       "model_id": "ef80f738aed544dbb1d835beeb8733eb",
       "version_major": 2,
       "version_minor": 0
      },
      "text/plain": [
       "Epoch 203/1000:   0%|          | 0/1 [00:00<?, ?it/s]"
      ]
     },
     "metadata": {},
     "output_type": "display_data"
    },
    {
     "name": "stdout",
     "output_type": "stream",
     "text": [
      "Epoch 203/1000, Loss: 14079.8267695986\n"
     ]
    },
    {
     "data": {
      "application/vnd.jupyter.widget-view+json": {
       "model_id": "80e773e0b63f4310bb6ad61bdf5a3435",
       "version_major": 2,
       "version_minor": 0
      },
      "text/plain": [
       "Epoch 204/1000:   0%|          | 0/1 [00:00<?, ?it/s]"
      ]
     },
     "metadata": {},
     "output_type": "display_data"
    },
    {
     "name": "stdout",
     "output_type": "stream",
     "text": [
      "Epoch 204/1000, Loss: 13989.051926185344\n"
     ]
    },
    {
     "data": {
      "application/vnd.jupyter.widget-view+json": {
       "model_id": "b4499326fe5445dbbff5946935f0ca98",
       "version_major": 2,
       "version_minor": 0
      },
      "text/plain": [
       "Epoch 205/1000:   0%|          | 0/1 [00:00<?, ?it/s]"
      ]
     },
     "metadata": {},
     "output_type": "display_data"
    },
    {
     "name": "stdout",
     "output_type": "stream",
     "text": [
      "Epoch 205/1000, Loss: 13899.234619140625\n"
     ]
    },
    {
     "data": {
      "application/vnd.jupyter.widget-view+json": {
       "model_id": "d16bd862dc2f49618896184e76cbba98",
       "version_major": 2,
       "version_minor": 0
      },
      "text/plain": [
       "Epoch 206/1000:   0%|          | 0/1 [00:00<?, ?it/s]"
      ]
     },
     "metadata": {},
     "output_type": "display_data"
    },
    {
     "name": "stdout",
     "output_type": "stream",
     "text": [
      "Epoch 206/1000, Loss: 13883.450069032866\n"
     ]
    },
    {
     "data": {
      "application/vnd.jupyter.widget-view+json": {
       "model_id": "9a6b3c961a1b47a6aa951a24c1403827",
       "version_major": 2,
       "version_minor": 0
      },
      "text/plain": [
       "Epoch 207/1000:   0%|          | 0/1 [00:00<?, ?it/s]"
      ]
     },
     "metadata": {},
     "output_type": "display_data"
    },
    {
     "name": "stdout",
     "output_type": "stream",
     "text": [
      "Epoch 207/1000, Loss: 13777.065825363685\n"
     ]
    },
    {
     "data": {
      "application/vnd.jupyter.widget-view+json": {
       "model_id": "14f5cb6a8f0f42298164cc059c1ce843",
       "version_major": 2,
       "version_minor": 0
      },
      "text/plain": [
       "Epoch 208/1000:   0%|          | 0/1 [00:00<?, ?it/s]"
      ]
     },
     "metadata": {},
     "output_type": "display_data"
    },
    {
     "name": "stdout",
     "output_type": "stream",
     "text": [
      "Epoch 208/1000, Loss: 13703.469819167565\n"
     ]
    },
    {
     "data": {
      "application/vnd.jupyter.widget-view+json": {
       "model_id": "e88ecef5e1334ceb8a69c1efa6e00bc8",
       "version_major": 2,
       "version_minor": 0
      },
      "text/plain": [
       "Epoch 209/1000:   0%|          | 0/1 [00:00<?, ?it/s]"
      ]
     },
     "metadata": {},
     "output_type": "display_data"
    },
    {
     "name": "stdout",
     "output_type": "stream",
     "text": [
      "Epoch 209/1000, Loss: 13649.088892443428\n"
     ]
    },
    {
     "data": {
      "application/vnd.jupyter.widget-view+json": {
       "model_id": "d4544254d51a4a60b32ec1f0e758641f",
       "version_major": 2,
       "version_minor": 0
      },
      "text/plain": [
       "Epoch 210/1000:   0%|          | 0/1 [00:00<?, ?it/s]"
      ]
     },
     "metadata": {},
     "output_type": "display_data"
    },
    {
     "name": "stdout",
     "output_type": "stream",
     "text": [
      "Epoch 210/1000, Loss: 13572.730064655172\n"
     ]
    },
    {
     "data": {
      "application/vnd.jupyter.widget-view+json": {
       "model_id": "f4e4a5089c0642158e28730e2747af63",
       "version_major": 2,
       "version_minor": 0
      },
      "text/plain": [
       "Epoch 211/1000:   0%|          | 0/1 [00:00<?, ?it/s]"
      ]
     },
     "metadata": {},
     "output_type": "display_data"
    },
    {
     "name": "stdout",
     "output_type": "stream",
     "text": [
      "Epoch 211/1000, Loss: 13476.329471982759\n"
     ]
    },
    {
     "data": {
      "application/vnd.jupyter.widget-view+json": {
       "model_id": "850ac6498a3e4b9197a3495d3afcf96e",
       "version_major": 2,
       "version_minor": 0
      },
      "text/plain": [
       "Epoch 212/1000:   0%|          | 0/1 [00:00<?, ?it/s]"
      ]
     },
     "metadata": {},
     "output_type": "display_data"
    },
    {
     "name": "stdout",
     "output_type": "stream",
     "text": [
      "Epoch 212/1000, Loss: 13438.39858903556\n"
     ]
    },
    {
     "data": {
      "application/vnd.jupyter.widget-view+json": {
       "model_id": "7d1ce959c2c64aa8a24bd815355b3f2c",
       "version_major": 2,
       "version_minor": 0
      },
      "text/plain": [
       "Epoch 213/1000:   0%|          | 0/1 [00:00<?, ?it/s]"
      ]
     },
     "metadata": {},
     "output_type": "display_data"
    },
    {
     "name": "stdout",
     "output_type": "stream",
     "text": [
      "Epoch 213/1000, Loss: 13376.902528960129\n"
     ]
    },
    {
     "data": {
      "application/vnd.jupyter.widget-view+json": {
       "model_id": "b541084bb116407bb8a1525e56097292",
       "version_major": 2,
       "version_minor": 0
      },
      "text/plain": [
       "Epoch 214/1000:   0%|          | 0/1 [00:00<?, ?it/s]"
      ]
     },
     "metadata": {},
     "output_type": "display_data"
    },
    {
     "name": "stdout",
     "output_type": "stream",
     "text": [
      "Epoch 214/1000, Loss: 13313.65673828125\n"
     ]
    },
    {
     "data": {
      "application/vnd.jupyter.widget-view+json": {
       "model_id": "27fee73559c54fc8983e8b6b8e7a842c",
       "version_major": 2,
       "version_minor": 0
      },
      "text/plain": [
       "Epoch 215/1000:   0%|          | 0/1 [00:00<?, ?it/s]"
      ]
     },
     "metadata": {},
     "output_type": "display_data"
    },
    {
     "name": "stdout",
     "output_type": "stream",
     "text": [
      "Epoch 215/1000, Loss: 13245.53834691541\n"
     ]
    },
    {
     "data": {
      "application/vnd.jupyter.widget-view+json": {
       "model_id": "64dc9d3e5cbd46fe9d454815ff6590db",
       "version_major": 2,
       "version_minor": 0
      },
      "text/plain": [
       "Epoch 216/1000:   0%|          | 0/1 [00:00<?, ?it/s]"
      ]
     },
     "metadata": {},
     "output_type": "display_data"
    },
    {
     "name": "stdout",
     "output_type": "stream",
     "text": [
      "Epoch 216/1000, Loss: 13170.9556758486\n"
     ]
    },
    {
     "data": {
      "application/vnd.jupyter.widget-view+json": {
       "model_id": "046a009b96e449279af7fea6d6fc8809",
       "version_major": 2,
       "version_minor": 0
      },
      "text/plain": [
       "Epoch 217/1000:   0%|          | 0/1 [00:00<?, ?it/s]"
      ]
     },
     "metadata": {},
     "output_type": "display_data"
    },
    {
     "name": "stdout",
     "output_type": "stream",
     "text": [
      "Epoch 217/1000, Loss: 13125.820506128772\n"
     ]
    },
    {
     "data": {
      "application/vnd.jupyter.widget-view+json": {
       "model_id": "e80f5ae2f2be435cbfc428da5b71a8b4",
       "version_major": 2,
       "version_minor": 0
      },
      "text/plain": [
       "Epoch 218/1000:   0%|          | 0/1 [00:00<?, ?it/s]"
      ]
     },
     "metadata": {},
     "output_type": "display_data"
    },
    {
     "name": "stdout",
     "output_type": "stream",
     "text": [
      "Epoch 218/1000, Loss: 13086.52854761584\n"
     ]
    },
    {
     "data": {
      "application/vnd.jupyter.widget-view+json": {
       "model_id": "65c7df927d7b4041b389685856f57b8f",
       "version_major": 2,
       "version_minor": 0
      },
      "text/plain": [
       "Epoch 219/1000:   0%|          | 0/1 [00:00<?, ?it/s]"
      ]
     },
     "metadata": {},
     "output_type": "display_data"
    },
    {
     "name": "stdout",
     "output_type": "stream",
     "text": [
      "Epoch 219/1000, Loss: 12990.409878434806\n"
     ]
    },
    {
     "data": {
      "application/vnd.jupyter.widget-view+json": {
       "model_id": "d2bd7dc5c0cc499d8f417991dec6e611",
       "version_major": 2,
       "version_minor": 0
      },
      "text/plain": [
       "Epoch 220/1000:   0%|          | 0/1 [00:00<?, ?it/s]"
      ]
     },
     "metadata": {},
     "output_type": "display_data"
    },
    {
     "name": "stdout",
     "output_type": "stream",
     "text": [
      "Epoch 220/1000, Loss: 12946.230965449893\n"
     ]
    },
    {
     "data": {
      "application/vnd.jupyter.widget-view+json": {
       "model_id": "b5d8d16802f14222a3543133d9d5de02",
       "version_major": 2,
       "version_minor": 0
      },
      "text/plain": [
       "Epoch 221/1000:   0%|          | 0/1 [00:00<?, ?it/s]"
      ]
     },
     "metadata": {},
     "output_type": "display_data"
    },
    {
     "name": "stdout",
     "output_type": "stream",
     "text": [
      "Epoch 221/1000, Loss: 12909.147519867996\n"
     ]
    },
    {
     "data": {
      "application/vnd.jupyter.widget-view+json": {
       "model_id": "a0f17d8fa0c54e919e3a6aacef8f6b14",
       "version_major": 2,
       "version_minor": 0
      },
      "text/plain": [
       "Epoch 222/1000:   0%|          | 0/1 [00:00<?, ?it/s]"
      ]
     },
     "metadata": {},
     "output_type": "display_data"
    },
    {
     "name": "stdout",
     "output_type": "stream",
     "text": [
      "Epoch 222/1000, Loss: 12815.659524851832\n"
     ]
    },
    {
     "data": {
      "application/vnd.jupyter.widget-view+json": {
       "model_id": "8e640393bad94e6fa3fbcf6a08d6aa61",
       "version_major": 2,
       "version_minor": 0
      },
      "text/plain": [
       "Epoch 223/1000:   0%|          | 0/1 [00:00<?, ?it/s]"
      ]
     },
     "metadata": {},
     "output_type": "display_data"
    },
    {
     "name": "stdout",
     "output_type": "stream",
     "text": [
      "Epoch 223/1000, Loss: 12776.055462015087\n"
     ]
    },
    {
     "data": {
      "application/vnd.jupyter.widget-view+json": {
       "model_id": "452b5893fe9e414184b5a7831818424f",
       "version_major": 2,
       "version_minor": 0
      },
      "text/plain": [
       "Epoch 224/1000:   0%|          | 0/1 [00:00<?, ?it/s]"
      ]
     },
     "metadata": {},
     "output_type": "display_data"
    },
    {
     "name": "stdout",
     "output_type": "stream",
     "text": [
      "Epoch 224/1000, Loss: 12673.8704960264\n"
     ]
    },
    {
     "data": {
      "application/vnd.jupyter.widget-view+json": {
       "model_id": "d1faa51ce9db47049d8182ed62f53030",
       "version_major": 2,
       "version_minor": 0
      },
      "text/plain": [
       "Epoch 225/1000:   0%|          | 0/1 [00:00<?, ?it/s]"
      ]
     },
     "metadata": {},
     "output_type": "display_data"
    },
    {
     "name": "stdout",
     "output_type": "stream",
     "text": [
      "Epoch 225/1000, Loss: 12655.29214372306\n"
     ]
    },
    {
     "data": {
      "application/vnd.jupyter.widget-view+json": {
       "model_id": "c3fee05e96324059a1903419613ad5f4",
       "version_major": 2,
       "version_minor": 0
      },
      "text/plain": [
       "Epoch 226/1000:   0%|          | 0/1 [00:00<?, ?it/s]"
      ]
     },
     "metadata": {},
     "output_type": "display_data"
    },
    {
     "name": "stdout",
     "output_type": "stream",
     "text": [
      "Epoch 226/1000, Loss: 12595.701702249462\n"
     ]
    },
    {
     "data": {
      "application/vnd.jupyter.widget-view+json": {
       "model_id": "99b44cbad9444e0ca82035d02dd8c0d0",
       "version_major": 2,
       "version_minor": 0
      },
      "text/plain": [
       "Epoch 227/1000:   0%|          | 0/1 [00:00<?, ?it/s]"
      ]
     },
     "metadata": {},
     "output_type": "display_data"
    },
    {
     "name": "stdout",
     "output_type": "stream",
     "text": [
      "Epoch 227/1000, Loss: 12561.472487877156\n"
     ]
    },
    {
     "data": {
      "application/vnd.jupyter.widget-view+json": {
       "model_id": "45d4366624d3419d8fa7813b817e7d32",
       "version_major": 2,
       "version_minor": 0
      },
      "text/plain": [
       "Epoch 228/1000:   0%|          | 0/1 [00:00<?, ?it/s]"
      ]
     },
     "metadata": {},
     "output_type": "display_data"
    },
    {
     "name": "stdout",
     "output_type": "stream",
     "text": [
      "Epoch 228/1000, Loss: 12472.712486530172\n"
     ]
    },
    {
     "data": {
      "application/vnd.jupyter.widget-view+json": {
       "model_id": "d59dc6dd17074d3e8dafef6f96db91e9",
       "version_major": 2,
       "version_minor": 0
      },
      "text/plain": [
       "Epoch 229/1000:   0%|          | 0/1 [00:00<?, ?it/s]"
      ]
     },
     "metadata": {},
     "output_type": "display_data"
    },
    {
     "name": "stdout",
     "output_type": "stream",
     "text": [
      "Epoch 229/1000, Loss: 12449.759664601293\n"
     ]
    },
    {
     "data": {
      "application/vnd.jupyter.widget-view+json": {
       "model_id": "c8765cb66c7c4c8f8b094f9097b4379a",
       "version_major": 2,
       "version_minor": 0
      },
      "text/plain": [
       "Epoch 230/1000:   0%|          | 0/1 [00:00<?, ?it/s]"
      ]
     },
     "metadata": {},
     "output_type": "display_data"
    },
    {
     "name": "stdout",
     "output_type": "stream",
     "text": [
      "Epoch 230/1000, Loss: 12382.691928205819\n"
     ]
    },
    {
     "data": {
      "application/vnd.jupyter.widget-view+json": {
       "model_id": "ca77829dfc85435286bc2578e95e14f8",
       "version_major": 2,
       "version_minor": 0
      },
      "text/plain": [
       "Epoch 231/1000:   0%|          | 0/1 [00:00<?, ?it/s]"
      ]
     },
     "metadata": {},
     "output_type": "display_data"
    },
    {
     "name": "stdout",
     "output_type": "stream",
     "text": [
      "Epoch 231/1000, Loss: 12328.74879613416\n"
     ]
    },
    {
     "data": {
      "application/vnd.jupyter.widget-view+json": {
       "model_id": "d2e44f2fc6b24cb49c09b844a7c45dbf",
       "version_major": 2,
       "version_minor": 0
      },
      "text/plain": [
       "Epoch 232/1000:   0%|          | 0/1 [00:00<?, ?it/s]"
      ]
     },
     "metadata": {},
     "output_type": "display_data"
    },
    {
     "name": "stdout",
     "output_type": "stream",
     "text": [
      "Epoch 232/1000, Loss: 12279.786705280172\n"
     ]
    },
    {
     "data": {
      "application/vnd.jupyter.widget-view+json": {
       "model_id": "1a5501b0151945a884740b1227efcc03",
       "version_major": 2,
       "version_minor": 0
      },
      "text/plain": [
       "Epoch 233/1000:   0%|          | 0/1 [00:00<?, ?it/s]"
      ]
     },
     "metadata": {},
     "output_type": "display_data"
    },
    {
     "name": "stdout",
     "output_type": "stream",
     "text": [
      "Epoch 233/1000, Loss: 12241.89768824084\n"
     ]
    },
    {
     "data": {
      "application/vnd.jupyter.widget-view+json": {
       "model_id": "41bc0df14ee0479bae42d7643aef35db",
       "version_major": 2,
       "version_minor": 0
      },
      "text/plain": [
       "Epoch 234/1000:   0%|          | 0/1 [00:00<?, ?it/s]"
      ]
     },
     "metadata": {},
     "output_type": "display_data"
    },
    {
     "name": "stdout",
     "output_type": "stream",
     "text": [
      "Epoch 234/1000, Loss: 12187.74989055765\n"
     ]
    },
    {
     "data": {
      "application/vnd.jupyter.widget-view+json": {
       "model_id": "7524fb3f9ba440349b0986312fecb20e",
       "version_major": 2,
       "version_minor": 0
      },
      "text/plain": [
       "Epoch 235/1000:   0%|          | 0/1 [00:00<?, ?it/s]"
      ]
     },
     "metadata": {},
     "output_type": "display_data"
    },
    {
     "name": "stdout",
     "output_type": "stream",
     "text": [
      "Epoch 235/1000, Loss: 12151.872903758082\n"
     ]
    },
    {
     "data": {
      "application/vnd.jupyter.widget-view+json": {
       "model_id": "4d44c7d208db4215a4be97f9b1ac5540",
       "version_major": 2,
       "version_minor": 0
      },
      "text/plain": [
       "Epoch 236/1000:   0%|          | 0/1 [00:00<?, ?it/s]"
      ]
     },
     "metadata": {},
     "output_type": "display_data"
    },
    {
     "name": "stdout",
     "output_type": "stream",
     "text": [
      "Epoch 236/1000, Loss: 12084.378872575431\n"
     ]
    },
    {
     "data": {
      "application/vnd.jupyter.widget-view+json": {
       "model_id": "fad8e3596d1e45548b465fa5695d29eb",
       "version_major": 2,
       "version_minor": 0
      },
      "text/plain": [
       "Epoch 237/1000:   0%|          | 0/1 [00:00<?, ?it/s]"
      ]
     },
     "metadata": {},
     "output_type": "display_data"
    },
    {
     "name": "stdout",
     "output_type": "stream",
     "text": [
      "Epoch 237/1000, Loss: 12097.829455145475\n"
     ]
    },
    {
     "data": {
      "application/vnd.jupyter.widget-view+json": {
       "model_id": "9332a16bb3224009879a3d748a18d5a4",
       "version_major": 2,
       "version_minor": 0
      },
      "text/plain": [
       "Epoch 238/1000:   0%|          | 0/1 [00:00<?, ?it/s]"
      ]
     },
     "metadata": {},
     "output_type": "display_data"
    },
    {
     "name": "stdout",
     "output_type": "stream",
     "text": [
      "Epoch 238/1000, Loss: 12013.042985587284\n"
     ]
    },
    {
     "data": {
      "application/vnd.jupyter.widget-view+json": {
       "model_id": "f41b068262f94f8cb252bc63604cfe19",
       "version_major": 2,
       "version_minor": 0
      },
      "text/plain": [
       "Epoch 239/1000:   0%|          | 0/1 [00:00<?, ?it/s]"
      ]
     },
     "metadata": {},
     "output_type": "display_data"
    },
    {
     "name": "stdout",
     "output_type": "stream",
     "text": [
      "Epoch 239/1000, Loss: 11960.549105940194\n"
     ]
    },
    {
     "data": {
      "application/vnd.jupyter.widget-view+json": {
       "model_id": "89f9c3d67c0c4086a648096ecf0904ab",
       "version_major": 2,
       "version_minor": 0
      },
      "text/plain": [
       "Epoch 240/1000:   0%|          | 0/1 [00:00<?, ?it/s]"
      ]
     },
     "metadata": {},
     "output_type": "display_data"
    },
    {
     "name": "stdout",
     "output_type": "stream",
     "text": [
      "Epoch 240/1000, Loss: 11899.710626010237\n"
     ]
    },
    {
     "data": {
      "application/vnd.jupyter.widget-view+json": {
       "model_id": "925c658ccb614f858efe336456b1d0d6",
       "version_major": 2,
       "version_minor": 0
      },
      "text/plain": [
       "Epoch 241/1000:   0%|          | 0/1 [00:00<?, ?it/s]"
      ]
     },
     "metadata": {},
     "output_type": "display_data"
    },
    {
     "name": "stdout",
     "output_type": "stream",
     "text": [
      "Epoch 241/1000, Loss: 11845.700822501347\n"
     ]
    },
    {
     "data": {
      "application/vnd.jupyter.widget-view+json": {
       "model_id": "d13add5ad68543a189cec818247ebf65",
       "version_major": 2,
       "version_minor": 0
      },
      "text/plain": [
       "Epoch 242/1000:   0%|          | 0/1 [00:00<?, ?it/s]"
      ]
     },
     "metadata": {},
     "output_type": "display_data"
    },
    {
     "name": "stdout",
     "output_type": "stream",
     "text": [
      "Epoch 242/1000, Loss: 11822.18543743265\n"
     ]
    },
    {
     "data": {
      "application/vnd.jupyter.widget-view+json": {
       "model_id": "2dbc0757be1447de834df79382b752b8",
       "version_major": 2,
       "version_minor": 0
      },
      "text/plain": [
       "Epoch 243/1000:   0%|          | 0/1 [00:00<?, ?it/s]"
      ]
     },
     "metadata": {},
     "output_type": "display_data"
    },
    {
     "name": "stdout",
     "output_type": "stream",
     "text": [
      "Epoch 243/1000, Loss: 11783.832073343212\n"
     ]
    },
    {
     "data": {
      "application/vnd.jupyter.widget-view+json": {
       "model_id": "86101fad2c9b44e7a134766dde8e725f",
       "version_major": 2,
       "version_minor": 0
      },
      "text/plain": [
       "Epoch 244/1000:   0%|          | 0/1 [00:00<?, ?it/s]"
      ]
     },
     "metadata": {},
     "output_type": "display_data"
    },
    {
     "name": "stdout",
     "output_type": "stream",
     "text": [
      "Epoch 244/1000, Loss: 11764.005202720906\n"
     ]
    },
    {
     "data": {
      "application/vnd.jupyter.widget-view+json": {
       "model_id": "42779560ad364c16b2fbdbca014b41e3",
       "version_major": 2,
       "version_minor": 0
      },
      "text/plain": [
       "Epoch 245/1000:   0%|          | 0/1 [00:00<?, ?it/s]"
      ]
     },
     "metadata": {},
     "output_type": "display_data"
    },
    {
     "name": "stdout",
     "output_type": "stream",
     "text": [
      "Epoch 245/1000, Loss: 11711.879815463362\n"
     ]
    },
    {
     "data": {
      "application/vnd.jupyter.widget-view+json": {
       "model_id": "ede7f423b99a41b89e9c77a7716356cf",
       "version_major": 2,
       "version_minor": 0
      },
      "text/plain": [
       "Epoch 246/1000:   0%|          | 0/1 [00:00<?, ?it/s]"
      ]
     },
     "metadata": {},
     "output_type": "display_data"
    },
    {
     "name": "stdout",
     "output_type": "stream",
     "text": [
      "Epoch 246/1000, Loss: 11655.933905239763\n"
     ]
    },
    {
     "data": {
      "application/vnd.jupyter.widget-view+json": {
       "model_id": "bd17705effd34e5e9d2455b722d41460",
       "version_major": 2,
       "version_minor": 0
      },
      "text/plain": [
       "Epoch 247/1000:   0%|          | 0/1 [00:00<?, ?it/s]"
      ]
     },
     "metadata": {},
     "output_type": "display_data"
    },
    {
     "name": "stdout",
     "output_type": "stream",
     "text": [
      "Epoch 247/1000, Loss: 11640.168153960129\n"
     ]
    },
    {
     "data": {
      "application/vnd.jupyter.widget-view+json": {
       "model_id": "4830ab468a8845e1b6f63944e9274cc8",
       "version_major": 2,
       "version_minor": 0
      },
      "text/plain": [
       "Epoch 248/1000:   0%|          | 0/1 [00:00<?, ?it/s]"
      ]
     },
     "metadata": {},
     "output_type": "display_data"
    },
    {
     "name": "stdout",
     "output_type": "stream",
     "text": [
      "Epoch 248/1000, Loss: 11588.2828242861\n"
     ]
    },
    {
     "data": {
      "application/vnd.jupyter.widget-view+json": {
       "model_id": "44c3881faecd44a0bc19c38ed82bcd0e",
       "version_major": 2,
       "version_minor": 0
      },
      "text/plain": [
       "Epoch 249/1000:   0%|          | 0/1 [00:00<?, ?it/s]"
      ]
     },
     "metadata": {},
     "output_type": "display_data"
    },
    {
     "name": "stdout",
     "output_type": "stream",
     "text": [
      "Epoch 249/1000, Loss: 11534.0267460264\n"
     ]
    },
    {
     "data": {
      "application/vnd.jupyter.widget-view+json": {
       "model_id": "62dba3e6dd544ec6af51d50a412baec7",
       "version_major": 2,
       "version_minor": 0
      },
      "text/plain": [
       "Epoch 250/1000:   0%|          | 0/1 [00:00<?, ?it/s]"
      ]
     },
     "metadata": {},
     "output_type": "display_data"
    },
    {
     "name": "stdout",
     "output_type": "stream",
     "text": [
      "Epoch 250/1000, Loss: 11478.134218413254\n"
     ]
    },
    {
     "data": {
      "application/vnd.jupyter.widget-view+json": {
       "model_id": "566952f2aee343629b813e692287fe5c",
       "version_major": 2,
       "version_minor": 0
      },
      "text/plain": [
       "Epoch 251/1000:   0%|          | 0/1 [00:00<?, ?it/s]"
      ]
     },
     "metadata": {},
     "output_type": "display_data"
    },
    {
     "name": "stdout",
     "output_type": "stream",
     "text": [
      "Epoch 251/1000, Loss: 11463.517174030172\n"
     ]
    },
    {
     "data": {
      "application/vnd.jupyter.widget-view+json": {
       "model_id": "bdde93e077d54897a3adf9b8c60c3f67",
       "version_major": 2,
       "version_minor": 0
      },
      "text/plain": [
       "Epoch 252/1000:   0%|          | 0/1 [00:00<?, ?it/s]"
      ]
     },
     "metadata": {},
     "output_type": "display_data"
    },
    {
     "name": "stdout",
     "output_type": "stream",
     "text": [
      "Epoch 252/1000, Loss: 11438.487237338362\n"
     ]
    },
    {
     "data": {
      "application/vnd.jupyter.widget-view+json": {
       "model_id": "9e67322a44f84acfbe58ed478ec20c2f",
       "version_major": 2,
       "version_minor": 0
      },
      "text/plain": [
       "Epoch 253/1000:   0%|          | 0/1 [00:00<?, ?it/s]"
      ]
     },
     "metadata": {},
     "output_type": "display_data"
    },
    {
     "name": "stdout",
     "output_type": "stream",
     "text": [
      "Epoch 253/1000, Loss: 11393.529818830819\n"
     ]
    },
    {
     "data": {
      "application/vnd.jupyter.widget-view+json": {
       "model_id": "bf4adb14a04b402f8d73a6489c860e35",
       "version_major": 2,
       "version_minor": 0
      },
      "text/plain": [
       "Epoch 254/1000:   0%|          | 0/1 [00:00<?, ?it/s]"
      ]
     },
     "metadata": {},
     "output_type": "display_data"
    },
    {
     "name": "stdout",
     "output_type": "stream",
     "text": [
      "Epoch 254/1000, Loss: 11356.550596039871\n"
     ]
    },
    {
     "data": {
      "application/vnd.jupyter.widget-view+json": {
       "model_id": "ebf240e9cea1417d948c443f77076139",
       "version_major": 2,
       "version_minor": 0
      },
      "text/plain": [
       "Epoch 255/1000:   0%|          | 0/1 [00:00<?, ?it/s]"
      ]
     },
     "metadata": {},
     "output_type": "display_data"
    },
    {
     "name": "stdout",
     "output_type": "stream",
     "text": [
      "Epoch 255/1000, Loss: 11309.940892712822\n"
     ]
    },
    {
     "data": {
      "application/vnd.jupyter.widget-view+json": {
       "model_id": "19c4d4a472a34d5a9aa9a9f0e6762c4b",
       "version_major": 2,
       "version_minor": 0
      },
      "text/plain": [
       "Epoch 256/1000:   0%|          | 0/1 [00:00<?, ?it/s]"
      ]
     },
     "metadata": {},
     "output_type": "display_data"
    },
    {
     "name": "stdout",
     "output_type": "stream",
     "text": [
      "Epoch 256/1000, Loss: 11252.53079960264\n"
     ]
    },
    {
     "data": {
      "application/vnd.jupyter.widget-view+json": {
       "model_id": "88946593626543a9bfd372c070a034dd",
       "version_major": 2,
       "version_minor": 0
      },
      "text/plain": [
       "Epoch 257/1000:   0%|          | 0/1 [00:00<?, ?it/s]"
      ]
     },
     "metadata": {},
     "output_type": "display_data"
    },
    {
     "name": "stdout",
     "output_type": "stream",
     "text": [
      "Epoch 257/1000, Loss: 11224.233457367996\n"
     ]
    },
    {
     "data": {
      "application/vnd.jupyter.widget-view+json": {
       "model_id": "d565053dd8364afe8639cc9b7b1c62cc",
       "version_major": 2,
       "version_minor": 0
      },
      "text/plain": [
       "Epoch 258/1000:   0%|          | 0/1 [00:00<?, ?it/s]"
      ]
     },
     "metadata": {},
     "output_type": "display_data"
    },
    {
     "name": "stdout",
     "output_type": "stream",
     "text": [
      "Epoch 258/1000, Loss: 11215.602092874462\n"
     ]
    },
    {
     "data": {
      "application/vnd.jupyter.widget-view+json": {
       "model_id": "2e7e3fd596054cc78f11543f81afca6d",
       "version_major": 2,
       "version_minor": 0
      },
      "text/plain": [
       "Epoch 259/1000:   0%|          | 0/1 [00:00<?, ?it/s]"
      ]
     },
     "metadata": {},
     "output_type": "display_data"
    },
    {
     "name": "stdout",
     "output_type": "stream",
     "text": [
      "Epoch 259/1000, Loss: 11151.335423962822\n"
     ]
    },
    {
     "data": {
      "application/vnd.jupyter.widget-view+json": {
       "model_id": "aa38e70eae4a4caa83b87648232c27c8",
       "version_major": 2,
       "version_minor": 0
      },
      "text/plain": [
       "Epoch 260/1000:   0%|          | 0/1 [00:00<?, ?it/s]"
      ]
     },
     "metadata": {},
     "output_type": "display_data"
    },
    {
     "name": "stdout",
     "output_type": "stream",
     "text": [
      "Epoch 260/1000, Loss: 11125.316237877156\n"
     ]
    },
    {
     "data": {
      "application/vnd.jupyter.widget-view+json": {
       "model_id": "dea27d768ecd4c87b74481c7c071eee3",
       "version_major": 2,
       "version_minor": 0
      },
      "text/plain": [
       "Epoch 261/1000:   0%|          | 0/1 [00:00<?, ?it/s]"
      ]
     },
     "metadata": {},
     "output_type": "display_data"
    },
    {
     "name": "stdout",
     "output_type": "stream",
     "text": [
      "Epoch 261/1000, Loss: 11100.916200835129\n"
     ]
    },
    {
     "data": {
      "application/vnd.jupyter.widget-view+json": {
       "model_id": "da48a4e0557043178a64d533f66a0a61",
       "version_major": 2,
       "version_minor": 0
      },
      "text/plain": [
       "Epoch 262/1000:   0%|          | 0/1 [00:00<?, ?it/s]"
      ]
     },
     "metadata": {},
     "output_type": "display_data"
    },
    {
     "name": "stdout",
     "output_type": "stream",
     "text": [
      "Epoch 262/1000, Loss: 11064.837444436962\n"
     ]
    },
    {
     "data": {
      "application/vnd.jupyter.widget-view+json": {
       "model_id": "00121673b7a8442389b3b83ae2c5e216",
       "version_major": 2,
       "version_minor": 0
      },
      "text/plain": [
       "Epoch 263/1000:   0%|          | 0/1 [00:00<?, ?it/s]"
      ]
     },
     "metadata": {},
     "output_type": "display_data"
    },
    {
     "name": "stdout",
     "output_type": "stream",
     "text": [
      "Epoch 263/1000, Loss: 11038.576348666487\n"
     ]
    },
    {
     "data": {
      "application/vnd.jupyter.widget-view+json": {
       "model_id": "3ffcaea017ca4a75bc4b382f4f6d1533",
       "version_major": 2,
       "version_minor": 0
      },
      "text/plain": [
       "Epoch 264/1000:   0%|          | 0/1 [00:00<?, ?it/s]"
      ]
     },
     "metadata": {},
     "output_type": "display_data"
    },
    {
     "name": "stdout",
     "output_type": "stream",
     "text": [
      "Epoch 264/1000, Loss: 10990.046782394935\n"
     ]
    },
    {
     "data": {
      "application/vnd.jupyter.widget-view+json": {
       "model_id": "67aa47ae28e64cb88f8e3f4a938b2739",
       "version_major": 2,
       "version_minor": 0
      },
      "text/plain": [
       "Epoch 265/1000:   0%|          | 0/1 [00:00<?, ?it/s]"
      ]
     },
     "metadata": {},
     "output_type": "display_data"
    },
    {
     "name": "stdout",
     "output_type": "stream",
     "text": [
      "Epoch 265/1000, Loss: 10957.814208984375\n"
     ]
    },
    {
     "data": {
      "application/vnd.jupyter.widget-view+json": {
       "model_id": "d6bd7f38f93f4b94a4e02bb0581f4dd9",
       "version_major": 2,
       "version_minor": 0
      },
      "text/plain": [
       "Epoch 266/1000:   0%|          | 0/1 [00:00<?, ?it/s]"
      ]
     },
     "metadata": {},
     "output_type": "display_data"
    },
    {
     "name": "stdout",
     "output_type": "stream",
     "text": [
      "Epoch 266/1000, Loss: 10953.913330078125\n"
     ]
    },
    {
     "data": {
      "application/vnd.jupyter.widget-view+json": {
       "model_id": "a09dcbd058f14a97bbc437bff3892ee5",
       "version_major": 2,
       "version_minor": 0
      },
      "text/plain": [
       "Epoch 267/1000:   0%|          | 0/1 [00:00<?, ?it/s]"
      ]
     },
     "metadata": {},
     "output_type": "display_data"
    },
    {
     "name": "stdout",
     "output_type": "stream",
     "text": [
      "Epoch 267/1000, Loss: 10906.092470366379\n"
     ]
    },
    {
     "data": {
      "application/vnd.jupyter.widget-view+json": {
       "model_id": "87043a045b874cd2bb8b1d7626e37ce8",
       "version_major": 2,
       "version_minor": 0
      },
      "text/plain": [
       "Epoch 268/1000:   0%|          | 0/1 [00:00<?, ?it/s]"
      ]
     },
     "metadata": {},
     "output_type": "display_data"
    },
    {
     "name": "stdout",
     "output_type": "stream",
     "text": [
      "Epoch 268/1000, Loss: 10879.574041958513\n"
     ]
    },
    {
     "data": {
      "application/vnd.jupyter.widget-view+json": {
       "model_id": "f0149ca55e6244be98bb2bbc3d4188f1",
       "version_major": 2,
       "version_minor": 0
      },
      "text/plain": [
       "Epoch 269/1000:   0%|          | 0/1 [00:00<?, ?it/s]"
      ]
     },
     "metadata": {},
     "output_type": "display_data"
    },
    {
     "name": "stdout",
     "output_type": "stream",
     "text": [
      "Epoch 269/1000, Loss: 10837.091923154634\n"
     ]
    },
    {
     "data": {
      "application/vnd.jupyter.widget-view+json": {
       "model_id": "fd61a6b0af8c4e7899523e0a0e6ee5ca",
       "version_major": 2,
       "version_minor": 0
      },
      "text/plain": [
       "Epoch 270/1000:   0%|          | 0/1 [00:00<?, ?it/s]"
      ]
     },
     "metadata": {},
     "output_type": "display_data"
    },
    {
     "name": "stdout",
     "output_type": "stream",
     "text": [
      "Epoch 270/1000, Loss: 10824.599079000538\n"
     ]
    },
    {
     "data": {
      "application/vnd.jupyter.widget-view+json": {
       "model_id": "5aa45e326e894278bd568b469c3a8886",
       "version_major": 2,
       "version_minor": 0
      },
      "text/plain": [
       "Epoch 271/1000:   0%|          | 0/1 [00:00<?, ?it/s]"
      ]
     },
     "metadata": {},
     "output_type": "display_data"
    },
    {
     "name": "stdout",
     "output_type": "stream",
     "text": [
      "Epoch 271/1000, Loss: 10778.033826104525\n"
     ]
    },
    {
     "data": {
      "application/vnd.jupyter.widget-view+json": {
       "model_id": "9ffaf220884a456c97ca735ba048c894",
       "version_major": 2,
       "version_minor": 0
      },
      "text/plain": [
       "Epoch 272/1000:   0%|          | 0/1 [00:00<?, ?it/s]"
      ]
     },
     "metadata": {},
     "output_type": "display_data"
    },
    {
     "name": "stdout",
     "output_type": "stream",
     "text": [
      "Epoch 272/1000, Loss: 10743.533405172413\n"
     ]
    },
    {
     "data": {
      "application/vnd.jupyter.widget-view+json": {
       "model_id": "2cae0ddbe3b84b639c7d025b0866545f",
       "version_major": 2,
       "version_minor": 0
      },
      "text/plain": [
       "Epoch 273/1000:   0%|          | 0/1 [00:00<?, ?it/s]"
      ]
     },
     "metadata": {},
     "output_type": "display_data"
    },
    {
     "name": "stdout",
     "output_type": "stream",
     "text": [
      "Epoch 273/1000, Loss: 10711.676825161638\n"
     ]
    },
    {
     "data": {
      "application/vnd.jupyter.widget-view+json": {
       "model_id": "8621cf87002841a1ac1b84dc652fbd75",
       "version_major": 2,
       "version_minor": 0
      },
      "text/plain": [
       "Epoch 274/1000:   0%|          | 0/1 [00:00<?, ?it/s]"
      ]
     },
     "metadata": {},
     "output_type": "display_data"
    },
    {
     "name": "stdout",
     "output_type": "stream",
     "text": [
      "Epoch 274/1000, Loss: 10687.078444908406\n"
     ]
    },
    {
     "data": {
      "application/vnd.jupyter.widget-view+json": {
       "model_id": "f5550260548c40e3b9b16d72c3507962",
       "version_major": 2,
       "version_minor": 0
      },
      "text/plain": [
       "Epoch 275/1000:   0%|          | 0/1 [00:00<?, ?it/s]"
      ]
     },
     "metadata": {},
     "output_type": "display_data"
    },
    {
     "name": "stdout",
     "output_type": "stream",
     "text": [
      "Epoch 275/1000, Loss: 10639.717823949353\n"
     ]
    },
    {
     "data": {
      "application/vnd.jupyter.widget-view+json": {
       "model_id": "55a0b467ac6547838b82017807fa1cb0",
       "version_major": 2,
       "version_minor": 0
      },
      "text/plain": [
       "Epoch 276/1000:   0%|          | 0/1 [00:00<?, ?it/s]"
      ]
     },
     "metadata": {},
     "output_type": "display_data"
    },
    {
     "name": "stdout",
     "output_type": "stream",
     "text": [
      "Epoch 276/1000, Loss: 10630.623770878232\n"
     ]
    },
    {
     "data": {
      "application/vnd.jupyter.widget-view+json": {
       "model_id": "a1cdeee4b8134faab25b94a04c196e86",
       "version_major": 2,
       "version_minor": 0
      },
      "text/plain": [
       "Epoch 277/1000:   0%|          | 0/1 [00:00<?, ?it/s]"
      ]
     },
     "metadata": {},
     "output_type": "display_data"
    },
    {
     "name": "stdout",
     "output_type": "stream",
     "text": [
      "Epoch 277/1000, Loss: 10584.362346780712\n"
     ]
    },
    {
     "data": {
      "application/vnd.jupyter.widget-view+json": {
       "model_id": "eb18d626472b4256ae974b0088dd4790",
       "version_major": 2,
       "version_minor": 0
      },
      "text/plain": [
       "Epoch 278/1000:   0%|          | 0/1 [00:00<?, ?it/s]"
      ]
     },
     "metadata": {},
     "output_type": "display_data"
    },
    {
     "name": "stdout",
     "output_type": "stream",
     "text": [
      "Epoch 278/1000, Loss: 10525.046357253503\n"
     ]
    },
    {
     "data": {
      "application/vnd.jupyter.widget-view+json": {
       "model_id": "783f67368cf64ec09b5c1dba000034c1",
       "version_major": 2,
       "version_minor": 0
      },
      "text/plain": [
       "Epoch 279/1000:   0%|          | 0/1 [00:00<?, ?it/s]"
      ]
     },
     "metadata": {},
     "output_type": "display_data"
    },
    {
     "name": "stdout",
     "output_type": "stream",
     "text": [
      "Epoch 279/1000, Loss: 10526.217125202047\n"
     ]
    },
    {
     "data": {
      "application/vnd.jupyter.widget-view+json": {
       "model_id": "fa34e8dcd39e4f67af13ae6fe1c55815",
       "version_major": 2,
       "version_minor": 0
      },
      "text/plain": [
       "Epoch 280/1000:   0%|          | 0/1 [00:00<?, ?it/s]"
      ]
     },
     "metadata": {},
     "output_type": "display_data"
    },
    {
     "name": "stdout",
     "output_type": "stream",
     "text": [
      "Epoch 280/1000, Loss: 10507.093068089978\n"
     ]
    },
    {
     "data": {
      "application/vnd.jupyter.widget-view+json": {
       "model_id": "412052f0720f4a52893d104410d72f55",
       "version_major": 2,
       "version_minor": 0
      },
      "text/plain": [
       "Epoch 281/1000:   0%|          | 0/1 [00:00<?, ?it/s]"
      ]
     },
     "metadata": {},
     "output_type": "display_data"
    },
    {
     "name": "stdout",
     "output_type": "stream",
     "text": [
      "Epoch 281/1000, Loss: 10460.859492860991\n"
     ]
    },
    {
     "data": {
      "application/vnd.jupyter.widget-view+json": {
       "model_id": "9b78abb346e94f3998c9f07a52b7f80c",
       "version_major": 2,
       "version_minor": 0
      },
      "text/plain": [
       "Epoch 282/1000:   0%|          | 0/1 [00:00<?, ?it/s]"
      ]
     },
     "metadata": {},
     "output_type": "display_data"
    },
    {
     "name": "stdout",
     "output_type": "stream",
     "text": [
      "Epoch 282/1000, Loss: 10450.160863415947\n"
     ]
    },
    {
     "data": {
      "application/vnd.jupyter.widget-view+json": {
       "model_id": "f3d4afe939ca4c75b255b86eb280eef4",
       "version_major": 2,
       "version_minor": 0
      },
      "text/plain": [
       "Epoch 283/1000:   0%|          | 0/1 [00:00<?, ?it/s]"
      ]
     },
     "metadata": {},
     "output_type": "display_data"
    },
    {
     "name": "stdout",
     "output_type": "stream",
     "text": [
      "Epoch 283/1000, Loss: 10421.874823208513\n"
     ]
    },
    {
     "data": {
      "application/vnd.jupyter.widget-view+json": {
       "model_id": "31c74862f0244fab974a8f609206b1c6",
       "version_major": 2,
       "version_minor": 0
      },
      "text/plain": [
       "Epoch 284/1000:   0%|          | 0/1 [00:00<?, ?it/s]"
      ]
     },
     "metadata": {},
     "output_type": "display_data"
    },
    {
     "name": "stdout",
     "output_type": "stream",
     "text": [
      "Epoch 284/1000, Loss: 10367.269278690732\n"
     ]
    },
    {
     "data": {
      "application/vnd.jupyter.widget-view+json": {
       "model_id": "7d9c40116dd24e6cb6a01b8cdbbca989",
       "version_major": 2,
       "version_minor": 0
      },
      "text/plain": [
       "Epoch 285/1000:   0%|          | 0/1 [00:00<?, ?it/s]"
      ]
     },
     "metadata": {},
     "output_type": "display_data"
    },
    {
     "name": "stdout",
     "output_type": "stream",
     "text": [
      "Epoch 285/1000, Loss: 10331.969844423491\n"
     ]
    },
    {
     "data": {
      "application/vnd.jupyter.widget-view+json": {
       "model_id": "a3f0198270ec4ee19ed3d02e10c5ce77",
       "version_major": 2,
       "version_minor": 0
      },
      "text/plain": [
       "Epoch 286/1000:   0%|          | 0/1 [00:00<?, ?it/s]"
      ]
     },
     "metadata": {},
     "output_type": "display_data"
    },
    {
     "name": "stdout",
     "output_type": "stream",
     "text": [
      "Epoch 286/1000, Loss: 10288.336648875269\n"
     ]
    },
    {
     "data": {
      "application/vnd.jupyter.widget-view+json": {
       "model_id": "bcc492574a934a4596ece8decb9d9089",
       "version_major": 2,
       "version_minor": 0
      },
      "text/plain": [
       "Epoch 287/1000:   0%|          | 0/1 [00:00<?, ?it/s]"
      ]
     },
     "metadata": {},
     "output_type": "display_data"
    },
    {
     "name": "stdout",
     "output_type": "stream",
     "text": [
      "Epoch 287/1000, Loss: 10292.694041285022\n"
     ]
    },
    {
     "data": {
      "application/vnd.jupyter.widget-view+json": {
       "model_id": "ea49052527e6411d8f7c99d2f08c8307",
       "version_major": 2,
       "version_minor": 0
      },
      "text/plain": [
       "Epoch 288/1000:   0%|          | 0/1 [00:00<?, ?it/s]"
      ]
     },
     "metadata": {},
     "output_type": "display_data"
    },
    {
     "name": "stdout",
     "output_type": "stream",
     "text": [
      "Epoch 288/1000, Loss: 10273.918128704203\n"
     ]
    },
    {
     "data": {
      "application/vnd.jupyter.widget-view+json": {
       "model_id": "6a0b19fb1ddc4d0e973449d6d9e47c58",
       "version_major": 2,
       "version_minor": 0
      },
      "text/plain": [
       "Epoch 289/1000:   0%|          | 0/1 [00:00<?, ?it/s]"
      ]
     },
     "metadata": {},
     "output_type": "display_data"
    },
    {
     "name": "stdout",
     "output_type": "stream",
     "text": [
      "Epoch 289/1000, Loss: 10225.200565732759\n"
     ]
    },
    {
     "data": {
      "application/vnd.jupyter.widget-view+json": {
       "model_id": "6fb52c1b33e24deca485c8ca05831bc2",
       "version_major": 2,
       "version_minor": 0
      },
      "text/plain": [
       "Epoch 290/1000:   0%|          | 0/1 [00:00<?, ?it/s]"
      ]
     },
     "metadata": {},
     "output_type": "display_data"
    },
    {
     "name": "stdout",
     "output_type": "stream",
     "text": [
      "Epoch 290/1000, Loss: 10204.542025862069\n"
     ]
    },
    {
     "data": {
      "application/vnd.jupyter.widget-view+json": {
       "model_id": "acf4987409ab48ab9e6983abf1777708",
       "version_major": 2,
       "version_minor": 0
      },
      "text/plain": [
       "Epoch 291/1000:   0%|          | 0/1 [00:00<?, ?it/s]"
      ]
     },
     "metadata": {},
     "output_type": "display_data"
    },
    {
     "name": "stdout",
     "output_type": "stream",
     "text": [
      "Epoch 291/1000, Loss: 10179.562382139009\n"
     ]
    },
    {
     "data": {
      "application/vnd.jupyter.widget-view+json": {
       "model_id": "257bf94d9acf41658b83a3c5c8fec8ba",
       "version_major": 2,
       "version_minor": 0
      },
      "text/plain": [
       "Epoch 292/1000:   0%|          | 0/1 [00:00<?, ?it/s]"
      ]
     },
     "metadata": {},
     "output_type": "display_data"
    },
    {
     "name": "stdout",
     "output_type": "stream",
     "text": [
      "Epoch 292/1000, Loss: 10134.388958108837\n"
     ]
    },
    {
     "data": {
      "application/vnd.jupyter.widget-view+json": {
       "model_id": "455421eddbb843b7abb956f293353360",
       "version_major": 2,
       "version_minor": 0
      },
      "text/plain": [
       "Epoch 293/1000:   0%|          | 0/1 [00:00<?, ?it/s]"
      ]
     },
     "metadata": {},
     "output_type": "display_data"
    },
    {
     "name": "stdout",
     "output_type": "stream",
     "text": [
      "Epoch 293/1000, Loss: 10103.771981074893\n"
     ]
    },
    {
     "data": {
      "application/vnd.jupyter.widget-view+json": {
       "model_id": "558a12dc3c0342a4817fc66421e3a17f",
       "version_major": 2,
       "version_minor": 0
      },
      "text/plain": [
       "Epoch 294/1000:   0%|          | 0/1 [00:00<?, ?it/s]"
      ]
     },
     "metadata": {},
     "output_type": "display_data"
    },
    {
     "name": "stdout",
     "output_type": "stream",
     "text": [
      "Epoch 294/1000, Loss: 10064.889353785022\n"
     ]
    },
    {
     "data": {
      "application/vnd.jupyter.widget-view+json": {
       "model_id": "757b7ed3ff074fc5968c9674567c60b4",
       "version_major": 2,
       "version_minor": 0
      },
      "text/plain": [
       "Epoch 295/1000:   0%|          | 0/1 [00:00<?, ?it/s]"
      ]
     },
     "metadata": {},
     "output_type": "display_data"
    },
    {
     "name": "stdout",
     "output_type": "stream",
     "text": [
      "Epoch 295/1000, Loss: 10062.814478380928\n"
     ]
    },
    {
     "data": {
      "application/vnd.jupyter.widget-view+json": {
       "model_id": "7af2d2c1cd2e468a94eeb086cca38d96",
       "version_major": 2,
       "version_minor": 0
      },
      "text/plain": [
       "Epoch 296/1000:   0%|          | 0/1 [00:00<?, ?it/s]"
      ]
     },
     "metadata": {},
     "output_type": "display_data"
    },
    {
     "name": "stdout",
     "output_type": "stream",
     "text": [
      "Epoch 296/1000, Loss: 10038.002003636853\n"
     ]
    },
    {
     "data": {
      "application/vnd.jupyter.widget-view+json": {
       "model_id": "a6ca2a10db5441738ec6a6ad0cdedc7f",
       "version_major": 2,
       "version_minor": 0
      },
      "text/plain": [
       "Epoch 297/1000:   0%|          | 0/1 [00:00<?, ?it/s]"
      ]
     },
     "metadata": {},
     "output_type": "display_data"
    },
    {
     "name": "stdout",
     "output_type": "stream",
     "text": [
      "Epoch 297/1000, Loss: 10010.844179350754\n"
     ]
    },
    {
     "data": {
      "application/vnd.jupyter.widget-view+json": {
       "model_id": "43a0947a788c429cb7459823050a9f08",
       "version_major": 2,
       "version_minor": 0
      },
      "text/plain": [
       "Epoch 298/1000:   0%|          | 0/1 [00:00<?, ?it/s]"
      ]
     },
     "metadata": {},
     "output_type": "display_data"
    },
    {
     "name": "stdout",
     "output_type": "stream",
     "text": [
      "Epoch 298/1000, Loss: 9987.368374528556\n"
     ]
    },
    {
     "data": {
      "application/vnd.jupyter.widget-view+json": {
       "model_id": "a6a38128d9804373baea1e002e886e5b",
       "version_major": 2,
       "version_minor": 0
      },
      "text/plain": [
       "Epoch 299/1000:   0%|          | 0/1 [00:00<?, ?it/s]"
      ]
     },
     "metadata": {},
     "output_type": "display_data"
    },
    {
     "name": "stdout",
     "output_type": "stream",
     "text": [
      "Epoch 299/1000, Loss: 9956.349331559806\n"
     ]
    },
    {
     "data": {
      "application/vnd.jupyter.widget-view+json": {
       "model_id": "8d85a23b95234571a3dbe923d68152ab",
       "version_major": 2,
       "version_minor": 0
      },
      "text/plain": [
       "Epoch 300/1000:   0%|          | 0/1 [00:00<?, ?it/s]"
      ]
     },
     "metadata": {},
     "output_type": "display_data"
    },
    {
     "name": "stdout",
     "output_type": "stream",
     "text": [
      "Epoch 300/1000, Loss: 9929.173853380928\n"
     ]
    },
    {
     "data": {
      "application/vnd.jupyter.widget-view+json": {
       "model_id": "2ce8c230de1946ff91c9f76a11dd29b2",
       "version_major": 2,
       "version_minor": 0
      },
      "text/plain": [
       "Epoch 301/1000:   0%|          | 0/1 [00:00<?, ?it/s]"
      ]
     },
     "metadata": {},
     "output_type": "display_data"
    },
    {
     "name": "stdout",
     "output_type": "stream",
     "text": [
      "Epoch 301/1000, Loss: 9880.858049063847\n"
     ]
    },
    {
     "data": {
      "application/vnd.jupyter.widget-view+json": {
       "model_id": "e76ae4c9ff2147bc9f95f111f8d2cc74",
       "version_major": 2,
       "version_minor": 0
      },
      "text/plain": [
       "Epoch 302/1000:   0%|          | 0/1 [00:00<?, ?it/s]"
      ]
     },
     "metadata": {},
     "output_type": "display_data"
    },
    {
     "name": "stdout",
     "output_type": "stream",
     "text": [
      "Epoch 302/1000, Loss: 9886.733002761315\n"
     ]
    },
    {
     "data": {
      "application/vnd.jupyter.widget-view+json": {
       "model_id": "87ef9d478e004f798300344a5433a08c",
       "version_major": 2,
       "version_minor": 0
      },
      "text/plain": [
       "Epoch 303/1000:   0%|          | 0/1 [00:00<?, ?it/s]"
      ]
     },
     "metadata": {},
     "output_type": "display_data"
    },
    {
     "name": "stdout",
     "output_type": "stream",
     "text": [
      "Epoch 303/1000, Loss: 9846.220341123384\n"
     ]
    },
    {
     "data": {
      "application/vnd.jupyter.widget-view+json": {
       "model_id": "1ebb9c88bad94449be6e030270c70c74",
       "version_major": 2,
       "version_minor": 0
      },
      "text/plain": [
       "Epoch 304/1000:   0%|          | 0/1 [00:00<?, ?it/s]"
      ]
     },
     "metadata": {},
     "output_type": "display_data"
    },
    {
     "name": "stdout",
     "output_type": "stream",
     "text": [
      "Epoch 304/1000, Loss: 9828.33601326778\n"
     ]
    },
    {
     "data": {
      "application/vnd.jupyter.widget-view+json": {
       "model_id": "e45468f8efc841aca64fee407340c3b8",
       "version_major": 2,
       "version_minor": 0
      },
      "text/plain": [
       "Epoch 305/1000:   0%|          | 0/1 [00:00<?, ?it/s]"
      ]
     },
     "metadata": {},
     "output_type": "display_data"
    },
    {
     "name": "stdout",
     "output_type": "stream",
     "text": [
      "Epoch 305/1000, Loss: 9810.149801320043\n"
     ]
    },
    {
     "data": {
      "application/vnd.jupyter.widget-view+json": {
       "model_id": "23ea458aad7848a293ef0f0b8a4e12b8",
       "version_major": 2,
       "version_minor": 0
      },
      "text/plain": [
       "Epoch 306/1000:   0%|          | 0/1 [00:00<?, ?it/s]"
      ]
     },
     "metadata": {},
     "output_type": "display_data"
    },
    {
     "name": "stdout",
     "output_type": "stream",
     "text": [
      "Epoch 306/1000, Loss: 9775.895373114225\n"
     ]
    },
    {
     "data": {
      "application/vnd.jupyter.widget-view+json": {
       "model_id": "2a172dc6e455495ca66b3833931307b7",
       "version_major": 2,
       "version_minor": 0
      },
      "text/plain": [
       "Epoch 307/1000:   0%|          | 0/1 [00:00<?, ?it/s]"
      ]
     },
     "metadata": {},
     "output_type": "display_data"
    },
    {
     "name": "stdout",
     "output_type": "stream",
     "text": [
      "Epoch 307/1000, Loss: 9761.221890153556\n"
     ]
    },
    {
     "data": {
      "application/vnd.jupyter.widget-view+json": {
       "model_id": "0bd1f1d7af2d405b81bb4c09d7489474",
       "version_major": 2,
       "version_minor": 0
      },
      "text/plain": [
       "Epoch 308/1000:   0%|          | 0/1 [00:00<?, ?it/s]"
      ]
     },
     "metadata": {},
     "output_type": "display_data"
    },
    {
     "name": "stdout",
     "output_type": "stream",
     "text": [
      "Epoch 308/1000, Loss: 9738.709649447737\n"
     ]
    },
    {
     "data": {
      "application/vnd.jupyter.widget-view+json": {
       "model_id": "12b34d64a3e245698366f66fe559d76e",
       "version_major": 2,
       "version_minor": 0
      },
      "text/plain": [
       "Epoch 309/1000:   0%|          | 0/1 [00:00<?, ?it/s]"
      ]
     },
     "metadata": {},
     "output_type": "display_data"
    },
    {
     "name": "stdout",
     "output_type": "stream",
     "text": [
      "Epoch 309/1000, Loss: 9728.918861126078\n"
     ]
    },
    {
     "data": {
      "application/vnd.jupyter.widget-view+json": {
       "model_id": "fd34b1ba8a4a47f3b532709c4fed7232",
       "version_major": 2,
       "version_minor": 0
      },
      "text/plain": [
       "Epoch 310/1000:   0%|          | 0/1 [00:00<?, ?it/s]"
      ]
     },
     "metadata": {},
     "output_type": "display_data"
    },
    {
     "name": "stdout",
     "output_type": "stream",
     "text": [
      "Epoch 310/1000, Loss: 9699.53114055765\n"
     ]
    },
    {
     "data": {
      "application/vnd.jupyter.widget-view+json": {
       "model_id": "9d7f24852bd24b8c8e38972b9e234283",
       "version_major": 2,
       "version_minor": 0
      },
      "text/plain": [
       "Epoch 311/1000:   0%|          | 0/1 [00:00<?, ?it/s]"
      ]
     },
     "metadata": {},
     "output_type": "display_data"
    },
    {
     "name": "stdout",
     "output_type": "stream",
     "text": [
      "Epoch 311/1000, Loss: 9670.42562971444\n"
     ]
    },
    {
     "data": {
      "application/vnd.jupyter.widget-view+json": {
       "model_id": "a1fcf2e1efbc404e9586517db09031f8",
       "version_major": 2,
       "version_minor": 0
      },
      "text/plain": [
       "Epoch 312/1000:   0%|          | 0/1 [00:00<?, ?it/s]"
      ]
     },
     "metadata": {},
     "output_type": "display_data"
    },
    {
     "name": "stdout",
     "output_type": "stream",
     "text": [
      "Epoch 312/1000, Loss: 9634.871666217672\n"
     ]
    },
    {
     "data": {
      "application/vnd.jupyter.widget-view+json": {
       "model_id": "badf062be8c7489a9a20464e39e47a4a",
       "version_major": 2,
       "version_minor": 0
      },
      "text/plain": [
       "Epoch 313/1000:   0%|          | 0/1 [00:00<?, ?it/s]"
      ]
     },
     "metadata": {},
     "output_type": "display_data"
    },
    {
     "name": "stdout",
     "output_type": "stream",
     "text": [
      "Epoch 313/1000, Loss: 9612.764017039332\n"
     ]
    },
    {
     "data": {
      "application/vnd.jupyter.widget-view+json": {
       "model_id": "0eb759868947433ca0de79e3a1d5134d",
       "version_major": 2,
       "version_minor": 0
      },
      "text/plain": [
       "Epoch 314/1000:   0%|          | 0/1 [00:00<?, ?it/s]"
      ]
     },
     "metadata": {},
     "output_type": "display_data"
    },
    {
     "name": "stdout",
     "output_type": "stream",
     "text": [
      "Epoch 314/1000, Loss: 9614.651400862069\n"
     ]
    },
    {
     "data": {
      "application/vnd.jupyter.widget-view+json": {
       "model_id": "7adf190edd1d4dcbac62182aa05dd3c1",
       "version_major": 2,
       "version_minor": 0
      },
      "text/plain": [
       "Epoch 315/1000:   0%|          | 0/1 [00:00<?, ?it/s]"
      ]
     },
     "metadata": {},
     "output_type": "display_data"
    },
    {
     "name": "stdout",
     "output_type": "stream",
     "text": [
      "Epoch 315/1000, Loss: 9576.975939520475\n"
     ]
    },
    {
     "data": {
      "application/vnd.jupyter.widget-view+json": {
       "model_id": "72b8950a55cc420bbf6713c0a08c93c4",
       "version_major": 2,
       "version_minor": 0
      },
      "text/plain": [
       "Epoch 316/1000:   0%|          | 0/1 [00:00<?, ?it/s]"
      ]
     },
     "metadata": {},
     "output_type": "display_data"
    },
    {
     "name": "stdout",
     "output_type": "stream",
     "text": [
      "Epoch 316/1000, Loss: 9561.772065261315\n"
     ]
    },
    {
     "data": {
      "application/vnd.jupyter.widget-view+json": {
       "model_id": "83db955bf8d5443b8fa6e1baa67f1c17",
       "version_major": 2,
       "version_minor": 0
      },
      "text/plain": [
       "Epoch 317/1000:   0%|          | 0/1 [00:00<?, ?it/s]"
      ]
     },
     "metadata": {},
     "output_type": "display_data"
    },
    {
     "name": "stdout",
     "output_type": "stream",
     "text": [
      "Epoch 317/1000, Loss: 9551.593219625538\n"
     ]
    },
    {
     "data": {
      "application/vnd.jupyter.widget-view+json": {
       "model_id": "b3a7c044fc094b3896e0da0732ced337",
       "version_major": 2,
       "version_minor": 0
      },
      "text/plain": [
       "Epoch 318/1000:   0%|          | 0/1 [00:00<?, ?it/s]"
      ]
     },
     "metadata": {},
     "output_type": "display_data"
    },
    {
     "name": "stdout",
     "output_type": "stream",
     "text": [
      "Epoch 318/1000, Loss: 9515.223085600754\n"
     ]
    },
    {
     "data": {
      "application/vnd.jupyter.widget-view+json": {
       "model_id": "0f06a647aba84cae8cfda942f0be446e",
       "version_major": 2,
       "version_minor": 0
      },
      "text/plain": [
       "Epoch 319/1000:   0%|          | 0/1 [00:00<?, ?it/s]"
      ]
     },
     "metadata": {},
     "output_type": "display_data"
    },
    {
     "name": "stdout",
     "output_type": "stream",
     "text": [
      "Epoch 319/1000, Loss: 9534.137510102371\n"
     ]
    },
    {
     "data": {
      "application/vnd.jupyter.widget-view+json": {
       "model_id": "501d240432674e25aef04ea1eaf5b9f9",
       "version_major": 2,
       "version_minor": 0
      },
      "text/plain": [
       "Epoch 320/1000:   0%|          | 0/1 [00:00<?, ?it/s]"
      ]
     },
     "metadata": {},
     "output_type": "display_data"
    },
    {
     "name": "stdout",
     "output_type": "stream",
     "text": [
      "Epoch 320/1000, Loss: 9501.870504445043\n"
     ]
    },
    {
     "data": {
      "application/vnd.jupyter.widget-view+json": {
       "model_id": "fc77b8378e1d402ebe68d26d3071f149",
       "version_major": 2,
       "version_minor": 0
      },
      "text/plain": [
       "Epoch 321/1000:   0%|          | 0/1 [00:00<?, ?it/s]"
      ]
     },
     "metadata": {},
     "output_type": "display_data"
    },
    {
     "name": "stdout",
     "output_type": "stream",
     "text": [
      "Epoch 321/1000, Loss: 9462.36936792834\n"
     ]
    },
    {
     "data": {
      "application/vnd.jupyter.widget-view+json": {
       "model_id": "842b62018fdb478cb48dd7c3880323c3",
       "version_major": 2,
       "version_minor": 0
      },
      "text/plain": [
       "Epoch 322/1000:   0%|          | 0/1 [00:00<?, ?it/s]"
      ]
     },
     "metadata": {},
     "output_type": "display_data"
    },
    {
     "name": "stdout",
     "output_type": "stream",
     "text": [
      "Epoch 322/1000, Loss: 9451.671033135775\n"
     ]
    },
    {
     "data": {
      "application/vnd.jupyter.widget-view+json": {
       "model_id": "18d826f6f2074ccb9b3e030154d83c59",
       "version_major": 2,
       "version_minor": 0
      },
      "text/plain": [
       "Epoch 323/1000:   0%|          | 0/1 [00:00<?, ?it/s]"
      ]
     },
     "metadata": {},
     "output_type": "display_data"
    },
    {
     "name": "stdout",
     "output_type": "stream",
     "text": [
      "Epoch 323/1000, Loss: 9439.787955448544\n"
     ]
    },
    {
     "data": {
      "application/vnd.jupyter.widget-view+json": {
       "model_id": "fb60ec9b97ba4026a97f43566120fc34",
       "version_major": 2,
       "version_minor": 0
      },
      "text/plain": [
       "Epoch 324/1000:   0%|          | 0/1 [00:00<?, ?it/s]"
      ]
     },
     "metadata": {},
     "output_type": "display_data"
    },
    {
     "name": "stdout",
     "output_type": "stream",
     "text": [
      "Epoch 324/1000, Loss: 9420.752651872306\n"
     ]
    },
    {
     "data": {
      "application/vnd.jupyter.widget-view+json": {
       "model_id": "f2ca6b211b694719b109009be3c7a0e9",
       "version_major": 2,
       "version_minor": 0
      },
      "text/plain": [
       "Epoch 325/1000:   0%|          | 0/1 [00:00<?, ?it/s]"
      ]
     },
     "metadata": {},
     "output_type": "display_data"
    },
    {
     "name": "stdout",
     "output_type": "stream",
     "text": [
      "Epoch 325/1000, Loss: 9399.952939789871\n"
     ]
    },
    {
     "data": {
      "application/vnd.jupyter.widget-view+json": {
       "model_id": "d4c61e6e339c4dffa2023cb945e9d852",
       "version_major": 2,
       "version_minor": 0
      },
      "text/plain": [
       "Epoch 326/1000:   0%|          | 0/1 [00:00<?, ?it/s]"
      ]
     },
     "metadata": {},
     "output_type": "display_data"
    },
    {
     "name": "stdout",
     "output_type": "stream",
     "text": [
      "Epoch 326/1000, Loss: 9399.112851899246\n"
     ]
    },
    {
     "data": {
      "application/vnd.jupyter.widget-view+json": {
       "model_id": "06af1bb30b004e2ea810f748a8b6fc63",
       "version_major": 2,
       "version_minor": 0
      },
      "text/plain": [
       "Epoch 327/1000:   0%|          | 0/1 [00:00<?, ?it/s]"
      ]
     },
     "metadata": {},
     "output_type": "display_data"
    },
    {
     "name": "stdout",
     "output_type": "stream",
     "text": [
      "Epoch 327/1000, Loss: 9378.001452215787\n"
     ]
    },
    {
     "data": {
      "application/vnd.jupyter.widget-view+json": {
       "model_id": "e9e3924104964500a13a56d0c13161dc",
       "version_major": 2,
       "version_minor": 0
      },
      "text/plain": [
       "Epoch 328/1000:   0%|          | 0/1 [00:00<?, ?it/s]"
      ]
     },
     "metadata": {},
     "output_type": "display_data"
    },
    {
     "name": "stdout",
     "output_type": "stream",
     "text": [
      "Epoch 328/1000, Loss: 9361.927187163254\n"
     ]
    },
    {
     "data": {
      "application/vnd.jupyter.widget-view+json": {
       "model_id": "295ef0bfe06e4d458424b45fef542489",
       "version_major": 2,
       "version_minor": 0
      },
      "text/plain": [
       "Epoch 329/1000:   0%|          | 0/1 [00:00<?, ?it/s]"
      ]
     },
     "metadata": {},
     "output_type": "display_data"
    },
    {
     "name": "stdout",
     "output_type": "stream",
     "text": [
      "Epoch 329/1000, Loss: 9339.645103717672\n"
     ]
    },
    {
     "data": {
      "application/vnd.jupyter.widget-view+json": {
       "model_id": "63d5120638f64f1fa7e9d363d6cb799a",
       "version_major": 2,
       "version_minor": 0
      },
      "text/plain": [
       "Epoch 330/1000:   0%|          | 0/1 [00:00<?, ?it/s]"
      ]
     },
     "metadata": {},
     "output_type": "display_data"
    },
    {
     "name": "stdout",
     "output_type": "stream",
     "text": [
      "Epoch 330/1000, Loss: 9342.189444706357\n"
     ]
    },
    {
     "data": {
      "application/vnd.jupyter.widget-view+json": {
       "model_id": "95b72a18fe6f46fb96086a8c73a16eb1",
       "version_major": 2,
       "version_minor": 0
      },
      "text/plain": [
       "Epoch 331/1000:   0%|          | 0/1 [00:00<?, ?it/s]"
      ]
     },
     "metadata": {},
     "output_type": "display_data"
    },
    {
     "name": "stdout",
     "output_type": "stream",
     "text": [
      "Epoch 331/1000, Loss: 9326.046066810344\n"
     ]
    },
    {
     "data": {
      "application/vnd.jupyter.widget-view+json": {
       "model_id": "df5c69c02f204bc6b1adef3a39dc57f9",
       "version_major": 2,
       "version_minor": 0
      },
      "text/plain": [
       "Epoch 332/1000:   0%|          | 0/1 [00:00<?, ?it/s]"
      ]
     },
     "metadata": {},
     "output_type": "display_data"
    },
    {
     "name": "stdout",
     "output_type": "stream",
     "text": [
      "Epoch 332/1000, Loss: 9283.210356613685\n"
     ]
    },
    {
     "data": {
      "application/vnd.jupyter.widget-view+json": {
       "model_id": "b4b8196fc54840baa1c46eff04b69048",
       "version_major": 2,
       "version_minor": 0
      },
      "text/plain": [
       "Epoch 333/1000:   0%|          | 0/1 [00:00<?, ?it/s]"
      ]
     },
     "metadata": {},
     "output_type": "display_data"
    },
    {
     "name": "stdout",
     "output_type": "stream",
     "text": [
      "Epoch 333/1000, Loss: 9279.231377963362\n"
     ]
    },
    {
     "data": {
      "application/vnd.jupyter.widget-view+json": {
       "model_id": "a6fb1471ee1d49189f67718cf601b521",
       "version_major": 2,
       "version_minor": 0
      },
      "text/plain": [
       "Epoch 334/1000:   0%|          | 0/1 [00:00<?, ?it/s]"
      ]
     },
     "metadata": {},
     "output_type": "display_data"
    },
    {
     "name": "stdout",
     "output_type": "stream",
     "text": [
      "Epoch 334/1000, Loss: 9271.899426690463\n"
     ]
    },
    {
     "data": {
      "application/vnd.jupyter.widget-view+json": {
       "model_id": "afa7a75716194425bfbbb07db62ef8d9",
       "version_major": 2,
       "version_minor": 0
      },
      "text/plain": [
       "Epoch 335/1000:   0%|          | 0/1 [00:00<?, ?it/s]"
      ]
     },
     "metadata": {},
     "output_type": "display_data"
    },
    {
     "name": "stdout",
     "output_type": "stream",
     "text": [
      "Epoch 335/1000, Loss: 9267.235629377694\n"
     ]
    },
    {
     "data": {
      "application/vnd.jupyter.widget-view+json": {
       "model_id": "e528a9301221487ebca6b85e9f6313d6",
       "version_major": 2,
       "version_minor": 0
      },
      "text/plain": [
       "Epoch 336/1000:   0%|          | 0/1 [00:00<?, ?it/s]"
      ]
     },
     "metadata": {},
     "output_type": "display_data"
    },
    {
     "name": "stdout",
     "output_type": "stream",
     "text": [
      "Epoch 336/1000, Loss: 9232.219903353987\n"
     ]
    },
    {
     "data": {
      "application/vnd.jupyter.widget-view+json": {
       "model_id": "d271b9606f354bc1aa3553b40959adb1",
       "version_major": 2,
       "version_minor": 0
      },
      "text/plain": [
       "Epoch 337/1000:   0%|          | 0/1 [00:00<?, ?it/s]"
      ]
     },
     "metadata": {},
     "output_type": "display_data"
    },
    {
     "name": "stdout",
     "output_type": "stream",
     "text": [
      "Epoch 337/1000, Loss: 9227.879327182112\n"
     ]
    },
    {
     "data": {
      "application/vnd.jupyter.widget-view+json": {
       "model_id": "9a1132c2ab854ad9ad3f5ee334de51ed",
       "version_major": 2,
       "version_minor": 0
      },
      "text/plain": [
       "Epoch 338/1000:   0%|          | 0/1 [00:00<?, ?it/s]"
      ]
     },
     "metadata": {},
     "output_type": "display_data"
    },
    {
     "name": "stdout",
     "output_type": "stream",
     "text": [
      "Epoch 338/1000, Loss: 9212.014644228178\n"
     ]
    },
    {
     "data": {
      "application/vnd.jupyter.widget-view+json": {
       "model_id": "369e8e6a876d479b8b0da629bdbb2792",
       "version_major": 2,
       "version_minor": 0
      },
      "text/plain": [
       "Epoch 339/1000:   0%|          | 0/1 [00:00<?, ?it/s]"
      ]
     },
     "metadata": {},
     "output_type": "display_data"
    },
    {
     "name": "stdout",
     "output_type": "stream",
     "text": [
      "Epoch 339/1000, Loss: 9202.848653859106\n"
     ]
    },
    {
     "data": {
      "application/vnd.jupyter.widget-view+json": {
       "model_id": "afc082c6aa10487c8d380162ebc9db21",
       "version_major": 2,
       "version_minor": 0
      },
      "text/plain": [
       "Epoch 340/1000:   0%|          | 0/1 [00:00<?, ?it/s]"
      ]
     },
     "metadata": {},
     "output_type": "display_data"
    },
    {
     "name": "stdout",
     "output_type": "stream",
     "text": [
      "Epoch 340/1000, Loss: 9196.287879680765\n"
     ]
    },
    {
     "data": {
      "application/vnd.jupyter.widget-view+json": {
       "model_id": "3dde00c77e784e2b9b37498fdff3fbb2",
       "version_major": 2,
       "version_minor": 0
      },
      "text/plain": [
       "Epoch 341/1000:   0%|          | 0/1 [00:00<?, ?it/s]"
      ]
     },
     "metadata": {},
     "output_type": "display_data"
    },
    {
     "name": "stdout",
     "output_type": "stream",
     "text": [
      "Epoch 341/1000, Loss: 9184.291975350216\n"
     ]
    },
    {
     "data": {
      "application/vnd.jupyter.widget-view+json": {
       "model_id": "b614659494b148249aa04fcecdc1dcf0",
       "version_major": 2,
       "version_minor": 0
      },
      "text/plain": [
       "Epoch 342/1000:   0%|          | 0/1 [00:00<?, ?it/s]"
      ]
     },
     "metadata": {},
     "output_type": "display_data"
    },
    {
     "name": "stdout",
     "output_type": "stream",
     "text": [
      "Epoch 342/1000, Loss: 9157.124675882274\n"
     ]
    },
    {
     "data": {
      "application/vnd.jupyter.widget-view+json": {
       "model_id": "c5f167e4c0454f2fb6377e00dec3579e",
       "version_major": 2,
       "version_minor": 0
      },
      "text/plain": [
       "Epoch 343/1000:   0%|          | 0/1 [00:00<?, ?it/s]"
      ]
     },
     "metadata": {},
     "output_type": "display_data"
    },
    {
     "name": "stdout",
     "output_type": "stream",
     "text": [
      "Epoch 343/1000, Loss: 9151.128114897629\n"
     ]
    },
    {
     "data": {
      "application/vnd.jupyter.widget-view+json": {
       "model_id": "f3e4256417e14d99bb6742c90f1743f3",
       "version_major": 2,
       "version_minor": 0
      },
      "text/plain": [
       "Epoch 344/1000:   0%|          | 0/1 [00:00<?, ?it/s]"
      ]
     },
     "metadata": {},
     "output_type": "display_data"
    },
    {
     "name": "stdout",
     "output_type": "stream",
     "text": [
      "Epoch 344/1000, Loss: 9141.184376683728\n"
     ]
    },
    {
     "data": {
      "application/vnd.jupyter.widget-view+json": {
       "model_id": "b78295689bf148e9877036c5f686b000",
       "version_major": 2,
       "version_minor": 0
      },
      "text/plain": [
       "Epoch 345/1000:   0%|          | 0/1 [00:00<?, ?it/s]"
      ]
     },
     "metadata": {},
     "output_type": "display_data"
    },
    {
     "name": "stdout",
     "output_type": "stream",
     "text": [
      "Epoch 345/1000, Loss: 9115.681026064116\n"
     ]
    },
    {
     "data": {
      "application/vnd.jupyter.widget-view+json": {
       "model_id": "54d55dc820df4a2c82c1f70fd123ec3d",
       "version_major": 2,
       "version_minor": 0
      },
      "text/plain": [
       "Epoch 346/1000:   0%|          | 0/1 [00:00<?, ?it/s]"
      ]
     },
     "metadata": {},
     "output_type": "display_data"
    },
    {
     "name": "stdout",
     "output_type": "stream",
     "text": [
      "Epoch 346/1000, Loss: 9115.760409651131\n"
     ]
    },
    {
     "data": {
      "application/vnd.jupyter.widget-view+json": {
       "model_id": "0dbf56bb27014a7facc478f79eb7c0a1",
       "version_major": 2,
       "version_minor": 0
      },
      "text/plain": [
       "Epoch 347/1000:   0%|          | 0/1 [00:00<?, ?it/s]"
      ]
     },
     "metadata": {},
     "output_type": "display_data"
    },
    {
     "name": "stdout",
     "output_type": "stream",
     "text": [
      "Epoch 347/1000, Loss: 9094.453402815194\n"
     ]
    },
    {
     "data": {
      "application/vnd.jupyter.widget-view+json": {
       "model_id": "df2bea2cca9d4c33b322147e9f38c12d",
       "version_major": 2,
       "version_minor": 0
      },
      "text/plain": [
       "Epoch 348/1000:   0%|          | 0/1 [00:00<?, ?it/s]"
      ]
     },
     "metadata": {},
     "output_type": "display_data"
    },
    {
     "name": "stdout",
     "output_type": "stream",
     "text": [
      "Epoch 348/1000, Loss: 9113.54485031654\n"
     ]
    },
    {
     "data": {
      "application/vnd.jupyter.widget-view+json": {
       "model_id": "eb248a06ef014532b99bb33dc6913414",
       "version_major": 2,
       "version_minor": 0
      },
      "text/plain": [
       "Epoch 349/1000:   0%|          | 0/1 [00:00<?, ?it/s]"
      ]
     },
     "metadata": {},
     "output_type": "display_data"
    },
    {
     "name": "stdout",
     "output_type": "stream",
     "text": [
      "Epoch 349/1000, Loss: 9068.369275323275\n"
     ]
    },
    {
     "data": {
      "application/vnd.jupyter.widget-view+json": {
       "model_id": "b39007c2ad804dfbb6115d8fb8c8fa5f",
       "version_major": 2,
       "version_minor": 0
      },
      "text/plain": [
       "Epoch 350/1000:   0%|          | 0/1 [00:00<?, ?it/s]"
      ]
     },
     "metadata": {},
     "output_type": "display_data"
    },
    {
     "name": "stdout",
     "output_type": "stream",
     "text": [
      "Epoch 350/1000, Loss: 9051.935344827587\n"
     ]
    },
    {
     "data": {
      "application/vnd.jupyter.widget-view+json": {
       "model_id": "be7062ab56804abfa04d81a1f83127ce",
       "version_major": 2,
       "version_minor": 0
      },
      "text/plain": [
       "Epoch 351/1000:   0%|          | 0/1 [00:00<?, ?it/s]"
      ]
     },
     "metadata": {},
     "output_type": "display_data"
    },
    {
     "name": "stdout",
     "output_type": "stream",
     "text": [
      "Epoch 351/1000, Loss: 9046.33240587958\n"
     ]
    },
    {
     "data": {
      "application/vnd.jupyter.widget-view+json": {
       "model_id": "b8f9a61173b24398a1905adf1a36e1c0",
       "version_major": 2,
       "version_minor": 0
      },
      "text/plain": [
       "Epoch 352/1000:   0%|          | 0/1 [00:00<?, ?it/s]"
      ]
     },
     "metadata": {},
     "output_type": "display_data"
    },
    {
     "name": "stdout",
     "output_type": "stream",
     "text": [
      "Epoch 352/1000, Loss: 9029.250547211746\n"
     ]
    },
    {
     "data": {
      "application/vnd.jupyter.widget-view+json": {
       "model_id": "f6f9b77d19564ae69f65003714b0cb74",
       "version_major": 2,
       "version_minor": 0
      },
      "text/plain": [
       "Epoch 353/1000:   0%|          | 0/1 [00:00<?, ?it/s]"
      ]
     },
     "metadata": {},
     "output_type": "display_data"
    },
    {
     "name": "stdout",
     "output_type": "stream",
     "text": [
      "Epoch 353/1000, Loss: 9039.207296437231\n"
     ]
    },
    {
     "data": {
      "application/vnd.jupyter.widget-view+json": {
       "model_id": "015c95ecc66b4267ad9f2463d5225da2",
       "version_major": 2,
       "version_minor": 0
      },
      "text/plain": [
       "Epoch 354/1000:   0%|          | 0/1 [00:00<?, ?it/s]"
      ]
     },
     "metadata": {},
     "output_type": "display_data"
    },
    {
     "name": "stdout",
     "output_type": "stream",
     "text": [
      "Epoch 354/1000, Loss: 9017.818275188578\n"
     ]
    },
    {
     "data": {
      "application/vnd.jupyter.widget-view+json": {
       "model_id": "0d4a29b0de7a45a9aa6028e28902fdfd",
       "version_major": 2,
       "version_minor": 0
      },
      "text/plain": [
       "Epoch 355/1000:   0%|          | 0/1 [00:00<?, ?it/s]"
      ]
     },
     "metadata": {},
     "output_type": "display_data"
    },
    {
     "name": "stdout",
     "output_type": "stream",
     "text": [
      "Epoch 355/1000, Loss: 9009.367288523707\n"
     ]
    },
    {
     "data": {
      "application/vnd.jupyter.widget-view+json": {
       "model_id": "7e26cb161e8649b88966867a91b43a78",
       "version_major": 2,
       "version_minor": 0
      },
      "text/plain": [
       "Epoch 356/1000:   0%|          | 0/1 [00:00<?, ?it/s]"
      ]
     },
     "metadata": {},
     "output_type": "display_data"
    },
    {
     "name": "stdout",
     "output_type": "stream",
     "text": [
      "Epoch 356/1000, Loss: 8992.31005859375\n"
     ]
    },
    {
     "data": {
      "application/vnd.jupyter.widget-view+json": {
       "model_id": "a561868bedaf4fc6958b1d5f22dde2fa",
       "version_major": 2,
       "version_minor": 0
      },
      "text/plain": [
       "Epoch 357/1000:   0%|          | 0/1 [00:00<?, ?it/s]"
      ]
     },
     "metadata": {},
     "output_type": "display_data"
    },
    {
     "name": "stdout",
     "output_type": "stream",
     "text": [
      "Epoch 357/1000, Loss: 8985.327422043372\n"
     ]
    },
    {
     "data": {
      "application/vnd.jupyter.widget-view+json": {
       "model_id": "f38dcd6138cf4c6696b755044fd68570",
       "version_major": 2,
       "version_minor": 0
      },
      "text/plain": [
       "Epoch 358/1000:   0%|          | 0/1 [00:00<?, ?it/s]"
      ]
     },
     "metadata": {},
     "output_type": "display_data"
    },
    {
     "name": "stdout",
     "output_type": "stream",
     "text": [
      "Epoch 358/1000, Loss: 8994.104168069774\n"
     ]
    },
    {
     "data": {
      "application/vnd.jupyter.widget-view+json": {
       "model_id": "a6c6af7296574595a8951feeeb473d7b",
       "version_major": 2,
       "version_minor": 0
      },
      "text/plain": [
       "Epoch 359/1000:   0%|          | 0/1 [00:00<?, ?it/s]"
      ]
     },
     "metadata": {},
     "output_type": "display_data"
    },
    {
     "name": "stdout",
     "output_type": "stream",
     "text": [
      "Epoch 359/1000, Loss: 8959.964262863685\n"
     ]
    },
    {
     "data": {
      "application/vnd.jupyter.widget-view+json": {
       "model_id": "1a5d736e92404c8e82e0d76a7b86bf25",
       "version_major": 2,
       "version_minor": 0
      },
      "text/plain": [
       "Epoch 360/1000:   0%|          | 0/1 [00:00<?, ?it/s]"
      ]
     },
     "metadata": {},
     "output_type": "display_data"
    },
    {
     "name": "stdout",
     "output_type": "stream",
     "text": [
      "Epoch 360/1000, Loss: 8952.816153690732\n"
     ]
    },
    {
     "data": {
      "application/vnd.jupyter.widget-view+json": {
       "model_id": "dea8952a7b634b0ab2f44efadf681493",
       "version_major": 2,
       "version_minor": 0
      },
      "text/plain": [
       "Epoch 361/1000:   0%|          | 0/1 [00:00<?, ?it/s]"
      ]
     },
     "metadata": {},
     "output_type": "display_data"
    },
    {
     "name": "stdout",
     "output_type": "stream",
     "text": [
      "Epoch 361/1000, Loss: 8937.330347521553\n"
     ]
    },
    {
     "data": {
      "application/vnd.jupyter.widget-view+json": {
       "model_id": "ec0e25a1b4fd4cb29973bac033d9a959",
       "version_major": 2,
       "version_minor": 0
      },
      "text/plain": [
       "Epoch 362/1000:   0%|          | 0/1 [00:00<?, ?it/s]"
      ]
     },
     "metadata": {},
     "output_type": "display_data"
    },
    {
     "name": "stdout",
     "output_type": "stream",
     "text": [
      "Epoch 362/1000, Loss: 8941.084573679957\n"
     ]
    },
    {
     "data": {
      "application/vnd.jupyter.widget-view+json": {
       "model_id": "586bf577adaf4bf8b122fdebb21fc4c7",
       "version_major": 2,
       "version_minor": 0
      },
      "text/plain": [
       "Epoch 363/1000:   0%|          | 0/1 [00:00<?, ?it/s]"
      ]
     },
     "metadata": {},
     "output_type": "display_data"
    },
    {
     "name": "stdout",
     "output_type": "stream",
     "text": [
      "Epoch 363/1000, Loss: 8935.5160038389\n"
     ]
    },
    {
     "data": {
      "application/vnd.jupyter.widget-view+json": {
       "model_id": "a8c6a1ce85c84428b987f7f33e456a59",
       "version_major": 2,
       "version_minor": 0
      },
      "text/plain": [
       "Epoch 364/1000:   0%|          | 0/1 [00:00<?, ?it/s]"
      ]
     },
     "metadata": {},
     "output_type": "display_data"
    },
    {
     "name": "stdout",
     "output_type": "stream",
     "text": [
      "Epoch 364/1000, Loss: 8913.005653118265\n"
     ]
    },
    {
     "data": {
      "application/vnd.jupyter.widget-view+json": {
       "model_id": "89bbd1f73672466ea3c8ef079e36df5e",
       "version_major": 2,
       "version_minor": 0
      },
      "text/plain": [
       "Epoch 365/1000:   0%|          | 0/1 [00:00<?, ?it/s]"
      ]
     },
     "metadata": {},
     "output_type": "display_data"
    },
    {
     "name": "stdout",
     "output_type": "stream",
     "text": [
      "Epoch 365/1000, Loss: 8913.605893891434\n"
     ]
    },
    {
     "data": {
      "application/vnd.jupyter.widget-view+json": {
       "model_id": "5e90da8372564e379f3a177e72b83af7",
       "version_major": 2,
       "version_minor": 0
      },
      "text/plain": [
       "Epoch 366/1000:   0%|          | 0/1 [00:00<?, ?it/s]"
      ]
     },
     "metadata": {},
     "output_type": "display_data"
    },
    {
     "name": "stdout",
     "output_type": "stream",
     "text": [
      "Epoch 366/1000, Loss: 8894.425452922953\n"
     ]
    },
    {
     "data": {
      "application/vnd.jupyter.widget-view+json": {
       "model_id": "fd791195f8974126a559d4f00c6a4a1d",
       "version_major": 2,
       "version_minor": 0
      },
      "text/plain": [
       "Epoch 367/1000:   0%|          | 0/1 [00:00<?, ?it/s]"
      ]
     },
     "metadata": {},
     "output_type": "display_data"
    },
    {
     "name": "stdout",
     "output_type": "stream",
     "text": [
      "Epoch 367/1000, Loss: 8878.590677195582\n"
     ]
    },
    {
     "data": {
      "application/vnd.jupyter.widget-view+json": {
       "model_id": "b4de78346c44496ca0152c6c7193b667",
       "version_major": 2,
       "version_minor": 0
      },
      "text/plain": [
       "Epoch 368/1000:   0%|          | 0/1 [00:00<?, ?it/s]"
      ]
     },
     "metadata": {},
     "output_type": "display_data"
    },
    {
     "name": "stdout",
     "output_type": "stream",
     "text": [
      "Epoch 368/1000, Loss: 8873.069866311962\n"
     ]
    },
    {
     "data": {
      "application/vnd.jupyter.widget-view+json": {
       "model_id": "fc63deb4b676479b883f04808c022ddb",
       "version_major": 2,
       "version_minor": 0
      },
      "text/plain": [
       "Epoch 369/1000:   0%|          | 0/1 [00:00<?, ?it/s]"
      ]
     },
     "metadata": {},
     "output_type": "display_data"
    },
    {
     "name": "stdout",
     "output_type": "stream",
     "text": [
      "Epoch 369/1000, Loss: 8858.838500976562\n"
     ]
    },
    {
     "data": {
      "application/vnd.jupyter.widget-view+json": {
       "model_id": "7ae385d8bf494cc7bbdec91a90757619",
       "version_major": 2,
       "version_minor": 0
      },
      "text/plain": [
       "Epoch 370/1000:   0%|          | 0/1 [00:00<?, ?it/s]"
      ]
     },
     "metadata": {},
     "output_type": "display_data"
    },
    {
     "name": "stdout",
     "output_type": "stream",
     "text": [
      "Epoch 370/1000, Loss: 8832.010923188309\n"
     ]
    },
    {
     "data": {
      "application/vnd.jupyter.widget-view+json": {
       "model_id": "40c45cf2da3d4aaf802cb5fd558bb2d7",
       "version_major": 2,
       "version_minor": 0
      },
      "text/plain": [
       "Epoch 371/1000:   0%|          | 0/1 [00:00<?, ?it/s]"
      ]
     },
     "metadata": {},
     "output_type": "display_data"
    },
    {
     "name": "stdout",
     "output_type": "stream",
     "text": [
      "Epoch 371/1000, Loss: 8814.488525390625\n"
     ]
    },
    {
     "data": {
      "application/vnd.jupyter.widget-view+json": {
       "model_id": "d087c2b3a8bf4e36b701ca0d3a06d7a8",
       "version_major": 2,
       "version_minor": 0
      },
      "text/plain": [
       "Epoch 372/1000:   0%|          | 0/1 [00:00<?, ?it/s]"
      ]
     },
     "metadata": {},
     "output_type": "display_data"
    },
    {
     "name": "stdout",
     "output_type": "stream",
     "text": [
      "Epoch 372/1000, Loss: 8795.172695817619\n"
     ]
    },
    {
     "data": {
      "application/vnd.jupyter.widget-view+json": {
       "model_id": "2c4a8e656732482d89125091c948abf4",
       "version_major": 2,
       "version_minor": 0
      },
      "text/plain": [
       "Epoch 373/1000:   0%|          | 0/1 [00:00<?, ?it/s]"
      ]
     },
     "metadata": {},
     "output_type": "display_data"
    },
    {
     "name": "stdout",
     "output_type": "stream",
     "text": [
      "Epoch 373/1000, Loss: 8789.392784381735\n"
     ]
    },
    {
     "data": {
      "application/vnd.jupyter.widget-view+json": {
       "model_id": "e68005991da3421ba70b65c737530e36",
       "version_major": 2,
       "version_minor": 0
      },
      "text/plain": [
       "Epoch 374/1000:   0%|          | 0/1 [00:00<?, ?it/s]"
      ]
     },
     "metadata": {},
     "output_type": "display_data"
    },
    {
     "name": "stdout",
     "output_type": "stream",
     "text": [
      "Epoch 374/1000, Loss: 8793.698107489225\n"
     ]
    },
    {
     "data": {
      "application/vnd.jupyter.widget-view+json": {
       "model_id": "d9c779e607564a77bbca00153c735fb5",
       "version_major": 2,
       "version_minor": 0
      },
      "text/plain": [
       "Epoch 375/1000:   0%|          | 0/1 [00:00<?, ?it/s]"
      ]
     },
     "metadata": {},
     "output_type": "display_data"
    },
    {
     "name": "stdout",
     "output_type": "stream",
     "text": [
      "Epoch 375/1000, Loss: 8766.143546268857\n"
     ]
    },
    {
     "data": {
      "application/vnd.jupyter.widget-view+json": {
       "model_id": "4b9b76f31beb420fab00a5cfa3ea3a38",
       "version_major": 2,
       "version_minor": 0
      },
      "text/plain": [
       "Epoch 376/1000:   0%|          | 0/1 [00:00<?, ?it/s]"
      ]
     },
     "metadata": {},
     "output_type": "display_data"
    },
    {
     "name": "stdout",
     "output_type": "stream",
     "text": [
      "Epoch 376/1000, Loss: 8748.937466325431\n"
     ]
    },
    {
     "data": {
      "application/vnd.jupyter.widget-view+json": {
       "model_id": "f321b9ac73474d5d9c4800f6f911dc24",
       "version_major": 2,
       "version_minor": 0
      },
      "text/plain": [
       "Epoch 377/1000:   0%|          | 0/1 [00:00<?, ?it/s]"
      ]
     },
     "metadata": {},
     "output_type": "display_data"
    },
    {
     "name": "stdout",
     "output_type": "stream",
     "text": [
      "Epoch 377/1000, Loss: 8733.925280340787\n"
     ]
    },
    {
     "data": {
      "application/vnd.jupyter.widget-view+json": {
       "model_id": "f85d700c7a2c403e883db4d2d24d5331",
       "version_major": 2,
       "version_minor": 0
      },
      "text/plain": [
       "Epoch 378/1000:   0%|          | 0/1 [00:00<?, ?it/s]"
      ]
     },
     "metadata": {},
     "output_type": "display_data"
    },
    {
     "name": "stdout",
     "output_type": "stream",
     "text": [
      "Epoch 378/1000, Loss: 8725.188245049838\n"
     ]
    },
    {
     "data": {
      "application/vnd.jupyter.widget-view+json": {
       "model_id": "d93e02c149a9403bb750b214051533f0",
       "version_major": 2,
       "version_minor": 0
      },
      "text/plain": [
       "Epoch 379/1000:   0%|          | 0/1 [00:00<?, ?it/s]"
      ]
     },
     "metadata": {},
     "output_type": "display_data"
    },
    {
     "name": "stdout",
     "output_type": "stream",
     "text": [
      "Epoch 379/1000, Loss: 8710.223127693966\n"
     ]
    },
    {
     "data": {
      "application/vnd.jupyter.widget-view+json": {
       "model_id": "1aaa66e136e0470fae72e0bc7aa36c31",
       "version_major": 2,
       "version_minor": 0
      },
      "text/plain": [
       "Epoch 380/1000:   0%|          | 0/1 [00:00<?, ?it/s]"
      ]
     },
     "metadata": {},
     "output_type": "display_data"
    },
    {
     "name": "stdout",
     "output_type": "stream",
     "text": [
      "Epoch 380/1000, Loss: 8677.165737809806\n"
     ]
    },
    {
     "data": {
      "application/vnd.jupyter.widget-view+json": {
       "model_id": "2dada620f4c54cd3bb374c37b97961ff",
       "version_major": 2,
       "version_minor": 0
      },
      "text/plain": [
       "Epoch 381/1000:   0%|          | 0/1 [00:00<?, ?it/s]"
      ]
     },
     "metadata": {},
     "output_type": "display_data"
    },
    {
     "name": "stdout",
     "output_type": "stream",
     "text": [
      "Epoch 381/1000, Loss: 8673.278913826778\n"
     ]
    },
    {
     "data": {
      "application/vnd.jupyter.widget-view+json": {
       "model_id": "a85b8e836be940f49386dfdd4e40c263",
       "version_major": 2,
       "version_minor": 0
      },
      "text/plain": [
       "Epoch 382/1000:   0%|          | 0/1 [00:00<?, ?it/s]"
      ]
     },
     "metadata": {},
     "output_type": "display_data"
    },
    {
     "name": "stdout",
     "output_type": "stream",
     "text": [
      "Epoch 382/1000, Loss: 8630.127466662178\n"
     ]
    },
    {
     "data": {
      "application/vnd.jupyter.widget-view+json": {
       "model_id": "249a7c32b4de499c871d229a67694011",
       "version_major": 2,
       "version_minor": 0
      },
      "text/plain": [
       "Epoch 383/1000:   0%|          | 0/1 [00:00<?, ?it/s]"
      ]
     },
     "metadata": {},
     "output_type": "display_data"
    },
    {
     "name": "stdout",
     "output_type": "stream",
     "text": [
      "Epoch 383/1000, Loss: 8622.906986631197\n"
     ]
    },
    {
     "data": {
      "application/vnd.jupyter.widget-view+json": {
       "model_id": "2f6f3287904c47c5b9cd7e63b4cbe7fc",
       "version_major": 2,
       "version_minor": 0
      },
      "text/plain": [
       "Epoch 384/1000:   0%|          | 0/1 [00:00<?, ?it/s]"
      ]
     },
     "metadata": {},
     "output_type": "display_data"
    },
    {
     "name": "stdout",
     "output_type": "stream",
     "text": [
      "Epoch 384/1000, Loss: 8600.596376616379\n"
     ]
    },
    {
     "data": {
      "application/vnd.jupyter.widget-view+json": {
       "model_id": "5e1e4a2ba2b84677b7a15631923a4de1",
       "version_major": 2,
       "version_minor": 0
      },
      "text/plain": [
       "Epoch 385/1000:   0%|          | 0/1 [00:00<?, ?it/s]"
      ]
     },
     "metadata": {},
     "output_type": "display_data"
    },
    {
     "name": "stdout",
     "output_type": "stream",
     "text": [
      "Epoch 385/1000, Loss: 8604.138903387662\n"
     ]
    },
    {
     "data": {
      "application/vnd.jupyter.widget-view+json": {
       "model_id": "6c3ff7cabc814d0097af2ec29adea95e",
       "version_major": 2,
       "version_minor": 0
      },
      "text/plain": [
       "Epoch 386/1000:   0%|          | 0/1 [00:00<?, ?it/s]"
      ]
     },
     "metadata": {},
     "output_type": "display_data"
    },
    {
     "name": "stdout",
     "output_type": "stream",
     "text": [
      "Epoch 386/1000, Loss: 8573.931514345366\n"
     ]
    },
    {
     "data": {
      "application/vnd.jupyter.widget-view+json": {
       "model_id": "24c834e03acc467c92d043f883b9352b",
       "version_major": 2,
       "version_minor": 0
      },
      "text/plain": [
       "Epoch 387/1000:   0%|          | 0/1 [00:00<?, ?it/s]"
      ]
     },
     "metadata": {},
     "output_type": "display_data"
    },
    {
     "name": "stdout",
     "output_type": "stream",
     "text": [
      "Epoch 387/1000, Loss: 8569.650188577587\n"
     ]
    },
    {
     "data": {
      "application/vnd.jupyter.widget-view+json": {
       "model_id": "3da676bdc1c64fe6b3d9d5f3268b5509",
       "version_major": 2,
       "version_minor": 0
      },
      "text/plain": [
       "Epoch 388/1000:   0%|          | 0/1 [00:00<?, ?it/s]"
      ]
     },
     "metadata": {},
     "output_type": "display_data"
    },
    {
     "name": "stdout",
     "output_type": "stream",
     "text": [
      "Epoch 388/1000, Loss: 8533.364001043912\n"
     ]
    },
    {
     "data": {
      "application/vnd.jupyter.widget-view+json": {
       "model_id": "92dfc12ca2c7442eb15f640459c713ad",
       "version_major": 2,
       "version_minor": 0
      },
      "text/plain": [
       "Epoch 389/1000:   0%|          | 0/1 [00:00<?, ?it/s]"
      ]
     },
     "metadata": {},
     "output_type": "display_data"
    },
    {
     "name": "stdout",
     "output_type": "stream",
     "text": [
      "Epoch 389/1000, Loss: 8518.705507475754\n"
     ]
    },
    {
     "data": {
      "application/vnd.jupyter.widget-view+json": {
       "model_id": "2b2ff60cb5674721a15a983b4fb715d8",
       "version_major": 2,
       "version_minor": 0
      },
      "text/plain": [
       "Epoch 390/1000:   0%|          | 0/1 [00:00<?, ?it/s]"
      ]
     },
     "metadata": {},
     "output_type": "display_data"
    },
    {
     "name": "stdout",
     "output_type": "stream",
     "text": [
      "Epoch 390/1000, Loss: 8545.909861597522\n"
     ]
    },
    {
     "data": {
      "application/vnd.jupyter.widget-view+json": {
       "model_id": "c7172ecd6ffa4e5f9c552b45200a5d5b",
       "version_major": 2,
       "version_minor": 0
      },
      "text/plain": [
       "Epoch 391/1000:   0%|          | 0/1 [00:00<?, ?it/s]"
      ]
     },
     "metadata": {},
     "output_type": "display_data"
    },
    {
     "name": "stdout",
     "output_type": "stream",
     "text": [
      "Epoch 391/1000, Loss: 8494.653202451509\n"
     ]
    },
    {
     "data": {
      "application/vnd.jupyter.widget-view+json": {
       "model_id": "f03ea80515bd4e6fa71352dd7069c6d5",
       "version_major": 2,
       "version_minor": 0
      },
      "text/plain": [
       "Epoch 392/1000:   0%|          | 0/1 [00:00<?, ?it/s]"
      ]
     },
     "metadata": {},
     "output_type": "display_data"
    },
    {
     "name": "stdout",
     "output_type": "stream",
     "text": [
      "Epoch 392/1000, Loss: 8460.594911772629\n"
     ]
    },
    {
     "data": {
      "application/vnd.jupyter.widget-view+json": {
       "model_id": "52eb2dba7a8d4c9498587b7bf3fcdd61",
       "version_major": 2,
       "version_minor": 0
      },
      "text/plain": [
       "Epoch 393/1000:   0%|          | 0/1 [00:00<?, ?it/s]"
      ]
     },
     "metadata": {},
     "output_type": "display_data"
    },
    {
     "name": "stdout",
     "output_type": "stream",
     "text": [
      "Epoch 393/1000, Loss: 8448.04533017915\n"
     ]
    },
    {
     "data": {
      "application/vnd.jupyter.widget-view+json": {
       "model_id": "e5d0fbbe1d00429fb47e5f979e086912",
       "version_major": 2,
       "version_minor": 0
      },
      "text/plain": [
       "Epoch 394/1000:   0%|          | 0/1 [00:00<?, ?it/s]"
      ]
     },
     "metadata": {},
     "output_type": "display_data"
    },
    {
     "name": "stdout",
     "output_type": "stream",
     "text": [
      "Epoch 394/1000, Loss: 8444.884302599678\n"
     ]
    },
    {
     "data": {
      "application/vnd.jupyter.widget-view+json": {
       "model_id": "7efcf9b6191e4c11a71b6e872201c028",
       "version_major": 2,
       "version_minor": 0
      },
      "text/plain": [
       "Epoch 395/1000:   0%|          | 0/1 [00:00<?, ?it/s]"
      ]
     },
     "metadata": {},
     "output_type": "display_data"
    },
    {
     "name": "stdout",
     "output_type": "stream",
     "text": [
      "Epoch 395/1000, Loss: 8414.274893925107\n"
     ]
    },
    {
     "data": {
      "application/vnd.jupyter.widget-view+json": {
       "model_id": "0281a794d6c44c659e4c9b994a53b732",
       "version_major": 2,
       "version_minor": 0
      },
      "text/plain": [
       "Epoch 396/1000:   0%|          | 0/1 [00:00<?, ?it/s]"
      ]
     },
     "metadata": {},
     "output_type": "display_data"
    },
    {
     "name": "stdout",
     "output_type": "stream",
     "text": [
      "Epoch 396/1000, Loss: 8415.425271922144\n"
     ]
    },
    {
     "data": {
      "application/vnd.jupyter.widget-view+json": {
       "model_id": "e9add4f0339e41c2bcc684c6253b1a02",
       "version_major": 2,
       "version_minor": 0
      },
      "text/plain": [
       "Epoch 397/1000:   0%|          | 0/1 [00:00<?, ?it/s]"
      ]
     },
     "metadata": {},
     "output_type": "display_data"
    },
    {
     "name": "stdout",
     "output_type": "stream",
     "text": [
      "Epoch 397/1000, Loss: 8361.337297110722\n"
     ]
    },
    {
     "data": {
      "application/vnd.jupyter.widget-view+json": {
       "model_id": "d5a79008b188493e9f253495cc877aa9",
       "version_major": 2,
       "version_minor": 0
      },
      "text/plain": [
       "Epoch 398/1000:   0%|          | 0/1 [00:00<?, ?it/s]"
      ]
     },
     "metadata": {},
     "output_type": "display_data"
    },
    {
     "name": "stdout",
     "output_type": "stream",
     "text": [
      "Epoch 398/1000, Loss: 8338.117200127963\n"
     ]
    },
    {
     "data": {
      "application/vnd.jupyter.widget-view+json": {
       "model_id": "77a86f99ba5d4e23adb35bbbe2109a2a",
       "version_major": 2,
       "version_minor": 0
      },
      "text/plain": [
       "Epoch 399/1000:   0%|          | 0/1 [00:00<?, ?it/s]"
      ]
     },
     "metadata": {},
     "output_type": "display_data"
    },
    {
     "name": "stdout",
     "output_type": "stream",
     "text": [
      "Epoch 399/1000, Loss: 8314.806160762393\n"
     ]
    },
    {
     "data": {
      "application/vnd.jupyter.widget-view+json": {
       "model_id": "277952319e32476cb744cedf40c96783",
       "version_major": 2,
       "version_minor": 0
      },
      "text/plain": [
       "Epoch 400/1000:   0%|          | 0/1 [00:00<?, ?it/s]"
      ]
     },
     "metadata": {},
     "output_type": "display_data"
    },
    {
     "name": "stdout",
     "output_type": "stream",
     "text": [
      "Epoch 400/1000, Loss: 8311.487936085668\n"
     ]
    },
    {
     "data": {
      "application/vnd.jupyter.widget-view+json": {
       "model_id": "33590e795b1044639c01d8dca1bc1bb9",
       "version_major": 2,
       "version_minor": 0
      },
      "text/plain": [
       "Epoch 401/1000:   0%|          | 0/1 [00:00<?, ?it/s]"
      ]
     },
     "metadata": {},
     "output_type": "display_data"
    },
    {
     "name": "stdout",
     "output_type": "stream",
     "text": [
      "Epoch 401/1000, Loss: 8287.625980771822\n"
     ]
    },
    {
     "data": {
      "application/vnd.jupyter.widget-view+json": {
       "model_id": "a4168a62301a483e9aef491431cde1d3",
       "version_major": 2,
       "version_minor": 0
      },
      "text/plain": [
       "Epoch 402/1000:   0%|          | 0/1 [00:00<?, ?it/s]"
      ]
     },
     "metadata": {},
     "output_type": "display_data"
    },
    {
     "name": "stdout",
     "output_type": "stream",
     "text": [
      "Epoch 402/1000, Loss: 8269.774519295528\n"
     ]
    },
    {
     "data": {
      "application/vnd.jupyter.widget-view+json": {
       "model_id": "9995c63639964d3fbf5e90a2042eae02",
       "version_major": 2,
       "version_minor": 0
      },
      "text/plain": [
       "Epoch 403/1000:   0%|          | 0/1 [00:00<?, ?it/s]"
      ]
     },
     "metadata": {},
     "output_type": "display_data"
    },
    {
     "name": "stdout",
     "output_type": "stream",
     "text": [
      "Epoch 403/1000, Loss: 8248.267325565732\n"
     ]
    },
    {
     "data": {
      "application/vnd.jupyter.widget-view+json": {
       "model_id": "d543401d4fb6467683a75fd4e39786d9",
       "version_major": 2,
       "version_minor": 0
      },
      "text/plain": [
       "Epoch 404/1000:   0%|          | 0/1 [00:00<?, ?it/s]"
      ]
     },
     "metadata": {},
     "output_type": "display_data"
    },
    {
     "name": "stdout",
     "output_type": "stream",
     "text": [
      "Epoch 404/1000, Loss: 8244.301370554957\n"
     ]
    },
    {
     "data": {
      "application/vnd.jupyter.widget-view+json": {
       "model_id": "53e3a68d40c34ce9aeec11e52e1786a4",
       "version_major": 2,
       "version_minor": 0
      },
      "text/plain": [
       "Epoch 405/1000:   0%|          | 0/1 [00:00<?, ?it/s]"
      ]
     },
     "metadata": {},
     "output_type": "display_data"
    },
    {
     "name": "stdout",
     "output_type": "stream",
     "text": [
      "Epoch 405/1000, Loss: 8224.172750538793\n"
     ]
    },
    {
     "data": {
      "application/vnd.jupyter.widget-view+json": {
       "model_id": "a6d74415d46b444d8bafb8ba2790822f",
       "version_major": 2,
       "version_minor": 0
      },
      "text/plain": [
       "Epoch 406/1000:   0%|          | 0/1 [00:00<?, ?it/s]"
      ]
     },
     "metadata": {},
     "output_type": "display_data"
    },
    {
     "name": "stdout",
     "output_type": "stream",
     "text": [
      "Epoch 406/1000, Loss: 8209.64449336611\n"
     ]
    },
    {
     "data": {
      "application/vnd.jupyter.widget-view+json": {
       "model_id": "45397c7b2cad45bcb822cb147f312d5e",
       "version_major": 2,
       "version_minor": 0
      },
      "text/plain": [
       "Epoch 407/1000:   0%|          | 0/1 [00:00<?, ?it/s]"
      ]
     },
     "metadata": {},
     "output_type": "display_data"
    },
    {
     "name": "stdout",
     "output_type": "stream",
     "text": [
      "Epoch 407/1000, Loss: 8189.66545157597\n"
     ]
    },
    {
     "data": {
      "application/vnd.jupyter.widget-view+json": {
       "model_id": "e3521b77a86f4b3085339b4d32f51795",
       "version_major": 2,
       "version_minor": 0
      },
      "text/plain": [
       "Epoch 408/1000:   0%|          | 0/1 [00:00<?, ?it/s]"
      ]
     },
     "metadata": {},
     "output_type": "display_data"
    },
    {
     "name": "stdout",
     "output_type": "stream",
     "text": [
      "Epoch 408/1000, Loss: 8166.495702283136\n"
     ]
    },
    {
     "data": {
      "application/vnd.jupyter.widget-view+json": {
       "model_id": "0e14d8125fbb4c6ebaede8e502d7a3a4",
       "version_major": 2,
       "version_minor": 0
      },
      "text/plain": [
       "Epoch 409/1000:   0%|          | 0/1 [00:00<?, ?it/s]"
      ]
     },
     "metadata": {},
     "output_type": "display_data"
    },
    {
     "name": "stdout",
     "output_type": "stream",
     "text": [
      "Epoch 409/1000, Loss: 8161.300015153556\n"
     ]
    },
    {
     "data": {
      "application/vnd.jupyter.widget-view+json": {
       "model_id": "37e23f0030de4a3fb040b0043e5e8d92",
       "version_major": 2,
       "version_minor": 0
      },
      "text/plain": [
       "Epoch 410/1000:   0%|          | 0/1 [00:00<?, ?it/s]"
      ]
     },
     "metadata": {},
     "output_type": "display_data"
    },
    {
     "name": "stdout",
     "output_type": "stream",
     "text": [
      "Epoch 410/1000, Loss: 8139.060984644397\n"
     ]
    },
    {
     "data": {
      "application/vnd.jupyter.widget-view+json": {
       "model_id": "cc291148d1af461f83ecbe7c250eb9d0",
       "version_major": 2,
       "version_minor": 0
      },
      "text/plain": [
       "Epoch 411/1000:   0%|          | 0/1 [00:00<?, ?it/s]"
      ]
     },
     "metadata": {},
     "output_type": "display_data"
    },
    {
     "name": "stdout",
     "output_type": "stream",
     "text": [
      "Epoch 411/1000, Loss: 8129.973224508351\n"
     ]
    },
    {
     "data": {
      "application/vnd.jupyter.widget-view+json": {
       "model_id": "6b77638d87fd4204b29975944c72ccba",
       "version_major": 2,
       "version_minor": 0
      },
      "text/plain": [
       "Epoch 412/1000:   0%|          | 0/1 [00:00<?, ?it/s]"
      ]
     },
     "metadata": {},
     "output_type": "display_data"
    },
    {
     "name": "stdout",
     "output_type": "stream",
     "text": [
      "Epoch 412/1000, Loss: 8112.241964405981\n"
     ]
    },
    {
     "data": {
      "application/vnd.jupyter.widget-view+json": {
       "model_id": "347e6413f7414abf9bb74291d56ad575",
       "version_major": 2,
       "version_minor": 0
      },
      "text/plain": [
       "Epoch 413/1000:   0%|          | 0/1 [00:00<?, ?it/s]"
      ]
     },
     "metadata": {},
     "output_type": "display_data"
    },
    {
     "name": "stdout",
     "output_type": "stream",
     "text": [
      "Epoch 413/1000, Loss: 8085.5338345231685\n"
     ]
    },
    {
     "data": {
      "application/vnd.jupyter.widget-view+json": {
       "model_id": "10f0160df3df49e99783cbbcce808445",
       "version_major": 2,
       "version_minor": 0
      },
      "text/plain": [
       "Epoch 414/1000:   0%|          | 0/1 [00:00<?, ?it/s]"
      ]
     },
     "metadata": {},
     "output_type": "display_data"
    },
    {
     "name": "stdout",
     "output_type": "stream",
     "text": [
      "Epoch 414/1000, Loss: 8070.582431135506\n"
     ]
    },
    {
     "data": {
      "application/vnd.jupyter.widget-view+json": {
       "model_id": "f55919196a7744ffba958b6f0713e4b9",
       "version_major": 2,
       "version_minor": 0
      },
      "text/plain": [
       "Epoch 415/1000:   0%|          | 0/1 [00:00<?, ?it/s]"
      ]
     },
     "metadata": {},
     "output_type": "display_data"
    },
    {
     "name": "stdout",
     "output_type": "stream",
     "text": [
      "Epoch 415/1000, Loss: 8078.334464237608\n"
     ]
    },
    {
     "data": {
      "application/vnd.jupyter.widget-view+json": {
       "model_id": "3bb627477c374a65ac3c5cbe62e06d15",
       "version_major": 2,
       "version_minor": 0
      },
      "text/plain": [
       "Epoch 416/1000:   0%|          | 0/1 [00:00<?, ?it/s]"
      ]
     },
     "metadata": {},
     "output_type": "display_data"
    },
    {
     "name": "stdout",
     "output_type": "stream",
     "text": [
      "Epoch 416/1000, Loss: 8041.254120925377\n"
     ]
    },
    {
     "data": {
      "application/vnd.jupyter.widget-view+json": {
       "model_id": "87245470008b448896812804e2ab1b95",
       "version_major": 2,
       "version_minor": 0
      },
      "text/plain": [
       "Epoch 417/1000:   0%|          | 0/1 [00:00<?, ?it/s]"
      ]
     },
     "metadata": {},
     "output_type": "display_data"
    },
    {
     "name": "stdout",
     "output_type": "stream",
     "text": [
      "Epoch 417/1000, Loss: 8024.27005741514\n"
     ]
    },
    {
     "data": {
      "application/vnd.jupyter.widget-view+json": {
       "model_id": "0600bc73b6364510ae077109bf8d7760",
       "version_major": 2,
       "version_minor": 0
      },
      "text/plain": [
       "Epoch 418/1000:   0%|          | 0/1 [00:00<?, ?it/s]"
      ]
     },
     "metadata": {},
     "output_type": "display_data"
    },
    {
     "name": "stdout",
     "output_type": "stream",
     "text": [
      "Epoch 418/1000, Loss: 8014.466203360722\n"
     ]
    },
    {
     "data": {
      "application/vnd.jupyter.widget-view+json": {
       "model_id": "fb460c8887404be1974d2d596aaf56b4",
       "version_major": 2,
       "version_minor": 0
      },
      "text/plain": [
       "Epoch 419/1000:   0%|          | 0/1 [00:00<?, ?it/s]"
      ]
     },
     "metadata": {},
     "output_type": "display_data"
    },
    {
     "name": "stdout",
     "output_type": "stream",
     "text": [
      "Epoch 419/1000, Loss: 8026.04206795528\n"
     ]
    },
    {
     "data": {
      "application/vnd.jupyter.widget-view+json": {
       "model_id": "fa99ecb905c2475e88bcdfb4c78b4d00",
       "version_major": 2,
       "version_minor": 0
      },
      "text/plain": [
       "Epoch 420/1000:   0%|          | 0/1 [00:00<?, ?it/s]"
      ]
     },
     "metadata": {},
     "output_type": "display_data"
    },
    {
     "name": "stdout",
     "output_type": "stream",
     "text": [
      "Epoch 420/1000, Loss: 8012.463614628233\n"
     ]
    },
    {
     "data": {
      "application/vnd.jupyter.widget-view+json": {
       "model_id": "c40f90b6cf8543f2ae5bfcbd3cb59adf",
       "version_major": 2,
       "version_minor": 0
      },
      "text/plain": [
       "Epoch 421/1000:   0%|          | 0/1 [00:00<?, ?it/s]"
      ]
     },
     "metadata": {},
     "output_type": "display_data"
    },
    {
     "name": "stdout",
     "output_type": "stream",
     "text": [
      "Epoch 421/1000, Loss: 7975.897397797683\n"
     ]
    },
    {
     "data": {
      "application/vnd.jupyter.widget-view+json": {
       "model_id": "0af96dfec0034dcca50845ac27a6024d",
       "version_major": 2,
       "version_minor": 0
      },
      "text/plain": [
       "Epoch 422/1000:   0%|          | 0/1 [00:00<?, ?it/s]"
      ]
     },
     "metadata": {},
     "output_type": "display_data"
    },
    {
     "name": "stdout",
     "output_type": "stream",
     "text": [
      "Epoch 422/1000, Loss: 7993.336202687231\n"
     ]
    },
    {
     "data": {
      "application/vnd.jupyter.widget-view+json": {
       "model_id": "3826b69fb00c43599e72e0327a47924b",
       "version_major": 2,
       "version_minor": 0
      },
      "text/plain": [
       "Epoch 423/1000:   0%|          | 0/1 [00:00<?, ?it/s]"
      ]
     },
     "metadata": {},
     "output_type": "display_data"
    },
    {
     "name": "stdout",
     "output_type": "stream",
     "text": [
      "Epoch 423/1000, Loss: 7984.151198814655\n"
     ]
    },
    {
     "data": {
      "application/vnd.jupyter.widget-view+json": {
       "model_id": "58e5d2810c1f45149ec057cfd2f8ed54",
       "version_major": 2,
       "version_minor": 0
      },
      "text/plain": [
       "Epoch 424/1000:   0%|          | 0/1 [00:00<?, ?it/s]"
      ]
     },
     "metadata": {},
     "output_type": "display_data"
    },
    {
     "name": "stdout",
     "output_type": "stream",
     "text": [
      "Epoch 424/1000, Loss: 7970.344082536369\n"
     ]
    },
    {
     "data": {
      "application/vnd.jupyter.widget-view+json": {
       "model_id": "c2e0a88a387e48adbf155ee86bcbf538",
       "version_major": 2,
       "version_minor": 0
      },
      "text/plain": [
       "Epoch 425/1000:   0%|          | 0/1 [00:00<?, ?it/s]"
      ]
     },
     "metadata": {},
     "output_type": "display_data"
    },
    {
     "name": "stdout",
     "output_type": "stream",
     "text": [
      "Epoch 425/1000, Loss: 7963.498543574892\n"
     ]
    },
    {
     "data": {
      "application/vnd.jupyter.widget-view+json": {
       "model_id": "70417fecee4546028521b8edef6dd4a7",
       "version_major": 2,
       "version_minor": 0
      },
      "text/plain": [
       "Epoch 426/1000:   0%|          | 0/1 [00:00<?, ?it/s]"
      ]
     },
     "metadata": {},
     "output_type": "display_data"
    },
    {
     "name": "stdout",
     "output_type": "stream",
     "text": [
      "Epoch 426/1000, Loss: 7938.549510035022\n"
     ]
    },
    {
     "data": {
      "application/vnd.jupyter.widget-view+json": {
       "model_id": "351dc0218b974ff5a5c2c2f384f9ec15",
       "version_major": 2,
       "version_minor": 0
      },
      "text/plain": [
       "Epoch 427/1000:   0%|          | 0/1 [00:00<?, ?it/s]"
      ]
     },
     "metadata": {},
     "output_type": "display_data"
    },
    {
     "name": "stdout",
     "output_type": "stream",
     "text": [
      "Epoch 427/1000, Loss: 7937.702400996767\n"
     ]
    },
    {
     "data": {
      "application/vnd.jupyter.widget-view+json": {
       "model_id": "ecdd587b1a29495d9eaa13be35f4bb21",
       "version_major": 2,
       "version_minor": 0
      },
      "text/plain": [
       "Epoch 428/1000:   0%|          | 0/1 [00:00<?, ?it/s]"
      ]
     },
     "metadata": {},
     "output_type": "display_data"
    },
    {
     "name": "stdout",
     "output_type": "stream",
     "text": [
      "Epoch 428/1000, Loss: 7928.119738348599\n"
     ]
    },
    {
     "data": {
      "application/vnd.jupyter.widget-view+json": {
       "model_id": "e9221a80f2744cb3ab703684fce7ad66",
       "version_major": 2,
       "version_minor": 0
      },
      "text/plain": [
       "Epoch 429/1000:   0%|          | 0/1 [00:00<?, ?it/s]"
      ]
     },
     "metadata": {},
     "output_type": "display_data"
    },
    {
     "name": "stdout",
     "output_type": "stream",
     "text": [
      "Epoch 429/1000, Loss: 7893.09525272764\n"
     ]
    },
    {
     "data": {
      "application/vnd.jupyter.widget-view+json": {
       "model_id": "9ffe9206d8a0414ebdd77c4213826af9",
       "version_major": 2,
       "version_minor": 0
      },
      "text/plain": [
       "Epoch 430/1000:   0%|          | 0/1 [00:00<?, ?it/s]"
      ]
     },
     "metadata": {},
     "output_type": "display_data"
    },
    {
     "name": "stdout",
     "output_type": "stream",
     "text": [
      "Epoch 430/1000, Loss: 7904.108343716325\n"
     ]
    },
    {
     "data": {
      "application/vnd.jupyter.widget-view+json": {
       "model_id": "0df743a337fe4b988ea6999eb73fda1f",
       "version_major": 2,
       "version_minor": 0
      },
      "text/plain": [
       "Epoch 431/1000:   0%|          | 0/1 [00:00<?, ?it/s]"
      ]
     },
     "metadata": {},
     "output_type": "display_data"
    },
    {
     "name": "stdout",
     "output_type": "stream",
     "text": [
      "Epoch 431/1000, Loss: 7897.691359947467\n"
     ]
    },
    {
     "data": {
      "application/vnd.jupyter.widget-view+json": {
       "model_id": "e4fc8a1bf9c844ac9d8c7f08fd38b4c1",
       "version_major": 2,
       "version_minor": 0
      },
      "text/plain": [
       "Epoch 432/1000:   0%|          | 0/1 [00:00<?, ?it/s]"
      ]
     },
     "metadata": {},
     "output_type": "display_data"
    },
    {
     "name": "stdout",
     "output_type": "stream",
     "text": [
      "Epoch 432/1000, Loss: 7895.7388916015625\n"
     ]
    },
    {
     "data": {
      "application/vnd.jupyter.widget-view+json": {
       "model_id": "19eb877e783043d1aaaa2dc6d9629788",
       "version_major": 2,
       "version_minor": 0
      },
      "text/plain": [
       "Epoch 433/1000:   0%|          | 0/1 [00:00<?, ?it/s]"
      ]
     },
     "metadata": {},
     "output_type": "display_data"
    },
    {
     "name": "stdout",
     "output_type": "stream",
     "text": [
      "Epoch 433/1000, Loss: 7870.257004310345\n"
     ]
    },
    {
     "data": {
      "application/vnd.jupyter.widget-view+json": {
       "model_id": "c6818643ca8944598e5367994ff421c4",
       "version_major": 2,
       "version_minor": 0
      },
      "text/plain": [
       "Epoch 434/1000:   0%|          | 0/1 [00:00<?, ?it/s]"
      ]
     },
     "metadata": {},
     "output_type": "display_data"
    },
    {
     "name": "stdout",
     "output_type": "stream",
     "text": [
      "Epoch 434/1000, Loss: 7876.502752896013\n"
     ]
    },
    {
     "data": {
      "application/vnd.jupyter.widget-view+json": {
       "model_id": "b2006d6d9e554e6896ed893b4fc58a7b",
       "version_major": 2,
       "version_minor": 0
      },
      "text/plain": [
       "Epoch 435/1000:   0%|          | 0/1 [00:00<?, ?it/s]"
      ]
     },
     "metadata": {},
     "output_type": "display_data"
    },
    {
     "name": "stdout",
     "output_type": "stream",
     "text": [
      "Epoch 435/1000, Loss: 7876.920157596983\n"
     ]
    },
    {
     "data": {
      "application/vnd.jupyter.widget-view+json": {
       "model_id": "498374b3532e47be9050b0eaba3c401a",
       "version_major": 2,
       "version_minor": 0
      },
      "text/plain": [
       "Epoch 436/1000:   0%|          | 0/1 [00:00<?, ?it/s]"
      ]
     },
     "metadata": {},
     "output_type": "display_data"
    },
    {
     "name": "stdout",
     "output_type": "stream",
     "text": [
      "Epoch 436/1000, Loss: 7844.138663456358\n"
     ]
    },
    {
     "data": {
      "application/vnd.jupyter.widget-view+json": {
       "model_id": "d82b30b72d0c4eb083e1ac09185f213d",
       "version_major": 2,
       "version_minor": 0
      },
      "text/plain": [
       "Epoch 437/1000:   0%|          | 0/1 [00:00<?, ?it/s]"
      ]
     },
     "metadata": {},
     "output_type": "display_data"
    },
    {
     "name": "stdout",
     "output_type": "stream",
     "text": [
      "Epoch 437/1000, Loss: 7840.161494814116\n"
     ]
    },
    {
     "data": {
      "application/vnd.jupyter.widget-view+json": {
       "model_id": "ec72380a5b1b49b1b9ece71223109af9",
       "version_major": 2,
       "version_minor": 0
      },
      "text/plain": [
       "Epoch 438/1000:   0%|          | 0/1 [00:00<?, ?it/s]"
      ]
     },
     "metadata": {},
     "output_type": "display_data"
    },
    {
     "name": "stdout",
     "output_type": "stream",
     "text": [
      "Epoch 438/1000, Loss: 7851.225447029903\n"
     ]
    },
    {
     "data": {
      "application/vnd.jupyter.widget-view+json": {
       "model_id": "5b0eacfe53b6418e803b462c90318877",
       "version_major": 2,
       "version_minor": 0
      },
      "text/plain": [
       "Epoch 439/1000:   0%|          | 0/1 [00:00<?, ?it/s]"
      ]
     },
     "metadata": {},
     "output_type": "display_data"
    },
    {
     "name": "stdout",
     "output_type": "stream",
     "text": [
      "Epoch 439/1000, Loss: 7835.645764581089\n"
     ]
    },
    {
     "data": {
      "application/vnd.jupyter.widget-view+json": {
       "model_id": "961ce01f6f264d6ea569a222ca212f8c",
       "version_major": 2,
       "version_minor": 0
      },
      "text/plain": [
       "Epoch 440/1000:   0%|          | 0/1 [00:00<?, ?it/s]"
      ]
     },
     "metadata": {},
     "output_type": "display_data"
    },
    {
     "name": "stdout",
     "output_type": "stream",
     "text": [
      "Epoch 440/1000, Loss: 7817.89276754445\n"
     ]
    },
    {
     "data": {
      "application/vnd.jupyter.widget-view+json": {
       "model_id": "b74486df843541d59e1f6064334a9db9",
       "version_major": 2,
       "version_minor": 0
      },
      "text/plain": [
       "Epoch 441/1000:   0%|          | 0/1 [00:00<?, ?it/s]"
      ]
     },
     "metadata": {},
     "output_type": "display_data"
    },
    {
     "name": "stdout",
     "output_type": "stream",
     "text": [
      "Epoch 441/1000, Loss: 7807.828141837284\n"
     ]
    },
    {
     "data": {
      "application/vnd.jupyter.widget-view+json": {
       "model_id": "d907058e6f9c4618a73ca3bd0ae4f13e",
       "version_major": 2,
       "version_minor": 0
      },
      "text/plain": [
       "Epoch 442/1000:   0%|          | 0/1 [00:00<?, ?it/s]"
      ]
     },
     "metadata": {},
     "output_type": "display_data"
    },
    {
     "name": "stdout",
     "output_type": "stream",
     "text": [
      "Epoch 442/1000, Loss: 7803.400053879311\n"
     ]
    },
    {
     "data": {
      "application/vnd.jupyter.widget-view+json": {
       "model_id": "834b3e2af4cf450e823146e5bf374c90",
       "version_major": 2,
       "version_minor": 0
      },
      "text/plain": [
       "Epoch 443/1000:   0%|          | 0/1 [00:00<?, ?it/s]"
      ]
     },
     "metadata": {},
     "output_type": "display_data"
    },
    {
     "name": "stdout",
     "output_type": "stream",
     "text": [
      "Epoch 443/1000, Loss: 7788.850421773976\n"
     ]
    },
    {
     "data": {
      "application/vnd.jupyter.widget-view+json": {
       "model_id": "88670a96b39a4e1ca55847705e21372f",
       "version_major": 2,
       "version_minor": 0
      },
      "text/plain": [
       "Epoch 444/1000:   0%|          | 0/1 [00:00<?, ?it/s]"
      ]
     },
     "metadata": {},
     "output_type": "display_data"
    },
    {
     "name": "stdout",
     "output_type": "stream",
     "text": [
      "Epoch 444/1000, Loss: 7793.188232421875\n"
     ]
    },
    {
     "data": {
      "application/vnd.jupyter.widget-view+json": {
       "model_id": "a5002f5690d44eeb8bc5b4bc63e6a997",
       "version_major": 2,
       "version_minor": 0
      },
      "text/plain": [
       "Epoch 445/1000:   0%|          | 0/1 [00:00<?, ?it/s]"
      ]
     },
     "metadata": {},
     "output_type": "display_data"
    },
    {
     "name": "stdout",
     "output_type": "stream",
     "text": [
      "Epoch 445/1000, Loss: 7787.340664567619\n"
     ]
    },
    {
     "data": {
      "application/vnd.jupyter.widget-view+json": {
       "model_id": "ae1f15c232454e00936d95cc1c609a40",
       "version_major": 2,
       "version_minor": 0
      },
      "text/plain": [
       "Epoch 446/1000:   0%|          | 0/1 [00:00<?, ?it/s]"
      ]
     },
     "metadata": {},
     "output_type": "display_data"
    },
    {
     "name": "stdout",
     "output_type": "stream",
     "text": [
      "Epoch 446/1000, Loss: 7808.786111765894\n"
     ]
    },
    {
     "data": {
      "application/vnd.jupyter.widget-view+json": {
       "model_id": "f78b2ab2e7b84f4899beeefc9bad999a",
       "version_major": 2,
       "version_minor": 0
      },
      "text/plain": [
       "Epoch 447/1000:   0%|          | 0/1 [00:00<?, ?it/s]"
      ]
     },
     "metadata": {},
     "output_type": "display_data"
    },
    {
     "name": "stdout",
     "output_type": "stream",
     "text": [
      "Epoch 447/1000, Loss: 7776.309145171067\n"
     ]
    },
    {
     "data": {
      "application/vnd.jupyter.widget-view+json": {
       "model_id": "abdcb2d422924178b5b2bd76bb710d85",
       "version_major": 2,
       "version_minor": 0
      },
      "text/plain": [
       "Epoch 448/1000:   0%|          | 0/1 [00:00<?, ?it/s]"
      ]
     },
     "metadata": {},
     "output_type": "display_data"
    },
    {
     "name": "stdout",
     "output_type": "stream",
     "text": [
      "Epoch 448/1000, Loss: 7759.352320177802\n"
     ]
    },
    {
     "data": {
      "application/vnd.jupyter.widget-view+json": {
       "model_id": "7115b200837a4138a8ccf2228994dc4f",
       "version_major": 2,
       "version_minor": 0
      },
      "text/plain": [
       "Epoch 449/1000:   0%|          | 0/1 [00:00<?, ?it/s]"
      ]
     },
     "metadata": {},
     "output_type": "display_data"
    },
    {
     "name": "stdout",
     "output_type": "stream",
     "text": [
      "Epoch 449/1000, Loss: 7779.365899447737\n"
     ]
    },
    {
     "data": {
      "application/vnd.jupyter.widget-view+json": {
       "model_id": "8a9e34e4cbee495f84b2ecae33bae96d",
       "version_major": 2,
       "version_minor": 0
      },
      "text/plain": [
       "Epoch 450/1000:   0%|          | 0/1 [00:00<?, ?it/s]"
      ]
     },
     "metadata": {},
     "output_type": "display_data"
    },
    {
     "name": "stdout",
     "output_type": "stream",
     "text": [
      "Epoch 450/1000, Loss: 7749.116854963631\n"
     ]
    },
    {
     "data": {
      "application/vnd.jupyter.widget-view+json": {
       "model_id": "2ce1ac9c4d8c44a182c3852481367584",
       "version_major": 2,
       "version_minor": 0
      },
      "text/plain": [
       "Epoch 451/1000:   0%|          | 0/1 [00:00<?, ?it/s]"
      ]
     },
     "metadata": {},
     "output_type": "display_data"
    },
    {
     "name": "stdout",
     "output_type": "stream",
     "text": [
      "Epoch 451/1000, Loss: 7740.942551185345\n"
     ]
    },
    {
     "data": {
      "application/vnd.jupyter.widget-view+json": {
       "model_id": "c240db70a5c7470690d59e32e0185b6a",
       "version_major": 2,
       "version_minor": 0
      },
      "text/plain": [
       "Epoch 452/1000:   0%|          | 0/1 [00:00<?, ?it/s]"
      ]
     },
     "metadata": {},
     "output_type": "display_data"
    },
    {
     "name": "stdout",
     "output_type": "stream",
     "text": [
      "Epoch 452/1000, Loss: 7739.475101865572\n"
     ]
    },
    {
     "data": {
      "application/vnd.jupyter.widget-view+json": {
       "model_id": "e03ea7b959494ee2bbe44e595e712e59",
       "version_major": 2,
       "version_minor": 0
      },
      "text/plain": [
       "Epoch 453/1000:   0%|          | 0/1 [00:00<?, ?it/s]"
      ]
     },
     "metadata": {},
     "output_type": "display_data"
    },
    {
     "name": "stdout",
     "output_type": "stream",
     "text": [
      "Epoch 453/1000, Loss: 7728.9210836476295\n"
     ]
    },
    {
     "data": {
      "application/vnd.jupyter.widget-view+json": {
       "model_id": "8e8fe808e9d247ec9015edcc2013f82c",
       "version_major": 2,
       "version_minor": 0
      },
      "text/plain": [
       "Epoch 454/1000:   0%|          | 0/1 [00:00<?, ?it/s]"
      ]
     },
     "metadata": {},
     "output_type": "display_data"
    },
    {
     "name": "stdout",
     "output_type": "stream",
     "text": [
      "Epoch 454/1000, Loss: 7735.764842066272\n"
     ]
    },
    {
     "data": {
      "application/vnd.jupyter.widget-view+json": {
       "model_id": "2d85bd2c569c421c9c1b5eb39f1cd261",
       "version_major": 2,
       "version_minor": 0
      },
      "text/plain": [
       "Epoch 455/1000:   0%|          | 0/1 [00:00<?, ?it/s]"
      ]
     },
     "metadata": {},
     "output_type": "display_data"
    },
    {
     "name": "stdout",
     "output_type": "stream",
     "text": [
      "Epoch 455/1000, Loss: 7730.715302566002\n"
     ]
    },
    {
     "data": {
      "application/vnd.jupyter.widget-view+json": {
       "model_id": "069bb0e86842442bbc939a9a79955edf",
       "version_major": 2,
       "version_minor": 0
      },
      "text/plain": [
       "Epoch 456/1000:   0%|          | 0/1 [00:00<?, ?it/s]"
      ]
     },
     "metadata": {},
     "output_type": "display_data"
    },
    {
     "name": "stdout",
     "output_type": "stream",
     "text": [
      "Epoch 456/1000, Loss: 7719.982169315733\n"
     ]
    },
    {
     "data": {
      "application/vnd.jupyter.widget-view+json": {
       "model_id": "bad6ba51946f4464a44baee73b4101af",
       "version_major": 2,
       "version_minor": 0
      },
      "text/plain": [
       "Epoch 457/1000:   0%|          | 0/1 [00:00<?, ?it/s]"
      ]
     },
     "metadata": {},
     "output_type": "display_data"
    },
    {
     "name": "stdout",
     "output_type": "stream",
     "text": [
      "Epoch 457/1000, Loss: 7731.96443123653\n"
     ]
    },
    {
     "data": {
      "application/vnd.jupyter.widget-view+json": {
       "model_id": "ff1d9947b0d449f78c225d1de8ac900f",
       "version_major": 2,
       "version_minor": 0
      },
      "text/plain": [
       "Epoch 458/1000:   0%|          | 0/1 [00:00<?, ?it/s]"
      ]
     },
     "metadata": {},
     "output_type": "display_data"
    },
    {
     "name": "stdout",
     "output_type": "stream",
     "text": [
      "Epoch 458/1000, Loss: 7710.159752155172\n"
     ]
    },
    {
     "data": {
      "application/vnd.jupyter.widget-view+json": {
       "model_id": "f6526a6f3f284f01b718f3666998a6de",
       "version_major": 2,
       "version_minor": 0
      },
      "text/plain": [
       "Epoch 459/1000:   0%|          | 0/1 [00:00<?, ?it/s]"
      ]
     },
     "metadata": {},
     "output_type": "display_data"
    },
    {
     "name": "stdout",
     "output_type": "stream",
     "text": [
      "Epoch 459/1000, Loss: 7695.469819167564\n"
     ]
    },
    {
     "data": {
      "application/vnd.jupyter.widget-view+json": {
       "model_id": "bd7040c42cb243569e6430a5e763a846",
       "version_major": 2,
       "version_minor": 0
      },
      "text/plain": [
       "Epoch 460/1000:   0%|          | 0/1 [00:00<?, ?it/s]"
      ]
     },
     "metadata": {},
     "output_type": "display_data"
    },
    {
     "name": "stdout",
     "output_type": "stream",
     "text": [
      "Epoch 460/1000, Loss: 7702.097151131466\n"
     ]
    },
    {
     "data": {
      "application/vnd.jupyter.widget-view+json": {
       "model_id": "b13452a1d1e943e7832b27d9890ba630",
       "version_major": 2,
       "version_minor": 0
      },
      "text/plain": [
       "Epoch 461/1000:   0%|          | 0/1 [00:00<?, ?it/s]"
      ]
     },
     "metadata": {},
     "output_type": "display_data"
    },
    {
     "name": "stdout",
     "output_type": "stream",
     "text": [
      "Epoch 461/1000, Loss: 7691.117414803341\n"
     ]
    },
    {
     "data": {
      "application/vnd.jupyter.widget-view+json": {
       "model_id": "75782dd4ec6a43bd86d3c75e324bcfb6",
       "version_major": 2,
       "version_minor": 0
      },
      "text/plain": [
       "Epoch 462/1000:   0%|          | 0/1 [00:00<?, ?it/s]"
      ]
     },
     "metadata": {},
     "output_type": "display_data"
    },
    {
     "name": "stdout",
     "output_type": "stream",
     "text": [
      "Epoch 462/1000, Loss: 7711.765418743265\n"
     ]
    },
    {
     "data": {
      "application/vnd.jupyter.widget-view+json": {
       "model_id": "cd2ab8e345c34bc6a7d34f2e02daf6e8",
       "version_major": 2,
       "version_minor": 0
      },
      "text/plain": [
       "Epoch 463/1000:   0%|          | 0/1 [00:00<?, ?it/s]"
      ]
     },
     "metadata": {},
     "output_type": "display_data"
    },
    {
     "name": "stdout",
     "output_type": "stream",
     "text": [
      "Epoch 463/1000, Loss: 7674.30701525458\n"
     ]
    },
    {
     "data": {
      "application/vnd.jupyter.widget-view+json": {
       "model_id": "2ccd12a4e7cc4d8f9e8b38cd5ee6c42d",
       "version_major": 2,
       "version_minor": 0
      },
      "text/plain": [
       "Epoch 464/1000:   0%|          | 0/1 [00:00<?, ?it/s]"
      ]
     },
     "metadata": {},
     "output_type": "display_data"
    },
    {
     "name": "stdout",
     "output_type": "stream",
     "text": [
      "Epoch 464/1000, Loss: 7674.6709994612065\n"
     ]
    },
    {
     "data": {
      "application/vnd.jupyter.widget-view+json": {
       "model_id": "6f89fb2daebb4d8cbf00deff2a182689",
       "version_major": 2,
       "version_minor": 0
      },
      "text/plain": [
       "Epoch 465/1000:   0%|          | 0/1 [00:00<?, ?it/s]"
      ]
     },
     "metadata": {},
     "output_type": "display_data"
    },
    {
     "name": "stdout",
     "output_type": "stream",
     "text": [
      "Epoch 465/1000, Loss: 7682.619957233297\n"
     ]
    },
    {
     "data": {
      "application/vnd.jupyter.widget-view+json": {
       "model_id": "74f228c6fd254218af3d4f4224e2d478",
       "version_major": 2,
       "version_minor": 0
      },
      "text/plain": [
       "Epoch 466/1000:   0%|          | 0/1 [00:00<?, ?it/s]"
      ]
     },
     "metadata": {},
     "output_type": "display_data"
    },
    {
     "name": "stdout",
     "output_type": "stream",
     "text": [
      "Epoch 466/1000, Loss: 7677.519299737339\n"
     ]
    },
    {
     "data": {
      "application/vnd.jupyter.widget-view+json": {
       "model_id": "2cbacdcd898f44d2815a7285230e9832",
       "version_major": 2,
       "version_minor": 0
      },
      "text/plain": [
       "Epoch 467/1000:   0%|          | 0/1 [00:00<?, ?it/s]"
      ]
     },
     "metadata": {},
     "output_type": "display_data"
    },
    {
     "name": "stdout",
     "output_type": "stream",
     "text": [
      "Epoch 467/1000, Loss: 7650.889147528286\n"
     ]
    },
    {
     "data": {
      "application/vnd.jupyter.widget-view+json": {
       "model_id": "d25cc8be0a4e44f4adeac75e099a175a",
       "version_major": 2,
       "version_minor": 0
      },
      "text/plain": [
       "Epoch 468/1000:   0%|          | 0/1 [00:00<?, ?it/s]"
      ]
     },
     "metadata": {},
     "output_type": "display_data"
    },
    {
     "name": "stdout",
     "output_type": "stream",
     "text": [
      "Epoch 468/1000, Loss: 7663.655673323006\n"
     ]
    },
    {
     "data": {
      "application/vnd.jupyter.widget-view+json": {
       "model_id": "c3d3ed51869a429a93f472774f700899",
       "version_major": 2,
       "version_minor": 0
      },
      "text/plain": [
       "Epoch 469/1000:   0%|          | 0/1 [00:00<?, ?it/s]"
      ]
     },
     "metadata": {},
     "output_type": "display_data"
    },
    {
     "name": "stdout",
     "output_type": "stream",
     "text": [
      "Epoch 469/1000, Loss: 7669.136285189925\n"
     ]
    },
    {
     "data": {
      "application/vnd.jupyter.widget-view+json": {
       "model_id": "855cece6be0d41af9ac9af8faa375ba9",
       "version_major": 2,
       "version_minor": 0
      },
      "text/plain": [
       "Epoch 470/1000:   0%|          | 0/1 [00:00<?, ?it/s]"
      ]
     },
     "metadata": {},
     "output_type": "display_data"
    },
    {
     "name": "stdout",
     "output_type": "stream",
     "text": [
      "Epoch 470/1000, Loss: 7639.864851326778\n"
     ]
    },
    {
     "data": {
      "application/vnd.jupyter.widget-view+json": {
       "model_id": "bffeb877005e49e4b3f72b3a659e9803",
       "version_major": 2,
       "version_minor": 0
      },
      "text/plain": [
       "Epoch 471/1000:   0%|          | 0/1 [00:00<?, ?it/s]"
      ]
     },
     "metadata": {},
     "output_type": "display_data"
    },
    {
     "name": "stdout",
     "output_type": "stream",
     "text": [
      "Epoch 471/1000, Loss: 7648.572779162177\n"
     ]
    },
    {
     "data": {
      "application/vnd.jupyter.widget-view+json": {
       "model_id": "e9ff34d462504cd68bd3621664bdb443",
       "version_major": 2,
       "version_minor": 0
      },
      "text/plain": [
       "Epoch 472/1000:   0%|          | 0/1 [00:00<?, ?it/s]"
      ]
     },
     "metadata": {},
     "output_type": "display_data"
    },
    {
     "name": "stdout",
     "output_type": "stream",
     "text": [
      "Epoch 472/1000, Loss: 7652.665598902209\n"
     ]
    },
    {
     "data": {
      "application/vnd.jupyter.widget-view+json": {
       "model_id": "c83a1dcf14c84c5ba1b6b91834a160b2",
       "version_major": 2,
       "version_minor": 0
      },
      "text/plain": [
       "Epoch 473/1000:   0%|          | 0/1 [00:00<?, ?it/s]"
      ]
     },
     "metadata": {},
     "output_type": "display_data"
    },
    {
     "name": "stdout",
     "output_type": "stream",
     "text": [
      "Epoch 473/1000, Loss: 7658.527920426994\n"
     ]
    },
    {
     "data": {
      "application/vnd.jupyter.widget-view+json": {
       "model_id": "7e7eb10985f94dcd9036e78ca970a8d9",
       "version_major": 2,
       "version_minor": 0
      },
      "text/plain": [
       "Epoch 474/1000:   0%|          | 0/1 [00:00<?, ?it/s]"
      ]
     },
     "metadata": {},
     "output_type": "display_data"
    },
    {
     "name": "stdout",
     "output_type": "stream",
     "text": [
      "Epoch 474/1000, Loss: 7630.3968716325435\n"
     ]
    },
    {
     "data": {
      "application/vnd.jupyter.widget-view+json": {
       "model_id": "7df2aa2afd7642ff8d732a722e352ef4",
       "version_major": 2,
       "version_minor": 0
      },
      "text/plain": [
       "Epoch 475/1000:   0%|          | 0/1 [00:00<?, ?it/s]"
      ]
     },
     "metadata": {},
     "output_type": "display_data"
    },
    {
     "name": "stdout",
     "output_type": "stream",
     "text": [
      "Epoch 475/1000, Loss: 7627.935130152209\n"
     ]
    },
    {
     "data": {
      "application/vnd.jupyter.widget-view+json": {
       "model_id": "87f770cff4314b37b28ff739b3d4908e",
       "version_major": 2,
       "version_minor": 0
      },
      "text/plain": [
       "Epoch 476/1000:   0%|          | 0/1 [00:00<?, ?it/s]"
      ]
     },
     "metadata": {},
     "output_type": "display_data"
    },
    {
     "name": "stdout",
     "output_type": "stream",
     "text": [
      "Epoch 476/1000, Loss: 7631.676774649784\n"
     ]
    },
    {
     "data": {
      "application/vnd.jupyter.widget-view+json": {
       "model_id": "bbd20ec84797429ba2bd26e1c771f8fa",
       "version_major": 2,
       "version_minor": 0
      },
      "text/plain": [
       "Epoch 477/1000:   0%|          | 0/1 [00:00<?, ?it/s]"
      ]
     },
     "metadata": {},
     "output_type": "display_data"
    },
    {
     "name": "stdout",
     "output_type": "stream",
     "text": [
      "Epoch 477/1000, Loss: 7630.536099137931\n"
     ]
    },
    {
     "data": {
      "application/vnd.jupyter.widget-view+json": {
       "model_id": "04fb272771614e7899c46565d358bb50",
       "version_major": 2,
       "version_minor": 0
      },
      "text/plain": [
       "Epoch 478/1000:   0%|          | 0/1 [00:00<?, ?it/s]"
      ]
     },
     "metadata": {},
     "output_type": "display_data"
    },
    {
     "name": "stdout",
     "output_type": "stream",
     "text": [
      "Epoch 478/1000, Loss: 7638.29357068292\n"
     ]
    },
    {
     "data": {
      "application/vnd.jupyter.widget-view+json": {
       "model_id": "13e1c92f9a4a49a1aca1f97f3c64a4f2",
       "version_major": 2,
       "version_minor": 0
      },
      "text/plain": [
       "Epoch 479/1000:   0%|          | 0/1 [00:00<?, ?it/s]"
      ]
     },
     "metadata": {},
     "output_type": "display_data"
    },
    {
     "name": "stdout",
     "output_type": "stream",
     "text": [
      "Epoch 479/1000, Loss: 7608.294951340248\n"
     ]
    },
    {
     "data": {
      "application/vnd.jupyter.widget-view+json": {
       "model_id": "0652062257274387b46c72c1b2e00dd1",
       "version_major": 2,
       "version_minor": 0
      },
      "text/plain": [
       "Epoch 480/1000:   0%|          | 0/1 [00:00<?, ?it/s]"
      ]
     },
     "metadata": {},
     "output_type": "display_data"
    },
    {
     "name": "stdout",
     "output_type": "stream",
     "text": [
      "Epoch 480/1000, Loss: 7612.059208310884\n"
     ]
    },
    {
     "data": {
      "application/vnd.jupyter.widget-view+json": {
       "model_id": "867b90acdd65401a9cde5bfd65e061e6",
       "version_major": 2,
       "version_minor": 0
      },
      "text/plain": [
       "Epoch 481/1000:   0%|          | 0/1 [00:00<?, ?it/s]"
      ]
     },
     "metadata": {},
     "output_type": "display_data"
    },
    {
     "name": "stdout",
     "output_type": "stream",
     "text": [
      "Epoch 481/1000, Loss: 7606.509113180226\n"
     ]
    },
    {
     "data": {
      "application/vnd.jupyter.widget-view+json": {
       "model_id": "bab25bf0207a4858b037a75f665b08ce",
       "version_major": 2,
       "version_minor": 0
      },
      "text/plain": [
       "Epoch 482/1000:   0%|          | 0/1 [00:00<?, ?it/s]"
      ]
     },
     "metadata": {},
     "output_type": "display_data"
    },
    {
     "name": "stdout",
     "output_type": "stream",
     "text": [
      "Epoch 482/1000, Loss: 7611.5665283203125\n"
     ]
    },
    {
     "data": {
      "application/vnd.jupyter.widget-view+json": {
       "model_id": "03d4533138cd4af3a646d1adfdff287c",
       "version_major": 2,
       "version_minor": 0
      },
      "text/plain": [
       "Epoch 483/1000:   0%|          | 0/1 [00:00<?, ?it/s]"
      ]
     },
     "metadata": {},
     "output_type": "display_data"
    },
    {
     "name": "stdout",
     "output_type": "stream",
     "text": [
      "Epoch 483/1000, Loss: 7604.815151872306\n"
     ]
    },
    {
     "data": {
      "application/vnd.jupyter.widget-view+json": {
       "model_id": "eb83fc8d5d0542a5bbb4d9139fa8df19",
       "version_major": 2,
       "version_minor": 0
      },
      "text/plain": [
       "Epoch 484/1000:   0%|          | 0/1 [00:00<?, ?it/s]"
      ]
     },
     "metadata": {},
     "output_type": "display_data"
    },
    {
     "name": "stdout",
     "output_type": "stream",
     "text": [
      "Epoch 484/1000, Loss: 7611.224937702047\n"
     ]
    },
    {
     "data": {
      "application/vnd.jupyter.widget-view+json": {
       "model_id": "763e1eabd91f4924bde36f4d32bf8275",
       "version_major": 2,
       "version_minor": 0
      },
      "text/plain": [
       "Epoch 485/1000:   0%|          | 0/1 [00:00<?, ?it/s]"
      ]
     },
     "metadata": {},
     "output_type": "display_data"
    },
    {
     "name": "stdout",
     "output_type": "stream",
     "text": [
      "Epoch 485/1000, Loss: 7624.732240874192\n"
     ]
    },
    {
     "data": {
      "application/vnd.jupyter.widget-view+json": {
       "model_id": "000653408193442e8e5cf41c0a2d1586",
       "version_major": 2,
       "version_minor": 0
      },
      "text/plain": [
       "Epoch 486/1000:   0%|          | 0/1 [00:00<?, ?it/s]"
      ]
     },
     "metadata": {},
     "output_type": "display_data"
    },
    {
     "name": "stdout",
     "output_type": "stream",
     "text": [
      "Epoch 486/1000, Loss: 7590.980940193966\n"
     ]
    },
    {
     "data": {
      "application/vnd.jupyter.widget-view+json": {
       "model_id": "00c5cf4774d4463d990b0abdaabed4af",
       "version_major": 2,
       "version_minor": 0
      },
      "text/plain": [
       "Epoch 487/1000:   0%|          | 0/1 [00:00<?, ?it/s]"
      ]
     },
     "metadata": {},
     "output_type": "display_data"
    },
    {
     "name": "stdout",
     "output_type": "stream",
     "text": [
      "Epoch 487/1000, Loss: 7604.063392376078\n"
     ]
    },
    {
     "data": {
      "application/vnd.jupyter.widget-view+json": {
       "model_id": "452d5a54b6e54214b01ea329ccaae4ba",
       "version_major": 2,
       "version_minor": 0
      },
      "text/plain": [
       "Epoch 488/1000:   0%|          | 0/1 [00:00<?, ?it/s]"
      ]
     },
     "metadata": {},
     "output_type": "display_data"
    },
    {
     "name": "stdout",
     "output_type": "stream",
     "text": [
      "Epoch 488/1000, Loss: 7584.241122541756\n"
     ]
    },
    {
     "data": {
      "application/vnd.jupyter.widget-view+json": {
       "model_id": "63f482fc4c8141b8bfc666c58bd44b18",
       "version_major": 2,
       "version_minor": 0
      },
      "text/plain": [
       "Epoch 489/1000:   0%|          | 0/1 [00:00<?, ?it/s]"
      ]
     },
     "metadata": {},
     "output_type": "display_data"
    },
    {
     "name": "stdout",
     "output_type": "stream",
     "text": [
      "Epoch 489/1000, Loss: 7591.031915072737\n"
     ]
    },
    {
     "data": {
      "application/vnd.jupyter.widget-view+json": {
       "model_id": "37e88ae210fc4230a721bf3504fdd3a6",
       "version_major": 2,
       "version_minor": 0
      },
      "text/plain": [
       "Epoch 490/1000:   0%|          | 0/1 [00:00<?, ?it/s]"
      ]
     },
     "metadata": {},
     "output_type": "display_data"
    },
    {
     "name": "stdout",
     "output_type": "stream",
     "text": [
      "Epoch 490/1000, Loss: 7592.020490975216\n"
     ]
    },
    {
     "data": {
      "application/vnd.jupyter.widget-view+json": {
       "model_id": "67f642a761e04fdd9137ee89ddcf954a",
       "version_major": 2,
       "version_minor": 0
      },
      "text/plain": [
       "Epoch 491/1000:   0%|          | 0/1 [00:00<?, ?it/s]"
      ]
     },
     "metadata": {},
     "output_type": "display_data"
    },
    {
     "name": "stdout",
     "output_type": "stream",
     "text": [
      "Epoch 491/1000, Loss: 7579.533320985991\n"
     ]
    },
    {
     "data": {
      "application/vnd.jupyter.widget-view+json": {
       "model_id": "571b05002023403db1d3826c1c96c245",
       "version_major": 2,
       "version_minor": 0
      },
      "text/plain": [
       "Epoch 492/1000:   0%|          | 0/1 [00:00<?, ?it/s]"
      ]
     },
     "metadata": {},
     "output_type": "display_data"
    },
    {
     "name": "stdout",
     "output_type": "stream",
     "text": [
      "Epoch 492/1000, Loss: 7565.880547885237\n"
     ]
    },
    {
     "data": {
      "application/vnd.jupyter.widget-view+json": {
       "model_id": "f7e0774ed7b042db96bdc011338b3571",
       "version_major": 2,
       "version_minor": 0
      },
      "text/plain": [
       "Epoch 493/1000:   0%|          | 0/1 [00:00<?, ?it/s]"
      ]
     },
     "metadata": {},
     "output_type": "display_data"
    },
    {
     "name": "stdout",
     "output_type": "stream",
     "text": [
      "Epoch 493/1000, Loss: 7568.673466123384\n"
     ]
    },
    {
     "data": {
      "application/vnd.jupyter.widget-view+json": {
       "model_id": "94b05a1a09dc4a738f122282243bde68",
       "version_major": 2,
       "version_minor": 0
      },
      "text/plain": [
       "Epoch 494/1000:   0%|          | 0/1 [00:00<?, ?it/s]"
      ]
     },
     "metadata": {},
     "output_type": "display_data"
    },
    {
     "name": "stdout",
     "output_type": "stream",
     "text": [
      "Epoch 494/1000, Loss: 7563.878838900862\n"
     ]
    },
    {
     "data": {
      "application/vnd.jupyter.widget-view+json": {
       "model_id": "b2f7eca55d1545e8ae3ac1ee8dd5e897",
       "version_major": 2,
       "version_minor": 0
      },
      "text/plain": [
       "Epoch 495/1000:   0%|          | 0/1 [00:00<?, ?it/s]"
      ]
     },
     "metadata": {},
     "output_type": "display_data"
    },
    {
     "name": "stdout",
     "output_type": "stream",
     "text": [
      "Epoch 495/1000, Loss: 7573.638162547144\n"
     ]
    },
    {
     "data": {
      "application/vnd.jupyter.widget-view+json": {
       "model_id": "477f243f34eb46028a9757c0bd312472",
       "version_major": 2,
       "version_minor": 0
      },
      "text/plain": [
       "Epoch 496/1000:   0%|          | 0/1 [00:00<?, ?it/s]"
      ]
     },
     "metadata": {},
     "output_type": "display_data"
    },
    {
     "name": "stdout",
     "output_type": "stream",
     "text": [
      "Epoch 496/1000, Loss: 7557.528539197198\n"
     ]
    },
    {
     "data": {
      "application/vnd.jupyter.widget-view+json": {
       "model_id": "b5c4c4dc21fe44bf86964b19b2a1faa4",
       "version_major": 2,
       "version_minor": 0
      },
      "text/plain": [
       "Epoch 497/1000:   0%|          | 0/1 [00:00<?, ?it/s]"
      ]
     },
     "metadata": {},
     "output_type": "display_data"
    },
    {
     "name": "stdout",
     "output_type": "stream",
     "text": [
      "Epoch 497/1000, Loss: 7552.97577535695\n"
     ]
    },
    {
     "data": {
      "application/vnd.jupyter.widget-view+json": {
       "model_id": "7aa1d2fe07f044f68cbb6d480462f1d4",
       "version_major": 2,
       "version_minor": 0
      },
      "text/plain": [
       "Epoch 498/1000:   0%|          | 0/1 [00:00<?, ?it/s]"
      ]
     },
     "metadata": {},
     "output_type": "display_data"
    },
    {
     "name": "stdout",
     "output_type": "stream",
     "text": [
      "Epoch 498/1000, Loss: 7562.202594625539\n"
     ]
    },
    {
     "data": {
      "application/vnd.jupyter.widget-view+json": {
       "model_id": "52d9587faef2412fb4001b5fe68d6a69",
       "version_major": 2,
       "version_minor": 0
      },
      "text/plain": [
       "Epoch 499/1000:   0%|          | 0/1 [00:00<?, ?it/s]"
      ]
     },
     "metadata": {},
     "output_type": "display_data"
    },
    {
     "name": "stdout",
     "output_type": "stream",
     "text": [
      "Epoch 499/1000, Loss: 7575.427671235183\n"
     ]
    },
    {
     "data": {
      "application/vnd.jupyter.widget-view+json": {
       "model_id": "5366397eb05442dfade20e4a4d8b7075",
       "version_major": 2,
       "version_minor": 0
      },
      "text/plain": [
       "Epoch 500/1000:   0%|          | 0/1 [00:00<?, ?it/s]"
      ]
     },
     "metadata": {},
     "output_type": "display_data"
    },
    {
     "name": "stdout",
     "output_type": "stream",
     "text": [
      "Epoch 500/1000, Loss: 7557.911629512392\n"
     ]
    },
    {
     "data": {
      "application/vnd.jupyter.widget-view+json": {
       "model_id": "729c4d7203cf4132b91c26efd504a3c9",
       "version_major": 2,
       "version_minor": 0
      },
      "text/plain": [
       "Epoch 501/1000:   0%|          | 0/1 [00:00<?, ?it/s]"
      ]
     },
     "metadata": {},
     "output_type": "display_data"
    },
    {
     "name": "stdout",
     "output_type": "stream",
     "text": [
      "Epoch 501/1000, Loss: 7548.666015625\n"
     ]
    },
    {
     "data": {
      "application/vnd.jupyter.widget-view+json": {
       "model_id": "b41ed5909d8b4aaeae4f4721dbf702d0",
       "version_major": 2,
       "version_minor": 0
      },
      "text/plain": [
       "Epoch 502/1000:   0%|          | 0/1 [00:00<?, ?it/s]"
      ]
     },
     "metadata": {},
     "output_type": "display_data"
    },
    {
     "name": "stdout",
     "output_type": "stream",
     "text": [
      "Epoch 502/1000, Loss: 7544.402541588092\n"
     ]
    },
    {
     "data": {
      "application/vnd.jupyter.widget-view+json": {
       "model_id": "1e8f93ab9a0c4148bc79c539d326352e",
       "version_major": 2,
       "version_minor": 0
      },
      "text/plain": [
       "Epoch 503/1000:   0%|          | 0/1 [00:00<?, ?it/s]"
      ]
     },
     "metadata": {},
     "output_type": "display_data"
    },
    {
     "name": "stdout",
     "output_type": "stream",
     "text": [
      "Epoch 503/1000, Loss: 7544.81539180361\n"
     ]
    },
    {
     "data": {
      "application/vnd.jupyter.widget-view+json": {
       "model_id": "9d894aff6bdb4c8d9f824a7ba0ceccd7",
       "version_major": 2,
       "version_minor": 0
      },
      "text/plain": [
       "Epoch 504/1000:   0%|          | 0/1 [00:00<?, ?it/s]"
      ]
     },
     "metadata": {},
     "output_type": "display_data"
    },
    {
     "name": "stdout",
     "output_type": "stream",
     "text": [
      "Epoch 504/1000, Loss: 7535.178921403556\n"
     ]
    },
    {
     "data": {
      "application/vnd.jupyter.widget-view+json": {
       "model_id": "f4161c4bd8f14d79add32d7307396cc7",
       "version_major": 2,
       "version_minor": 0
      },
      "text/plain": [
       "Epoch 505/1000:   0%|          | 0/1 [00:00<?, ?it/s]"
      ]
     },
     "metadata": {},
     "output_type": "display_data"
    },
    {
     "name": "stdout",
     "output_type": "stream",
     "text": [
      "Epoch 505/1000, Loss: 7536.352741109914\n"
     ]
    },
    {
     "data": {
      "application/vnd.jupyter.widget-view+json": {
       "model_id": "f7ed113b4d904573913630a60952d2b6",
       "version_major": 2,
       "version_minor": 0
      },
      "text/plain": [
       "Epoch 506/1000:   0%|          | 0/1 [00:00<?, ?it/s]"
      ]
     },
     "metadata": {},
     "output_type": "display_data"
    },
    {
     "name": "stdout",
     "output_type": "stream",
     "text": [
      "Epoch 506/1000, Loss: 7549.5799350080815\n"
     ]
    },
    {
     "data": {
      "application/vnd.jupyter.widget-view+json": {
       "model_id": "87333fe76620418bafcb26cdded07e4d",
       "version_major": 2,
       "version_minor": 0
      },
      "text/plain": [
       "Epoch 507/1000:   0%|          | 0/1 [00:00<?, ?it/s]"
      ]
     },
     "metadata": {},
     "output_type": "display_data"
    },
    {
     "name": "stdout",
     "output_type": "stream",
     "text": [
      "Epoch 507/1000, Loss: 7532.949109307651\n"
     ]
    },
    {
     "data": {
      "application/vnd.jupyter.widget-view+json": {
       "model_id": "3c8247b0b2d146fd82a38852aed15329",
       "version_major": 2,
       "version_minor": 0
      },
      "text/plain": [
       "Epoch 508/1000:   0%|          | 0/1 [00:00<?, ?it/s]"
      ]
     },
     "metadata": {},
     "output_type": "display_data"
    },
    {
     "name": "stdout",
     "output_type": "stream",
     "text": [
      "Epoch 508/1000, Loss: 7538.123219457166\n"
     ]
    },
    {
     "data": {
      "application/vnd.jupyter.widget-view+json": {
       "model_id": "148eaa63150340ffab174fdfbbddf004",
       "version_major": 2,
       "version_minor": 0
      },
      "text/plain": [
       "Epoch 509/1000:   0%|          | 0/1 [00:00<?, ?it/s]"
      ]
     },
     "metadata": {},
     "output_type": "display_data"
    },
    {
     "name": "stdout",
     "output_type": "stream",
     "text": [
      "Epoch 509/1000, Loss: 7517.155690160291\n"
     ]
    },
    {
     "data": {
      "application/vnd.jupyter.widget-view+json": {
       "model_id": "423c3bc84a3f4373af6dd92f22829c40",
       "version_major": 2,
       "version_minor": 0
      },
      "text/plain": [
       "Epoch 510/1000:   0%|          | 0/1 [00:00<?, ?it/s]"
      ]
     },
     "metadata": {},
     "output_type": "display_data"
    },
    {
     "name": "stdout",
     "output_type": "stream",
     "text": [
      "Epoch 510/1000, Loss: 7531.101044753502\n"
     ]
    },
    {
     "data": {
      "application/vnd.jupyter.widget-view+json": {
       "model_id": "e116122ff73246dbb80800070a98a340",
       "version_major": 2,
       "version_minor": 0
      },
      "text/plain": [
       "Epoch 511/1000:   0%|          | 0/1 [00:00<?, ?it/s]"
      ]
     },
     "metadata": {},
     "output_type": "display_data"
    },
    {
     "name": "stdout",
     "output_type": "stream",
     "text": [
      "Epoch 511/1000, Loss: 7517.099853515625\n"
     ]
    },
    {
     "data": {
      "application/vnd.jupyter.widget-view+json": {
       "model_id": "591bf6d262af463cac0ee69b3b7ab7d7",
       "version_major": 2,
       "version_minor": 0
      },
      "text/plain": [
       "Epoch 512/1000:   0%|          | 0/1 [00:00<?, ?it/s]"
      ]
     },
     "metadata": {},
     "output_type": "display_data"
    },
    {
     "name": "stdout",
     "output_type": "stream",
     "text": [
      "Epoch 512/1000, Loss: 7512.912917564655\n"
     ]
    },
    {
     "data": {
      "application/vnd.jupyter.widget-view+json": {
       "model_id": "2d7bdd7656734c85934c26b67bd469e1",
       "version_major": 2,
       "version_minor": 0
      },
      "text/plain": [
       "Epoch 513/1000:   0%|          | 0/1 [00:00<?, ?it/s]"
      ]
     },
     "metadata": {},
     "output_type": "display_data"
    },
    {
     "name": "stdout",
     "output_type": "stream",
     "text": [
      "Epoch 513/1000, Loss: 7515.74158556708\n"
     ]
    },
    {
     "data": {
      "application/vnd.jupyter.widget-view+json": {
       "model_id": "04c7985ac3534b72b2bcb49b5fa7a36d",
       "version_major": 2,
       "version_minor": 0
      },
      "text/plain": [
       "Epoch 514/1000:   0%|          | 0/1 [00:00<?, ?it/s]"
      ]
     },
     "metadata": {},
     "output_type": "display_data"
    },
    {
     "name": "stdout",
     "output_type": "stream",
     "text": [
      "Epoch 514/1000, Loss: 7509.406729862608\n"
     ]
    },
    {
     "data": {
      "application/vnd.jupyter.widget-view+json": {
       "model_id": "79a0f546513143ee9aadb9c6f1872dec",
       "version_major": 2,
       "version_minor": 0
      },
      "text/plain": [
       "Epoch 515/1000:   0%|          | 0/1 [00:00<?, ?it/s]"
      ]
     },
     "metadata": {},
     "output_type": "display_data"
    },
    {
     "name": "stdout",
     "output_type": "stream",
     "text": [
      "Epoch 515/1000, Loss: 7509.491686590786\n"
     ]
    },
    {
     "data": {
      "application/vnd.jupyter.widget-view+json": {
       "model_id": "e2638630d7094a8681e1c72f2a40ac61",
       "version_major": 2,
       "version_minor": 0
      },
      "text/plain": [
       "Epoch 516/1000:   0%|          | 0/1 [00:00<?, ?it/s]"
      ]
     },
     "metadata": {},
     "output_type": "display_data"
    },
    {
     "name": "stdout",
     "output_type": "stream",
     "text": [
      "Epoch 516/1000, Loss: 7495.795671134159\n"
     ]
    },
    {
     "data": {
      "application/vnd.jupyter.widget-view+json": {
       "model_id": "1786b45edf2243b785ad8526bbf1607b",
       "version_major": 2,
       "version_minor": 0
      },
      "text/plain": [
       "Epoch 517/1000:   0%|          | 0/1 [00:00<?, ?it/s]"
      ]
     },
     "metadata": {},
     "output_type": "display_data"
    },
    {
     "name": "stdout",
     "output_type": "stream",
     "text": [
      "Epoch 517/1000, Loss: 7505.136499865302\n"
     ]
    },
    {
     "data": {
      "application/vnd.jupyter.widget-view+json": {
       "model_id": "85bcf956efe6418c9d55e027b47823b9",
       "version_major": 2,
       "version_minor": 0
      },
      "text/plain": [
       "Epoch 518/1000:   0%|          | 0/1 [00:00<?, ?it/s]"
      ]
     },
     "metadata": {},
     "output_type": "display_data"
    },
    {
     "name": "stdout",
     "output_type": "stream",
     "text": [
      "Epoch 518/1000, Loss: 7494.3187045393315\n"
     ]
    },
    {
     "data": {
      "application/vnd.jupyter.widget-view+json": {
       "model_id": "7d67da30b7c045b6b6655c9c94537788",
       "version_major": 2,
       "version_minor": 0
      },
      "text/plain": [
       "Epoch 519/1000:   0%|          | 0/1 [00:00<?, ?it/s]"
      ]
     },
     "metadata": {},
     "output_type": "display_data"
    },
    {
     "name": "stdout",
     "output_type": "stream",
     "text": [
      "Epoch 519/1000, Loss: 7493.442374393858\n"
     ]
    },
    {
     "data": {
      "application/vnd.jupyter.widget-view+json": {
       "model_id": "9c973e0e5f7d4d3cbcb54c7f19bbcd34",
       "version_major": 2,
       "version_minor": 0
      },
      "text/plain": [
       "Epoch 520/1000:   0%|          | 0/1 [00:00<?, ?it/s]"
      ]
     },
     "metadata": {},
     "output_type": "display_data"
    },
    {
     "name": "stdout",
     "output_type": "stream",
     "text": [
      "Epoch 520/1000, Loss: 7490.138945480873\n"
     ]
    },
    {
     "data": {
      "application/vnd.jupyter.widget-view+json": {
       "model_id": "194cf6e72a704c319908387b70afbee5",
       "version_major": 2,
       "version_minor": 0
      },
      "text/plain": [
       "Epoch 521/1000:   0%|          | 0/1 [00:00<?, ?it/s]"
      ]
     },
     "metadata": {},
     "output_type": "display_data"
    },
    {
     "name": "stdout",
     "output_type": "stream",
     "text": [
      "Epoch 521/1000, Loss: 7498.088227370689\n"
     ]
    },
    {
     "data": {
      "application/vnd.jupyter.widget-view+json": {
       "model_id": "857f33c3cbab4541bbea9138441abf60",
       "version_major": 2,
       "version_minor": 0
      },
      "text/plain": [
       "Epoch 522/1000:   0%|          | 0/1 [00:00<?, ?it/s]"
      ]
     },
     "metadata": {},
     "output_type": "display_data"
    },
    {
     "name": "stdout",
     "output_type": "stream",
     "text": [
      "Epoch 522/1000, Loss: 7486.342074690194\n"
     ]
    },
    {
     "data": {
      "application/vnd.jupyter.widget-view+json": {
       "model_id": "679efb122b234900af6f4bddda0bfe6f",
       "version_major": 2,
       "version_minor": 0
      },
      "text/plain": [
       "Epoch 523/1000:   0%|          | 0/1 [00:00<?, ?it/s]"
      ]
     },
     "metadata": {},
     "output_type": "display_data"
    },
    {
     "name": "stdout",
     "output_type": "stream",
     "text": [
      "Epoch 523/1000, Loss: 7488.688059839709\n"
     ]
    },
    {
     "data": {
      "application/vnd.jupyter.widget-view+json": {
       "model_id": "e183a22fb82b4ea59cec0282e2660d4b",
       "version_major": 2,
       "version_minor": 0
      },
      "text/plain": [
       "Epoch 524/1000:   0%|          | 0/1 [00:00<?, ?it/s]"
      ]
     },
     "metadata": {},
     "output_type": "display_data"
    },
    {
     "name": "stdout",
     "output_type": "stream",
     "text": [
      "Epoch 524/1000, Loss: 7495.159381734914\n"
     ]
    },
    {
     "data": {
      "application/vnd.jupyter.widget-view+json": {
       "model_id": "3ae1b1c4d60145339c1f7332243198c0",
       "version_major": 2,
       "version_minor": 0
      },
      "text/plain": [
       "Epoch 525/1000:   0%|          | 0/1 [00:00<?, ?it/s]"
      ]
     },
     "metadata": {},
     "output_type": "display_data"
    },
    {
     "name": "stdout",
     "output_type": "stream",
     "text": [
      "Epoch 525/1000, Loss: 7485.8445413523705\n"
     ]
    },
    {
     "data": {
      "application/vnd.jupyter.widget-view+json": {
       "model_id": "1fea7f79efc447d0a318de82781da194",
       "version_major": 2,
       "version_minor": 0
      },
      "text/plain": [
       "Epoch 526/1000:   0%|          | 0/1 [00:00<?, ?it/s]"
      ]
     },
     "metadata": {},
     "output_type": "display_data"
    },
    {
     "name": "stdout",
     "output_type": "stream",
     "text": [
      "Epoch 526/1000, Loss: 7499.498417295259\n"
     ]
    },
    {
     "data": {
      "application/vnd.jupyter.widget-view+json": {
       "model_id": "c65ec736d6f149a2a20117f7e997a2c3",
       "version_major": 2,
       "version_minor": 0
      },
      "text/plain": [
       "Epoch 527/1000:   0%|          | 0/1 [00:00<?, ?it/s]"
      ]
     },
     "metadata": {},
     "output_type": "display_data"
    },
    {
     "name": "stdout",
     "output_type": "stream",
     "text": [
      "Epoch 527/1000, Loss: 7475.616951778017\n"
     ]
    },
    {
     "data": {
      "application/vnd.jupyter.widget-view+json": {
       "model_id": "8eb2f93f3d1c46738865694e2402d544",
       "version_major": 2,
       "version_minor": 0
      },
      "text/plain": [
       "Epoch 528/1000:   0%|          | 0/1 [00:00<?, ?it/s]"
      ]
     },
     "metadata": {},
     "output_type": "display_data"
    },
    {
     "name": "stdout",
     "output_type": "stream",
     "text": [
      "Epoch 528/1000, Loss: 7467.492153825431\n"
     ]
    },
    {
     "data": {
      "application/vnd.jupyter.widget-view+json": {
       "model_id": "f0e61aedcf404269a1050fdc4c2f6067",
       "version_major": 2,
       "version_minor": 0
      },
      "text/plain": [
       "Epoch 529/1000:   0%|          | 0/1 [00:00<?, ?it/s]"
      ]
     },
     "metadata": {},
     "output_type": "display_data"
    },
    {
     "name": "stdout",
     "output_type": "stream",
     "text": [
      "Epoch 529/1000, Loss: 7482.072762324892\n"
     ]
    },
    {
     "data": {
      "application/vnd.jupyter.widget-view+json": {
       "model_id": "5759f77b50a045c38e53bbb96f245932",
       "version_major": 2,
       "version_minor": 0
      },
      "text/plain": [
       "Epoch 530/1000:   0%|          | 0/1 [00:00<?, ?it/s]"
      ]
     },
     "metadata": {},
     "output_type": "display_data"
    },
    {
     "name": "stdout",
     "output_type": "stream",
     "text": [
      "Epoch 530/1000, Loss: 7463.679333917026\n"
     ]
    },
    {
     "data": {
      "application/vnd.jupyter.widget-view+json": {
       "model_id": "a0a9b6414d1f46e288e0a72df440bed0",
       "version_major": 2,
       "version_minor": 0
      },
      "text/plain": [
       "Epoch 531/1000:   0%|          | 0/1 [00:00<?, ?it/s]"
      ]
     },
     "metadata": {},
     "output_type": "display_data"
    },
    {
     "name": "stdout",
     "output_type": "stream",
     "text": [
      "Epoch 531/1000, Loss: 7460.617254849138\n"
     ]
    },
    {
     "data": {
      "application/vnd.jupyter.widget-view+json": {
       "model_id": "501fb0c138d347b9b9be68359e9a872c",
       "version_major": 2,
       "version_minor": 0
      },
      "text/plain": [
       "Epoch 532/1000:   0%|          | 0/1 [00:00<?, ?it/s]"
      ]
     },
     "metadata": {},
     "output_type": "display_data"
    },
    {
     "name": "stdout",
     "output_type": "stream",
     "text": [
      "Epoch 532/1000, Loss: 7461.230552936422\n"
     ]
    },
    {
     "data": {
      "application/vnd.jupyter.widget-view+json": {
       "model_id": "75e84472e13841369f030e5126142364",
       "version_major": 2,
       "version_minor": 0
      },
      "text/plain": [
       "Epoch 533/1000:   0%|          | 0/1 [00:00<?, ?it/s]"
      ]
     },
     "metadata": {},
     "output_type": "display_data"
    },
    {
     "name": "stdout",
     "output_type": "stream",
     "text": [
      "Epoch 533/1000, Loss: 7451.880632071659\n"
     ]
    },
    {
     "data": {
      "application/vnd.jupyter.widget-view+json": {
       "model_id": "9e3e5ae8f8994011bd70d058cba18e71",
       "version_major": 2,
       "version_minor": 0
      },
      "text/plain": [
       "Epoch 534/1000:   0%|          | 0/1 [00:00<?, ?it/s]"
      ]
     },
     "metadata": {},
     "output_type": "display_data"
    },
    {
     "name": "stdout",
     "output_type": "stream",
     "text": [
      "Epoch 534/1000, Loss: 7462.72603633486\n"
     ]
    },
    {
     "data": {
      "application/vnd.jupyter.widget-view+json": {
       "model_id": "0e15a40bbd5c4c03a1daa649bc1539aa",
       "version_major": 2,
       "version_minor": 0
      },
      "text/plain": [
       "Epoch 535/1000:   0%|          | 0/1 [00:00<?, ?it/s]"
      ]
     },
     "metadata": {},
     "output_type": "display_data"
    },
    {
     "name": "stdout",
     "output_type": "stream",
     "text": [
      "Epoch 535/1000, Loss: 7454.38732068292\n"
     ]
    },
    {
     "data": {
      "application/vnd.jupyter.widget-view+json": {
       "model_id": "6a980356dd7a44f2bc2429978211ed63",
       "version_major": 2,
       "version_minor": 0
      },
      "text/plain": [
       "Epoch 536/1000:   0%|          | 0/1 [00:00<?, ?it/s]"
      ]
     },
     "metadata": {},
     "output_type": "display_data"
    },
    {
     "name": "stdout",
     "output_type": "stream",
     "text": [
      "Epoch 536/1000, Loss: 7461.443982354526\n"
     ]
    },
    {
     "data": {
      "application/vnd.jupyter.widget-view+json": {
       "model_id": "756cd27a8eff42059068e49bac1d262c",
       "version_major": 2,
       "version_minor": 0
      },
      "text/plain": [
       "Epoch 537/1000:   0%|          | 0/1 [00:00<?, ?it/s]"
      ]
     },
     "metadata": {},
     "output_type": "display_data"
    },
    {
     "name": "stdout",
     "output_type": "stream",
     "text": [
      "Epoch 537/1000, Loss: 7453.148269127155\n"
     ]
    },
    {
     "data": {
      "application/vnd.jupyter.widget-view+json": {
       "model_id": "7bf2f2460c7a4b3c9801184b5e111dab",
       "version_major": 2,
       "version_minor": 0
      },
      "text/plain": [
       "Epoch 538/1000:   0%|          | 0/1 [00:00<?, ?it/s]"
      ]
     },
     "metadata": {},
     "output_type": "display_data"
    },
    {
     "name": "stdout",
     "output_type": "stream",
     "text": [
      "Epoch 538/1000, Loss: 7446.254743904903\n"
     ]
    },
    {
     "data": {
      "application/vnd.jupyter.widget-view+json": {
       "model_id": "0471f80803274112b7d8c22d248e1417",
       "version_major": 2,
       "version_minor": 0
      },
      "text/plain": [
       "Epoch 539/1000:   0%|          | 0/1 [00:00<?, ?it/s]"
      ]
     },
     "metadata": {},
     "output_type": "display_data"
    },
    {
     "name": "stdout",
     "output_type": "stream",
     "text": [
      "Epoch 539/1000, Loss: 7442.8444277007\n"
     ]
    },
    {
     "data": {
      "application/vnd.jupyter.widget-view+json": {
       "model_id": "a85719cf5a8c4f4a9dc3ca089aa679b7",
       "version_major": 2,
       "version_minor": 0
      },
      "text/plain": [
       "Epoch 540/1000:   0%|          | 0/1 [00:00<?, ?it/s]"
      ]
     },
     "metadata": {},
     "output_type": "display_data"
    },
    {
     "name": "stdout",
     "output_type": "stream",
     "text": [
      "Epoch 540/1000, Loss: 7450.709889379041\n"
     ]
    },
    {
     "data": {
      "application/vnd.jupyter.widget-view+json": {
       "model_id": "975ef638add24ac3a5722d4f697148ee",
       "version_major": 2,
       "version_minor": 0
      },
      "text/plain": [
       "Epoch 541/1000:   0%|          | 0/1 [00:00<?, ?it/s]"
      ]
     },
     "metadata": {},
     "output_type": "display_data"
    },
    {
     "name": "stdout",
     "output_type": "stream",
     "text": [
      "Epoch 541/1000, Loss: 7432.514968345905\n"
     ]
    },
    {
     "data": {
      "application/vnd.jupyter.widget-view+json": {
       "model_id": "2c194b1907fb41aeb2ae247c39492570",
       "version_major": 2,
       "version_minor": 0
      },
      "text/plain": [
       "Epoch 542/1000:   0%|          | 0/1 [00:00<?, ?it/s]"
      ]
     },
     "metadata": {},
     "output_type": "display_data"
    },
    {
     "name": "stdout",
     "output_type": "stream",
     "text": [
      "Epoch 542/1000, Loss: 7448.600653286638\n"
     ]
    },
    {
     "data": {
      "application/vnd.jupyter.widget-view+json": {
       "model_id": "2b5ac818fa30465e84b05174c87c3a06",
       "version_major": 2,
       "version_minor": 0
      },
      "text/plain": [
       "Epoch 543/1000:   0%|          | 0/1 [00:00<?, ?it/s]"
      ]
     },
     "metadata": {},
     "output_type": "display_data"
    },
    {
     "name": "stdout",
     "output_type": "stream",
     "text": [
      "Epoch 543/1000, Loss: 7450.204034213362\n"
     ]
    },
    {
     "data": {
      "application/vnd.jupyter.widget-view+json": {
       "model_id": "4f1f920685404c4fb1e577af24443baf",
       "version_major": 2,
       "version_minor": 0
      },
      "text/plain": [
       "Epoch 544/1000:   0%|          | 0/1 [00:00<?, ?it/s]"
      ]
     },
     "metadata": {},
     "output_type": "display_data"
    },
    {
     "name": "stdout",
     "output_type": "stream",
     "text": [
      "Epoch 544/1000, Loss: 7444.8141542632\n"
     ]
    },
    {
     "data": {
      "application/vnd.jupyter.widget-view+json": {
       "model_id": "3199083faea643689ea4f07008242a35",
       "version_major": 2,
       "version_minor": 0
      },
      "text/plain": [
       "Epoch 545/1000:   0%|          | 0/1 [00:00<?, ?it/s]"
      ]
     },
     "metadata": {},
     "output_type": "display_data"
    },
    {
     "name": "stdout",
     "output_type": "stream",
     "text": [
      "Epoch 545/1000, Loss: 7436.352871598869\n"
     ]
    },
    {
     "data": {
      "application/vnd.jupyter.widget-view+json": {
       "model_id": "60485b8ea94e48eeb434c297c82b48d0",
       "version_major": 2,
       "version_minor": 0
      },
      "text/plain": [
       "Epoch 546/1000:   0%|          | 0/1 [00:00<?, ?it/s]"
      ]
     },
     "metadata": {},
     "output_type": "display_data"
    },
    {
     "name": "stdout",
     "output_type": "stream",
     "text": [
      "Epoch 546/1000, Loss: 7425.364994443697\n"
     ]
    },
    {
     "data": {
      "application/vnd.jupyter.widget-view+json": {
       "model_id": "3303e67dfe42409eb8b629cf1f08415c",
       "version_major": 2,
       "version_minor": 0
      },
      "text/plain": [
       "Epoch 547/1000:   0%|          | 0/1 [00:00<?, ?it/s]"
      ]
     },
     "metadata": {},
     "output_type": "display_data"
    },
    {
     "name": "stdout",
     "output_type": "stream",
     "text": [
      "Epoch 547/1000, Loss: 7440.470450565733\n"
     ]
    },
    {
     "data": {
      "application/vnd.jupyter.widget-view+json": {
       "model_id": "1b92622f11f9475b8460f7a842fa40ab",
       "version_major": 2,
       "version_minor": 0
      },
      "text/plain": [
       "Epoch 548/1000:   0%|          | 0/1 [00:00<?, ?it/s]"
      ]
     },
     "metadata": {},
     "output_type": "display_data"
    },
    {
     "name": "stdout",
     "output_type": "stream",
     "text": [
      "Epoch 548/1000, Loss: 7424.802363954741\n"
     ]
    },
    {
     "data": {
      "application/vnd.jupyter.widget-view+json": {
       "model_id": "8cabc441506f401095469534a075b321",
       "version_major": 2,
       "version_minor": 0
      },
      "text/plain": [
       "Epoch 549/1000:   0%|          | 0/1 [00:00<?, ?it/s]"
      ]
     },
     "metadata": {},
     "output_type": "display_data"
    },
    {
     "name": "stdout",
     "output_type": "stream",
     "text": [
      "Epoch 549/1000, Loss: 7424.695918642241\n"
     ]
    },
    {
     "data": {
      "application/vnd.jupyter.widget-view+json": {
       "model_id": "4866729d02f04860b4fc12dbe0b721cd",
       "version_major": 2,
       "version_minor": 0
      },
      "text/plain": [
       "Epoch 550/1000:   0%|          | 0/1 [00:00<?, ?it/s]"
      ]
     },
     "metadata": {},
     "output_type": "display_data"
    },
    {
     "name": "stdout",
     "output_type": "stream",
     "text": [
      "Epoch 550/1000, Loss: 7408.522557751886\n"
     ]
    },
    {
     "data": {
      "application/vnd.jupyter.widget-view+json": {
       "model_id": "8245e69c73d645c79f157cfe33af0627",
       "version_major": 2,
       "version_minor": 0
      },
      "text/plain": [
       "Epoch 551/1000:   0%|          | 0/1 [00:00<?, ?it/s]"
      ]
     },
     "metadata": {},
     "output_type": "display_data"
    },
    {
     "name": "stdout",
     "output_type": "stream",
     "text": [
      "Epoch 551/1000, Loss: 7427.4434603987065\n"
     ]
    },
    {
     "data": {
      "application/vnd.jupyter.widget-view+json": {
       "model_id": "da07852f2f8e479ab01af1e775a9669b",
       "version_major": 2,
       "version_minor": 0
      },
      "text/plain": [
       "Epoch 552/1000:   0%|          | 0/1 [00:00<?, ?it/s]"
      ]
     },
     "metadata": {},
     "output_type": "display_data"
    },
    {
     "name": "stdout",
     "output_type": "stream",
     "text": [
      "Epoch 552/1000, Loss: 7398.133014547414\n"
     ]
    },
    {
     "data": {
      "application/vnd.jupyter.widget-view+json": {
       "model_id": "84d097280208405fa6ea80a4e2bc1c78",
       "version_major": 2,
       "version_minor": 0
      },
      "text/plain": [
       "Epoch 553/1000:   0%|          | 0/1 [00:00<?, ?it/s]"
      ]
     },
     "metadata": {},
     "output_type": "display_data"
    },
    {
     "name": "stdout",
     "output_type": "stream",
     "text": [
      "Epoch 553/1000, Loss: 7397.148589035561\n"
     ]
    },
    {
     "data": {
      "application/vnd.jupyter.widget-view+json": {
       "model_id": "aeaa3dfc32b3454d87d74a56a0d3aa12",
       "version_major": 2,
       "version_minor": 0
      },
      "text/plain": [
       "Epoch 554/1000:   0%|          | 0/1 [00:00<?, ?it/s]"
      ]
     },
     "metadata": {},
     "output_type": "display_data"
    },
    {
     "name": "stdout",
     "output_type": "stream",
     "text": [
      "Epoch 554/1000, Loss: 7398.097811994881\n"
     ]
    },
    {
     "data": {
      "application/vnd.jupyter.widget-view+json": {
       "model_id": "9a8f54f6bf4744b3aed6396e7916b2a4",
       "version_major": 2,
       "version_minor": 0
      },
      "text/plain": [
       "Epoch 555/1000:   0%|          | 0/1 [00:00<?, ?it/s]"
      ]
     },
     "metadata": {},
     "output_type": "display_data"
    },
    {
     "name": "stdout",
     "output_type": "stream",
     "text": [
      "Epoch 555/1000, Loss: 7398.613432785561\n"
     ]
    },
    {
     "data": {
      "application/vnd.jupyter.widget-view+json": {
       "model_id": "b51398769e9243beb0515d93f7776dc5",
       "version_major": 2,
       "version_minor": 0
      },
      "text/plain": [
       "Epoch 556/1000:   0%|          | 0/1 [00:00<?, ?it/s]"
      ]
     },
     "metadata": {},
     "output_type": "display_data"
    },
    {
     "name": "stdout",
     "output_type": "stream",
     "text": [
      "Epoch 556/1000, Loss: 7390.391323747306\n"
     ]
    },
    {
     "data": {
      "application/vnd.jupyter.widget-view+json": {
       "model_id": "ab3faf9c9de94a1a8662ecf5aac4b59e",
       "version_major": 2,
       "version_minor": 0
      },
      "text/plain": [
       "Epoch 557/1000:   0%|          | 0/1 [00:00<?, ?it/s]"
      ]
     },
     "metadata": {},
     "output_type": "display_data"
    },
    {
     "name": "stdout",
     "output_type": "stream",
     "text": [
      "Epoch 557/1000, Loss: 7376.944706357759\n"
     ]
    },
    {
     "data": {
      "application/vnd.jupyter.widget-view+json": {
       "model_id": "a33e6db2a048455ab0ecf737a1b4f5ef",
       "version_major": 2,
       "version_minor": 0
      },
      "text/plain": [
       "Epoch 558/1000:   0%|          | 0/1 [00:00<?, ?it/s]"
      ]
     },
     "metadata": {},
     "output_type": "display_data"
    },
    {
     "name": "stdout",
     "output_type": "stream",
     "text": [
      "Epoch 558/1000, Loss: 7396.986547009698\n"
     ]
    },
    {
     "data": {
      "application/vnd.jupyter.widget-view+json": {
       "model_id": "413cf60473ae4e81a9029add5ff8bbff",
       "version_major": 2,
       "version_minor": 0
      },
      "text/plain": [
       "Epoch 559/1000:   0%|          | 0/1 [00:00<?, ?it/s]"
      ]
     },
     "metadata": {},
     "output_type": "display_data"
    },
    {
     "name": "stdout",
     "output_type": "stream",
     "text": [
      "Epoch 559/1000, Loss: 7381.227909482759\n"
     ]
    },
    {
     "data": {
      "application/vnd.jupyter.widget-view+json": {
       "model_id": "8d222495e13d48c4b50415d22ec8df7c",
       "version_major": 2,
       "version_minor": 0
      },
      "text/plain": [
       "Epoch 560/1000:   0%|          | 0/1 [00:00<?, ?it/s]"
      ]
     },
     "metadata": {},
     "output_type": "display_data"
    },
    {
     "name": "stdout",
     "output_type": "stream",
     "text": [
      "Epoch 560/1000, Loss: 7382.557705583244\n"
     ]
    },
    {
     "data": {
      "application/vnd.jupyter.widget-view+json": {
       "model_id": "993c50c291714a588589ff3ad12bf724",
       "version_major": 2,
       "version_minor": 0
      },
      "text/plain": [
       "Epoch 561/1000:   0%|          | 0/1 [00:00<?, ?it/s]"
      ]
     },
     "metadata": {},
     "output_type": "display_data"
    },
    {
     "name": "stdout",
     "output_type": "stream",
     "text": [
      "Epoch 561/1000, Loss: 7361.185929923222\n"
     ]
    },
    {
     "data": {
      "application/vnd.jupyter.widget-view+json": {
       "model_id": "efddc3867211454eaa6318a345622e55",
       "version_major": 2,
       "version_minor": 0
      },
      "text/plain": [
       "Epoch 562/1000:   0%|          | 0/1 [00:00<?, ?it/s]"
      ]
     },
     "metadata": {},
     "output_type": "display_data"
    },
    {
     "name": "stdout",
     "output_type": "stream",
     "text": [
      "Epoch 562/1000, Loss: 7379.8743896484375\n"
     ]
    },
    {
     "data": {
      "application/vnd.jupyter.widget-view+json": {
       "model_id": "4d9bd4e505304567b2c7678bbe3e2271",
       "version_major": 2,
       "version_minor": 0
      },
      "text/plain": [
       "Epoch 563/1000:   0%|          | 0/1 [00:00<?, ?it/s]"
      ]
     },
     "metadata": {},
     "output_type": "display_data"
    },
    {
     "name": "stdout",
     "output_type": "stream",
     "text": [
      "Epoch 563/1000, Loss: 7353.647957637392\n"
     ]
    },
    {
     "data": {
      "application/vnd.jupyter.widget-view+json": {
       "model_id": "18bc413413744d90b1ec2b04d51e925d",
       "version_major": 2,
       "version_minor": 0
      },
      "text/plain": [
       "Epoch 564/1000:   0%|          | 0/1 [00:00<?, ?it/s]"
      ]
     },
     "metadata": {},
     "output_type": "display_data"
    },
    {
     "name": "stdout",
     "output_type": "stream",
     "text": [
      "Epoch 564/1000, Loss: 7349.986576474947\n"
     ]
    },
    {
     "data": {
      "application/vnd.jupyter.widget-view+json": {
       "model_id": "6c34f0448cfb45a4aa9593a1fd6a89dd",
       "version_major": 2,
       "version_minor": 0
      },
      "text/plain": [
       "Epoch 565/1000:   0%|          | 0/1 [00:00<?, ?it/s]"
      ]
     },
     "metadata": {},
     "output_type": "display_data"
    },
    {
     "name": "stdout",
     "output_type": "stream",
     "text": [
      "Epoch 565/1000, Loss: 7340.806400693697\n"
     ]
    },
    {
     "data": {
      "application/vnd.jupyter.widget-view+json": {
       "model_id": "f7ef5728f256402fb7a5d008c3567309",
       "version_major": 2,
       "version_minor": 0
      },
      "text/plain": [
       "Epoch 566/1000:   0%|          | 0/1 [00:00<?, ?it/s]"
      ]
     },
     "metadata": {},
     "output_type": "display_data"
    },
    {
     "name": "stdout",
     "output_type": "stream",
     "text": [
      "Epoch 566/1000, Loss: 7341.815446524784\n"
     ]
    },
    {
     "data": {
      "application/vnd.jupyter.widget-view+json": {
       "model_id": "c32675f2ec7b4fa08cc0f95127847b0a",
       "version_major": 2,
       "version_minor": 0
      },
      "text/plain": [
       "Epoch 567/1000:   0%|          | 0/1 [00:00<?, ?it/s]"
      ]
     },
     "metadata": {},
     "output_type": "display_data"
    },
    {
     "name": "stdout",
     "output_type": "stream",
     "text": [
      "Epoch 567/1000, Loss: 7340.1859341325435\n"
     ]
    },
    {
     "data": {
      "application/vnd.jupyter.widget-view+json": {
       "model_id": "787b2d51c9a14c7c958c1ce94d414f34",
       "version_major": 2,
       "version_minor": 0
      },
      "text/plain": [
       "Epoch 568/1000:   0%|          | 0/1 [00:00<?, ?it/s]"
      ]
     },
     "metadata": {},
     "output_type": "display_data"
    },
    {
     "name": "stdout",
     "output_type": "stream",
     "text": [
      "Epoch 568/1000, Loss: 7321.256852774784\n"
     ]
    },
    {
     "data": {
      "application/vnd.jupyter.widget-view+json": {
       "model_id": "01ceee9a8aec450d9d7db72f04a4e484",
       "version_major": 2,
       "version_minor": 0
      },
      "text/plain": [
       "Epoch 569/1000:   0%|          | 0/1 [00:00<?, ?it/s]"
      ]
     },
     "metadata": {},
     "output_type": "display_data"
    },
    {
     "name": "stdout",
     "output_type": "stream",
     "text": [
      "Epoch 569/1000, Loss: 7312.78128788389\n"
     ]
    },
    {
     "data": {
      "application/vnd.jupyter.widget-view+json": {
       "model_id": "0eb8d735bd3d4662aea6fc1a9042287d",
       "version_major": 2,
       "version_minor": 0
      },
      "text/plain": [
       "Epoch 570/1000:   0%|          | 0/1 [00:00<?, ?it/s]"
      ]
     },
     "metadata": {},
     "output_type": "display_data"
    },
    {
     "name": "stdout",
     "output_type": "stream",
     "text": [
      "Epoch 570/1000, Loss: 7298.467668204472\n"
     ]
    },
    {
     "data": {
      "application/vnd.jupyter.widget-view+json": {
       "model_id": "3cb3a39ef4b44e74bb21fd8ee8fb3a8d",
       "version_major": 2,
       "version_minor": 0
      },
      "text/plain": [
       "Epoch 571/1000:   0%|          | 0/1 [00:00<?, ?it/s]"
      ]
     },
     "metadata": {},
     "output_type": "display_data"
    },
    {
     "name": "stdout",
     "output_type": "stream",
     "text": [
      "Epoch 571/1000, Loss: 7297.753468480603\n"
     ]
    },
    {
     "data": {
      "application/vnd.jupyter.widget-view+json": {
       "model_id": "677e865ea9a44fedb1e78dec625ad548",
       "version_major": 2,
       "version_minor": 0
      },
      "text/plain": [
       "Epoch 572/1000:   0%|          | 0/1 [00:00<?, ?it/s]"
      ]
     },
     "metadata": {},
     "output_type": "display_data"
    },
    {
     "name": "stdout",
     "output_type": "stream",
     "text": [
      "Epoch 572/1000, Loss: 7295.096473430765\n"
     ]
    },
    {
     "data": {
      "application/vnd.jupyter.widget-view+json": {
       "model_id": "478bd0720c0448e59d33e95732447240",
       "version_major": 2,
       "version_minor": 0
      },
      "text/plain": [
       "Epoch 573/1000:   0%|          | 0/1 [00:00<?, ?it/s]"
      ]
     },
     "metadata": {},
     "output_type": "display_data"
    },
    {
     "name": "stdout",
     "output_type": "stream",
     "text": [
      "Epoch 573/1000, Loss: 7284.836173221983\n"
     ]
    },
    {
     "data": {
      "application/vnd.jupyter.widget-view+json": {
       "model_id": "2cd5790867c1440bb3a943f33a6f8d0f",
       "version_major": 2,
       "version_minor": 0
      },
      "text/plain": [
       "Epoch 574/1000:   0%|          | 0/1 [00:00<?, ?it/s]"
      ]
     },
     "metadata": {},
     "output_type": "display_data"
    },
    {
     "name": "stdout",
     "output_type": "stream",
     "text": [
      "Epoch 574/1000, Loss: 7271.010102370689\n"
     ]
    },
    {
     "data": {
      "application/vnd.jupyter.widget-view+json": {
       "model_id": "3825f2f044964ddd8a3d578a45cdfece",
       "version_major": 2,
       "version_minor": 0
      },
      "text/plain": [
       "Epoch 575/1000:   0%|          | 0/1 [00:00<?, ?it/s]"
      ]
     },
     "metadata": {},
     "output_type": "display_data"
    },
    {
     "name": "stdout",
     "output_type": "stream",
     "text": [
      "Epoch 575/1000, Loss: 7283.239102067619\n"
     ]
    },
    {
     "data": {
      "application/vnd.jupyter.widget-view+json": {
       "model_id": "e1310d14f2734c3e86d5102c20bd2007",
       "version_major": 2,
       "version_minor": 0
      },
      "text/plain": [
       "Epoch 576/1000:   0%|          | 0/1 [00:00<?, ?it/s]"
      ]
     },
     "metadata": {},
     "output_type": "display_data"
    },
    {
     "name": "stdout",
     "output_type": "stream",
     "text": [
      "Epoch 576/1000, Loss: 7261.231432684536\n"
     ]
    },
    {
     "data": {
      "application/vnd.jupyter.widget-view+json": {
       "model_id": "591ea2cbf26d40f38006a96bd1639de5",
       "version_major": 2,
       "version_minor": 0
      },
      "text/plain": [
       "Epoch 577/1000:   0%|          | 0/1 [00:00<?, ?it/s]"
      ]
     },
     "metadata": {},
     "output_type": "display_data"
    },
    {
     "name": "stdout",
     "output_type": "stream",
     "text": [
      "Epoch 577/1000, Loss: 7267.423200936153\n"
     ]
    },
    {
     "data": {
      "application/vnd.jupyter.widget-view+json": {
       "model_id": "a7d70139f6574081aab8186b17c94953",
       "version_major": 2,
       "version_minor": 0
      },
      "text/plain": [
       "Epoch 578/1000:   0%|          | 0/1 [00:00<?, ?it/s]"
      ]
     },
     "metadata": {},
     "output_type": "display_data"
    },
    {
     "name": "stdout",
     "output_type": "stream",
     "text": [
      "Epoch 578/1000, Loss: 7236.833378232759\n"
     ]
    },
    {
     "data": {
      "application/vnd.jupyter.widget-view+json": {
       "model_id": "3e697074786b4ae389794883faddb66a",
       "version_major": 2,
       "version_minor": 0
      },
      "text/plain": [
       "Epoch 579/1000:   0%|          | 0/1 [00:00<?, ?it/s]"
      ]
     },
     "metadata": {},
     "output_type": "display_data"
    },
    {
     "name": "stdout",
     "output_type": "stream",
     "text": [
      "Epoch 579/1000, Loss: 7233.593615301724\n"
     ]
    },
    {
     "data": {
      "application/vnd.jupyter.widget-view+json": {
       "model_id": "ae5dd4ecb7224051b6e4a7436db53f80",
       "version_major": 2,
       "version_minor": 0
      },
      "text/plain": [
       "Epoch 580/1000:   0%|          | 0/1 [00:00<?, ?it/s]"
      ]
     },
     "metadata": {},
     "output_type": "display_data"
    },
    {
     "name": "stdout",
     "output_type": "stream",
     "text": [
      "Epoch 580/1000, Loss: 7236.023003939925\n"
     ]
    },
    {
     "data": {
      "application/vnd.jupyter.widget-view+json": {
       "model_id": "093b610ddbb84bd3a330eded756d6b80",
       "version_major": 2,
       "version_minor": 0
      },
      "text/plain": [
       "Epoch 581/1000:   0%|          | 0/1 [00:00<?, ?it/s]"
      ]
     },
     "metadata": {},
     "output_type": "display_data"
    },
    {
     "name": "stdout",
     "output_type": "stream",
     "text": [
      "Epoch 581/1000, Loss: 7208.040220063308\n"
     ]
    },
    {
     "data": {
      "application/vnd.jupyter.widget-view+json": {
       "model_id": "6eb98c075b214caabefe3b532532d231",
       "version_major": 2,
       "version_minor": 0
      },
      "text/plain": [
       "Epoch 582/1000:   0%|          | 0/1 [00:00<?, ?it/s]"
      ]
     },
     "metadata": {},
     "output_type": "display_data"
    },
    {
     "name": "stdout",
     "output_type": "stream",
     "text": [
      "Epoch 582/1000, Loss: 7194.083643419989\n"
     ]
    },
    {
     "data": {
      "application/vnd.jupyter.widget-view+json": {
       "model_id": "b060fa68ad9242858c9bc8779931306e",
       "version_major": 2,
       "version_minor": 0
      },
      "text/plain": [
       "Epoch 583/1000:   0%|          | 0/1 [00:00<?, ?it/s]"
      ]
     },
     "metadata": {},
     "output_type": "display_data"
    },
    {
     "name": "stdout",
     "output_type": "stream",
     "text": [
      "Epoch 583/1000, Loss: 7189.4020406788795\n"
     ]
    },
    {
     "data": {
      "application/vnd.jupyter.widget-view+json": {
       "model_id": "20898fd162d74921b99c898f187a3ee1",
       "version_major": 2,
       "version_minor": 0
      },
      "text/plain": [
       "Epoch 584/1000:   0%|          | 0/1 [00:00<?, ?it/s]"
      ]
     },
     "metadata": {},
     "output_type": "display_data"
    },
    {
     "name": "stdout",
     "output_type": "stream",
     "text": [
      "Epoch 584/1000, Loss: 7183.346827013739\n"
     ]
    },
    {
     "data": {
      "application/vnd.jupyter.widget-view+json": {
       "model_id": "7dd6a87f8b2b4478b1ba34da7de331e0",
       "version_major": 2,
       "version_minor": 0
      },
      "text/plain": [
       "Epoch 585/1000:   0%|          | 0/1 [00:00<?, ?it/s]"
      ]
     },
     "metadata": {},
     "output_type": "display_data"
    },
    {
     "name": "stdout",
     "output_type": "stream",
     "text": [
      "Epoch 585/1000, Loss: 7171.596065126616\n"
     ]
    },
    {
     "data": {
      "application/vnd.jupyter.widget-view+json": {
       "model_id": "68f932bfa75441059675143ef4ba00e4",
       "version_major": 2,
       "version_minor": 0
      },
      "text/plain": [
       "Epoch 586/1000:   0%|          | 0/1 [00:00<?, ?it/s]"
      ]
     },
     "metadata": {},
     "output_type": "display_data"
    },
    {
     "name": "stdout",
     "output_type": "stream",
     "text": [
      "Epoch 586/1000, Loss: 7185.332725787985\n"
     ]
    },
    {
     "data": {
      "application/vnd.jupyter.widget-view+json": {
       "model_id": "41d06ecba29f4b9ba06edc38175bb006",
       "version_major": 2,
       "version_minor": 0
      },
      "text/plain": [
       "Epoch 587/1000:   0%|          | 0/1 [00:00<?, ?it/s]"
      ]
     },
     "metadata": {},
     "output_type": "display_data"
    },
    {
     "name": "stdout",
     "output_type": "stream",
     "text": [
      "Epoch 587/1000, Loss: 7173.368610250539\n"
     ]
    },
    {
     "data": {
      "application/vnd.jupyter.widget-view+json": {
       "model_id": "58e826089f914d8486341be02f100240",
       "version_major": 2,
       "version_minor": 0
      },
      "text/plain": [
       "Epoch 588/1000:   0%|          | 0/1 [00:00<?, ?it/s]"
      ]
     },
     "metadata": {},
     "output_type": "display_data"
    },
    {
     "name": "stdout",
     "output_type": "stream",
     "text": [
      "Epoch 588/1000, Loss: 7153.543292867726\n"
     ]
    },
    {
     "data": {
      "application/vnd.jupyter.widget-view+json": {
       "model_id": "de12d932ef3f46818020b8013d2cc8df",
       "version_major": 2,
       "version_minor": 0
      },
      "text/plain": [
       "Epoch 589/1000:   0%|          | 0/1 [00:00<?, ?it/s]"
      ]
     },
     "metadata": {},
     "output_type": "display_data"
    },
    {
     "name": "stdout",
     "output_type": "stream",
     "text": [
      "Epoch 589/1000, Loss: 7140.145272090517\n"
     ]
    },
    {
     "data": {
      "application/vnd.jupyter.widget-view+json": {
       "model_id": "c879da3bd1d046f1b035d180041d7c49",
       "version_major": 2,
       "version_minor": 0
      },
      "text/plain": [
       "Epoch 590/1000:   0%|          | 0/1 [00:00<?, ?it/s]"
      ]
     },
     "metadata": {},
     "output_type": "display_data"
    },
    {
     "name": "stdout",
     "output_type": "stream",
     "text": [
      "Epoch 590/1000, Loss: 7132.266024885506\n"
     ]
    },
    {
     "data": {
      "application/vnd.jupyter.widget-view+json": {
       "model_id": "c26a216cb14f4b5499d355717a2bbbf3",
       "version_major": 2,
       "version_minor": 0
      },
      "text/plain": [
       "Epoch 591/1000:   0%|          | 0/1 [00:00<?, ?it/s]"
      ]
     },
     "metadata": {},
     "output_type": "display_data"
    },
    {
     "name": "stdout",
     "output_type": "stream",
     "text": [
      "Epoch 591/1000, Loss: 7126.371308425377\n"
     ]
    },
    {
     "data": {
      "application/vnd.jupyter.widget-view+json": {
       "model_id": "bfe0a243f57b40cbbbb4d7b42055b522",
       "version_major": 2,
       "version_minor": 0
      },
      "text/plain": [
       "Epoch 592/1000:   0%|          | 0/1 [00:00<?, ?it/s]"
      ]
     },
     "metadata": {},
     "output_type": "display_data"
    },
    {
     "name": "stdout",
     "output_type": "stream",
     "text": [
      "Epoch 592/1000, Loss: 7124.322913860453\n"
     ]
    },
    {
     "data": {
      "application/vnd.jupyter.widget-view+json": {
       "model_id": "f98a8723792b4b6b9a88f0c4a715f43a",
       "version_major": 2,
       "version_minor": 0
      },
      "text/plain": [
       "Epoch 593/1000:   0%|          | 0/1 [00:00<?, ?it/s]"
      ]
     },
     "metadata": {},
     "output_type": "display_data"
    },
    {
     "name": "stdout",
     "output_type": "stream",
     "text": [
      "Epoch 593/1000, Loss: 7128.601116311961\n"
     ]
    },
    {
     "data": {
      "application/vnd.jupyter.widget-view+json": {
       "model_id": "689c33a9d1ee48b78fd2641ac5911f66",
       "version_major": 2,
       "version_minor": 0
      },
      "text/plain": [
       "Epoch 594/1000:   0%|          | 0/1 [00:00<?, ?it/s]"
      ]
     },
     "metadata": {},
     "output_type": "display_data"
    },
    {
     "name": "stdout",
     "output_type": "stream",
     "text": [
      "Epoch 594/1000, Loss: 7111.877087823276\n"
     ]
    },
    {
     "data": {
      "application/vnd.jupyter.widget-view+json": {
       "model_id": "a214bd83700b43eeae467dffe885604b",
       "version_major": 2,
       "version_minor": 0
      },
      "text/plain": [
       "Epoch 595/1000:   0%|          | 0/1 [00:00<?, ?it/s]"
      ]
     },
     "metadata": {},
     "output_type": "display_data"
    },
    {
     "name": "stdout",
     "output_type": "stream",
     "text": [
      "Epoch 595/1000, Loss: 7093.894733297414\n"
     ]
    },
    {
     "data": {
      "application/vnd.jupyter.widget-view+json": {
       "model_id": "a7e9c40e1e334678959f1f4eed6a4903",
       "version_major": 2,
       "version_minor": 0
      },
      "text/plain": [
       "Epoch 596/1000:   0%|          | 0/1 [00:00<?, ?it/s]"
      ]
     },
     "metadata": {},
     "output_type": "display_data"
    },
    {
     "name": "stdout",
     "output_type": "stream",
     "text": [
      "Epoch 596/1000, Loss: 7098.814284752155\n"
     ]
    },
    {
     "data": {
      "application/vnd.jupyter.widget-view+json": {
       "model_id": "668202a51f164789a8c39f838246382c",
       "version_major": 2,
       "version_minor": 0
      },
      "text/plain": [
       "Epoch 597/1000:   0%|          | 0/1 [00:00<?, ?it/s]"
      ]
     },
     "metadata": {},
     "output_type": "display_data"
    },
    {
     "name": "stdout",
     "output_type": "stream",
     "text": [
      "Epoch 597/1000, Loss: 7086.380712048761\n"
     ]
    },
    {
     "data": {
      "application/vnd.jupyter.widget-view+json": {
       "model_id": "617310ca2d4c4afc9199cc69a576cfe4",
       "version_major": 2,
       "version_minor": 0
      },
      "text/plain": [
       "Epoch 598/1000:   0%|          | 0/1 [00:00<?, ?it/s]"
      ]
     },
     "metadata": {},
     "output_type": "display_data"
    },
    {
     "name": "stdout",
     "output_type": "stream",
     "text": [
      "Epoch 598/1000, Loss: 7107.41804451778\n"
     ]
    },
    {
     "data": {
      "application/vnd.jupyter.widget-view+json": {
       "model_id": "39be5c11f266485ba819ba55e332c14e",
       "version_major": 2,
       "version_minor": 0
      },
      "text/plain": [
       "Epoch 599/1000:   0%|          | 0/1 [00:00<?, ?it/s]"
      ]
     },
     "metadata": {},
     "output_type": "display_data"
    },
    {
     "name": "stdout",
     "output_type": "stream",
     "text": [
      "Epoch 599/1000, Loss: 7078.428471006197\n"
     ]
    },
    {
     "data": {
      "application/vnd.jupyter.widget-view+json": {
       "model_id": "45a1760b49f945f0bf16d958d6b4d1f2",
       "version_major": 2,
       "version_minor": 0
      },
      "text/plain": [
       "Epoch 600/1000:   0%|          | 0/1 [00:00<?, ?it/s]"
      ]
     },
     "metadata": {},
     "output_type": "display_data"
    },
    {
     "name": "stdout",
     "output_type": "stream",
     "text": [
      "Epoch 600/1000, Loss: 7082.875016837284\n"
     ]
    },
    {
     "data": {
      "application/vnd.jupyter.widget-view+json": {
       "model_id": "9580aabd69a44a958b93958b1f8b3897",
       "version_major": 2,
       "version_minor": 0
      },
      "text/plain": [
       "Epoch 601/1000:   0%|          | 0/1 [00:00<?, ?it/s]"
      ]
     },
     "metadata": {},
     "output_type": "display_data"
    },
    {
     "name": "stdout",
     "output_type": "stream",
     "text": [
      "Epoch 601/1000, Loss: 7080.11324336611\n"
     ]
    },
    {
     "data": {
      "application/vnd.jupyter.widget-view+json": {
       "model_id": "5e1eb87d19e640e48802bc189a73c4f2",
       "version_major": 2,
       "version_minor": 0
      },
      "text/plain": [
       "Epoch 602/1000:   0%|          | 0/1 [00:00<?, ?it/s]"
      ]
     },
     "metadata": {},
     "output_type": "display_data"
    },
    {
     "name": "stdout",
     "output_type": "stream",
     "text": [
      "Epoch 602/1000, Loss: 7057.910968648976\n"
     ]
    },
    {
     "data": {
      "application/vnd.jupyter.widget-view+json": {
       "model_id": "ed20039c3cda4e0880b9783c0a38ce8c",
       "version_major": 2,
       "version_minor": 0
      },
      "text/plain": [
       "Epoch 603/1000:   0%|          | 0/1 [00:00<?, ?it/s]"
      ]
     },
     "metadata": {},
     "output_type": "display_data"
    },
    {
     "name": "stdout",
     "output_type": "stream",
     "text": [
      "Epoch 603/1000, Loss: 7060.145183694774\n"
     ]
    },
    {
     "data": {
      "application/vnd.jupyter.widget-view+json": {
       "model_id": "f8aff49f142a4409b4baac5b903439f9",
       "version_major": 2,
       "version_minor": 0
      },
      "text/plain": [
       "Epoch 604/1000:   0%|          | 0/1 [00:00<?, ?it/s]"
      ]
     },
     "metadata": {},
     "output_type": "display_data"
    },
    {
     "name": "stdout",
     "output_type": "stream",
     "text": [
      "Epoch 604/1000, Loss: 7075.803790914601\n"
     ]
    },
    {
     "data": {
      "application/vnd.jupyter.widget-view+json": {
       "model_id": "e4de584c286b44d38069f6ebaf2f2ac7",
       "version_major": 2,
       "version_minor": 0
      },
      "text/plain": [
       "Epoch 605/1000:   0%|          | 0/1 [00:00<?, ?it/s]"
      ]
     },
     "metadata": {},
     "output_type": "display_data"
    },
    {
     "name": "stdout",
     "output_type": "stream",
     "text": [
      "Epoch 605/1000, Loss: 7061.170835297683\n"
     ]
    },
    {
     "data": {
      "application/vnd.jupyter.widget-view+json": {
       "model_id": "9884a764a9094650a08e73651497acf9",
       "version_major": 2,
       "version_minor": 0
      },
      "text/plain": [
       "Epoch 606/1000:   0%|          | 0/1 [00:00<?, ?it/s]"
      ]
     },
     "metadata": {},
     "output_type": "display_data"
    },
    {
     "name": "stdout",
     "output_type": "stream",
     "text": [
      "Epoch 606/1000, Loss: 7041.859295022899\n"
     ]
    },
    {
     "data": {
      "application/vnd.jupyter.widget-view+json": {
       "model_id": "436c4cf86375461a8b3567759332c616",
       "version_major": 2,
       "version_minor": 0
      },
      "text/plain": [
       "Epoch 607/1000:   0%|          | 0/1 [00:00<?, ?it/s]"
      ]
     },
     "metadata": {},
     "output_type": "display_data"
    },
    {
     "name": "stdout",
     "output_type": "stream",
     "text": [
      "Epoch 607/1000, Loss: 7051.275138065733\n"
     ]
    },
    {
     "data": {
      "application/vnd.jupyter.widget-view+json": {
       "model_id": "f0f72103d8e84c1bb02f41d802c75323",
       "version_major": 2,
       "version_minor": 0
      },
      "text/plain": [
       "Epoch 608/1000:   0%|          | 0/1 [00:00<?, ?it/s]"
      ]
     },
     "metadata": {},
     "output_type": "display_data"
    },
    {
     "name": "stdout",
     "output_type": "stream",
     "text": [
      "Epoch 608/1000, Loss: 7038.363495925377\n"
     ]
    },
    {
     "data": {
      "application/vnd.jupyter.widget-view+json": {
       "model_id": "b48280a0bd1c4f109ab7c785d695e0d5",
       "version_major": 2,
       "version_minor": 0
      },
      "text/plain": [
       "Epoch 609/1000:   0%|          | 0/1 [00:00<?, ?it/s]"
      ]
     },
     "metadata": {},
     "output_type": "display_data"
    },
    {
     "name": "stdout",
     "output_type": "stream",
     "text": [
      "Epoch 609/1000, Loss: 7052.366568729795\n"
     ]
    },
    {
     "data": {
      "application/vnd.jupyter.widget-view+json": {
       "model_id": "f6432eb2ea744ad1ac5bc82a9f2e1e46",
       "version_major": 2,
       "version_minor": 0
      },
      "text/plain": [
       "Epoch 610/1000:   0%|          | 0/1 [00:00<?, ?it/s]"
      ]
     },
     "metadata": {},
     "output_type": "display_data"
    },
    {
     "name": "stdout",
     "output_type": "stream",
     "text": [
      "Epoch 610/1000, Loss: 7037.142001448006\n"
     ]
    },
    {
     "data": {
      "application/vnd.jupyter.widget-view+json": {
       "model_id": "f2b4f101a38a43d0b47aae3a4dc5fd2b",
       "version_major": 2,
       "version_minor": 0
      },
      "text/plain": [
       "Epoch 611/1000:   0%|          | 0/1 [00:00<?, ?it/s]"
      ]
     },
     "metadata": {},
     "output_type": "display_data"
    },
    {
     "name": "stdout",
     "output_type": "stream",
     "text": [
      "Epoch 611/1000, Loss: 7031.001793170797\n"
     ]
    },
    {
     "data": {
      "application/vnd.jupyter.widget-view+json": {
       "model_id": "4fbdfa8b18304df9ac56d41f9cadde53",
       "version_major": 2,
       "version_minor": 0
      },
      "text/plain": [
       "Epoch 612/1000:   0%|          | 0/1 [00:00<?, ?it/s]"
      ]
     },
     "metadata": {},
     "output_type": "display_data"
    },
    {
     "name": "stdout",
     "output_type": "stream",
     "text": [
      "Epoch 612/1000, Loss: 7042.388170965786\n"
     ]
    },
    {
     "data": {
      "application/vnd.jupyter.widget-view+json": {
       "model_id": "134b1bdcdd8d415e9f39c891f1845334",
       "version_major": 2,
       "version_minor": 0
      },
      "text/plain": [
       "Epoch 613/1000:   0%|          | 0/1 [00:00<?, ?it/s]"
      ]
     },
     "metadata": {},
     "output_type": "display_data"
    },
    {
     "name": "stdout",
     "output_type": "stream",
     "text": [
      "Epoch 613/1000, Loss: 7024.529284247036\n"
     ]
    },
    {
     "data": {
      "application/vnd.jupyter.widget-view+json": {
       "model_id": "0d429a8334974028aa713210cd041133",
       "version_major": 2,
       "version_minor": 0
      },
      "text/plain": [
       "Epoch 614/1000:   0%|          | 0/1 [00:00<?, ?it/s]"
      ]
     },
     "metadata": {},
     "output_type": "display_data"
    },
    {
     "name": "stdout",
     "output_type": "stream",
     "text": [
      "Epoch 614/1000, Loss: 7022.722765692349\n"
     ]
    },
    {
     "data": {
      "application/vnd.jupyter.widget-view+json": {
       "model_id": "3aa0d7398440499b8fc78557c4cc755e",
       "version_major": 2,
       "version_minor": 0
      },
      "text/plain": [
       "Epoch 615/1000:   0%|          | 0/1 [00:00<?, ?it/s]"
      ]
     },
     "metadata": {},
     "output_type": "display_data"
    },
    {
     "name": "stdout",
     "output_type": "stream",
     "text": [
      "Epoch 615/1000, Loss: 7025.710727033944\n"
     ]
    },
    {
     "data": {
      "application/vnd.jupyter.widget-view+json": {
       "model_id": "89ce64195e534bafaec7ad76f85f544a",
       "version_major": 2,
       "version_minor": 0
      },
      "text/plain": [
       "Epoch 616/1000:   0%|          | 0/1 [00:00<?, ?it/s]"
      ]
     },
     "metadata": {},
     "output_type": "display_data"
    },
    {
     "name": "stdout",
     "output_type": "stream",
     "text": [
      "Epoch 616/1000, Loss: 7022.235608331089\n"
     ]
    },
    {
     "data": {
      "application/vnd.jupyter.widget-view+json": {
       "model_id": "c99778f3b27c4693a478ac3ba622582b",
       "version_major": 2,
       "version_minor": 0
      },
      "text/plain": [
       "Epoch 617/1000:   0%|          | 0/1 [00:00<?, ?it/s]"
      ]
     },
     "metadata": {},
     "output_type": "display_data"
    },
    {
     "name": "stdout",
     "output_type": "stream",
     "text": [
      "Epoch 617/1000, Loss: 7001.502900222252\n"
     ]
    },
    {
     "data": {
      "application/vnd.jupyter.widget-view+json": {
       "model_id": "9dfc6b4e0499466b85cd79194217f68f",
       "version_major": 2,
       "version_minor": 0
      },
      "text/plain": [
       "Epoch 618/1000:   0%|          | 0/1 [00:00<?, ?it/s]"
      ]
     },
     "metadata": {},
     "output_type": "display_data"
    },
    {
     "name": "stdout",
     "output_type": "stream",
     "text": [
      "Epoch 618/1000, Loss: 7013.347660459322\n"
     ]
    },
    {
     "data": {
      "application/vnd.jupyter.widget-view+json": {
       "model_id": "56b35188a72645f9af2ac2b62a7d6e2a",
       "version_major": 2,
       "version_minor": 0
      },
      "text/plain": [
       "Epoch 619/1000:   0%|          | 0/1 [00:00<?, ?it/s]"
      ]
     },
     "metadata": {},
     "output_type": "display_data"
    },
    {
     "name": "stdout",
     "output_type": "stream",
     "text": [
      "Epoch 619/1000, Loss: 7012.87451171875\n"
     ]
    },
    {
     "data": {
      "application/vnd.jupyter.widget-view+json": {
       "model_id": "7f329161007643d0a99538c1a0ca8ce8",
       "version_major": 2,
       "version_minor": 0
      },
      "text/plain": [
       "Epoch 620/1000:   0%|          | 0/1 [00:00<?, ?it/s]"
      ]
     },
     "metadata": {},
     "output_type": "display_data"
    },
    {
     "name": "stdout",
     "output_type": "stream",
     "text": [
      "Epoch 620/1000, Loss: 7005.610027444774\n"
     ]
    },
    {
     "data": {
      "application/vnd.jupyter.widget-view+json": {
       "model_id": "fdfbc6a0c24c4b60a5892f306a037685",
       "version_major": 2,
       "version_minor": 0
      },
      "text/plain": [
       "Epoch 621/1000:   0%|          | 0/1 [00:00<?, ?it/s]"
      ]
     },
     "metadata": {},
     "output_type": "display_data"
    },
    {
     "name": "stdout",
     "output_type": "stream",
     "text": [
      "Epoch 621/1000, Loss: 6995.508898504849\n"
     ]
    },
    {
     "data": {
      "application/vnd.jupyter.widget-view+json": {
       "model_id": "2285e11c65504bf7a5fb1ba711f380c7",
       "version_major": 2,
       "version_minor": 0
      },
      "text/plain": [
       "Epoch 622/1000:   0%|          | 0/1 [00:00<?, ?it/s]"
      ]
     },
     "metadata": {},
     "output_type": "display_data"
    },
    {
     "name": "stdout",
     "output_type": "stream",
     "text": [
      "Epoch 622/1000, Loss: 7004.399708714978\n"
     ]
    },
    {
     "data": {
      "application/vnd.jupyter.widget-view+json": {
       "model_id": "a4c205b66e9549de9c9fb7e6d4ee9f44",
       "version_major": 2,
       "version_minor": 0
      },
      "text/plain": [
       "Epoch 623/1000:   0%|          | 0/1 [00:00<?, ?it/s]"
      ]
     },
     "metadata": {},
     "output_type": "display_data"
    },
    {
     "name": "stdout",
     "output_type": "stream",
     "text": [
      "Epoch 623/1000, Loss: 6986.596128266433\n"
     ]
    },
    {
     "data": {
      "application/vnd.jupyter.widget-view+json": {
       "model_id": "367e37d9ef9d47fd92ac9909523593d6",
       "version_major": 2,
       "version_minor": 0
      },
      "text/plain": [
       "Epoch 624/1000:   0%|          | 0/1 [00:00<?, ?it/s]"
      ]
     },
     "metadata": {},
     "output_type": "display_data"
    },
    {
     "name": "stdout",
     "output_type": "stream",
     "text": [
      "Epoch 624/1000, Loss: 6988.352101293103\n"
     ]
    },
    {
     "data": {
      "application/vnd.jupyter.widget-view+json": {
       "model_id": "15325571312e481c8a072b8acde6ae02",
       "version_major": 2,
       "version_minor": 0
      },
      "text/plain": [
       "Epoch 625/1000:   0%|          | 0/1 [00:00<?, ?it/s]"
      ]
     },
     "metadata": {},
     "output_type": "display_data"
    },
    {
     "name": "stdout",
     "output_type": "stream",
     "text": [
      "Epoch 625/1000, Loss: 7001.588126346983\n"
     ]
    },
    {
     "data": {
      "application/vnd.jupyter.widget-view+json": {
       "model_id": "263a0dd9e20e4d62aa0b0713135b2d9e",
       "version_major": 2,
       "version_minor": 0
      },
      "text/plain": [
       "Epoch 626/1000:   0%|          | 0/1 [00:00<?, ?it/s]"
      ]
     },
     "metadata": {},
     "output_type": "display_data"
    },
    {
     "name": "stdout",
     "output_type": "stream",
     "text": [
      "Epoch 626/1000, Loss: 6988.5224020070045\n"
     ]
    },
    {
     "data": {
      "application/vnd.jupyter.widget-view+json": {
       "model_id": "f0bc6b43d40a4d818c7b5205f30b9119",
       "version_major": 2,
       "version_minor": 0
      },
      "text/plain": [
       "Epoch 627/1000:   0%|          | 0/1 [00:00<?, ?it/s]"
      ]
     },
     "metadata": {},
     "output_type": "display_data"
    },
    {
     "name": "stdout",
     "output_type": "stream",
     "text": [
      "Epoch 627/1000, Loss: 6991.830511685075\n"
     ]
    },
    {
     "data": {
      "application/vnd.jupyter.widget-view+json": {
       "model_id": "baa85a6b100844109620e9e1cdb9b783",
       "version_major": 2,
       "version_minor": 0
      },
      "text/plain": [
       "Epoch 628/1000:   0%|          | 0/1 [00:00<?, ?it/s]"
      ]
     },
     "metadata": {},
     "output_type": "display_data"
    },
    {
     "name": "stdout",
     "output_type": "stream",
     "text": [
      "Epoch 628/1000, Loss: 6988.938190328664\n"
     ]
    },
    {
     "data": {
      "application/vnd.jupyter.widget-view+json": {
       "model_id": "d9c5750e6f834134a150aba0411dd767",
       "version_major": 2,
       "version_minor": 0
      },
      "text/plain": [
       "Epoch 629/1000:   0%|          | 0/1 [00:00<?, ?it/s]"
      ]
     },
     "metadata": {},
     "output_type": "display_data"
    },
    {
     "name": "stdout",
     "output_type": "stream",
     "text": [
      "Epoch 629/1000, Loss: 7003.51720349542\n"
     ]
    },
    {
     "data": {
      "application/vnd.jupyter.widget-view+json": {
       "model_id": "42c43853ba4145afacdf47a64561e0c9",
       "version_major": 2,
       "version_minor": 0
      },
      "text/plain": [
       "Epoch 630/1000:   0%|          | 0/1 [00:00<?, ?it/s]"
      ]
     },
     "metadata": {},
     "output_type": "display_data"
    },
    {
     "name": "stdout",
     "output_type": "stream",
     "text": [
      "Epoch 630/1000, Loss: 6988.062184300916\n"
     ]
    },
    {
     "data": {
      "application/vnd.jupyter.widget-view+json": {
       "model_id": "58ffe8803ed54e42a3d962aa4103083f",
       "version_major": 2,
       "version_minor": 0
      },
      "text/plain": [
       "Epoch 631/1000:   0%|          | 0/1 [00:00<?, ?it/s]"
      ]
     },
     "metadata": {},
     "output_type": "display_data"
    },
    {
     "name": "stdout",
     "output_type": "stream",
     "text": [
      "Epoch 631/1000, Loss: 6996.924754175647\n"
     ]
    },
    {
     "data": {
      "application/vnd.jupyter.widget-view+json": {
       "model_id": "e04e576a54904295a6686aa8e073e1c4",
       "version_major": 2,
       "version_minor": 0
      },
      "text/plain": [
       "Epoch 632/1000:   0%|          | 0/1 [00:00<?, ?it/s]"
      ]
     },
     "metadata": {},
     "output_type": "display_data"
    },
    {
     "name": "stdout",
     "output_type": "stream",
     "text": [
      "Epoch 632/1000, Loss: 6982.7483457368\n"
     ]
    },
    {
     "data": {
      "application/vnd.jupyter.widget-view+json": {
       "model_id": "04920d91a5bc4ee99a224f1e7efcf007",
       "version_major": 2,
       "version_minor": 0
      },
      "text/plain": [
       "Epoch 633/1000:   0%|          | 0/1 [00:00<?, ?it/s]"
      ]
     },
     "metadata": {},
     "output_type": "display_data"
    },
    {
     "name": "stdout",
     "output_type": "stream",
     "text": [
      "Epoch 633/1000, Loss: 6978.825692012392\n"
     ]
    },
    {
     "data": {
      "application/vnd.jupyter.widget-view+json": {
       "model_id": "67b9d518b48a497a89eaf5b824c3e691",
       "version_major": 2,
       "version_minor": 0
      },
      "text/plain": [
       "Epoch 634/1000:   0%|          | 0/1 [00:00<?, ?it/s]"
      ]
     },
     "metadata": {},
     "output_type": "display_data"
    },
    {
     "name": "stdout",
     "output_type": "stream",
     "text": [
      "Epoch 634/1000, Loss: 6984.122289197198\n"
     ]
    },
    {
     "data": {
      "application/vnd.jupyter.widget-view+json": {
       "model_id": "5e0465797bc64851a66a3ec81e38a7f1",
       "version_major": 2,
       "version_minor": 0
      },
      "text/plain": [
       "Epoch 635/1000:   0%|          | 0/1 [00:00<?, ?it/s]"
      ]
     },
     "metadata": {},
     "output_type": "display_data"
    },
    {
     "name": "stdout",
     "output_type": "stream",
     "text": [
      "Epoch 635/1000, Loss: 6967.106643150592\n"
     ]
    },
    {
     "data": {
      "application/vnd.jupyter.widget-view+json": {
       "model_id": "91c26b13a7824b02b785afbcc2a46cae",
       "version_major": 2,
       "version_minor": 0
      },
      "text/plain": [
       "Epoch 636/1000:   0%|          | 0/1 [00:00<?, ?it/s]"
      ]
     },
     "metadata": {},
     "output_type": "display_data"
    },
    {
     "name": "stdout",
     "output_type": "stream",
     "text": [
      "Epoch 636/1000, Loss: 6978.259256297144\n"
     ]
    },
    {
     "data": {
      "application/vnd.jupyter.widget-view+json": {
       "model_id": "3159bf07a1f6439f926dd3d38f56ab45",
       "version_major": 2,
       "version_minor": 0
      },
      "text/plain": [
       "Epoch 637/1000:   0%|          | 0/1 [00:00<?, ?it/s]"
      ]
     },
     "metadata": {},
     "output_type": "display_data"
    },
    {
     "name": "stdout",
     "output_type": "stream",
     "text": [
      "Epoch 637/1000, Loss: 6965.203983701509\n"
     ]
    },
    {
     "data": {
      "application/vnd.jupyter.widget-view+json": {
       "model_id": "de9cbc0699134a11a6146f05052bfd20",
       "version_major": 2,
       "version_minor": 0
      },
      "text/plain": [
       "Epoch 638/1000:   0%|          | 0/1 [00:00<?, ?it/s]"
      ]
     },
     "metadata": {},
     "output_type": "display_data"
    },
    {
     "name": "stdout",
     "output_type": "stream",
     "text": [
      "Epoch 638/1000, Loss: 6970.694226495151\n"
     ]
    },
    {
     "data": {
      "application/vnd.jupyter.widget-view+json": {
       "model_id": "576db41a7759485095e30d86bbad3115",
       "version_major": 2,
       "version_minor": 0
      },
      "text/plain": [
       "Epoch 639/1000:   0%|          | 0/1 [00:00<?, ?it/s]"
      ]
     },
     "metadata": {},
     "output_type": "display_data"
    },
    {
     "name": "stdout",
     "output_type": "stream",
     "text": [
      "Epoch 639/1000, Loss: 6971.210032495959\n"
     ]
    },
    {
     "data": {
      "application/vnd.jupyter.widget-view+json": {
       "model_id": "c6346aadd4e843268738a0b8d9228827",
       "version_major": 2,
       "version_minor": 0
      },
      "text/plain": [
       "Epoch 640/1000:   0%|          | 0/1 [00:00<?, ?it/s]"
      ]
     },
     "metadata": {},
     "output_type": "display_data"
    },
    {
     "name": "stdout",
     "output_type": "stream",
     "text": [
      "Epoch 640/1000, Loss: 6956.768226360453\n"
     ]
    },
    {
     "data": {
      "application/vnd.jupyter.widget-view+json": {
       "model_id": "f80f23a7ab844ca7bfb246cd3b664f3f",
       "version_major": 2,
       "version_minor": 0
      },
      "text/plain": [
       "Epoch 641/1000:   0%|          | 0/1 [00:00<?, ?it/s]"
      ]
     },
     "metadata": {},
     "output_type": "display_data"
    },
    {
     "name": "stdout",
     "output_type": "stream",
     "text": [
      "Epoch 641/1000, Loss: 6978.376334354795\n"
     ]
    },
    {
     "data": {
      "application/vnd.jupyter.widget-view+json": {
       "model_id": "9c181dd9325146ef87c0f9d86a9544ef",
       "version_major": 2,
       "version_minor": 0
      },
      "text/plain": [
       "Epoch 642/1000:   0%|          | 0/1 [00:00<?, ?it/s]"
      ]
     },
     "metadata": {},
     "output_type": "display_data"
    },
    {
     "name": "stdout",
     "output_type": "stream",
     "text": [
      "Epoch 642/1000, Loss: 6970.116825498384\n"
     ]
    },
    {
     "data": {
      "application/vnd.jupyter.widget-view+json": {
       "model_id": "28752e133bb24997b5c16df4ef70cc8f",
       "version_major": 2,
       "version_minor": 0
      },
      "text/plain": [
       "Epoch 643/1000:   0%|          | 0/1 [00:00<?, ?it/s]"
      ]
     },
     "metadata": {},
     "output_type": "display_data"
    },
    {
     "name": "stdout",
     "output_type": "stream",
     "text": [
      "Epoch 643/1000, Loss: 6957.535248855064\n"
     ]
    },
    {
     "data": {
      "application/vnd.jupyter.widget-view+json": {
       "model_id": "ca54f5ac90624ed38600489bd8c1cfd1",
       "version_major": 2,
       "version_minor": 0
      },
      "text/plain": [
       "Epoch 644/1000:   0%|          | 0/1 [00:00<?, ?it/s]"
      ]
     },
     "metadata": {},
     "output_type": "display_data"
    },
    {
     "name": "stdout",
     "output_type": "stream",
     "text": [
      "Epoch 644/1000, Loss: 6959.7987060546875\n"
     ]
    },
    {
     "data": {
      "application/vnd.jupyter.widget-view+json": {
       "model_id": "96f70eb1111544908243cb7c1705595b",
       "version_major": 2,
       "version_minor": 0
      },
      "text/plain": [
       "Epoch 645/1000:   0%|          | 0/1 [00:00<?, ?it/s]"
      ]
     },
     "metadata": {},
     "output_type": "display_data"
    },
    {
     "name": "stdout",
     "output_type": "stream",
     "text": [
      "Epoch 645/1000, Loss: 6960.344090955011\n"
     ]
    },
    {
     "data": {
      "application/vnd.jupyter.widget-view+json": {
       "model_id": "6b104c010f624d99a252401fde3998e3",
       "version_major": 2,
       "version_minor": 0
      },
      "text/plain": [
       "Epoch 646/1000:   0%|          | 0/1 [00:00<?, ?it/s]"
      ]
     },
     "metadata": {},
     "output_type": "display_data"
    },
    {
     "name": "stdout",
     "output_type": "stream",
     "text": [
      "Epoch 646/1000, Loss: 6952.200447871767\n"
     ]
    },
    {
     "data": {
      "application/vnd.jupyter.widget-view+json": {
       "model_id": "38bd7756a91b4e89803fc66d35ddd9c6",
       "version_major": 2,
       "version_minor": 0
      },
      "text/plain": [
       "Epoch 647/1000:   0%|          | 0/1 [00:00<?, ?it/s]"
      ]
     },
     "metadata": {},
     "output_type": "display_data"
    },
    {
     "name": "stdout",
     "output_type": "stream",
     "text": [
      "Epoch 647/1000, Loss: 6952.792084792564\n"
     ]
    },
    {
     "data": {
      "application/vnd.jupyter.widget-view+json": {
       "model_id": "0815ab25c113437bb4ab16ce3a6b401d",
       "version_major": 2,
       "version_minor": 0
      },
      "text/plain": [
       "Epoch 648/1000:   0%|          | 0/1 [00:00<?, ?it/s]"
      ]
     },
     "metadata": {},
     "output_type": "display_data"
    },
    {
     "name": "stdout",
     "output_type": "stream",
     "text": [
      "Epoch 648/1000, Loss: 6953.416036671606\n"
     ]
    },
    {
     "data": {
      "application/vnd.jupyter.widget-view+json": {
       "model_id": "9cfad3a723b2414b8a371b1e59420630",
       "version_major": 2,
       "version_minor": 0
      },
      "text/plain": [
       "Epoch 649/1000:   0%|          | 0/1 [00:00<?, ?it/s]"
      ]
     },
     "metadata": {},
     "output_type": "display_data"
    },
    {
     "name": "stdout",
     "output_type": "stream",
     "text": [
      "Epoch 649/1000, Loss: 6957.284423828125\n"
     ]
    },
    {
     "data": {
      "application/vnd.jupyter.widget-view+json": {
       "model_id": "841a874301774f2882eb62aefee510bb",
       "version_major": 2,
       "version_minor": 0
      },
      "text/plain": [
       "Epoch 650/1000:   0%|          | 0/1 [00:00<?, ?it/s]"
      ]
     },
     "metadata": {},
     "output_type": "display_data"
    },
    {
     "name": "stdout",
     "output_type": "stream",
     "text": [
      "Epoch 650/1000, Loss: 6951.2144564924565\n"
     ]
    },
    {
     "data": {
      "application/vnd.jupyter.widget-view+json": {
       "model_id": "3d6d4432f1834def861e952ee7e6f272",
       "version_major": 2,
       "version_minor": 0
      },
      "text/plain": [
       "Epoch 651/1000:   0%|          | 0/1 [00:00<?, ?it/s]"
      ]
     },
     "metadata": {},
     "output_type": "display_data"
    },
    {
     "name": "stdout",
     "output_type": "stream",
     "text": [
      "Epoch 651/1000, Loss: 6945.418465449892\n"
     ]
    },
    {
     "data": {
      "application/vnd.jupyter.widget-view+json": {
       "model_id": "331ec9ae0b2a4988920b6793a8b10efd",
       "version_major": 2,
       "version_minor": 0
      },
      "text/plain": [
       "Epoch 652/1000:   0%|          | 0/1 [00:00<?, ?it/s]"
      ]
     },
     "metadata": {},
     "output_type": "display_data"
    },
    {
     "name": "stdout",
     "output_type": "stream",
     "text": [
      "Epoch 652/1000, Loss: 6952.408329404634\n"
     ]
    },
    {
     "data": {
      "application/vnd.jupyter.widget-view+json": {
       "model_id": "6e277f8d17e1475081427f69d03f654d",
       "version_major": 2,
       "version_minor": 0
      },
      "text/plain": [
       "Epoch 653/1000:   0%|          | 0/1 [00:00<?, ?it/s]"
      ]
     },
     "metadata": {},
     "output_type": "display_data"
    },
    {
     "name": "stdout",
     "output_type": "stream",
     "text": [
      "Epoch 653/1000, Loss: 6951.46251599542\n"
     ]
    },
    {
     "data": {
      "application/vnd.jupyter.widget-view+json": {
       "model_id": "81515aee26df4d069e2c546731510c50",
       "version_major": 2,
       "version_minor": 0
      },
      "text/plain": [
       "Epoch 654/1000:   0%|          | 0/1 [00:00<?, ?it/s]"
      ]
     },
     "metadata": {},
     "output_type": "display_data"
    },
    {
     "name": "stdout",
     "output_type": "stream",
     "text": [
      "Epoch 654/1000, Loss: 6929.388852875808\n"
     ]
    },
    {
     "data": {
      "application/vnd.jupyter.widget-view+json": {
       "model_id": "200c2a8e6d054d8d898a2f5d1d47b498",
       "version_major": 2,
       "version_minor": 0
      },
      "text/plain": [
       "Epoch 655/1000:   0%|          | 0/1 [00:00<?, ?it/s]"
      ]
     },
     "metadata": {},
     "output_type": "display_data"
    },
    {
     "name": "stdout",
     "output_type": "stream",
     "text": [
      "Epoch 655/1000, Loss: 6938.455238079203\n"
     ]
    },
    {
     "data": {
      "application/vnd.jupyter.widget-view+json": {
       "model_id": "080bbf2050944cbf911c9c23b85b2d2c",
       "version_major": 2,
       "version_minor": 0
      },
      "text/plain": [
       "Epoch 656/1000:   0%|          | 0/1 [00:00<?, ?it/s]"
      ]
     },
     "metadata": {},
     "output_type": "display_data"
    },
    {
     "name": "stdout",
     "output_type": "stream",
     "text": [
      "Epoch 656/1000, Loss: 6946.640570278825\n"
     ]
    },
    {
     "data": {
      "application/vnd.jupyter.widget-view+json": {
       "model_id": "ff96f0a6c3f44149a9fcaae6b91ba8d8",
       "version_major": 2,
       "version_minor": 0
      },
      "text/plain": [
       "Epoch 657/1000:   0%|          | 0/1 [00:00<?, ?it/s]"
      ]
     },
     "metadata": {},
     "output_type": "display_data"
    },
    {
     "name": "stdout",
     "output_type": "stream",
     "text": [
      "Epoch 657/1000, Loss: 6931.623741412985\n"
     ]
    },
    {
     "data": {
      "application/vnd.jupyter.widget-view+json": {
       "model_id": "b1d8bf716e3a408aac655356464a17e6",
       "version_major": 2,
       "version_minor": 0
      },
      "text/plain": [
       "Epoch 658/1000:   0%|          | 0/1 [00:00<?, ?it/s]"
      ]
     },
     "metadata": {},
     "output_type": "display_data"
    },
    {
     "name": "stdout",
     "output_type": "stream",
     "text": [
      "Epoch 658/1000, Loss: 6947.798668170797\n"
     ]
    },
    {
     "data": {
      "application/vnd.jupyter.widget-view+json": {
       "model_id": "d9f1a0b4832a4fdaaa56221174bb4dd4",
       "version_major": 2,
       "version_minor": 0
      },
      "text/plain": [
       "Epoch 659/1000:   0%|          | 0/1 [00:00<?, ?it/s]"
      ]
     },
     "metadata": {},
     "output_type": "display_data"
    },
    {
     "name": "stdout",
     "output_type": "stream",
     "text": [
      "Epoch 659/1000, Loss: 6944.708470837823\n"
     ]
    },
    {
     "data": {
      "application/vnd.jupyter.widget-view+json": {
       "model_id": "9a57adead119475a83eb9144cce87c52",
       "version_major": 2,
       "version_minor": 0
      },
      "text/plain": [
       "Epoch 660/1000:   0%|          | 0/1 [00:00<?, ?it/s]"
      ]
     },
     "metadata": {},
     "output_type": "display_data"
    },
    {
     "name": "stdout",
     "output_type": "stream",
     "text": [
      "Epoch 660/1000, Loss: 6922.346936456089\n"
     ]
    },
    {
     "data": {
      "application/vnd.jupyter.widget-view+json": {
       "model_id": "3bd77cbc8e8743e3aee45890bb5e94e7",
       "version_major": 2,
       "version_minor": 0
      },
      "text/plain": [
       "Epoch 661/1000:   0%|          | 0/1 [00:00<?, ?it/s]"
      ]
     },
     "metadata": {},
     "output_type": "display_data"
    },
    {
     "name": "stdout",
     "output_type": "stream",
     "text": [
      "Epoch 661/1000, Loss: 6926.18595938847\n"
     ]
    },
    {
     "data": {
      "application/vnd.jupyter.widget-view+json": {
       "model_id": "d741bf6711754feeae862202fef1903a",
       "version_major": 2,
       "version_minor": 0
      },
      "text/plain": [
       "Epoch 662/1000:   0%|          | 0/1 [00:00<?, ?it/s]"
      ]
     },
     "metadata": {},
     "output_type": "display_data"
    },
    {
     "name": "stdout",
     "output_type": "stream",
     "text": [
      "Epoch 662/1000, Loss: 6913.455217032597\n"
     ]
    },
    {
     "data": {
      "application/vnd.jupyter.widget-view+json": {
       "model_id": "d8d3d8cbb69248629934c1858aba2812",
       "version_major": 2,
       "version_minor": 0
      },
      "text/plain": [
       "Epoch 663/1000:   0%|          | 0/1 [00:00<?, ?it/s]"
      ]
     },
     "metadata": {},
     "output_type": "display_data"
    },
    {
     "name": "stdout",
     "output_type": "stream",
     "text": [
      "Epoch 663/1000, Loss: 6946.250665072737\n"
     ]
    },
    {
     "data": {
      "application/vnd.jupyter.widget-view+json": {
       "model_id": "a0f6670f842c49a099bf80887afcba25",
       "version_major": 2,
       "version_minor": 0
      },
      "text/plain": [
       "Epoch 664/1000:   0%|          | 0/1 [00:00<?, ?it/s]"
      ]
     },
     "metadata": {},
     "output_type": "display_data"
    },
    {
     "name": "stdout",
     "output_type": "stream",
     "text": [
      "Epoch 664/1000, Loss: 6930.7805722993\n"
     ]
    },
    {
     "data": {
      "application/vnd.jupyter.widget-view+json": {
       "model_id": "4931ad7c349641cab9366dd40c87fd61",
       "version_major": 2,
       "version_minor": 0
      },
      "text/plain": [
       "Epoch 665/1000:   0%|          | 0/1 [00:00<?, ?it/s]"
      ]
     },
     "metadata": {},
     "output_type": "display_data"
    },
    {
     "name": "stdout",
     "output_type": "stream",
     "text": [
      "Epoch 665/1000, Loss: 6918.449955381197\n"
     ]
    },
    {
     "data": {
      "application/vnd.jupyter.widget-view+json": {
       "model_id": "38e7241ebf524c6c9f97e108a0e30702",
       "version_major": 2,
       "version_minor": 0
      },
      "text/plain": [
       "Epoch 666/1000:   0%|          | 0/1 [00:00<?, ?it/s]"
      ]
     },
     "metadata": {},
     "output_type": "display_data"
    },
    {
     "name": "stdout",
     "output_type": "stream",
     "text": [
      "Epoch 666/1000, Loss: 6927.150146484375\n"
     ]
    },
    {
     "data": {
      "application/vnd.jupyter.widget-view+json": {
       "model_id": "bbc1ebcf50b844c5a437a861723bd5fe",
       "version_major": 2,
       "version_minor": 0
      },
      "text/plain": [
       "Epoch 667/1000:   0%|          | 0/1 [00:00<?, ?it/s]"
      ]
     },
     "metadata": {},
     "output_type": "display_data"
    },
    {
     "name": "stdout",
     "output_type": "stream",
     "text": [
      "Epoch 667/1000, Loss: 6926.064482590248\n"
     ]
    },
    {
     "data": {
      "application/vnd.jupyter.widget-view+json": {
       "model_id": "7dd820e13ec2405e93e4a1ad13f10431",
       "version_major": 2,
       "version_minor": 0
      },
      "text/plain": [
       "Epoch 668/1000:   0%|          | 0/1 [00:00<?, ?it/s]"
      ]
     },
     "metadata": {},
     "output_type": "display_data"
    },
    {
     "name": "stdout",
     "output_type": "stream",
     "text": [
      "Epoch 668/1000, Loss: 6923.308627424569\n"
     ]
    },
    {
     "data": {
      "application/vnd.jupyter.widget-view+json": {
       "model_id": "b7572d4e52e1436e91f83c400de90b9f",
       "version_major": 2,
       "version_minor": 0
      },
      "text/plain": [
       "Epoch 669/1000:   0%|          | 0/1 [00:00<?, ?it/s]"
      ]
     },
     "metadata": {},
     "output_type": "display_data"
    },
    {
     "name": "stdout",
     "output_type": "stream",
     "text": [
      "Epoch 669/1000, Loss: 6916.40621211611\n"
     ]
    },
    {
     "data": {
      "application/vnd.jupyter.widget-view+json": {
       "model_id": "527aacd9aec34f02b2ae00036894258c",
       "version_major": 2,
       "version_minor": 0
      },
      "text/plain": [
       "Epoch 670/1000:   0%|          | 0/1 [00:00<?, ?it/s]"
      ]
     },
     "metadata": {},
     "output_type": "display_data"
    },
    {
     "name": "stdout",
     "output_type": "stream",
     "text": [
      "Epoch 670/1000, Loss: 6908.547914702317\n"
     ]
    },
    {
     "data": {
      "application/vnd.jupyter.widget-view+json": {
       "model_id": "3685837ec5744b3cacf30728091210ea",
       "version_major": 2,
       "version_minor": 0
      },
      "text/plain": [
       "Epoch 671/1000:   0%|          | 0/1 [00:00<?, ?it/s]"
      ]
     },
     "metadata": {},
     "output_type": "display_data"
    },
    {
     "name": "stdout",
     "output_type": "stream",
     "text": [
      "Epoch 671/1000, Loss: 6919.101192079741\n"
     ]
    },
    {
     "data": {
      "application/vnd.jupyter.widget-view+json": {
       "model_id": "e11aeeca7f25497bb5b30ae9b7152cca",
       "version_major": 2,
       "version_minor": 0
      },
      "text/plain": [
       "Epoch 672/1000:   0%|          | 0/1 [00:00<?, ?it/s]"
      ]
     },
     "metadata": {},
     "output_type": "display_data"
    },
    {
     "name": "stdout",
     "output_type": "stream",
     "text": [
      "Epoch 672/1000, Loss: 6924.994393184267\n"
     ]
    },
    {
     "data": {
      "application/vnd.jupyter.widget-view+json": {
       "model_id": "2f018ad08d454a09919546d01af1cae5",
       "version_major": 2,
       "version_minor": 0
      },
      "text/plain": [
       "Epoch 673/1000:   0%|          | 0/1 [00:00<?, ?it/s]"
      ]
     },
     "metadata": {},
     "output_type": "display_data"
    },
    {
     "name": "stdout",
     "output_type": "stream",
     "text": [
      "Epoch 673/1000, Loss: 6908.033110519936\n"
     ]
    },
    {
     "data": {
      "application/vnd.jupyter.widget-view+json": {
       "model_id": "6d794d5e2a8c4ef984d60ee7b99b077d",
       "version_major": 2,
       "version_minor": 0
      },
      "text/plain": [
       "Epoch 674/1000:   0%|          | 0/1 [00:00<?, ?it/s]"
      ]
     },
     "metadata": {},
     "output_type": "display_data"
    },
    {
     "name": "stdout",
     "output_type": "stream",
     "text": [
      "Epoch 674/1000, Loss: 6902.757168473869\n"
     ]
    },
    {
     "data": {
      "application/vnd.jupyter.widget-view+json": {
       "model_id": "eac45dc420384984b635b33d00078674",
       "version_major": 2,
       "version_minor": 0
      },
      "text/plain": [
       "Epoch 675/1000:   0%|          | 0/1 [00:00<?, ?it/s]"
      ]
     },
     "metadata": {},
     "output_type": "display_data"
    },
    {
     "name": "stdout",
     "output_type": "stream",
     "text": [
      "Epoch 675/1000, Loss: 6917.983516298491\n"
     ]
    },
    {
     "data": {
      "application/vnd.jupyter.widget-view+json": {
       "model_id": "a5b292043da64d1dbf6e7effe49fbf72",
       "version_major": 2,
       "version_minor": 0
      },
      "text/plain": [
       "Epoch 676/1000:   0%|          | 0/1 [00:00<?, ?it/s]"
      ]
     },
     "metadata": {},
     "output_type": "display_data"
    },
    {
     "name": "stdout",
     "output_type": "stream",
     "text": [
      "Epoch 676/1000, Loss: 6896.39081441945\n"
     ]
    },
    {
     "data": {
      "application/vnd.jupyter.widget-view+json": {
       "model_id": "ddc578cb029e47b7bde5cbd9534cbc78",
       "version_major": 2,
       "version_minor": 0
      },
      "text/plain": [
       "Epoch 677/1000:   0%|          | 0/1 [00:00<?, ?it/s]"
      ]
     },
     "metadata": {},
     "output_type": "display_data"
    },
    {
     "name": "stdout",
     "output_type": "stream",
     "text": [
      "Epoch 677/1000, Loss: 6910.949189284752\n"
     ]
    },
    {
     "data": {
      "application/vnd.jupyter.widget-view+json": {
       "model_id": "44bdfd55d8174f4c920d5dbb2f6c37b6",
       "version_major": 2,
       "version_minor": 0
      },
      "text/plain": [
       "Epoch 678/1000:   0%|          | 0/1 [00:00<?, ?it/s]"
      ]
     },
     "metadata": {},
     "output_type": "display_data"
    },
    {
     "name": "stdout",
     "output_type": "stream",
     "text": [
      "Epoch 678/1000, Loss: 6908.126330145474\n"
     ]
    },
    {
     "data": {
      "application/vnd.jupyter.widget-view+json": {
       "model_id": "907fa84f45a143e3865564807a9c3d52",
       "version_major": 2,
       "version_minor": 0
      },
      "text/plain": [
       "Epoch 679/1000:   0%|          | 0/1 [00:00<?, ?it/s]"
      ]
     },
     "metadata": {},
     "output_type": "display_data"
    },
    {
     "name": "stdout",
     "output_type": "stream",
     "text": [
      "Epoch 679/1000, Loss: 6900.453175511853\n"
     ]
    },
    {
     "data": {
      "application/vnd.jupyter.widget-view+json": {
       "model_id": "42ba4f012efd45589e0740fddc82910e",
       "version_major": 2,
       "version_minor": 0
      },
      "text/plain": [
       "Epoch 680/1000:   0%|          | 0/1 [00:00<?, ?it/s]"
      ]
     },
     "metadata": {},
     "output_type": "display_data"
    },
    {
     "name": "stdout",
     "output_type": "stream",
     "text": [
      "Epoch 680/1000, Loss: 6909.755914096175\n"
     ]
    },
    {
     "data": {
      "application/vnd.jupyter.widget-view+json": {
       "model_id": "98c2ad3cf25d45619a24c341e0c06c0c",
       "version_major": 2,
       "version_minor": 0
      },
      "text/plain": [
       "Epoch 681/1000:   0%|          | 0/1 [00:00<?, ?it/s]"
      ]
     },
     "metadata": {},
     "output_type": "display_data"
    },
    {
     "name": "stdout",
     "output_type": "stream",
     "text": [
      "Epoch 681/1000, Loss: 6907.07042615167\n"
     ]
    },
    {
     "data": {
      "application/vnd.jupyter.widget-view+json": {
       "model_id": "a0b4445693a94e199b3be600bce1f4a7",
       "version_major": 2,
       "version_minor": 0
      },
      "text/plain": [
       "Epoch 682/1000:   0%|          | 0/1 [00:00<?, ?it/s]"
      ]
     },
     "metadata": {},
     "output_type": "display_data"
    },
    {
     "name": "stdout",
     "output_type": "stream",
     "text": [
      "Epoch 682/1000, Loss: 6893.4461459455815\n"
     ]
    },
    {
     "data": {
      "application/vnd.jupyter.widget-view+json": {
       "model_id": "583114d57db845e2a5e999f5d27f196b",
       "version_major": 2,
       "version_minor": 0
      },
      "text/plain": [
       "Epoch 683/1000:   0%|          | 0/1 [00:00<?, ?it/s]"
      ]
     },
     "metadata": {},
     "output_type": "display_data"
    },
    {
     "name": "stdout",
     "output_type": "stream",
     "text": [
      "Epoch 683/1000, Loss: 6907.023904734644\n"
     ]
    },
    {
     "data": {
      "application/vnd.jupyter.widget-view+json": {
       "model_id": "da65348f21ef44fe80737988170bb78a",
       "version_major": 2,
       "version_minor": 0
      },
      "text/plain": [
       "Epoch 684/1000:   0%|          | 0/1 [00:00<?, ?it/s]"
      ]
     },
     "metadata": {},
     "output_type": "display_data"
    },
    {
     "name": "stdout",
     "output_type": "stream",
     "text": [
      "Epoch 684/1000, Loss: 6892.852206526131\n"
     ]
    },
    {
     "data": {
      "application/vnd.jupyter.widget-view+json": {
       "model_id": "5070f2d18d1f4a739a0f73e4c0c9c62e",
       "version_major": 2,
       "version_minor": 0
      },
      "text/plain": [
       "Epoch 685/1000:   0%|          | 0/1 [00:00<?, ?it/s]"
      ]
     },
     "metadata": {},
     "output_type": "display_data"
    },
    {
     "name": "stdout",
     "output_type": "stream",
     "text": [
      "Epoch 685/1000, Loss: 6886.189116379311\n"
     ]
    },
    {
     "data": {
      "application/vnd.jupyter.widget-view+json": {
       "model_id": "a140ca2329b540af86539ecee951e9b9",
       "version_major": 2,
       "version_minor": 0
      },
      "text/plain": [
       "Epoch 686/1000:   0%|          | 0/1 [00:00<?, ?it/s]"
      ]
     },
     "metadata": {},
     "output_type": "display_data"
    },
    {
     "name": "stdout",
     "output_type": "stream",
     "text": [
      "Epoch 686/1000, Loss: 6878.4273681640625\n"
     ]
    },
    {
     "data": {
      "application/vnd.jupyter.widget-view+json": {
       "model_id": "e5d8a5dcbe5b4bffa62f61b828ae439b",
       "version_major": 2,
       "version_minor": 0
      },
      "text/plain": [
       "Epoch 687/1000:   0%|          | 0/1 [00:00<?, ?it/s]"
      ]
     },
     "metadata": {},
     "output_type": "display_data"
    },
    {
     "name": "stdout",
     "output_type": "stream",
     "text": [
      "Epoch 687/1000, Loss: 6892.098590719289\n"
     ]
    },
    {
     "data": {
      "application/vnd.jupyter.widget-view+json": {
       "model_id": "620397015ad849c6b24f6d8268a06556",
       "version_major": 2,
       "version_minor": 0
      },
      "text/plain": [
       "Epoch 688/1000:   0%|          | 0/1 [00:00<?, ?it/s]"
      ]
     },
     "metadata": {},
     "output_type": "display_data"
    },
    {
     "name": "stdout",
     "output_type": "stream",
     "text": [
      "Epoch 688/1000, Loss: 6890.813489190464\n"
     ]
    },
    {
     "data": {
      "application/vnd.jupyter.widget-view+json": {
       "model_id": "cdd5ab7830a2465497f9791a4783d64a",
       "version_major": 2,
       "version_minor": 0
      },
      "text/plain": [
       "Epoch 689/1000:   0%|          | 0/1 [00:00<?, ?it/s]"
      ]
     },
     "metadata": {},
     "output_type": "display_data"
    },
    {
     "name": "stdout",
     "output_type": "stream",
     "text": [
      "Epoch 689/1000, Loss: 6900.905538624731\n"
     ]
    },
    {
     "data": {
      "application/vnd.jupyter.widget-view+json": {
       "model_id": "4585afc8ae2c46079acc7f421d93667e",
       "version_major": 2,
       "version_minor": 0
      },
      "text/plain": [
       "Epoch 690/1000:   0%|          | 0/1 [00:00<?, ?it/s]"
      ]
     },
     "metadata": {},
     "output_type": "display_data"
    },
    {
     "name": "stdout",
     "output_type": "stream",
     "text": [
      "Epoch 690/1000, Loss: 6897.316195783944\n"
     ]
    },
    {
     "data": {
      "application/vnd.jupyter.widget-view+json": {
       "model_id": "68f14edd82cf49758ac3f5ffa885596b",
       "version_major": 2,
       "version_minor": 0
      },
      "text/plain": [
       "Epoch 691/1000:   0%|          | 0/1 [00:00<?, ?it/s]"
      ]
     },
     "metadata": {},
     "output_type": "display_data"
    },
    {
     "name": "stdout",
     "output_type": "stream",
     "text": [
      "Epoch 691/1000, Loss: 6884.409377525592\n"
     ]
    },
    {
     "data": {
      "application/vnd.jupyter.widget-view+json": {
       "model_id": "72500edfa4774504869937903884a253",
       "version_major": 2,
       "version_minor": 0
      },
      "text/plain": [
       "Epoch 692/1000:   0%|          | 0/1 [00:00<?, ?it/s]"
      ]
     },
     "metadata": {},
     "output_type": "display_data"
    },
    {
     "name": "stdout",
     "output_type": "stream",
     "text": [
      "Epoch 692/1000, Loss: 6885.250921841325\n"
     ]
    },
    {
     "data": {
      "application/vnd.jupyter.widget-view+json": {
       "model_id": "696f243050434c2ea24c8bb2cb66906c",
       "version_major": 2,
       "version_minor": 0
      },
      "text/plain": [
       "Epoch 693/1000:   0%|          | 0/1 [00:00<?, ?it/s]"
      ]
     },
     "metadata": {},
     "output_type": "display_data"
    },
    {
     "name": "stdout",
     "output_type": "stream",
     "text": [
      "Epoch 693/1000, Loss: 6885.856870453933\n"
     ]
    },
    {
     "data": {
      "application/vnd.jupyter.widget-view+json": {
       "model_id": "4a54bf021ff84888a5f478ca3cdcd1f6",
       "version_major": 2,
       "version_minor": 0
      },
      "text/plain": [
       "Epoch 694/1000:   0%|          | 0/1 [00:00<?, ?it/s]"
      ]
     },
     "metadata": {},
     "output_type": "display_data"
    },
    {
     "name": "stdout",
     "output_type": "stream",
     "text": [
      "Epoch 694/1000, Loss: 6888.498779296875\n"
     ]
    },
    {
     "data": {
      "application/vnd.jupyter.widget-view+json": {
       "model_id": "ca46cc52ccbd466590ea446ada0496b4",
       "version_major": 2,
       "version_minor": 0
      },
      "text/plain": [
       "Epoch 695/1000:   0%|          | 0/1 [00:00<?, ?it/s]"
      ]
     },
     "metadata": {},
     "output_type": "display_data"
    },
    {
     "name": "stdout",
     "output_type": "stream",
     "text": [
      "Epoch 695/1000, Loss: 6873.026026232489\n"
     ]
    },
    {
     "data": {
      "application/vnd.jupyter.widget-view+json": {
       "model_id": "1d4c2eca08d249c282385921e92589b1",
       "version_major": 2,
       "version_minor": 0
      },
      "text/plain": [
       "Epoch 696/1000:   0%|          | 0/1 [00:00<?, ?it/s]"
      ]
     },
     "metadata": {},
     "output_type": "display_data"
    },
    {
     "name": "stdout",
     "output_type": "stream",
     "text": [
      "Epoch 696/1000, Loss: 6881.554127660291\n"
     ]
    },
    {
     "data": {
      "application/vnd.jupyter.widget-view+json": {
       "model_id": "7af8280132434054992a2a6b7d1aab47",
       "version_major": 2,
       "version_minor": 0
      },
      "text/plain": [
       "Epoch 697/1000:   0%|          | 0/1 [00:00<?, ?it/s]"
      ]
     },
     "metadata": {},
     "output_type": "display_data"
    },
    {
     "name": "stdout",
     "output_type": "stream",
     "text": [
      "Epoch 697/1000, Loss: 6879.051867254849\n"
     ]
    },
    {
     "data": {
      "application/vnd.jupyter.widget-view+json": {
       "model_id": "8194bc7ae5e74e539dd55da8e163880a",
       "version_major": 2,
       "version_minor": 0
      },
      "text/plain": [
       "Epoch 698/1000:   0%|          | 0/1 [00:00<?, ?it/s]"
      ]
     },
     "metadata": {},
     "output_type": "display_data"
    },
    {
     "name": "stdout",
     "output_type": "stream",
     "text": [
      "Epoch 698/1000, Loss: 6882.058505354256\n"
     ]
    },
    {
     "data": {
      "application/vnd.jupyter.widget-view+json": {
       "model_id": "de009de867ed40f29325ee5b5572a50c",
       "version_major": 2,
       "version_minor": 0
      },
      "text/plain": [
       "Epoch 699/1000:   0%|          | 0/1 [00:00<?, ?it/s]"
      ]
     },
     "metadata": {},
     "output_type": "display_data"
    },
    {
     "name": "stdout",
     "output_type": "stream",
     "text": [
      "Epoch 699/1000, Loss: 6871.839153421336\n"
     ]
    },
    {
     "data": {
      "application/vnd.jupyter.widget-view+json": {
       "model_id": "f6ed19c0539740a681e2998ae83424bb",
       "version_major": 2,
       "version_minor": 0
      },
      "text/plain": [
       "Epoch 700/1000:   0%|          | 0/1 [00:00<?, ?it/s]"
      ]
     },
     "metadata": {},
     "output_type": "display_data"
    },
    {
     "name": "stdout",
     "output_type": "stream",
     "text": [
      "Epoch 700/1000, Loss: 6877.770444672683\n"
     ]
    },
    {
     "data": {
      "application/vnd.jupyter.widget-view+json": {
       "model_id": "5ed80daa6b2440c7bc608a675b52bd8c",
       "version_major": 2,
       "version_minor": 0
      },
      "text/plain": [
       "Epoch 701/1000:   0%|          | 0/1 [00:00<?, ?it/s]"
      ]
     },
     "metadata": {},
     "output_type": "display_data"
    },
    {
     "name": "stdout",
     "output_type": "stream",
     "text": [
      "Epoch 701/1000, Loss: 6882.535934974408\n"
     ]
    },
    {
     "data": {
      "application/vnd.jupyter.widget-view+json": {
       "model_id": "c56dc62f82dc4773bcc430cb0c51b719",
       "version_major": 2,
       "version_minor": 0
      },
      "text/plain": [
       "Epoch 702/1000:   0%|          | 0/1 [00:00<?, ?it/s]"
      ]
     },
     "metadata": {},
     "output_type": "display_data"
    },
    {
     "name": "stdout",
     "output_type": "stream",
     "text": [
      "Epoch 702/1000, Loss: 6881.038708917026\n"
     ]
    },
    {
     "data": {
      "application/vnd.jupyter.widget-view+json": {
       "model_id": "155a6454dccb4ab9a1a564a65046e447",
       "version_major": 2,
       "version_minor": 0
      },
      "text/plain": [
       "Epoch 703/1000:   0%|          | 0/1 [00:00<?, ?it/s]"
      ]
     },
     "metadata": {},
     "output_type": "display_data"
    },
    {
     "name": "stdout",
     "output_type": "stream",
     "text": [
      "Epoch 703/1000, Loss: 6879.574681775323\n"
     ]
    },
    {
     "data": {
      "application/vnd.jupyter.widget-view+json": {
       "model_id": "deb5ee6d6749462082d9e344133d516d",
       "version_major": 2,
       "version_minor": 0
      },
      "text/plain": [
       "Epoch 704/1000:   0%|          | 0/1 [00:00<?, ?it/s]"
      ]
     },
     "metadata": {},
     "output_type": "display_data"
    },
    {
     "name": "stdout",
     "output_type": "stream",
     "text": [
      "Epoch 704/1000, Loss: 6871.091228616649\n"
     ]
    },
    {
     "data": {
      "application/vnd.jupyter.widget-view+json": {
       "model_id": "b02cdf152ba3436da6d93167317551a6",
       "version_major": 2,
       "version_minor": 0
      },
      "text/plain": [
       "Epoch 705/1000:   0%|          | 0/1 [00:00<?, ?it/s]"
      ]
     },
     "metadata": {},
     "output_type": "display_data"
    },
    {
     "name": "stdout",
     "output_type": "stream",
     "text": [
      "Epoch 705/1000, Loss: 6873.396741143589\n"
     ]
    },
    {
     "data": {
      "application/vnd.jupyter.widget-view+json": {
       "model_id": "75156f2c014d4f4ba4bda79f2fa7a6bb",
       "version_major": 2,
       "version_minor": 0
      },
      "text/plain": [
       "Epoch 706/1000:   0%|          | 0/1 [00:00<?, ?it/s]"
      ]
     },
     "metadata": {},
     "output_type": "display_data"
    },
    {
     "name": "stdout",
     "output_type": "stream",
     "text": [
      "Epoch 706/1000, Loss: 6868.272486193427\n"
     ]
    },
    {
     "data": {
      "application/vnd.jupyter.widget-view+json": {
       "model_id": "eaf736fe68f04fe99a2bfcc4ba8c687d",
       "version_major": 2,
       "version_minor": 0
      },
      "text/plain": [
       "Epoch 707/1000:   0%|          | 0/1 [00:00<?, ?it/s]"
      ]
     },
     "metadata": {},
     "output_type": "display_data"
    },
    {
     "name": "stdout",
     "output_type": "stream",
     "text": [
      "Epoch 707/1000, Loss: 6853.886184166217\n"
     ]
    },
    {
     "data": {
      "application/vnd.jupyter.widget-view+json": {
       "model_id": "0050800abef44a3eac8610820c60266a",
       "version_major": 2,
       "version_minor": 0
      },
      "text/plain": [
       "Epoch 708/1000:   0%|          | 0/1 [00:00<?, ?it/s]"
      ]
     },
     "metadata": {},
     "output_type": "display_data"
    },
    {
     "name": "stdout",
     "output_type": "stream",
     "text": [
      "Epoch 708/1000, Loss: 6879.2969339304955\n"
     ]
    },
    {
     "data": {
      "application/vnd.jupyter.widget-view+json": {
       "model_id": "d68cdf303dc948a9b56f03216311dfb4",
       "version_major": 2,
       "version_minor": 0
      },
      "text/plain": [
       "Epoch 709/1000:   0%|          | 0/1 [00:00<?, ?it/s]"
      ]
     },
     "metadata": {},
     "output_type": "display_data"
    },
    {
     "name": "stdout",
     "output_type": "stream",
     "text": [
      "Epoch 709/1000, Loss: 6864.557023673222\n"
     ]
    },
    {
     "data": {
      "application/vnd.jupyter.widget-view+json": {
       "model_id": "63e12ee1fffb4232a42503414b29ba69",
       "version_major": 2,
       "version_minor": 0
      },
      "text/plain": [
       "Epoch 710/1000:   0%|          | 0/1 [00:00<?, ?it/s]"
      ]
     },
     "metadata": {},
     "output_type": "display_data"
    },
    {
     "name": "stdout",
     "output_type": "stream",
     "text": [
      "Epoch 710/1000, Loss: 6867.992031755119\n"
     ]
    },
    {
     "data": {
      "application/vnd.jupyter.widget-view+json": {
       "model_id": "d6dc7978b22b458c97bada8c4b53dd2e",
       "version_major": 2,
       "version_minor": 0
      },
      "text/plain": [
       "Epoch 711/1000:   0%|          | 0/1 [00:00<?, ?it/s]"
      ]
     },
     "metadata": {},
     "output_type": "display_data"
    },
    {
     "name": "stdout",
     "output_type": "stream",
     "text": [
      "Epoch 711/1000, Loss: 6857.246443123653\n"
     ]
    },
    {
     "data": {
      "application/vnd.jupyter.widget-view+json": {
       "model_id": "dce543ae7bb943adb745eb5f5cc276e9",
       "version_major": 2,
       "version_minor": 0
      },
      "text/plain": [
       "Epoch 712/1000:   0%|          | 0/1 [00:00<?, ?it/s]"
      ]
     },
     "metadata": {},
     "output_type": "display_data"
    },
    {
     "name": "stdout",
     "output_type": "stream",
     "text": [
      "Epoch 712/1000, Loss: 6863.889888368803\n"
     ]
    },
    {
     "data": {
      "application/vnd.jupyter.widget-view+json": {
       "model_id": "6a1304b338c54e49b11d49969f9295f6",
       "version_major": 2,
       "version_minor": 0
      },
      "text/plain": [
       "Epoch 713/1000:   0%|          | 0/1 [00:00<?, ?it/s]"
      ]
     },
     "metadata": {},
     "output_type": "display_data"
    },
    {
     "name": "stdout",
     "output_type": "stream",
     "text": [
      "Epoch 713/1000, Loss: 6869.594507677802\n"
     ]
    },
    {
     "data": {
      "application/vnd.jupyter.widget-view+json": {
       "model_id": "b17806a449c04a10b9e5a59e5701028e",
       "version_major": 2,
       "version_minor": 0
      },
      "text/plain": [
       "Epoch 714/1000:   0%|          | 0/1 [00:00<?, ?it/s]"
      ]
     },
     "metadata": {},
     "output_type": "display_data"
    },
    {
     "name": "stdout",
     "output_type": "stream",
     "text": [
      "Epoch 714/1000, Loss: 6870.021648538524\n"
     ]
    },
    {
     "data": {
      "application/vnd.jupyter.widget-view+json": {
       "model_id": "6365ecd228cb4f0896159742b8e1f250",
       "version_major": 2,
       "version_minor": 0
      },
      "text/plain": [
       "Epoch 715/1000:   0%|          | 0/1 [00:00<?, ?it/s]"
      ]
     },
     "metadata": {},
     "output_type": "display_data"
    },
    {
     "name": "stdout",
     "output_type": "stream",
     "text": [
      "Epoch 715/1000, Loss: 6860.98185782597\n"
     ]
    },
    {
     "data": {
      "application/vnd.jupyter.widget-view+json": {
       "model_id": "a56a106b83c14ae39d8db5bbc8a3210c",
       "version_major": 2,
       "version_minor": 0
      },
      "text/plain": [
       "Epoch 716/1000:   0%|          | 0/1 [00:00<?, ?it/s]"
      ]
     },
     "metadata": {},
     "output_type": "display_data"
    },
    {
     "name": "stdout",
     "output_type": "stream",
     "text": [
      "Epoch 716/1000, Loss: 6846.4928188981685\n"
     ]
    },
    {
     "data": {
      "application/vnd.jupyter.widget-view+json": {
       "model_id": "ac0bb88a384643f4a419363d637798b8",
       "version_major": 2,
       "version_minor": 0
      },
      "text/plain": [
       "Epoch 717/1000:   0%|          | 0/1 [00:00<?, ?it/s]"
      ]
     },
     "metadata": {},
     "output_type": "display_data"
    },
    {
     "name": "stdout",
     "output_type": "stream",
     "text": [
      "Epoch 717/1000, Loss: 6855.044353616649\n"
     ]
    },
    {
     "data": {
      "application/vnd.jupyter.widget-view+json": {
       "model_id": "02403d5b55db423a9a3c4efa166f1669",
       "version_major": 2,
       "version_minor": 0
      },
      "text/plain": [
       "Epoch 718/1000:   0%|          | 0/1 [00:00<?, ?it/s]"
      ]
     },
     "metadata": {},
     "output_type": "display_data"
    },
    {
     "name": "stdout",
     "output_type": "stream",
     "text": [
      "Epoch 718/1000, Loss: 6850.183189655172\n"
     ]
    },
    {
     "data": {
      "application/vnd.jupyter.widget-view+json": {
       "model_id": "4b97cb3d4ffd4d41acf36873d3fc859b",
       "version_major": 2,
       "version_minor": 0
      },
      "text/plain": [
       "Epoch 719/1000:   0%|          | 0/1 [00:00<?, ?it/s]"
      ]
     },
     "metadata": {},
     "output_type": "display_data"
    },
    {
     "name": "stdout",
     "output_type": "stream",
     "text": [
      "Epoch 719/1000, Loss: 6858.811691810345\n"
     ]
    },
    {
     "data": {
      "application/vnd.jupyter.widget-view+json": {
       "model_id": "65462ada9d55442792f49bc64992d8f4",
       "version_major": 2,
       "version_minor": 0
      },
      "text/plain": [
       "Epoch 720/1000:   0%|          | 0/1 [00:00<?, ?it/s]"
      ]
     },
     "metadata": {},
     "output_type": "display_data"
    },
    {
     "name": "stdout",
     "output_type": "stream",
     "text": [
      "Epoch 720/1000, Loss: 6849.104664769666\n"
     ]
    },
    {
     "data": {
      "application/vnd.jupyter.widget-view+json": {
       "model_id": "8006a7c464844030a9cbf11e112f87fa",
       "version_major": 2,
       "version_minor": 0
      },
      "text/plain": [
       "Epoch 721/1000:   0%|          | 0/1 [00:00<?, ?it/s]"
      ]
     },
     "metadata": {},
     "output_type": "display_data"
    },
    {
     "name": "stdout",
     "output_type": "stream",
     "text": [
      "Epoch 721/1000, Loss: 6852.397709287447\n"
     ]
    },
    {
     "data": {
      "application/vnd.jupyter.widget-view+json": {
       "model_id": "6f8f8ac4494a47619da2cd2b71f0663e",
       "version_major": 2,
       "version_minor": 0
      },
      "text/plain": [
       "Epoch 722/1000:   0%|          | 0/1 [00:00<?, ?it/s]"
      ]
     },
     "metadata": {},
     "output_type": "display_data"
    },
    {
     "name": "stdout",
     "output_type": "stream",
     "text": [
      "Epoch 722/1000, Loss: 6852.06794686153\n"
     ]
    },
    {
     "data": {
      "application/vnd.jupyter.widget-view+json": {
       "model_id": "897f2179e59543b58f9ec733eec2f162",
       "version_major": 2,
       "version_minor": 0
      },
      "text/plain": [
       "Epoch 723/1000:   0%|          | 0/1 [00:00<?, ?it/s]"
      ]
     },
     "metadata": {},
     "output_type": "display_data"
    },
    {
     "name": "stdout",
     "output_type": "stream",
     "text": [
      "Epoch 723/1000, Loss: 6839.718282765356\n"
     ]
    },
    {
     "data": {
      "application/vnd.jupyter.widget-view+json": {
       "model_id": "b8c8d73873d243498c37a036ea939488",
       "version_major": 2,
       "version_minor": 0
      },
      "text/plain": [
       "Epoch 724/1000:   0%|          | 0/1 [00:00<?, ?it/s]"
      ]
     },
     "metadata": {},
     "output_type": "display_data"
    },
    {
     "name": "stdout",
     "output_type": "stream",
     "text": [
      "Epoch 724/1000, Loss: 6841.455726360453\n"
     ]
    },
    {
     "data": {
      "application/vnd.jupyter.widget-view+json": {
       "model_id": "03ffa1a840654fcfa672f1f0b5195222",
       "version_major": 2,
       "version_minor": 0
      },
      "text/plain": [
       "Epoch 725/1000:   0%|          | 0/1 [00:00<?, ?it/s]"
      ]
     },
     "metadata": {},
     "output_type": "display_data"
    },
    {
     "name": "stdout",
     "output_type": "stream",
     "text": [
      "Epoch 725/1000, Loss: 6845.896821120689\n"
     ]
    },
    {
     "data": {
      "application/vnd.jupyter.widget-view+json": {
       "model_id": "8ea1c402c44d412dafe763cdaafdc8ab",
       "version_major": 2,
       "version_minor": 0
      },
      "text/plain": [
       "Epoch 726/1000:   0%|          | 0/1 [00:00<?, ?it/s]"
      ]
     },
     "metadata": {},
     "output_type": "display_data"
    },
    {
     "name": "stdout",
     "output_type": "stream",
     "text": [
      "Epoch 726/1000, Loss: 6847.9092386179955\n"
     ]
    },
    {
     "data": {
      "application/vnd.jupyter.widget-view+json": {
       "model_id": "723ece85593646aca2851c5ffc8dd220",
       "version_major": 2,
       "version_minor": 0
      },
      "text/plain": [
       "Epoch 727/1000:   0%|          | 0/1 [00:00<?, ?it/s]"
      ]
     },
     "metadata": {},
     "output_type": "display_data"
    },
    {
     "name": "stdout",
     "output_type": "stream",
     "text": [
      "Epoch 727/1000, Loss: 6840.694622171336\n"
     ]
    },
    {
     "data": {
      "application/vnd.jupyter.widget-view+json": {
       "model_id": "5813552def9e4260bf401c0223942551",
       "version_major": 2,
       "version_minor": 0
      },
      "text/plain": [
       "Epoch 728/1000:   0%|          | 0/1 [00:00<?, ?it/s]"
      ]
     },
     "metadata": {},
     "output_type": "display_data"
    },
    {
     "name": "stdout",
     "output_type": "stream",
     "text": [
      "Epoch 728/1000, Loss: 6849.844229862608\n"
     ]
    },
    {
     "data": {
      "application/vnd.jupyter.widget-view+json": {
       "model_id": "2776b7aa8c03403ba53f5f2ad134268d",
       "version_major": 2,
       "version_minor": 0
      },
      "text/plain": [
       "Epoch 729/1000:   0%|          | 0/1 [00:00<?, ?it/s]"
      ]
     },
     "metadata": {},
     "output_type": "display_data"
    },
    {
     "name": "stdout",
     "output_type": "stream",
     "text": [
      "Epoch 729/1000, Loss: 6848.125825026939\n"
     ]
    },
    {
     "data": {
      "application/vnd.jupyter.widget-view+json": {
       "model_id": "f4b74fea94aa429889335957c6dd24cc",
       "version_major": 2,
       "version_minor": 0
      },
      "text/plain": [
       "Epoch 730/1000:   0%|          | 0/1 [00:00<?, ?it/s]"
      ]
     },
     "metadata": {},
     "output_type": "display_data"
    },
    {
     "name": "stdout",
     "output_type": "stream",
     "text": [
      "Epoch 730/1000, Loss: 6829.264812601024\n"
     ]
    },
    {
     "data": {
      "application/vnd.jupyter.widget-view+json": {
       "model_id": "971ac830ae5e4721bd0d161f8b9cf23c",
       "version_major": 2,
       "version_minor": 0
      },
      "text/plain": [
       "Epoch 731/1000:   0%|          | 0/1 [00:00<?, ?it/s]"
      ]
     },
     "metadata": {},
     "output_type": "display_data"
    },
    {
     "name": "stdout",
     "output_type": "stream",
     "text": [
      "Epoch 731/1000, Loss: 6843.432520373114\n"
     ]
    },
    {
     "data": {
      "application/vnd.jupyter.widget-view+json": {
       "model_id": "adfef86385414b34a44be92b3c869285",
       "version_major": 2,
       "version_minor": 0
      },
      "text/plain": [
       "Epoch 732/1000:   0%|          | 0/1 [00:00<?, ?it/s]"
      ]
     },
     "metadata": {},
     "output_type": "display_data"
    },
    {
     "name": "stdout",
     "output_type": "stream",
     "text": [
      "Epoch 732/1000, Loss: 6833.527217470366\n"
     ]
    },
    {
     "data": {
      "application/vnd.jupyter.widget-view+json": {
       "model_id": "1ab2f81a9d274eeeac1767c15a28a4e3",
       "version_major": 2,
       "version_minor": 0
      },
      "text/plain": [
       "Epoch 733/1000:   0%|          | 0/1 [00:00<?, ?it/s]"
      ]
     },
     "metadata": {},
     "output_type": "display_data"
    },
    {
     "name": "stdout",
     "output_type": "stream",
     "text": [
      "Epoch 733/1000, Loss: 6848.638263570851\n"
     ]
    },
    {
     "data": {
      "application/vnd.jupyter.widget-view+json": {
       "model_id": "aed96b9e5c284eb1b862a61f6e5e8afa",
       "version_major": 2,
       "version_minor": 0
      },
      "text/plain": [
       "Epoch 734/1000:   0%|          | 0/1 [00:00<?, ?it/s]"
      ]
     },
     "metadata": {},
     "output_type": "display_data"
    },
    {
     "name": "stdout",
     "output_type": "stream",
     "text": [
      "Epoch 734/1000, Loss: 6839.202994511045\n"
     ]
    },
    {
     "data": {
      "application/vnd.jupyter.widget-view+json": {
       "model_id": "9ebcf436e44842308ff726130e56dd3c",
       "version_major": 2,
       "version_minor": 0
      },
      "text/plain": [
       "Epoch 735/1000:   0%|          | 0/1 [00:00<?, ?it/s]"
      ]
     },
     "metadata": {},
     "output_type": "display_data"
    },
    {
     "name": "stdout",
     "output_type": "stream",
     "text": [
      "Epoch 735/1000, Loss: 6820.617385338092\n"
     ]
    },
    {
     "data": {
      "application/vnd.jupyter.widget-view+json": {
       "model_id": "83983e0142fc441e9f4613b818da43e8",
       "version_major": 2,
       "version_minor": 0
      },
      "text/plain": [
       "Epoch 736/1000:   0%|          | 0/1 [00:00<?, ?it/s]"
      ]
     },
     "metadata": {},
     "output_type": "display_data"
    },
    {
     "name": "stdout",
     "output_type": "stream",
     "text": [
      "Epoch 736/1000, Loss: 6841.953836375269\n"
     ]
    },
    {
     "data": {
      "application/vnd.jupyter.widget-view+json": {
       "model_id": "9041ca6d566c40dcbe3149050e370677",
       "version_major": 2,
       "version_minor": 0
      },
      "text/plain": [
       "Epoch 737/1000:   0%|          | 0/1 [00:00<?, ?it/s]"
      ]
     },
     "metadata": {},
     "output_type": "display_data"
    },
    {
     "name": "stdout",
     "output_type": "stream",
     "text": [
      "Epoch 737/1000, Loss: 6827.384454135237\n"
     ]
    },
    {
     "data": {
      "application/vnd.jupyter.widget-view+json": {
       "model_id": "92efdccac39a4548bcaadca2bfb28632",
       "version_major": 2,
       "version_minor": 0
      },
      "text/plain": [
       "Epoch 738/1000:   0%|          | 0/1 [00:00<?, ?it/s]"
      ]
     },
     "metadata": {},
     "output_type": "display_data"
    },
    {
     "name": "stdout",
     "output_type": "stream",
     "text": [
      "Epoch 738/1000, Loss: 6810.874107623922\n"
     ]
    },
    {
     "data": {
      "application/vnd.jupyter.widget-view+json": {
       "model_id": "1b29213cc9a940e4a0b3d1d3fe903928",
       "version_major": 2,
       "version_minor": 0
      },
      "text/plain": [
       "Epoch 739/1000:   0%|          | 0/1 [00:00<?, ?it/s]"
      ]
     },
     "metadata": {},
     "output_type": "display_data"
    },
    {
     "name": "stdout",
     "output_type": "stream",
     "text": [
      "Epoch 739/1000, Loss: 6820.525272764009\n"
     ]
    },
    {
     "data": {
      "application/vnd.jupyter.widget-view+json": {
       "model_id": "3101e0ab102e4a2aa924a94480746757",
       "version_major": 2,
       "version_minor": 0
      },
      "text/plain": [
       "Epoch 740/1000:   0%|          | 0/1 [00:00<?, ?it/s]"
      ]
     },
     "metadata": {},
     "output_type": "display_data"
    },
    {
     "name": "stdout",
     "output_type": "stream",
     "text": [
      "Epoch 740/1000, Loss: 6832.269253434806\n"
     ]
    },
    {
     "data": {
      "application/vnd.jupyter.widget-view+json": {
       "model_id": "66e7baf343494efb9b3c14591c321db0",
       "version_major": 2,
       "version_minor": 0
      },
      "text/plain": [
       "Epoch 741/1000:   0%|          | 0/1 [00:00<?, ?it/s]"
      ]
     },
     "metadata": {},
     "output_type": "display_data"
    },
    {
     "name": "stdout",
     "output_type": "stream",
     "text": [
      "Epoch 741/1000, Loss: 6811.409192315464\n"
     ]
    },
    {
     "data": {
      "application/vnd.jupyter.widget-view+json": {
       "model_id": "069a60396ee5489bb547194aff443b90",
       "version_major": 2,
       "version_minor": 0
      },
      "text/plain": [
       "Epoch 742/1000:   0%|          | 0/1 [00:00<?, ?it/s]"
      ]
     },
     "metadata": {},
     "output_type": "display_data"
    },
    {
     "name": "stdout",
     "output_type": "stream",
     "text": [
      "Epoch 742/1000, Loss: 6812.63652933055\n"
     ]
    },
    {
     "data": {
      "application/vnd.jupyter.widget-view+json": {
       "model_id": "a2579067e2d04efabcdfe64a0551ea5c",
       "version_major": 2,
       "version_minor": 0
      },
      "text/plain": [
       "Epoch 743/1000:   0%|          | 0/1 [00:00<?, ?it/s]"
      ]
     },
     "metadata": {},
     "output_type": "display_data"
    },
    {
     "name": "stdout",
     "output_type": "stream",
     "text": [
      "Epoch 743/1000, Loss: 6827.617419012661\n"
     ]
    },
    {
     "data": {
      "application/vnd.jupyter.widget-view+json": {
       "model_id": "8307ac2ba38d46d5b02244a9b04b4de7",
       "version_major": 2,
       "version_minor": 0
      },
      "text/plain": [
       "Epoch 744/1000:   0%|          | 0/1 [00:00<?, ?it/s]"
      ]
     },
     "metadata": {},
     "output_type": "display_data"
    },
    {
     "name": "stdout",
     "output_type": "stream",
     "text": [
      "Epoch 744/1000, Loss: 6812.256579168911\n"
     ]
    },
    {
     "data": {
      "application/vnd.jupyter.widget-view+json": {
       "model_id": "5c74e9f36a184873819f9f4bafbb9fcd",
       "version_major": 2,
       "version_minor": 0
      },
      "text/plain": [
       "Epoch 745/1000:   0%|          | 0/1 [00:00<?, ?it/s]"
      ]
     },
     "metadata": {},
     "output_type": "display_data"
    },
    {
     "name": "stdout",
     "output_type": "stream",
     "text": [
      "Epoch 745/1000, Loss: 6806.798407192888\n"
     ]
    },
    {
     "data": {
      "application/vnd.jupyter.widget-view+json": {
       "model_id": "97e25c3fff56413fa314d43d0cae2d92",
       "version_major": 2,
       "version_minor": 0
      },
      "text/plain": [
       "Epoch 746/1000:   0%|          | 0/1 [00:00<?, ?it/s]"
      ]
     },
     "metadata": {},
     "output_type": "display_data"
    },
    {
     "name": "stdout",
     "output_type": "stream",
     "text": [
      "Epoch 746/1000, Loss: 6819.090020541487\n"
     ]
    },
    {
     "data": {
      "application/vnd.jupyter.widget-view+json": {
       "model_id": "4c8224bcf08449d6856dab95dc078cd8",
       "version_major": 2,
       "version_minor": 0
      },
      "text/plain": [
       "Epoch 747/1000:   0%|          | 0/1 [00:00<?, ?it/s]"
      ]
     },
     "metadata": {},
     "output_type": "display_data"
    },
    {
     "name": "stdout",
     "output_type": "stream",
     "text": [
      "Epoch 747/1000, Loss: 6816.574092470366\n"
     ]
    },
    {
     "data": {
      "application/vnd.jupyter.widget-view+json": {
       "model_id": "7769eb0d684f4231aedb8285b9693647",
       "version_major": 2,
       "version_minor": 0
      },
      "text/plain": [
       "Epoch 748/1000:   0%|          | 0/1 [00:00<?, ?it/s]"
      ]
     },
     "metadata": {},
     "output_type": "display_data"
    },
    {
     "name": "stdout",
     "output_type": "stream",
     "text": [
      "Epoch 748/1000, Loss: 6796.773639547414\n"
     ]
    },
    {
     "data": {
      "application/vnd.jupyter.widget-view+json": {
       "model_id": "96863efef67b4c4093f953f65f1c49e9",
       "version_major": 2,
       "version_minor": 0
      },
      "text/plain": [
       "Epoch 749/1000:   0%|          | 0/1 [00:00<?, ?it/s]"
      ]
     },
     "metadata": {},
     "output_type": "display_data"
    },
    {
     "name": "stdout",
     "output_type": "stream",
     "text": [
      "Epoch 749/1000, Loss: 6809.1994039601295\n"
     ]
    },
    {
     "data": {
      "application/vnd.jupyter.widget-view+json": {
       "model_id": "c902bbcb551f4152960305811ad0bfe9",
       "version_major": 2,
       "version_minor": 0
      },
      "text/plain": [
       "Epoch 750/1000:   0%|          | 0/1 [00:00<?, ?it/s]"
      ]
     },
     "metadata": {},
     "output_type": "display_data"
    },
    {
     "name": "stdout",
     "output_type": "stream",
     "text": [
      "Epoch 750/1000, Loss: 6813.110368399784\n"
     ]
    },
    {
     "data": {
      "application/vnd.jupyter.widget-view+json": {
       "model_id": "6d0a6b4478654606bf3b9464579807fd",
       "version_major": 2,
       "version_minor": 0
      },
      "text/plain": [
       "Epoch 751/1000:   0%|          | 0/1 [00:00<?, ?it/s]"
      ]
     },
     "metadata": {},
     "output_type": "display_data"
    },
    {
     "name": "stdout",
     "output_type": "stream",
     "text": [
      "Epoch 751/1000, Loss: 6810.050798087284\n"
     ]
    },
    {
     "data": {
      "application/vnd.jupyter.widget-view+json": {
       "model_id": "86fdf47309474977b09c059bd4131bd4",
       "version_major": 2,
       "version_minor": 0
      },
      "text/plain": [
       "Epoch 752/1000:   0%|          | 0/1 [00:00<?, ?it/s]"
      ]
     },
     "metadata": {},
     "output_type": "display_data"
    },
    {
     "name": "stdout",
     "output_type": "stream",
     "text": [
      "Epoch 752/1000, Loss: 6816.748526737608\n"
     ]
    },
    {
     "data": {
      "application/vnd.jupyter.widget-view+json": {
       "model_id": "addb92dccc6542048970572e0c328dac",
       "version_major": 2,
       "version_minor": 0
      },
      "text/plain": [
       "Epoch 753/1000:   0%|          | 0/1 [00:00<?, ?it/s]"
      ]
     },
     "metadata": {},
     "output_type": "display_data"
    },
    {
     "name": "stdout",
     "output_type": "stream",
     "text": [
      "Epoch 753/1000, Loss: 6799.896214978448\n"
     ]
    },
    {
     "data": {
      "application/vnd.jupyter.widget-view+json": {
       "model_id": "e6f8776bbb2b4810a0dea7321cd98770",
       "version_major": 2,
       "version_minor": 0
      },
      "text/plain": [
       "Epoch 754/1000:   0%|          | 0/1 [00:00<?, ?it/s]"
      ]
     },
     "metadata": {},
     "output_type": "display_data"
    },
    {
     "name": "stdout",
     "output_type": "stream",
     "text": [
      "Epoch 754/1000, Loss: 6790.623274178341\n"
     ]
    },
    {
     "data": {
      "application/vnd.jupyter.widget-view+json": {
       "model_id": "df3fbf0d9fdd435da435409d20dd9315",
       "version_major": 2,
       "version_minor": 0
      },
      "text/plain": [
       "Epoch 755/1000:   0%|          | 0/1 [00:00<?, ?it/s]"
      ]
     },
     "metadata": {},
     "output_type": "display_data"
    },
    {
     "name": "stdout",
     "output_type": "stream",
     "text": [
      "Epoch 755/1000, Loss: 6783.4791470231685\n"
     ]
    },
    {
     "data": {
      "application/vnd.jupyter.widget-view+json": {
       "model_id": "20351204d996420bb5ed6197ed5c1665",
       "version_major": 2,
       "version_minor": 0
      },
      "text/plain": [
       "Epoch 756/1000:   0%|          | 0/1 [00:00<?, ?it/s]"
      ]
     },
     "metadata": {},
     "output_type": "display_data"
    },
    {
     "name": "stdout",
     "output_type": "stream",
     "text": [
      "Epoch 756/1000, Loss: 6781.139097016433\n"
     ]
    },
    {
     "data": {
      "application/vnd.jupyter.widget-view+json": {
       "model_id": "b5a674d8c5114556b4c270056d3139f3",
       "version_major": 2,
       "version_minor": 0
      },
      "text/plain": [
       "Epoch 757/1000:   0%|          | 0/1 [00:00<?, ?it/s]"
      ]
     },
     "metadata": {},
     "output_type": "display_data"
    },
    {
     "name": "stdout",
     "output_type": "stream",
     "text": [
      "Epoch 757/1000, Loss: 6791.7894287109375\n"
     ]
    },
    {
     "data": {
      "application/vnd.jupyter.widget-view+json": {
       "model_id": "1d69875dde7d4f7eb31e1a12a9d7fc5b",
       "version_major": 2,
       "version_minor": 0
      },
      "text/plain": [
       "Epoch 758/1000:   0%|          | 0/1 [00:00<?, ?it/s]"
      ]
     },
     "metadata": {},
     "output_type": "display_data"
    },
    {
     "name": "stdout",
     "output_type": "stream",
     "text": [
      "Epoch 758/1000, Loss: 6802.024927599677\n"
     ]
    },
    {
     "data": {
      "application/vnd.jupyter.widget-view+json": {
       "model_id": "10651b4e31f34465b643ac9dec4f2731",
       "version_major": 2,
       "version_minor": 0
      },
      "text/plain": [
       "Epoch 759/1000:   0%|          | 0/1 [00:00<?, ?it/s]"
      ]
     },
     "metadata": {},
     "output_type": "display_data"
    },
    {
     "name": "stdout",
     "output_type": "stream",
     "text": [
      "Epoch 759/1000, Loss: 6788.318780307112\n"
     ]
    },
    {
     "data": {
      "application/vnd.jupyter.widget-view+json": {
       "model_id": "04859af69e594bff931011f84464df3a",
       "version_major": 2,
       "version_minor": 0
      },
      "text/plain": [
       "Epoch 760/1000:   0%|          | 0/1 [00:00<?, ?it/s]"
      ]
     },
     "metadata": {},
     "output_type": "display_data"
    },
    {
     "name": "stdout",
     "output_type": "stream",
     "text": [
      "Epoch 760/1000, Loss: 6788.4755270070045\n"
     ]
    },
    {
     "data": {
      "application/vnd.jupyter.widget-view+json": {
       "model_id": "f1413ecf21494ee094a9de37d3e89985",
       "version_major": 2,
       "version_minor": 0
      },
      "text/plain": [
       "Epoch 761/1000:   0%|          | 0/1 [00:00<?, ?it/s]"
      ]
     },
     "metadata": {},
     "output_type": "display_data"
    },
    {
     "name": "stdout",
     "output_type": "stream",
     "text": [
      "Epoch 761/1000, Loss: 6792.576744342672\n"
     ]
    },
    {
     "data": {
      "application/vnd.jupyter.widget-view+json": {
       "model_id": "594e23887bc949e295fca75c27f4753e",
       "version_major": 2,
       "version_minor": 0
      },
      "text/plain": [
       "Epoch 762/1000:   0%|          | 0/1 [00:00<?, ?it/s]"
      ]
     },
     "metadata": {},
     "output_type": "display_data"
    },
    {
     "name": "stdout",
     "output_type": "stream",
     "text": [
      "Epoch 762/1000, Loss: 6777.753253805226\n"
     ]
    },
    {
     "data": {
      "application/vnd.jupyter.widget-view+json": {
       "model_id": "22923ac8c32c461180fd0d9df95ad605",
       "version_major": 2,
       "version_minor": 0
      },
      "text/plain": [
       "Epoch 763/1000:   0%|          | 0/1 [00:00<?, ?it/s]"
      ]
     },
     "metadata": {},
     "output_type": "display_data"
    },
    {
     "name": "stdout",
     "output_type": "stream",
     "text": [
      "Epoch 763/1000, Loss: 6786.040085365033\n"
     ]
    },
    {
     "data": {
      "application/vnd.jupyter.widget-view+json": {
       "model_id": "0fd8a41d9d7a4d94bed31c8da406e3b5",
       "version_major": 2,
       "version_minor": 0
      },
      "text/plain": [
       "Epoch 764/1000:   0%|          | 0/1 [00:00<?, ?it/s]"
      ]
     },
     "metadata": {},
     "output_type": "display_data"
    },
    {
     "name": "stdout",
     "output_type": "stream",
     "text": [
      "Epoch 764/1000, Loss: 6784.979841561153\n"
     ]
    },
    {
     "data": {
      "application/vnd.jupyter.widget-view+json": {
       "model_id": "c2d6974205eb4a3a8a31daef32116c14",
       "version_major": 2,
       "version_minor": 0
      },
      "text/plain": [
       "Epoch 765/1000:   0%|          | 0/1 [00:00<?, ?it/s]"
      ]
     },
     "metadata": {},
     "output_type": "display_data"
    },
    {
     "name": "stdout",
     "output_type": "stream",
     "text": [
      "Epoch 765/1000, Loss: 6786.1112060546875\n"
     ]
    },
    {
     "data": {
      "application/vnd.jupyter.widget-view+json": {
       "model_id": "4331425eda0a4446bd11f0c0f839339f",
       "version_major": 2,
       "version_minor": 0
      },
      "text/plain": [
       "Epoch 766/1000:   0%|          | 0/1 [00:00<?, ?it/s]"
      ]
     },
     "metadata": {},
     "output_type": "display_data"
    },
    {
     "name": "stdout",
     "output_type": "stream",
     "text": [
      "Epoch 766/1000, Loss: 6775.92961173222\n"
     ]
    },
    {
     "data": {
      "application/vnd.jupyter.widget-view+json": {
       "model_id": "ccbb807458ee4e8abcb431e894175067",
       "version_major": 2,
       "version_minor": 0
      },
      "text/plain": [
       "Epoch 767/1000:   0%|          | 0/1 [00:00<?, ?it/s]"
      ]
     },
     "metadata": {},
     "output_type": "display_data"
    },
    {
     "name": "stdout",
     "output_type": "stream",
     "text": [
      "Epoch 767/1000, Loss: 6763.890418743265\n"
     ]
    },
    {
     "data": {
      "application/vnd.jupyter.widget-view+json": {
       "model_id": "ba56d9ec13354a3eb51af12680bf706c",
       "version_major": 2,
       "version_minor": 0
      },
      "text/plain": [
       "Epoch 768/1000:   0%|          | 0/1 [00:00<?, ?it/s]"
      ]
     },
     "metadata": {},
     "output_type": "display_data"
    },
    {
     "name": "stdout",
     "output_type": "stream",
     "text": [
      "Epoch 768/1000, Loss: 6781.5499267578125\n"
     ]
    },
    {
     "data": {
      "application/vnd.jupyter.widget-view+json": {
       "model_id": "33efb9af30974f7584f1b55df144be39",
       "version_major": 2,
       "version_minor": 0
      },
      "text/plain": [
       "Epoch 769/1000:   0%|          | 0/1 [00:00<?, ?it/s]"
      ]
     },
     "metadata": {},
     "output_type": "display_data"
    },
    {
     "name": "stdout",
     "output_type": "stream",
     "text": [
      "Epoch 769/1000, Loss: 6782.001919450431\n"
     ]
    },
    {
     "data": {
      "application/vnd.jupyter.widget-view+json": {
       "model_id": "b65495525e5849e784dd8c2e88edb5a0",
       "version_major": 2,
       "version_minor": 0
      },
      "text/plain": [
       "Epoch 770/1000:   0%|          | 0/1 [00:00<?, ?it/s]"
      ]
     },
     "metadata": {},
     "output_type": "display_data"
    },
    {
     "name": "stdout",
     "output_type": "stream",
     "text": [
      "Epoch 770/1000, Loss: 6762.957431135506\n"
     ]
    },
    {
     "data": {
      "application/vnd.jupyter.widget-view+json": {
       "model_id": "a3e36bf78fb3459f9ea8354ef1add67e",
       "version_major": 2,
       "version_minor": 0
      },
      "text/plain": [
       "Epoch 771/1000:   0%|          | 0/1 [00:00<?, ?it/s]"
      ]
     },
     "metadata": {},
     "output_type": "display_data"
    },
    {
     "name": "stdout",
     "output_type": "stream",
     "text": [
      "Epoch 771/1000, Loss: 6766.56591796875\n"
     ]
    },
    {
     "data": {
      "application/vnd.jupyter.widget-view+json": {
       "model_id": "a3ba1b8e31da4b98850e52a9598e9cbe",
       "version_major": 2,
       "version_minor": 0
      },
      "text/plain": [
       "Epoch 772/1000:   0%|          | 0/1 [00:00<?, ?it/s]"
      ]
     },
     "metadata": {},
     "output_type": "display_data"
    },
    {
     "name": "stdout",
     "output_type": "stream",
     "text": [
      "Epoch 772/1000, Loss: 6771.660366716056\n"
     ]
    },
    {
     "data": {
      "application/vnd.jupyter.widget-view+json": {
       "model_id": "e27546ce62304069b29a83d646a59958",
       "version_major": 2,
       "version_minor": 0
      },
      "text/plain": [
       "Epoch 773/1000:   0%|          | 0/1 [00:00<?, ?it/s]"
      ]
     },
     "metadata": {},
     "output_type": "display_data"
    },
    {
     "name": "stdout",
     "output_type": "stream",
     "text": [
      "Epoch 773/1000, Loss: 6760.662471376616\n"
     ]
    },
    {
     "data": {
      "application/vnd.jupyter.widget-view+json": {
       "model_id": "82ca3415a3384b03bdc29a9fe2484776",
       "version_major": 2,
       "version_minor": 0
      },
      "text/plain": [
       "Epoch 774/1000:   0%|          | 0/1 [00:00<?, ?it/s]"
      ]
     },
     "metadata": {},
     "output_type": "display_data"
    },
    {
     "name": "stdout",
     "output_type": "stream",
     "text": [
      "Epoch 774/1000, Loss: 6759.79300663389\n"
     ]
    },
    {
     "data": {
      "application/vnd.jupyter.widget-view+json": {
       "model_id": "b4a8c74d7d0a4a7a8c94645030e1435f",
       "version_major": 2,
       "version_minor": 0
      },
      "text/plain": [
       "Epoch 775/1000:   0%|          | 0/1 [00:00<?, ?it/s]"
      ]
     },
     "metadata": {},
     "output_type": "display_data"
    },
    {
     "name": "stdout",
     "output_type": "stream",
     "text": [
      "Epoch 775/1000, Loss: 6757.245853818697\n"
     ]
    },
    {
     "data": {
      "application/vnd.jupyter.widget-view+json": {
       "model_id": "329c566bd8754bdb8efd7bf6533f0cf7",
       "version_major": 2,
       "version_minor": 0
      },
      "text/plain": [
       "Epoch 776/1000:   0%|          | 0/1 [00:00<?, ?it/s]"
      ]
     },
     "metadata": {},
     "output_type": "display_data"
    },
    {
     "name": "stdout",
     "output_type": "stream",
     "text": [
      "Epoch 776/1000, Loss: 6747.629828091325\n"
     ]
    },
    {
     "data": {
      "application/vnd.jupyter.widget-view+json": {
       "model_id": "087afe55b2c84319af8adb6586c5791b",
       "version_major": 2,
       "version_minor": 0
      },
      "text/plain": [
       "Epoch 777/1000:   0%|          | 0/1 [00:00<?, ?it/s]"
      ]
     },
     "metadata": {},
     "output_type": "display_data"
    },
    {
     "name": "stdout",
     "output_type": "stream",
     "text": [
      "Epoch 777/1000, Loss: 6760.019754344019\n"
     ]
    },
    {
     "data": {
      "application/vnd.jupyter.widget-view+json": {
       "model_id": "eca628becac04c2badb88e81c7c4fd41",
       "version_major": 2,
       "version_minor": 0
      },
      "text/plain": [
       "Epoch 778/1000:   0%|          | 0/1 [00:00<?, ?it/s]"
      ]
     },
     "metadata": {},
     "output_type": "display_data"
    },
    {
     "name": "stdout",
     "output_type": "stream",
     "text": [
      "Epoch 778/1000, Loss: 6749.92717032597\n"
     ]
    },
    {
     "data": {
      "application/vnd.jupyter.widget-view+json": {
       "model_id": "3ed25386c14a4e9d9ceb8644b83d4b15",
       "version_major": 2,
       "version_minor": 0
      },
      "text/plain": [
       "Epoch 779/1000:   0%|          | 0/1 [00:00<?, ?it/s]"
      ]
     },
     "metadata": {},
     "output_type": "display_data"
    },
    {
     "name": "stdout",
     "output_type": "stream",
     "text": [
      "Epoch 779/1000, Loss: 6744.401169349408\n"
     ]
    },
    {
     "data": {
      "application/vnd.jupyter.widget-view+json": {
       "model_id": "442a8b83508c451e8d7bff69c5de1543",
       "version_major": 2,
       "version_minor": 0
      },
      "text/plain": [
       "Epoch 780/1000:   0%|          | 0/1 [00:00<?, ?it/s]"
      ]
     },
     "metadata": {},
     "output_type": "display_data"
    },
    {
     "name": "stdout",
     "output_type": "stream",
     "text": [
      "Epoch 780/1000, Loss: 6755.561914904364\n"
     ]
    },
    {
     "data": {
      "application/vnd.jupyter.widget-view+json": {
       "model_id": "d703327da9a548a08a6058f2526f492e",
       "version_major": 2,
       "version_minor": 0
      },
      "text/plain": [
       "Epoch 781/1000:   0%|          | 0/1 [00:00<?, ?it/s]"
      ]
     },
     "metadata": {},
     "output_type": "display_data"
    },
    {
     "name": "stdout",
     "output_type": "stream",
     "text": [
      "Epoch 781/1000, Loss: 6758.875484071928\n"
     ]
    },
    {
     "data": {
      "application/vnd.jupyter.widget-view+json": {
       "model_id": "c4852e38bad44a5ba1d9537e0dae8529",
       "version_major": 2,
       "version_minor": 0
      },
      "text/plain": [
       "Epoch 782/1000:   0%|          | 0/1 [00:00<?, ?it/s]"
      ]
     },
     "metadata": {},
     "output_type": "display_data"
    },
    {
     "name": "stdout",
     "output_type": "stream",
     "text": [
      "Epoch 782/1000, Loss: 6747.875265187231\n"
     ]
    },
    {
     "data": {
      "application/vnd.jupyter.widget-view+json": {
       "model_id": "3489257cedad4d35b3ca72c97a639826",
       "version_major": 2,
       "version_minor": 0
      },
      "text/plain": [
       "Epoch 783/1000:   0%|          | 0/1 [00:00<?, ?it/s]"
      ]
     },
     "metadata": {},
     "output_type": "display_data"
    },
    {
     "name": "stdout",
     "output_type": "stream",
     "text": [
      "Epoch 783/1000, Loss: 6741.59803087958\n"
     ]
    },
    {
     "data": {
      "application/vnd.jupyter.widget-view+json": {
       "model_id": "70be2cf582864f4593647d896e3030a2",
       "version_major": 2,
       "version_minor": 0
      },
      "text/plain": [
       "Epoch 784/1000:   0%|          | 0/1 [00:00<?, ?it/s]"
      ]
     },
     "metadata": {},
     "output_type": "display_data"
    },
    {
     "name": "stdout",
     "output_type": "stream",
     "text": [
      "Epoch 784/1000, Loss: 6744.255817281789\n"
     ]
    },
    {
     "data": {
      "application/vnd.jupyter.widget-view+json": {
       "model_id": "0002bae8e57c43c3aad1d60ee34e1770",
       "version_major": 2,
       "version_minor": 0
      },
      "text/plain": [
       "Epoch 785/1000:   0%|          | 0/1 [00:00<?, ?it/s]"
      ]
     },
     "metadata": {},
     "output_type": "display_data"
    },
    {
     "name": "stdout",
     "output_type": "stream",
     "text": [
      "Epoch 785/1000, Loss: 6754.204320447198\n"
     ]
    },
    {
     "data": {
      "application/vnd.jupyter.widget-view+json": {
       "model_id": "54d540b0e47d472bb6c6d1e34b0ca843",
       "version_major": 2,
       "version_minor": 0
      },
      "text/plain": [
       "Epoch 786/1000:   0%|          | 0/1 [00:00<?, ?it/s]"
      ]
     },
     "metadata": {},
     "output_type": "display_data"
    },
    {
     "name": "stdout",
     "output_type": "stream",
     "text": [
      "Epoch 786/1000, Loss: 6738.4856504243\n"
     ]
    },
    {
     "data": {
      "application/vnd.jupyter.widget-view+json": {
       "model_id": "d1643b59966046c1bcfd27f6f230e398",
       "version_major": 2,
       "version_minor": 0
      },
      "text/plain": [
       "Epoch 787/1000:   0%|          | 0/1 [00:00<?, ?it/s]"
      ]
     },
     "metadata": {},
     "output_type": "display_data"
    },
    {
     "name": "stdout",
     "output_type": "stream",
     "text": [
      "Epoch 787/1000, Loss: 6738.148765827047\n"
     ]
    },
    {
     "data": {
      "application/vnd.jupyter.widget-view+json": {
       "model_id": "9ed7bbea578340bfbdd8926d80329d9e",
       "version_major": 2,
       "version_minor": 0
      },
      "text/plain": [
       "Epoch 788/1000:   0%|          | 0/1 [00:00<?, ?it/s]"
      ]
     },
     "metadata": {},
     "output_type": "display_data"
    },
    {
     "name": "stdout",
     "output_type": "stream",
     "text": [
      "Epoch 788/1000, Loss: 6730.064676219019\n"
     ]
    },
    {
     "data": {
      "application/vnd.jupyter.widget-view+json": {
       "model_id": "4b1f4b4629b441e3bcc08098fec3f851",
       "version_major": 2,
       "version_minor": 0
      },
      "text/plain": [
       "Epoch 789/1000:   0%|          | 0/1 [00:00<?, ?it/s]"
      ]
     },
     "metadata": {},
     "output_type": "display_data"
    },
    {
     "name": "stdout",
     "output_type": "stream",
     "text": [
      "Epoch 789/1000, Loss: 6736.5787353515625\n"
     ]
    },
    {
     "data": {
      "application/vnd.jupyter.widget-view+json": {
       "model_id": "6a3092549f8545459fbeaf857bd1f512",
       "version_major": 2,
       "version_minor": 0
      },
      "text/plain": [
       "Epoch 790/1000:   0%|          | 0/1 [00:00<?, ?it/s]"
      ]
     },
     "metadata": {},
     "output_type": "display_data"
    },
    {
     "name": "stdout",
     "output_type": "stream",
     "text": [
      "Epoch 790/1000, Loss: 6730.737174198545\n"
     ]
    },
    {
     "data": {
      "application/vnd.jupyter.widget-view+json": {
       "model_id": "89eee70609d84d8586ccaf887201d7de",
       "version_major": 2,
       "version_minor": 0
      },
      "text/plain": [
       "Epoch 791/1000:   0%|          | 0/1 [00:00<?, ?it/s]"
      ]
     },
     "metadata": {},
     "output_type": "display_data"
    },
    {
     "name": "stdout",
     "output_type": "stream",
     "text": [
      "Epoch 791/1000, Loss: 6730.959556842672\n"
     ]
    },
    {
     "data": {
      "application/vnd.jupyter.widget-view+json": {
       "model_id": "5a11eed8d4e64402be162b4b5c529a2e",
       "version_major": 2,
       "version_minor": 0
      },
      "text/plain": [
       "Epoch 792/1000:   0%|          | 0/1 [00:00<?, ?it/s]"
      ]
     },
     "metadata": {},
     "output_type": "display_data"
    },
    {
     "name": "stdout",
     "output_type": "stream",
     "text": [
      "Epoch 792/1000, Loss: 6734.755703630119\n"
     ]
    },
    {
     "data": {
      "application/vnd.jupyter.widget-view+json": {
       "model_id": "f97f0a32d49f4c678058f124550e89aa",
       "version_major": 2,
       "version_minor": 0
      },
      "text/plain": [
       "Epoch 793/1000:   0%|          | 0/1 [00:00<?, ?it/s]"
      ]
     },
     "metadata": {},
     "output_type": "display_data"
    },
    {
     "name": "stdout",
     "output_type": "stream",
     "text": [
      "Epoch 793/1000, Loss: 6730.61966679014\n"
     ]
    },
    {
     "data": {
      "application/vnd.jupyter.widget-view+json": {
       "model_id": "105288294cb54a8c883f3609425d86ee",
       "version_major": 2,
       "version_minor": 0
      },
      "text/plain": [
       "Epoch 794/1000:   0%|          | 0/1 [00:00<?, ?it/s]"
      ]
     },
     "metadata": {},
     "output_type": "display_data"
    },
    {
     "name": "stdout",
     "output_type": "stream",
     "text": [
      "Epoch 794/1000, Loss: 6708.9661191743\n"
     ]
    },
    {
     "data": {
      "application/vnd.jupyter.widget-view+json": {
       "model_id": "b122c51c584348d69bc522a6b8516c36",
       "version_major": 2,
       "version_minor": 0
      },
      "text/plain": [
       "Epoch 795/1000:   0%|          | 0/1 [00:00<?, ?it/s]"
      ]
     },
     "metadata": {},
     "output_type": "display_data"
    },
    {
     "name": "stdout",
     "output_type": "stream",
     "text": [
      "Epoch 795/1000, Loss: 6726.378931505927\n"
     ]
    },
    {
     "data": {
      "application/vnd.jupyter.widget-view+json": {
       "model_id": "d4e8fcd2d9af4084a17bb4072b51b62c",
       "version_major": 2,
       "version_minor": 0
      },
      "text/plain": [
       "Epoch 796/1000:   0%|          | 0/1 [00:00<?, ?it/s]"
      ]
     },
     "metadata": {},
     "output_type": "display_data"
    },
    {
     "name": "stdout",
     "output_type": "stream",
     "text": [
      "Epoch 796/1000, Loss: 6714.824694403286\n"
     ]
    },
    {
     "data": {
      "application/vnd.jupyter.widget-view+json": {
       "model_id": "de95b50c22a64b008e7148843c795774",
       "version_major": 2,
       "version_minor": 0
      },
      "text/plain": [
       "Epoch 797/1000:   0%|          | 0/1 [00:00<?, ?it/s]"
      ]
     },
     "metadata": {},
     "output_type": "display_data"
    },
    {
     "name": "stdout",
     "output_type": "stream",
     "text": [
      "Epoch 797/1000, Loss: 6720.1968362742455\n"
     ]
    },
    {
     "data": {
      "application/vnd.jupyter.widget-view+json": {
       "model_id": "a85c5be0de74434c993dca812bcfdf6f",
       "version_major": 2,
       "version_minor": 0
      },
      "text/plain": [
       "Epoch 798/1000:   0%|          | 0/1 [00:00<?, ?it/s]"
      ]
     },
     "metadata": {},
     "output_type": "display_data"
    },
    {
     "name": "stdout",
     "output_type": "stream",
     "text": [
      "Epoch 798/1000, Loss: 6709.836543642241\n"
     ]
    },
    {
     "data": {
      "application/vnd.jupyter.widget-view+json": {
       "model_id": "95892579445440fdaa3e0b0b0ad6681b",
       "version_major": 2,
       "version_minor": 0
      },
      "text/plain": [
       "Epoch 799/1000:   0%|          | 0/1 [00:00<?, ?it/s]"
      ]
     },
     "metadata": {},
     "output_type": "display_data"
    },
    {
     "name": "stdout",
     "output_type": "stream",
     "text": [
      "Epoch 799/1000, Loss: 6719.296458277209\n"
     ]
    },
    {
     "data": {
      "application/vnd.jupyter.widget-view+json": {
       "model_id": "aab57562ec5543b5893df9fc01538ef3",
       "version_major": 2,
       "version_minor": 0
      },
      "text/plain": [
       "Epoch 800/1000:   0%|          | 0/1 [00:00<?, ?it/s]"
      ]
     },
     "metadata": {},
     "output_type": "display_data"
    },
    {
     "name": "stdout",
     "output_type": "stream",
     "text": [
      "Epoch 800/1000, Loss: 6713.842765018858\n"
     ]
    },
    {
     "data": {
      "application/vnd.jupyter.widget-view+json": {
       "model_id": "7a99886eed2543b0b9afd01776ec63bf",
       "version_major": 2,
       "version_minor": 0
      },
      "text/plain": [
       "Epoch 801/1000:   0%|          | 0/1 [00:00<?, ?it/s]"
      ]
     },
     "metadata": {},
     "output_type": "display_data"
    },
    {
     "name": "stdout",
     "output_type": "stream",
     "text": [
      "Epoch 801/1000, Loss: 6705.383936388739\n"
     ]
    },
    {
     "data": {
      "application/vnd.jupyter.widget-view+json": {
       "model_id": "b2e691c2fab24c3198e9dc0dcb917cca",
       "version_major": 2,
       "version_minor": 0
      },
      "text/plain": [
       "Epoch 802/1000:   0%|          | 0/1 [00:00<?, ?it/s]"
      ]
     },
     "metadata": {},
     "output_type": "display_data"
    },
    {
     "name": "stdout",
     "output_type": "stream",
     "text": [
      "Epoch 802/1000, Loss: 6713.798083075161\n"
     ]
    },
    {
     "data": {
      "application/vnd.jupyter.widget-view+json": {
       "model_id": "ef53205ba4ff47918220a59e18420855",
       "version_major": 2,
       "version_minor": 0
      },
      "text/plain": [
       "Epoch 803/1000:   0%|          | 0/1 [00:00<?, ?it/s]"
      ]
     },
     "metadata": {},
     "output_type": "display_data"
    },
    {
     "name": "stdout",
     "output_type": "stream",
     "text": [
      "Epoch 803/1000, Loss: 6714.677502862339\n"
     ]
    },
    {
     "data": {
      "application/vnd.jupyter.widget-view+json": {
       "model_id": "449e6e700e75463f8e973ec436b918ee",
       "version_major": 2,
       "version_minor": 0
      },
      "text/plain": [
       "Epoch 804/1000:   0%|          | 0/1 [00:00<?, ?it/s]"
      ]
     },
     "metadata": {},
     "output_type": "display_data"
    },
    {
     "name": "stdout",
     "output_type": "stream",
     "text": [
      "Epoch 804/1000, Loss: 6707.662904936692\n"
     ]
    },
    {
     "data": {
      "application/vnd.jupyter.widget-view+json": {
       "model_id": "5d3ffcaf76c0426391da1de565707b44",
       "version_major": 2,
       "version_minor": 0
      },
      "text/plain": [
       "Epoch 805/1000:   0%|          | 0/1 [00:00<?, ?it/s]"
      ]
     },
     "metadata": {},
     "output_type": "display_data"
    },
    {
     "name": "stdout",
     "output_type": "stream",
     "text": [
      "Epoch 805/1000, Loss: 6694.174720501078\n"
     ]
    },
    {
     "data": {
      "application/vnd.jupyter.widget-view+json": {
       "model_id": "2c1abed1df5f4fc5ac47f5ff94ffda38",
       "version_major": 2,
       "version_minor": 0
      },
      "text/plain": [
       "Epoch 806/1000:   0%|          | 0/1 [00:00<?, ?it/s]"
      ]
     },
     "metadata": {},
     "output_type": "display_data"
    },
    {
     "name": "stdout",
     "output_type": "stream",
     "text": [
      "Epoch 806/1000, Loss: 6700.295275457974\n"
     ]
    },
    {
     "data": {
      "application/vnd.jupyter.widget-view+json": {
       "model_id": "b0d5a8fedaf643229609caa8ba8a44b7",
       "version_major": 2,
       "version_minor": 0
      },
      "text/plain": [
       "Epoch 807/1000:   0%|          | 0/1 [00:00<?, ?it/s]"
      ]
     },
     "metadata": {},
     "output_type": "display_data"
    },
    {
     "name": "stdout",
     "output_type": "stream",
     "text": [
      "Epoch 807/1000, Loss: 6700.9085019868\n"
     ]
    },
    {
     "data": {
      "application/vnd.jupyter.widget-view+json": {
       "model_id": "afc69be30894454dac0b3f64beffbc7c",
       "version_major": 2,
       "version_minor": 0
      },
      "text/plain": [
       "Epoch 808/1000:   0%|          | 0/1 [00:00<?, ?it/s]"
      ]
     },
     "metadata": {},
     "output_type": "display_data"
    },
    {
     "name": "stdout",
     "output_type": "stream",
     "text": [
      "Epoch 808/1000, Loss: 6689.331143083244\n"
     ]
    },
    {
     "data": {
      "application/vnd.jupyter.widget-view+json": {
       "model_id": "c72ef3d4400749778e1c0c79f17d2ecd",
       "version_major": 2,
       "version_minor": 0
      },
      "text/plain": [
       "Epoch 809/1000:   0%|          | 0/1 [00:00<?, ?it/s]"
      ]
     },
     "metadata": {},
     "output_type": "display_data"
    },
    {
     "name": "stdout",
     "output_type": "stream",
     "text": [
      "Epoch 809/1000, Loss: 6694.99695666083\n"
     ]
    },
    {
     "data": {
      "application/vnd.jupyter.widget-view+json": {
       "model_id": "79ce941b840a4efbbd08214b64e1272f",
       "version_major": 2,
       "version_minor": 0
      },
      "text/plain": [
       "Epoch 810/1000:   0%|          | 0/1 [00:00<?, ?it/s]"
      ]
     },
     "metadata": {},
     "output_type": "display_data"
    },
    {
     "name": "stdout",
     "output_type": "stream",
     "text": [
      "Epoch 810/1000, Loss: 6680.335929081358\n"
     ]
    },
    {
     "data": {
      "application/vnd.jupyter.widget-view+json": {
       "model_id": "85e4c0a988f24920a23a3ac72a190ab7",
       "version_major": 2,
       "version_minor": 0
      },
      "text/plain": [
       "Epoch 811/1000:   0%|          | 0/1 [00:00<?, ?it/s]"
      ]
     },
     "metadata": {},
     "output_type": "display_data"
    },
    {
     "name": "stdout",
     "output_type": "stream",
     "text": [
      "Epoch 811/1000, Loss: 6694.988032900053\n"
     ]
    },
    {
     "data": {
      "application/vnd.jupyter.widget-view+json": {
       "model_id": "0158735d6e4a4e858796de0386131548",
       "version_major": 2,
       "version_minor": 0
      },
      "text/plain": [
       "Epoch 812/1000:   0%|          | 0/1 [00:00<?, ?it/s]"
      ]
     },
     "metadata": {},
     "output_type": "display_data"
    },
    {
     "name": "stdout",
     "output_type": "stream",
     "text": [
      "Epoch 812/1000, Loss: 6682.614160998114\n"
     ]
    },
    {
     "data": {
      "application/vnd.jupyter.widget-view+json": {
       "model_id": "576b97e333cc4a65a8fe4bc78f4adb46",
       "version_major": 2,
       "version_minor": 0
      },
      "text/plain": [
       "Epoch 813/1000:   0%|          | 0/1 [00:00<?, ?it/s]"
      ]
     },
     "metadata": {},
     "output_type": "display_data"
    },
    {
     "name": "stdout",
     "output_type": "stream",
     "text": [
      "Epoch 813/1000, Loss: 6686.610557819235\n"
     ]
    },
    {
     "data": {
      "application/vnd.jupyter.widget-view+json": {
       "model_id": "4e384ef3231146039f387f1fa64f8eba",
       "version_major": 2,
       "version_minor": 0
      },
      "text/plain": [
       "Epoch 814/1000:   0%|          | 0/1 [00:00<?, ?it/s]"
      ]
     },
     "metadata": {},
     "output_type": "display_data"
    },
    {
     "name": "stdout",
     "output_type": "stream",
     "text": [
      "Epoch 814/1000, Loss: 6705.129011483028\n"
     ]
    },
    {
     "data": {
      "application/vnd.jupyter.widget-view+json": {
       "model_id": "cb611b74c00340d88b2799199560f54c",
       "version_major": 2,
       "version_minor": 0
      },
      "text/plain": [
       "Epoch 815/1000:   0%|          | 0/1 [00:00<?, ?it/s]"
      ]
     },
     "metadata": {},
     "output_type": "display_data"
    },
    {
     "name": "stdout",
     "output_type": "stream",
     "text": [
      "Epoch 815/1000, Loss: 6686.502458243534\n"
     ]
    },
    {
     "data": {
      "application/vnd.jupyter.widget-view+json": {
       "model_id": "763cf048be194d1fbf710eeaf3aaf50b",
       "version_major": 2,
       "version_minor": 0
      },
      "text/plain": [
       "Epoch 816/1000:   0%|          | 0/1 [00:00<?, ?it/s]"
      ]
     },
     "metadata": {},
     "output_type": "display_data"
    },
    {
     "name": "stdout",
     "output_type": "stream",
     "text": [
      "Epoch 816/1000, Loss: 6697.298276703933\n"
     ]
    },
    {
     "data": {
      "application/vnd.jupyter.widget-view+json": {
       "model_id": "4e222eb05a0343b484d46129a7b767c4",
       "version_major": 2,
       "version_minor": 0
      },
      "text/plain": [
       "Epoch 817/1000:   0%|          | 0/1 [00:00<?, ?it/s]"
      ]
     },
     "metadata": {},
     "output_type": "display_data"
    },
    {
     "name": "stdout",
     "output_type": "stream",
     "text": [
      "Epoch 817/1000, Loss: 6682.420098666487\n"
     ]
    },
    {
     "data": {
      "application/vnd.jupyter.widget-view+json": {
       "model_id": "fefe8a71b3974f98b47c90cd40f83512",
       "version_major": 2,
       "version_minor": 0
      },
      "text/plain": [
       "Epoch 818/1000:   0%|          | 0/1 [00:00<?, ?it/s]"
      ]
     },
     "metadata": {},
     "output_type": "display_data"
    },
    {
     "name": "stdout",
     "output_type": "stream",
     "text": [
      "Epoch 818/1000, Loss: 6675.336552060884\n"
     ]
    },
    {
     "data": {
      "application/vnd.jupyter.widget-view+json": {
       "model_id": "cabd387ef89e4962b8034ec9c68dafd4",
       "version_major": 2,
       "version_minor": 0
      },
      "text/plain": [
       "Epoch 819/1000:   0%|          | 0/1 [00:00<?, ?it/s]"
      ]
     },
     "metadata": {},
     "output_type": "display_data"
    },
    {
     "name": "stdout",
     "output_type": "stream",
     "text": [
      "Epoch 819/1000, Loss: 6677.143504175647\n"
     ]
    },
    {
     "data": {
      "application/vnd.jupyter.widget-view+json": {
       "model_id": "4951eff5d1954268bbc45c6e1582eddb",
       "version_major": 2,
       "version_minor": 0
      },
      "text/plain": [
       "Epoch 820/1000:   0%|          | 0/1 [00:00<?, ?it/s]"
      ]
     },
     "metadata": {},
     "output_type": "display_data"
    },
    {
     "name": "stdout",
     "output_type": "stream",
     "text": [
      "Epoch 820/1000, Loss: 6663.275445346175\n"
     ]
    },
    {
     "data": {
      "application/vnd.jupyter.widget-view+json": {
       "model_id": "d7b8711e002a4bf39a0d29f223809051",
       "version_major": 2,
       "version_minor": 0
      },
      "text/plain": [
       "Epoch 821/1000:   0%|          | 0/1 [00:00<?, ?it/s]"
      ]
     },
     "metadata": {},
     "output_type": "display_data"
    },
    {
     "name": "stdout",
     "output_type": "stream",
     "text": [
      "Epoch 821/1000, Loss: 6666.882787244073\n"
     ]
    },
    {
     "data": {
      "application/vnd.jupyter.widget-view+json": {
       "model_id": "d5405ac6f229487c8b8acc33c769070b",
       "version_major": 2,
       "version_minor": 0
      },
      "text/plain": [
       "Epoch 822/1000:   0%|          | 0/1 [00:00<?, ?it/s]"
      ]
     },
     "metadata": {},
     "output_type": "display_data"
    },
    {
     "name": "stdout",
     "output_type": "stream",
     "text": [
      "Epoch 822/1000, Loss: 6684.181047110722\n"
     ]
    },
    {
     "data": {
      "application/vnd.jupyter.widget-view+json": {
       "model_id": "752baaeaa8a0487aaa24a8532857bfd7",
       "version_major": 2,
       "version_minor": 0
      },
      "text/plain": [
       "Epoch 823/1000:   0%|          | 0/1 [00:00<?, ?it/s]"
      ]
     },
     "metadata": {},
     "output_type": "display_data"
    },
    {
     "name": "stdout",
     "output_type": "stream",
     "text": [
      "Epoch 823/1000, Loss: 6676.23136954472\n"
     ]
    },
    {
     "data": {
      "application/vnd.jupyter.widget-view+json": {
       "model_id": "01ad2710d59e4646842e3976cc6f3ed1",
       "version_major": 2,
       "version_minor": 0
      },
      "text/plain": [
       "Epoch 824/1000:   0%|          | 0/1 [00:00<?, ?it/s]"
      ]
     },
     "metadata": {},
     "output_type": "display_data"
    },
    {
     "name": "stdout",
     "output_type": "stream",
     "text": [
      "Epoch 824/1000, Loss: 6668.048192517511\n"
     ]
    },
    {
     "data": {
      "application/vnd.jupyter.widget-view+json": {
       "model_id": "c99fd203b86b4d8cacd7e3dd1063b82f",
       "version_major": 2,
       "version_minor": 0
      },
      "text/plain": [
       "Epoch 825/1000:   0%|          | 0/1 [00:00<?, ?it/s]"
      ]
     },
     "metadata": {},
     "output_type": "display_data"
    },
    {
     "name": "stdout",
     "output_type": "stream",
     "text": [
      "Epoch 825/1000, Loss: 6683.831231478987\n"
     ]
    },
    {
     "data": {
      "application/vnd.jupyter.widget-view+json": {
       "model_id": "4ee94bc065e5404c998d6ffe77fb0253",
       "version_major": 2,
       "version_minor": 0
      },
      "text/plain": [
       "Epoch 826/1000:   0%|          | 0/1 [00:00<?, ?it/s]"
      ]
     },
     "metadata": {},
     "output_type": "display_data"
    },
    {
     "name": "stdout",
     "output_type": "stream",
     "text": [
      "Epoch 826/1000, Loss: 6671.965134193158\n"
     ]
    },
    {
     "data": {
      "application/vnd.jupyter.widget-view+json": {
       "model_id": "18418bd8e8fe4c10af03a61a9f1e1ff3",
       "version_major": 2,
       "version_minor": 0
      },
      "text/plain": [
       "Epoch 827/1000:   0%|          | 0/1 [00:00<?, ?it/s]"
      ]
     },
     "metadata": {},
     "output_type": "display_data"
    },
    {
     "name": "stdout",
     "output_type": "stream",
     "text": [
      "Epoch 827/1000, Loss: 6666.981853616649\n"
     ]
    },
    {
     "data": {
      "application/vnd.jupyter.widget-view+json": {
       "model_id": "0fd7ac20ff7340d8b295d91eff54139e",
       "version_major": 2,
       "version_minor": 0
      },
      "text/plain": [
       "Epoch 828/1000:   0%|          | 0/1 [00:00<?, ?it/s]"
      ]
     },
     "metadata": {},
     "output_type": "display_data"
    },
    {
     "name": "stdout",
     "output_type": "stream",
     "text": [
      "Epoch 828/1000, Loss: 6656.787218817349\n"
     ]
    },
    {
     "data": {
      "application/vnd.jupyter.widget-view+json": {
       "model_id": "f44d7c9ef3f34b138175583e2861d0fe",
       "version_major": 2,
       "version_minor": 0
      },
      "text/plain": [
       "Epoch 829/1000:   0%|          | 0/1 [00:00<?, ?it/s]"
      ]
     },
     "metadata": {},
     "output_type": "display_data"
    },
    {
     "name": "stdout",
     "output_type": "stream",
     "text": [
      "Epoch 829/1000, Loss: 6663.004731276939\n"
     ]
    },
    {
     "data": {
      "application/vnd.jupyter.widget-view+json": {
       "model_id": "bbc94654b2e4497383bd37f1862a09a6",
       "version_major": 2,
       "version_minor": 0
      },
      "text/plain": [
       "Epoch 830/1000:   0%|          | 0/1 [00:00<?, ?it/s]"
      ]
     },
     "metadata": {},
     "output_type": "display_data"
    },
    {
     "name": "stdout",
     "output_type": "stream",
     "text": [
      "Epoch 830/1000, Loss: 6666.89043558055\n"
     ]
    },
    {
     "data": {
      "application/vnd.jupyter.widget-view+json": {
       "model_id": "85ad60ead5f249b38af5826d5617163f",
       "version_major": 2,
       "version_minor": 0
      },
      "text/plain": [
       "Epoch 831/1000:   0%|          | 0/1 [00:00<?, ?it/s]"
      ]
     },
     "metadata": {},
     "output_type": "display_data"
    },
    {
     "name": "stdout",
     "output_type": "stream",
     "text": [
      "Epoch 831/1000, Loss: 6654.607817551186\n"
     ]
    },
    {
     "data": {
      "application/vnd.jupyter.widget-view+json": {
       "model_id": "2148470df68d493d94d00ae466ecd616",
       "version_major": 2,
       "version_minor": 0
      },
      "text/plain": [
       "Epoch 832/1000:   0%|          | 0/1 [00:00<?, ?it/s]"
      ]
     },
     "metadata": {},
     "output_type": "display_data"
    },
    {
     "name": "stdout",
     "output_type": "stream",
     "text": [
      "Epoch 832/1000, Loss: 6656.150958883351\n"
     ]
    },
    {
     "data": {
      "application/vnd.jupyter.widget-view+json": {
       "model_id": "761d6e6556d14bbdb79ad9285182e6b1",
       "version_major": 2,
       "version_minor": 0
      },
      "text/plain": [
       "Epoch 833/1000:   0%|          | 0/1 [00:00<?, ?it/s]"
      ]
     },
     "metadata": {},
     "output_type": "display_data"
    },
    {
     "name": "stdout",
     "output_type": "stream",
     "text": [
      "Epoch 833/1000, Loss: 6653.503178037447\n"
     ]
    },
    {
     "data": {
      "application/vnd.jupyter.widget-view+json": {
       "model_id": "33245af5577b42cdacdcaf4a39c05345",
       "version_major": 2,
       "version_minor": 0
      },
      "text/plain": [
       "Epoch 834/1000:   0%|          | 0/1 [00:00<?, ?it/s]"
      ]
     },
     "metadata": {},
     "output_type": "display_data"
    },
    {
     "name": "stdout",
     "output_type": "stream",
     "text": [
      "Epoch 834/1000, Loss: 6650.97761483028\n"
     ]
    },
    {
     "data": {
      "application/vnd.jupyter.widget-view+json": {
       "model_id": "ba76520426ba4426962605b5f8436200",
       "version_major": 2,
       "version_minor": 0
      },
      "text/plain": [
       "Epoch 835/1000:   0%|          | 0/1 [00:00<?, ?it/s]"
      ]
     },
     "metadata": {},
     "output_type": "display_data"
    },
    {
     "name": "stdout",
     "output_type": "stream",
     "text": [
      "Epoch 835/1000, Loss: 6648.159331223061\n"
     ]
    },
    {
     "data": {
      "application/vnd.jupyter.widget-view+json": {
       "model_id": "99ecc2700afd482093d66df40a9b58ef",
       "version_major": 2,
       "version_minor": 0
      },
      "text/plain": [
       "Epoch 836/1000:   0%|          | 0/1 [00:00<?, ?it/s]"
      ]
     },
     "metadata": {},
     "output_type": "display_data"
    },
    {
     "name": "stdout",
     "output_type": "stream",
     "text": [
      "Epoch 836/1000, Loss: 6644.074193494073\n"
     ]
    },
    {
     "data": {
      "application/vnd.jupyter.widget-view+json": {
       "model_id": "859780ce0e4c4610a20a17fb12038bc3",
       "version_major": 2,
       "version_minor": 0
      },
      "text/plain": [
       "Epoch 837/1000:   0%|          | 0/1 [00:00<?, ?it/s]"
      ]
     },
     "metadata": {},
     "output_type": "display_data"
    },
    {
     "name": "stdout",
     "output_type": "stream",
     "text": [
      "Epoch 837/1000, Loss: 6646.9027310075435\n"
     ]
    },
    {
     "data": {
      "application/vnd.jupyter.widget-view+json": {
       "model_id": "00865a95e25d48b6a94a6d9bc468393c",
       "version_major": 2,
       "version_minor": 0
      },
      "text/plain": [
       "Epoch 838/1000:   0%|          | 0/1 [00:00<?, ?it/s]"
      ]
     },
     "metadata": {},
     "output_type": "display_data"
    },
    {
     "name": "stdout",
     "output_type": "stream",
     "text": [
      "Epoch 838/1000, Loss: 6649.533855569774\n"
     ]
    },
    {
     "data": {
      "application/vnd.jupyter.widget-view+json": {
       "model_id": "6f4fffd9d461403a812462ecac31c970",
       "version_major": 2,
       "version_minor": 0
      },
      "text/plain": [
       "Epoch 839/1000:   0%|          | 0/1 [00:00<?, ?it/s]"
      ]
     },
     "metadata": {},
     "output_type": "display_data"
    },
    {
     "name": "stdout",
     "output_type": "stream",
     "text": [
      "Epoch 839/1000, Loss: 6627.2516079606685\n"
     ]
    },
    {
     "data": {
      "application/vnd.jupyter.widget-view+json": {
       "model_id": "a56fd03247c042c38a8cb10a32db4f35",
       "version_major": 2,
       "version_minor": 0
      },
      "text/plain": [
       "Epoch 840/1000:   0%|          | 0/1 [00:00<?, ?it/s]"
      ]
     },
     "metadata": {},
     "output_type": "display_data"
    },
    {
     "name": "stdout",
     "output_type": "stream",
     "text": [
      "Epoch 840/1000, Loss: 6642.928016399515\n"
     ]
    },
    {
     "data": {
      "application/vnd.jupyter.widget-view+json": {
       "model_id": "516886ac33cd46858be42536b4c002bb",
       "version_major": 2,
       "version_minor": 0
      },
      "text/plain": [
       "Epoch 841/1000:   0%|          | 0/1 [00:00<?, ?it/s]"
      ]
     },
     "metadata": {},
     "output_type": "display_data"
    },
    {
     "name": "stdout",
     "output_type": "stream",
     "text": [
      "Epoch 841/1000, Loss: 6648.49417850889\n"
     ]
    },
    {
     "data": {
      "application/vnd.jupyter.widget-view+json": {
       "model_id": "81367fedf5ec49bb9a9432f38ef544c2",
       "version_major": 2,
       "version_minor": 0
      },
      "text/plain": [
       "Epoch 842/1000:   0%|          | 0/1 [00:00<?, ?it/s]"
      ]
     },
     "metadata": {},
     "output_type": "display_data"
    },
    {
     "name": "stdout",
     "output_type": "stream",
     "text": [
      "Epoch 842/1000, Loss: 6640.6636331492455\n"
     ]
    },
    {
     "data": {
      "application/vnd.jupyter.widget-view+json": {
       "model_id": "2fecd0da38ed49078957cdd19681e4e4",
       "version_major": 2,
       "version_minor": 0
      },
      "text/plain": [
       "Epoch 843/1000:   0%|          | 0/1 [00:00<?, ?it/s]"
      ]
     },
     "metadata": {},
     "output_type": "display_data"
    },
    {
     "name": "stdout",
     "output_type": "stream",
     "text": [
      "Epoch 843/1000, Loss: 6638.722096410291\n"
     ]
    },
    {
     "data": {
      "application/vnd.jupyter.widget-view+json": {
       "model_id": "e4ee8a0e8e7d4ef9807e8744533f9beb",
       "version_major": 2,
       "version_minor": 0
      },
      "text/plain": [
       "Epoch 844/1000:   0%|          | 0/1 [00:00<?, ?it/s]"
      ]
     },
     "metadata": {},
     "output_type": "display_data"
    },
    {
     "name": "stdout",
     "output_type": "stream",
     "text": [
      "Epoch 844/1000, Loss: 6633.245146652748\n"
     ]
    },
    {
     "data": {
      "application/vnd.jupyter.widget-view+json": {
       "model_id": "53b0715375dc4de9a5ec2222216b5583",
       "version_major": 2,
       "version_minor": 0
      },
      "text/plain": [
       "Epoch 845/1000:   0%|          | 0/1 [00:00<?, ?it/s]"
      ]
     },
     "metadata": {},
     "output_type": "display_data"
    },
    {
     "name": "stdout",
     "output_type": "stream",
     "text": [
      "Epoch 845/1000, Loss: 6633.857337688578\n"
     ]
    },
    {
     "data": {
      "application/vnd.jupyter.widget-view+json": {
       "model_id": "8a46e456198546db9b0bb18bf7b83145",
       "version_major": 2,
       "version_minor": 0
      },
      "text/plain": [
       "Epoch 846/1000:   0%|          | 0/1 [00:00<?, ?it/s]"
      ]
     },
     "metadata": {},
     "output_type": "display_data"
    },
    {
     "name": "stdout",
     "output_type": "stream",
     "text": [
      "Epoch 846/1000, Loss: 6632.430230502425\n"
     ]
    },
    {
     "data": {
      "application/vnd.jupyter.widget-view+json": {
       "model_id": "ecc0c7cfb2944d8893c9096d3cd04e1a",
       "version_major": 2,
       "version_minor": 0
      },
      "text/plain": [
       "Epoch 847/1000:   0%|          | 0/1 [00:00<?, ?it/s]"
      ]
     },
     "metadata": {},
     "output_type": "display_data"
    },
    {
     "name": "stdout",
     "output_type": "stream",
     "text": [
      "Epoch 847/1000, Loss: 6631.052721747036\n"
     ]
    },
    {
     "data": {
      "application/vnd.jupyter.widget-view+json": {
       "model_id": "f942936873c6432fb2280a56e4ac17a7",
       "version_major": 2,
       "version_minor": 0
      },
      "text/plain": [
       "Epoch 848/1000:   0%|          | 0/1 [00:00<?, ?it/s]"
      ]
     },
     "metadata": {},
     "output_type": "display_data"
    },
    {
     "name": "stdout",
     "output_type": "stream",
     "text": [
      "Epoch 848/1000, Loss: 6636.584161166487\n"
     ]
    },
    {
     "data": {
      "application/vnd.jupyter.widget-view+json": {
       "model_id": "44c3233780174cabb0656117a6fdd2a9",
       "version_major": 2,
       "version_minor": 0
      },
      "text/plain": [
       "Epoch 849/1000:   0%|          | 0/1 [00:00<?, ?it/s]"
      ]
     },
     "metadata": {},
     "output_type": "display_data"
    },
    {
     "name": "stdout",
     "output_type": "stream",
     "text": [
      "Epoch 849/1000, Loss: 6624.267914870689\n"
     ]
    },
    {
     "data": {
      "application/vnd.jupyter.widget-view+json": {
       "model_id": "4c8afafe54ab4eedb869fd8a88c94751",
       "version_major": 2,
       "version_minor": 0
      },
      "text/plain": [
       "Epoch 850/1000:   0%|          | 0/1 [00:00<?, ?it/s]"
      ]
     },
     "metadata": {},
     "output_type": "display_data"
    },
    {
     "name": "stdout",
     "output_type": "stream",
     "text": [
      "Epoch 850/1000, Loss: 6628.835365032328\n"
     ]
    },
    {
     "data": {
      "application/vnd.jupyter.widget-view+json": {
       "model_id": "eadc50c1aaae4c18847f3b07c9163df9",
       "version_major": 2,
       "version_minor": 0
      },
      "text/plain": [
       "Epoch 851/1000:   0%|          | 0/1 [00:00<?, ?it/s]"
      ]
     },
     "metadata": {},
     "output_type": "display_data"
    },
    {
     "name": "stdout",
     "output_type": "stream",
     "text": [
      "Epoch 851/1000, Loss: 6621.385371767241\n"
     ]
    },
    {
     "data": {
      "application/vnd.jupyter.widget-view+json": {
       "model_id": "5ecb0cc979e140a3ae7569083eada383",
       "version_major": 2,
       "version_minor": 0
      },
      "text/plain": [
       "Epoch 852/1000:   0%|          | 0/1 [00:00<?, ?it/s]"
      ]
     },
     "metadata": {},
     "output_type": "display_data"
    },
    {
     "name": "stdout",
     "output_type": "stream",
     "text": [
      "Epoch 852/1000, Loss: 6629.257829337284\n"
     ]
    },
    {
     "data": {
      "application/vnd.jupyter.widget-view+json": {
       "model_id": "4f8842713cc24f9f88df17caca409194",
       "version_major": 2,
       "version_minor": 0
      },
      "text/plain": [
       "Epoch 853/1000:   0%|          | 0/1 [00:00<?, ?it/s]"
      ]
     },
     "metadata": {},
     "output_type": "display_data"
    },
    {
     "name": "stdout",
     "output_type": "stream",
     "text": [
      "Epoch 853/1000, Loss: 6628.046879209322\n"
     ]
    },
    {
     "data": {
      "application/vnd.jupyter.widget-view+json": {
       "model_id": "d4ed606fa7aa40c8ad817b3658ff00ca",
       "version_major": 2,
       "version_minor": 0
      },
      "text/plain": [
       "Epoch 854/1000:   0%|          | 0/1 [00:00<?, ?it/s]"
      ]
     },
     "metadata": {},
     "output_type": "display_data"
    },
    {
     "name": "stdout",
     "output_type": "stream",
     "text": [
      "Epoch 854/1000, Loss: 6620.838282091864\n"
     ]
    },
    {
     "data": {
      "application/vnd.jupyter.widget-view+json": {
       "model_id": "7834a932bf234ce79aee8867e042f514",
       "version_major": 2,
       "version_minor": 0
      },
      "text/plain": [
       "Epoch 855/1000:   0%|          | 0/1 [00:00<?, ?it/s]"
      ]
     },
     "metadata": {},
     "output_type": "display_data"
    },
    {
     "name": "stdout",
     "output_type": "stream",
     "text": [
      "Epoch 855/1000, Loss: 6611.557878165409\n"
     ]
    },
    {
     "data": {
      "application/vnd.jupyter.widget-view+json": {
       "model_id": "7a110b167a7e43958d8662579c9eb301",
       "version_major": 2,
       "version_minor": 0
      },
      "text/plain": [
       "Epoch 856/1000:   0%|          | 0/1 [00:00<?, ?it/s]"
      ]
     },
     "metadata": {},
     "output_type": "display_data"
    },
    {
     "name": "stdout",
     "output_type": "stream",
     "text": [
      "Epoch 856/1000, Loss: 6615.220054889547\n"
     ]
    },
    {
     "data": {
      "application/vnd.jupyter.widget-view+json": {
       "model_id": "2fdfb64c72394650889d70bd6e936418",
       "version_major": 2,
       "version_minor": 0
      },
      "text/plain": [
       "Epoch 857/1000:   0%|          | 0/1 [00:00<?, ?it/s]"
      ]
     },
     "metadata": {},
     "output_type": "display_data"
    },
    {
     "name": "stdout",
     "output_type": "stream",
     "text": [
      "Epoch 857/1000, Loss: 6629.5299745757\n"
     ]
    },
    {
     "data": {
      "application/vnd.jupyter.widget-view+json": {
       "model_id": "60f19e337eee456eb257e6f3b7c601d5",
       "version_major": 2,
       "version_minor": 0
      },
      "text/plain": [
       "Epoch 858/1000:   0%|          | 0/1 [00:00<?, ?it/s]"
      ]
     },
     "metadata": {},
     "output_type": "display_data"
    },
    {
     "name": "stdout",
     "output_type": "stream",
     "text": [
      "Epoch 858/1000, Loss: 6614.187723094019\n"
     ]
    },
    {
     "data": {
      "application/vnd.jupyter.widget-view+json": {
       "model_id": "5dff2d1acf244495ba8a86d2f8bbf374",
       "version_major": 2,
       "version_minor": 0
      },
      "text/plain": [
       "Epoch 859/1000:   0%|          | 0/1 [00:00<?, ?it/s]"
      ]
     },
     "metadata": {},
     "output_type": "display_data"
    },
    {
     "name": "stdout",
     "output_type": "stream",
     "text": [
      "Epoch 859/1000, Loss: 6605.895966628502\n"
     ]
    },
    {
     "data": {
      "application/vnd.jupyter.widget-view+json": {
       "model_id": "8982834bd1864f0fba8cbe96633c00f1",
       "version_major": 2,
       "version_minor": 0
      },
      "text/plain": [
       "Epoch 860/1000:   0%|          | 0/1 [00:00<?, ?it/s]"
      ]
     },
     "metadata": {},
     "output_type": "display_data"
    },
    {
     "name": "stdout",
     "output_type": "stream",
     "text": [
      "Epoch 860/1000, Loss: 6606.088092672414\n"
     ]
    },
    {
     "data": {
      "application/vnd.jupyter.widget-view+json": {
       "model_id": "d000423e222f4f67a1f5a82edc4a8403",
       "version_major": 2,
       "version_minor": 0
      },
      "text/plain": [
       "Epoch 861/1000:   0%|          | 0/1 [00:00<?, ?it/s]"
      ]
     },
     "metadata": {},
     "output_type": "display_data"
    },
    {
     "name": "stdout",
     "output_type": "stream",
     "text": [
      "Epoch 861/1000, Loss: 6612.719112001616\n"
     ]
    },
    {
     "data": {
      "application/vnd.jupyter.widget-view+json": {
       "model_id": "87e42e9f74f742ba9497c80d9346b0d7",
       "version_major": 2,
       "version_minor": 0
      },
      "text/plain": [
       "Epoch 862/1000:   0%|          | 0/1 [00:00<?, ?it/s]"
      ]
     },
     "metadata": {},
     "output_type": "display_data"
    },
    {
     "name": "stdout",
     "output_type": "stream",
     "text": [
      "Epoch 862/1000, Loss: 6613.279330549569\n"
     ]
    },
    {
     "data": {
      "application/vnd.jupyter.widget-view+json": {
       "model_id": "9fe4cf7e80ad414eba57d8dea9850f42",
       "version_major": 2,
       "version_minor": 0
      },
      "text/plain": [
       "Epoch 863/1000:   0%|          | 0/1 [00:00<?, ?it/s]"
      ]
     },
     "metadata": {},
     "output_type": "display_data"
    },
    {
     "name": "stdout",
     "output_type": "stream",
     "text": [
      "Epoch 863/1000, Loss: 6608.738378064386\n"
     ]
    },
    {
     "data": {
      "application/vnd.jupyter.widget-view+json": {
       "model_id": "b7aea3db564643cda43f0720017cc954",
       "version_major": 2,
       "version_minor": 0
      },
      "text/plain": [
       "Epoch 864/1000:   0%|          | 0/1 [00:00<?, ?it/s]"
      ]
     },
     "metadata": {},
     "output_type": "display_data"
    },
    {
     "name": "stdout",
     "output_type": "stream",
     "text": [
      "Epoch 864/1000, Loss: 6613.55074336611\n"
     ]
    },
    {
     "data": {
      "application/vnd.jupyter.widget-view+json": {
       "model_id": "461bae253ae747b08fce899dd16dab70",
       "version_major": 2,
       "version_minor": 0
      },
      "text/plain": [
       "Epoch 865/1000:   0%|          | 0/1 [00:00<?, ?it/s]"
      ]
     },
     "metadata": {},
     "output_type": "display_data"
    },
    {
     "name": "stdout",
     "output_type": "stream",
     "text": [
      "Epoch 865/1000, Loss: 6605.809818662447\n"
     ]
    },
    {
     "data": {
      "application/vnd.jupyter.widget-view+json": {
       "model_id": "9c3b9c426bc44142a6343f925cb19fca",
       "version_major": 2,
       "version_minor": 0
      },
      "text/plain": [
       "Epoch 866/1000:   0%|          | 0/1 [00:00<?, ?it/s]"
      ]
     },
     "metadata": {},
     "output_type": "display_data"
    },
    {
     "name": "stdout",
     "output_type": "stream",
     "text": [
      "Epoch 866/1000, Loss: 6588.816991345636\n"
     ]
    },
    {
     "data": {
      "application/vnd.jupyter.widget-view+json": {
       "model_id": "80ff9239aca9443ca73da9ee0fcc55a8",
       "version_major": 2,
       "version_minor": 0
      },
      "text/plain": [
       "Epoch 867/1000:   0%|          | 0/1 [00:00<?, ?it/s]"
      ]
     },
     "metadata": {},
     "output_type": "display_data"
    },
    {
     "name": "stdout",
     "output_type": "stream",
     "text": [
      "Epoch 867/1000, Loss: 6601.873316271552\n"
     ]
    },
    {
     "data": {
      "application/vnd.jupyter.widget-view+json": {
       "model_id": "407d11b6e0094ab48fd4bcbc12b93af3",
       "version_major": 2,
       "version_minor": 0
      },
      "text/plain": [
       "Epoch 868/1000:   0%|          | 0/1 [00:00<?, ?it/s]"
      ]
     },
     "metadata": {},
     "output_type": "display_data"
    },
    {
     "name": "stdout",
     "output_type": "stream",
     "text": [
      "Epoch 868/1000, Loss: 6603.633591224408\n"
     ]
    },
    {
     "data": {
      "application/vnd.jupyter.widget-view+json": {
       "model_id": "0520d7a177a34fd8af965769ace5b9a4",
       "version_major": 2,
       "version_minor": 0
      },
      "text/plain": [
       "Epoch 869/1000:   0%|          | 0/1 [00:00<?, ?it/s]"
      ]
     },
     "metadata": {},
     "output_type": "display_data"
    },
    {
     "name": "stdout",
     "output_type": "stream",
     "text": [
      "Epoch 869/1000, Loss: 6599.524052060884\n"
     ]
    },
    {
     "data": {
      "application/vnd.jupyter.widget-view+json": {
       "model_id": "59adf2618cec4b8c9e21b68b54a81ca4",
       "version_major": 2,
       "version_minor": 0
      },
      "text/plain": [
       "Epoch 870/1000:   0%|          | 0/1 [00:00<?, ?it/s]"
      ]
     },
     "metadata": {},
     "output_type": "display_data"
    },
    {
     "name": "stdout",
     "output_type": "stream",
     "text": [
      "Epoch 870/1000, Loss: 6591.394737506735\n"
     ]
    },
    {
     "data": {
      "application/vnd.jupyter.widget-view+json": {
       "model_id": "ea912207090043ac9c463db0e0cb35a4",
       "version_major": 2,
       "version_minor": 0
      },
      "text/plain": [
       "Epoch 871/1000:   0%|          | 0/1 [00:00<?, ?it/s]"
      ]
     },
     "metadata": {},
     "output_type": "display_data"
    },
    {
     "name": "stdout",
     "output_type": "stream",
     "text": [
      "Epoch 871/1000, Loss: 6614.443607724947\n"
     ]
    },
    {
     "data": {
      "application/vnd.jupyter.widget-view+json": {
       "model_id": "36407ae976674dc88a3dff34439ebaa9",
       "version_major": 2,
       "version_minor": 0
      },
      "text/plain": [
       "Epoch 872/1000:   0%|          | 0/1 [00:00<?, ?it/s]"
      ]
     },
     "metadata": {},
     "output_type": "display_data"
    },
    {
     "name": "stdout",
     "output_type": "stream",
     "text": [
      "Epoch 872/1000, Loss: 6587.307263604526\n"
     ]
    },
    {
     "data": {
      "application/vnd.jupyter.widget-view+json": {
       "model_id": "bfa43217bfdd48d3a6514fd11458fdc6",
       "version_major": 2,
       "version_minor": 0
      },
      "text/plain": [
       "Epoch 873/1000:   0%|          | 0/1 [00:00<?, ?it/s]"
      ]
     },
     "metadata": {},
     "output_type": "display_data"
    },
    {
     "name": "stdout",
     "output_type": "stream",
     "text": [
      "Epoch 873/1000, Loss: 6612.297556910022\n"
     ]
    },
    {
     "data": {
      "application/vnd.jupyter.widget-view+json": {
       "model_id": "08a7d731e7d94b56bda9f9be4facff3e",
       "version_major": 2,
       "version_minor": 0
      },
      "text/plain": [
       "Epoch 874/1000:   0%|          | 0/1 [00:00<?, ?it/s]"
      ]
     },
     "metadata": {},
     "output_type": "display_data"
    },
    {
     "name": "stdout",
     "output_type": "stream",
     "text": [
      "Epoch 874/1000, Loss: 6588.605300377155\n"
     ]
    },
    {
     "data": {
      "application/vnd.jupyter.widget-view+json": {
       "model_id": "c2f9c462b3b14bca81266a66d245697e",
       "version_major": 2,
       "version_minor": 0
      },
      "text/plain": [
       "Epoch 875/1000:   0%|          | 0/1 [00:00<?, ?it/s]"
      ]
     },
     "metadata": {},
     "output_type": "display_data"
    },
    {
     "name": "stdout",
     "output_type": "stream",
     "text": [
      "Epoch 875/1000, Loss: 6590.935340618265\n"
     ]
    },
    {
     "data": {
      "application/vnd.jupyter.widget-view+json": {
       "model_id": "1d7411f90d7e447b86852828e6d3c4b0",
       "version_major": 2,
       "version_minor": 0
      },
      "text/plain": [
       "Epoch 876/1000:   0%|          | 0/1 [00:00<?, ?it/s]"
      ]
     },
     "metadata": {},
     "output_type": "display_data"
    },
    {
     "name": "stdout",
     "output_type": "stream",
     "text": [
      "Epoch 876/1000, Loss: 6615.823797817888\n"
     ]
    },
    {
     "data": {
      "application/vnd.jupyter.widget-view+json": {
       "model_id": "1dbcf58d607e43e29ae4985b485d1ae7",
       "version_major": 2,
       "version_minor": 0
      },
      "text/plain": [
       "Epoch 877/1000:   0%|          | 0/1 [00:00<?, ?it/s]"
      ]
     },
     "metadata": {},
     "output_type": "display_data"
    },
    {
     "name": "stdout",
     "output_type": "stream",
     "text": [
      "Epoch 877/1000, Loss: 6588.6249410695045\n"
     ]
    },
    {
     "data": {
      "application/vnd.jupyter.widget-view+json": {
       "model_id": "71c6784975a941bfacd2ec7d75d9f695",
       "version_major": 2,
       "version_minor": 0
      },
      "text/plain": [
       "Epoch 878/1000:   0%|          | 0/1 [00:00<?, ?it/s]"
      ]
     },
     "metadata": {},
     "output_type": "display_data"
    },
    {
     "name": "stdout",
     "output_type": "stream",
     "text": [
      "Epoch 878/1000, Loss: 6603.408232590248\n"
     ]
    },
    {
     "data": {
      "application/vnd.jupyter.widget-view+json": {
       "model_id": "0a2cbf8af89349cab341500eb40c7ce8",
       "version_major": 2,
       "version_minor": 0
      },
      "text/plain": [
       "Epoch 879/1000:   0%|          | 0/1 [00:00<?, ?it/s]"
      ]
     },
     "metadata": {},
     "output_type": "display_data"
    },
    {
     "name": "stdout",
     "output_type": "stream",
     "text": [
      "Epoch 879/1000, Loss: 6595.465795056573\n"
     ]
    },
    {
     "data": {
      "application/vnd.jupyter.widget-view+json": {
       "model_id": "6f3fac31cf6e451687d2899cdd0e834e",
       "version_major": 2,
       "version_minor": 0
      },
      "text/plain": [
       "Epoch 880/1000:   0%|          | 0/1 [00:00<?, ?it/s]"
      ]
     },
     "metadata": {},
     "output_type": "display_data"
    },
    {
     "name": "stdout",
     "output_type": "stream",
     "text": [
      "Epoch 880/1000, Loss: 6588.5799350080815\n"
     ]
    },
    {
     "data": {
      "application/vnd.jupyter.widget-view+json": {
       "model_id": "8441a8889d2b4ffa8f2f458eeca6c7dd",
       "version_major": 2,
       "version_minor": 0
      },
      "text/plain": [
       "Epoch 881/1000:   0%|          | 0/1 [00:00<?, ?it/s]"
      ]
     },
     "metadata": {},
     "output_type": "display_data"
    },
    {
     "name": "stdout",
     "output_type": "stream",
     "text": [
      "Epoch 881/1000, Loss: 6580.206934435614\n"
     ]
    },
    {
     "data": {
      "application/vnd.jupyter.widget-view+json": {
       "model_id": "13c2d4d340644161ad921795a80096d5",
       "version_major": 2,
       "version_minor": 0
      },
      "text/plain": [
       "Epoch 882/1000:   0%|          | 0/1 [00:00<?, ?it/s]"
      ]
     },
     "metadata": {},
     "output_type": "display_data"
    },
    {
     "name": "stdout",
     "output_type": "stream",
     "text": [
      "Epoch 882/1000, Loss: 6586.860776703933\n"
     ]
    },
    {
     "data": {
      "application/vnd.jupyter.widget-view+json": {
       "model_id": "19ab1f8c81524be782a191526c31a6f6",
       "version_major": 2,
       "version_minor": 0
      },
      "text/plain": [
       "Epoch 883/1000:   0%|          | 0/1 [00:00<?, ?it/s]"
      ]
     },
     "metadata": {},
     "output_type": "display_data"
    },
    {
     "name": "stdout",
     "output_type": "stream",
     "text": [
      "Epoch 883/1000, Loss: 6593.56306404903\n"
     ]
    },
    {
     "data": {
      "application/vnd.jupyter.widget-view+json": {
       "model_id": "4c42ba44309b46ab8e75d7d4e1f78a85",
       "version_major": 2,
       "version_minor": 0
      },
      "text/plain": [
       "Epoch 884/1000:   0%|          | 0/1 [00:00<?, ?it/s]"
      ]
     },
     "metadata": {},
     "output_type": "display_data"
    },
    {
     "name": "stdout",
     "output_type": "stream",
     "text": [
      "Epoch 884/1000, Loss: 6594.703487001616\n"
     ]
    },
    {
     "data": {
      "application/vnd.jupyter.widget-view+json": {
       "model_id": "a3b37dd52cfa41ab9c463a610a3a84bb",
       "version_major": 2,
       "version_minor": 0
      },
      "text/plain": [
       "Epoch 885/1000:   0%|          | 0/1 [00:00<?, ?it/s]"
      ]
     },
     "metadata": {},
     "output_type": "display_data"
    },
    {
     "name": "stdout",
     "output_type": "stream",
     "text": [
      "Epoch 885/1000, Loss: 6582.962208714978\n"
     ]
    },
    {
     "data": {
      "application/vnd.jupyter.widget-view+json": {
       "model_id": "d4f7ed30c5fe414c9b1197001cd95e4f",
       "version_major": 2,
       "version_minor": 0
      },
      "text/plain": [
       "Epoch 886/1000:   0%|          | 0/1 [00:00<?, ?it/s]"
      ]
     },
     "metadata": {},
     "output_type": "display_data"
    },
    {
     "name": "stdout",
     "output_type": "stream",
     "text": [
      "Epoch 886/1000, Loss: 6581.120689655172\n"
     ]
    },
    {
     "data": {
      "application/vnd.jupyter.widget-view+json": {
       "model_id": "725d69cedac541b488d583236d139196",
       "version_major": 2,
       "version_minor": 0
      },
      "text/plain": [
       "Epoch 887/1000:   0%|          | 0/1 [00:00<?, ?it/s]"
      ]
     },
     "metadata": {},
     "output_type": "display_data"
    },
    {
     "name": "stdout",
     "output_type": "stream",
     "text": [
      "Epoch 887/1000, Loss: 6587.537378771552\n"
     ]
    },
    {
     "data": {
      "application/vnd.jupyter.widget-view+json": {
       "model_id": "4fcd0576ed364de29225acda1f19c895",
       "version_major": 2,
       "version_minor": 0
      },
      "text/plain": [
       "Epoch 888/1000:   0%|          | 0/1 [00:00<?, ?it/s]"
      ]
     },
     "metadata": {},
     "output_type": "display_data"
    },
    {
     "name": "stdout",
     "output_type": "stream",
     "text": [
      "Epoch 888/1000, Loss: 6570.462684368265\n"
     ]
    },
    {
     "data": {
      "application/vnd.jupyter.widget-view+json": {
       "model_id": "b8ff066f0f0b437e806f1b918faca0fb",
       "version_major": 2,
       "version_minor": 0
      },
      "text/plain": [
       "Epoch 889/1000:   0%|          | 0/1 [00:00<?, ?it/s]"
      ]
     },
     "metadata": {},
     "output_type": "display_data"
    },
    {
     "name": "stdout",
     "output_type": "stream",
     "text": [
      "Epoch 889/1000, Loss: 6575.7877870757\n"
     ]
    },
    {
     "data": {
      "application/vnd.jupyter.widget-view+json": {
       "model_id": "23cf7785a98e4214b64a4319c2958cad",
       "version_major": 2,
       "version_minor": 0
      },
      "text/plain": [
       "Epoch 890/1000:   0%|          | 0/1 [00:00<?, ?it/s]"
      ]
     },
     "metadata": {},
     "output_type": "display_data"
    },
    {
     "name": "stdout",
     "output_type": "stream",
     "text": [
      "Epoch 890/1000, Loss: 6590.346065126616\n"
     ]
    },
    {
     "data": {
      "application/vnd.jupyter.widget-view+json": {
       "model_id": "dbfc9384164647eba06a3bb4f606f064",
       "version_major": 2,
       "version_minor": 0
      },
      "text/plain": [
       "Epoch 891/1000:   0%|          | 0/1 [00:00<?, ?it/s]"
      ]
     },
     "metadata": {},
     "output_type": "display_data"
    },
    {
     "name": "stdout",
     "output_type": "stream",
     "text": [
      "Epoch 891/1000, Loss: 6585.901350350216\n"
     ]
    },
    {
     "data": {
      "application/vnd.jupyter.widget-view+json": {
       "model_id": "589c38de8bef43c9a85336166827a0c9",
       "version_major": 2,
       "version_minor": 0
      },
      "text/plain": [
       "Epoch 892/1000:   0%|          | 0/1 [00:00<?, ?it/s]"
      ]
     },
     "metadata": {},
     "output_type": "display_data"
    },
    {
     "name": "stdout",
     "output_type": "stream",
     "text": [
      "Epoch 892/1000, Loss: 6577.912505051186\n"
     ]
    },
    {
     "data": {
      "application/vnd.jupyter.widget-view+json": {
       "model_id": "15dde3978e9349e3af90a2275df0a6bb",
       "version_major": 2,
       "version_minor": 0
      },
      "text/plain": [
       "Epoch 893/1000:   0%|          | 0/1 [00:00<?, ?it/s]"
      ]
     },
     "metadata": {},
     "output_type": "display_data"
    },
    {
     "name": "stdout",
     "output_type": "stream",
     "text": [
      "Epoch 893/1000, Loss: 6591.016875168373\n"
     ]
    },
    {
     "data": {
      "application/vnd.jupyter.widget-view+json": {
       "model_id": "428d5384a3bb4a379f3a692567b1d4b0",
       "version_major": 2,
       "version_minor": 0
      },
      "text/plain": [
       "Epoch 894/1000:   0%|          | 0/1 [00:00<?, ?it/s]"
      ]
     },
     "metadata": {},
     "output_type": "display_data"
    },
    {
     "name": "stdout",
     "output_type": "stream",
     "text": [
      "Epoch 894/1000, Loss: 6569.341944201239\n"
     ]
    },
    {
     "data": {
      "application/vnd.jupyter.widget-view+json": {
       "model_id": "0eeb7b4741ba4f83a0dbdad33ecd2727",
       "version_major": 2,
       "version_minor": 0
      },
      "text/plain": [
       "Epoch 895/1000:   0%|          | 0/1 [00:00<?, ?it/s]"
      ]
     },
     "metadata": {},
     "output_type": "display_data"
    },
    {
     "name": "stdout",
     "output_type": "stream",
     "text": [
      "Epoch 895/1000, Loss: 6570.081454573006\n"
     ]
    },
    {
     "data": {
      "application/vnd.jupyter.widget-view+json": {
       "model_id": "efa3e5b7cf934f2f9e6bbd732b85d8dc",
       "version_major": 2,
       "version_minor": 0
      },
      "text/plain": [
       "Epoch 896/1000:   0%|          | 0/1 [00:00<?, ?it/s]"
      ]
     },
     "metadata": {},
     "output_type": "display_data"
    },
    {
     "name": "stdout",
     "output_type": "stream",
     "text": [
      "Epoch 896/1000, Loss: 6595.317399649784\n"
     ]
    },
    {
     "data": {
      "application/vnd.jupyter.widget-view+json": {
       "model_id": "49f3785773a2435dac917b79aa762f96",
       "version_major": 2,
       "version_minor": 0
      },
      "text/plain": [
       "Epoch 897/1000:   0%|          | 0/1 [00:00<?, ?it/s]"
      ]
     },
     "metadata": {},
     "output_type": "display_data"
    },
    {
     "name": "stdout",
     "output_type": "stream",
     "text": [
      "Epoch 897/1000, Loss: 6577.659891062769\n"
     ]
    },
    {
     "data": {
      "application/vnd.jupyter.widget-view+json": {
       "model_id": "11f7bed0918d42fe8e02dba65f627ca8",
       "version_major": 2,
       "version_minor": 0
      },
      "text/plain": [
       "Epoch 898/1000:   0%|          | 0/1 [00:00<?, ?it/s]"
      ]
     },
     "metadata": {},
     "output_type": "display_data"
    },
    {
     "name": "stdout",
     "output_type": "stream",
     "text": [
      "Epoch 898/1000, Loss: 6574.515380859375\n"
     ]
    },
    {
     "data": {
      "application/vnd.jupyter.widget-view+json": {
       "model_id": "6946e5d9346e450fa48c0745c875faa0",
       "version_major": 2,
       "version_minor": 0
      },
      "text/plain": [
       "Epoch 899/1000:   0%|          | 0/1 [00:00<?, ?it/s]"
      ]
     },
     "metadata": {},
     "output_type": "display_data"
    },
    {
     "name": "stdout",
     "output_type": "stream",
     "text": [
      "Epoch 899/1000, Loss: 6569.432781351024\n"
     ]
    },
    {
     "data": {
      "application/vnd.jupyter.widget-view+json": {
       "model_id": "6cd62f3d2742427cb7730bc21c6e3809",
       "version_major": 2,
       "version_minor": 0
      },
      "text/plain": [
       "Epoch 900/1000:   0%|          | 0/1 [00:00<?, ?it/s]"
      ]
     },
     "metadata": {},
     "output_type": "display_data"
    },
    {
     "name": "stdout",
     "output_type": "stream",
     "text": [
      "Epoch 900/1000, Loss: 6574.6544399919185\n"
     ]
    },
    {
     "data": {
      "application/vnd.jupyter.widget-view+json": {
       "model_id": "63a42489e8df478eb58261ccea6e47a5",
       "version_major": 2,
       "version_minor": 0
      },
      "text/plain": [
       "Epoch 901/1000:   0%|          | 0/1 [00:00<?, ?it/s]"
      ]
     },
     "metadata": {},
     "output_type": "display_data"
    },
    {
     "name": "stdout",
     "output_type": "stream",
     "text": [
      "Epoch 901/1000, Loss: 6570.838854559536\n"
     ]
    },
    {
     "data": {
      "application/vnd.jupyter.widget-view+json": {
       "model_id": "07c5245346fd4317bafc2b0b79b5736a",
       "version_major": 2,
       "version_minor": 0
      },
      "text/plain": [
       "Epoch 902/1000:   0%|          | 0/1 [00:00<?, ?it/s]"
      ]
     },
     "metadata": {},
     "output_type": "display_data"
    },
    {
     "name": "stdout",
     "output_type": "stream",
     "text": [
      "Epoch 902/1000, Loss: 6578.333327720905\n"
     ]
    },
    {
     "data": {
      "application/vnd.jupyter.widget-view+json": {
       "model_id": "20d4c67a1f9a46a2bd3cd830b66fe245",
       "version_major": 2,
       "version_minor": 0
      },
      "text/plain": [
       "Epoch 903/1000:   0%|          | 0/1 [00:00<?, ?it/s]"
      ]
     },
     "metadata": {},
     "output_type": "display_data"
    },
    {
     "name": "stdout",
     "output_type": "stream",
     "text": [
      "Epoch 903/1000, Loss: 6577.6646518049565\n"
     ]
    },
    {
     "data": {
      "application/vnd.jupyter.widget-view+json": {
       "model_id": "d25c385fbf9145b1b2f3bed5ef7db02d",
       "version_major": 2,
       "version_minor": 0
      },
      "text/plain": [
       "Epoch 904/1000:   0%|          | 0/1 [00:00<?, ?it/s]"
      ]
     },
     "metadata": {},
     "output_type": "display_data"
    },
    {
     "name": "stdout",
     "output_type": "stream",
     "text": [
      "Epoch 904/1000, Loss: 6584.329850821659\n"
     ]
    },
    {
     "data": {
      "application/vnd.jupyter.widget-view+json": {
       "model_id": "48e17cb76bea4246a6fdd34a5c3f316d",
       "version_major": 2,
       "version_minor": 0
      },
      "text/plain": [
       "Epoch 905/1000:   0%|          | 0/1 [00:00<?, ?it/s]"
      ]
     },
     "metadata": {},
     "output_type": "display_data"
    },
    {
     "name": "stdout",
     "output_type": "stream",
     "text": [
      "Epoch 905/1000, Loss: 6562.047716864224\n"
     ]
    },
    {
     "data": {
      "application/vnd.jupyter.widget-view+json": {
       "model_id": "d10c62330ce54922be6fcf227a7873b3",
       "version_major": 2,
       "version_minor": 0
      },
      "text/plain": [
       "Epoch 906/1000:   0%|          | 0/1 [00:00<?, ?it/s]"
      ]
     },
     "metadata": {},
     "output_type": "display_data"
    },
    {
     "name": "stdout",
     "output_type": "stream",
     "text": [
      "Epoch 906/1000, Loss: 6579.276097790948\n"
     ]
    },
    {
     "data": {
      "application/vnd.jupyter.widget-view+json": {
       "model_id": "c152a98e25694cf1b2558b3a94ab301f",
       "version_major": 2,
       "version_minor": 0
      },
      "text/plain": [
       "Epoch 907/1000:   0%|          | 0/1 [00:00<?, ?it/s]"
      ]
     },
     "metadata": {},
     "output_type": "display_data"
    },
    {
     "name": "stdout",
     "output_type": "stream",
     "text": [
      "Epoch 907/1000, Loss: 6558.635809536638\n"
     ]
    },
    {
     "data": {
      "application/vnd.jupyter.widget-view+json": {
       "model_id": "142ccdfe47c5464f9546dd2276d4bb66",
       "version_major": 2,
       "version_minor": 0
      },
      "text/plain": [
       "Epoch 908/1000:   0%|          | 0/1 [00:00<?, ?it/s]"
      ]
     },
     "metadata": {},
     "output_type": "display_data"
    },
    {
     "name": "stdout",
     "output_type": "stream",
     "text": [
      "Epoch 908/1000, Loss: 6570.017026703933\n"
     ]
    },
    {
     "data": {
      "application/vnd.jupyter.widget-view+json": {
       "model_id": "3135128a4cfd43cb992127c17ef0de8e",
       "version_major": 2,
       "version_minor": 0
      },
      "text/plain": [
       "Epoch 909/1000:   0%|          | 0/1 [00:00<?, ?it/s]"
      ]
     },
     "metadata": {},
     "output_type": "display_data"
    },
    {
     "name": "stdout",
     "output_type": "stream",
     "text": [
      "Epoch 909/1000, Loss: 6561.257682011045\n"
     ]
    },
    {
     "data": {
      "application/vnd.jupyter.widget-view+json": {
       "model_id": "134f3a26902c4db5a2fdc5838cf72911",
       "version_major": 2,
       "version_minor": 0
      },
      "text/plain": [
       "Epoch 910/1000:   0%|          | 0/1 [00:00<?, ?it/s]"
      ]
     },
     "metadata": {},
     "output_type": "display_data"
    },
    {
     "name": "stdout",
     "output_type": "stream",
     "text": [
      "Epoch 910/1000, Loss: 6566.177974306303\n"
     ]
    },
    {
     "data": {
      "application/vnd.jupyter.widget-view+json": {
       "model_id": "98f631e12542479d82242fe1a929b6d4",
       "version_major": 2,
       "version_minor": 0
      },
      "text/plain": [
       "Epoch 911/1000:   0%|          | 0/1 [00:00<?, ?it/s]"
      ]
     },
     "metadata": {},
     "output_type": "display_data"
    },
    {
     "name": "stdout",
     "output_type": "stream",
     "text": [
      "Epoch 911/1000, Loss: 6577.462330785291\n"
     ]
    },
    {
     "data": {
      "application/vnd.jupyter.widget-view+json": {
       "model_id": "86c8537d19ef480e91beecd432df5527",
       "version_major": 2,
       "version_minor": 0
      },
      "text/plain": [
       "Epoch 912/1000:   0%|          | 0/1 [00:00<?, ?it/s]"
      ]
     },
     "metadata": {},
     "output_type": "display_data"
    },
    {
     "name": "stdout",
     "output_type": "stream",
     "text": [
      "Epoch 912/1000, Loss: 6563.82636129445\n"
     ]
    },
    {
     "data": {
      "application/vnd.jupyter.widget-view+json": {
       "model_id": "3c3247b8364b4038bdd3e6bd295dad94",
       "version_major": 2,
       "version_minor": 0
      },
      "text/plain": [
       "Epoch 913/1000:   0%|          | 0/1 [00:00<?, ?it/s]"
      ]
     },
     "metadata": {},
     "output_type": "display_data"
    },
    {
     "name": "stdout",
     "output_type": "stream",
     "text": [
      "Epoch 913/1000, Loss: 6578.491711846714\n"
     ]
    },
    {
     "data": {
      "application/vnd.jupyter.widget-view+json": {
       "model_id": "d2930b5964d34164adb4465e76f2a549",
       "version_major": 2,
       "version_minor": 0
      },
      "text/plain": [
       "Epoch 914/1000:   0%|          | 0/1 [00:00<?, ?it/s]"
      ]
     },
     "metadata": {},
     "output_type": "display_data"
    },
    {
     "name": "stdout",
     "output_type": "stream",
     "text": [
      "Epoch 914/1000, Loss: 6563.173844962284\n"
     ]
    },
    {
     "data": {
      "application/vnd.jupyter.widget-view+json": {
       "model_id": "3bd17a09912b4ce6aec4575c25706fdb",
       "version_major": 2,
       "version_minor": 0
      },
      "text/plain": [
       "Epoch 915/1000:   0%|          | 0/1 [00:00<?, ?it/s]"
      ]
     },
     "metadata": {},
     "output_type": "display_data"
    },
    {
     "name": "stdout",
     "output_type": "stream",
     "text": [
      "Epoch 915/1000, Loss: 6563.43671285695\n"
     ]
    },
    {
     "data": {
      "application/vnd.jupyter.widget-view+json": {
       "model_id": "f9c74978aadd4e7493ec524fb92f73f2",
       "version_major": 2,
       "version_minor": 0
      },
      "text/plain": [
       "Epoch 916/1000:   0%|          | 0/1 [00:00<?, ?it/s]"
      ]
     },
     "metadata": {},
     "output_type": "display_data"
    },
    {
     "name": "stdout",
     "output_type": "stream",
     "text": [
      "Epoch 916/1000, Loss: 6550.715167867726\n"
     ]
    },
    {
     "data": {
      "application/vnd.jupyter.widget-view+json": {
       "model_id": "89754f9f654f4c02b2cc8791c9a325fb",
       "version_major": 2,
       "version_minor": 0
      },
      "text/plain": [
       "Epoch 917/1000:   0%|          | 0/1 [00:00<?, ?it/s]"
      ]
     },
     "metadata": {},
     "output_type": "display_data"
    },
    {
     "name": "stdout",
     "output_type": "stream",
     "text": [
      "Epoch 917/1000, Loss: 6556.99530660695\n"
     ]
    },
    {
     "data": {
      "application/vnd.jupyter.widget-view+json": {
       "model_id": "ca090ea14fae46b497f79029a96d0cb2",
       "version_major": 2,
       "version_minor": 0
      },
      "text/plain": [
       "Epoch 918/1000:   0%|          | 0/1 [00:00<?, ?it/s]"
      ]
     },
     "metadata": {},
     "output_type": "display_data"
    },
    {
     "name": "stdout",
     "output_type": "stream",
     "text": [
      "Epoch 918/1000, Loss: 6561.990705818966\n"
     ]
    },
    {
     "data": {
      "application/vnd.jupyter.widget-view+json": {
       "model_id": "4296f9f7972242c081b6b4a68d27d3f9",
       "version_major": 2,
       "version_minor": 0
      },
      "text/plain": [
       "Epoch 919/1000:   0%|          | 0/1 [00:00<?, ?it/s]"
      ]
     },
     "metadata": {},
     "output_type": "display_data"
    },
    {
     "name": "stdout",
     "output_type": "stream",
     "text": [
      "Epoch 919/1000, Loss: 6545.6676025390625\n"
     ]
    },
    {
     "data": {
      "application/vnd.jupyter.widget-view+json": {
       "model_id": "e0fc4ffbd7254bca9105a6245097e3ee",
       "version_major": 2,
       "version_minor": 0
      },
      "text/plain": [
       "Epoch 920/1000:   0%|          | 0/1 [00:00<?, ?it/s]"
      ]
     },
     "metadata": {},
     "output_type": "display_data"
    },
    {
     "name": "stdout",
     "output_type": "stream",
     "text": [
      "Epoch 920/1000, Loss: 6555.222546807651\n"
     ]
    },
    {
     "data": {
      "application/vnd.jupyter.widget-view+json": {
       "model_id": "4ffa8440ad834e3583aa3d5d339c3b2a",
       "version_major": 2,
       "version_minor": 0
      },
      "text/plain": [
       "Epoch 921/1000:   0%|          | 0/1 [00:00<?, ?it/s]"
      ]
     },
     "metadata": {},
     "output_type": "display_data"
    },
    {
     "name": "stdout",
     "output_type": "stream",
     "text": [
      "Epoch 921/1000, Loss: 6556.974630421606\n"
     ]
    },
    {
     "data": {
      "application/vnd.jupyter.widget-view+json": {
       "model_id": "933a531b82004398ac88193500a3a969",
       "version_major": 2,
       "version_minor": 0
      },
      "text/plain": [
       "Epoch 922/1000:   0%|          | 0/1 [00:00<?, ?it/s]"
      ]
     },
     "metadata": {},
     "output_type": "display_data"
    },
    {
     "name": "stdout",
     "output_type": "stream",
     "text": [
      "Epoch 922/1000, Loss: 6555.71642224542\n"
     ]
    },
    {
     "data": {
      "application/vnd.jupyter.widget-view+json": {
       "model_id": "5e1e9ea16c584da3a7b04c4ea67d5ae1",
       "version_major": 2,
       "version_minor": 0
      },
      "text/plain": [
       "Epoch 923/1000:   0%|          | 0/1 [00:00<?, ?it/s]"
      ]
     },
     "metadata": {},
     "output_type": "display_data"
    },
    {
     "name": "stdout",
     "output_type": "stream",
     "text": [
      "Epoch 923/1000, Loss: 6540.346010405442\n"
     ]
    },
    {
     "data": {
      "application/vnd.jupyter.widget-view+json": {
       "model_id": "d82cd08c076b4ad8b6d3ca90b1c31247",
       "version_major": 2,
       "version_minor": 0
      },
      "text/plain": [
       "Epoch 924/1000:   0%|          | 0/1 [00:00<?, ?it/s]"
      ]
     },
     "metadata": {},
     "output_type": "display_data"
    },
    {
     "name": "stdout",
     "output_type": "stream",
     "text": [
      "Epoch 924/1000, Loss: 6559.568233095366\n"
     ]
    },
    {
     "data": {
      "application/vnd.jupyter.widget-view+json": {
       "model_id": "1a317d18357e4db2b92e81712821bce9",
       "version_major": 2,
       "version_minor": 0
      },
      "text/plain": [
       "Epoch 925/1000:   0%|          | 0/1 [00:00<?, ?it/s]"
      ]
     },
     "metadata": {},
     "output_type": "display_data"
    },
    {
     "name": "stdout",
     "output_type": "stream",
     "text": [
      "Epoch 925/1000, Loss: 6552.133805899784\n"
     ]
    },
    {
     "data": {
      "application/vnd.jupyter.widget-view+json": {
       "model_id": "439ba19682a24c979386ba1ed3aa9bc9",
       "version_major": 2,
       "version_minor": 0
      },
      "text/plain": [
       "Epoch 926/1000:   0%|          | 0/1 [00:00<?, ?it/s]"
      ]
     },
     "metadata": {},
     "output_type": "display_data"
    },
    {
     "name": "stdout",
     "output_type": "stream",
     "text": [
      "Epoch 926/1000, Loss: 6550.0485250538795\n"
     ]
    },
    {
     "data": {
      "application/vnd.jupyter.widget-view+json": {
       "model_id": "33a8e7dc15f849fcb8f430405da9d46c",
       "version_major": 2,
       "version_minor": 0
      },
      "text/plain": [
       "Epoch 927/1000:   0%|          | 0/1 [00:00<?, ?it/s]"
      ]
     },
     "metadata": {},
     "output_type": "display_data"
    },
    {
     "name": "stdout",
     "output_type": "stream",
     "text": [
      "Epoch 927/1000, Loss: 6557.485743029364\n"
     ]
    },
    {
     "data": {
      "application/vnd.jupyter.widget-view+json": {
       "model_id": "ac6a8753a2034d7f97717f14a0de0018",
       "version_major": 2,
       "version_minor": 0
      },
      "text/plain": [
       "Epoch 928/1000:   0%|          | 0/1 [00:00<?, ?it/s]"
      ]
     },
     "metadata": {},
     "output_type": "display_data"
    },
    {
     "name": "stdout",
     "output_type": "stream",
     "text": [
      "Epoch 928/1000, Loss: 6551.984783304149\n"
     ]
    },
    {
     "data": {
      "application/vnd.jupyter.widget-view+json": {
       "model_id": "01f3ce0116e6426995b33a3016b13601",
       "version_major": 2,
       "version_minor": 0
      },
      "text/plain": [
       "Epoch 929/1000:   0%|          | 0/1 [00:00<?, ?it/s]"
      ]
     },
     "metadata": {},
     "output_type": "display_data"
    },
    {
     "name": "stdout",
     "output_type": "stream",
     "text": [
      "Epoch 929/1000, Loss: 6542.877963362069\n"
     ]
    },
    {
     "data": {
      "application/vnd.jupyter.widget-view+json": {
       "model_id": "0b1cc2a74400419c8bd071d9ee9e9a53",
       "version_major": 2,
       "version_minor": 0
      },
      "text/plain": [
       "Epoch 930/1000:   0%|          | 0/1 [00:00<?, ?it/s]"
      ]
     },
     "metadata": {},
     "output_type": "display_data"
    },
    {
     "name": "stdout",
     "output_type": "stream",
     "text": [
      "Epoch 930/1000, Loss: 6554.497019800647\n"
     ]
    },
    {
     "data": {
      "application/vnd.jupyter.widget-view+json": {
       "model_id": "e18b9ea6c4d94b449b71fe68e4dadd5f",
       "version_major": 2,
       "version_minor": 0
      },
      "text/plain": [
       "Epoch 931/1000:   0%|          | 0/1 [00:00<?, ?it/s]"
      ]
     },
     "metadata": {},
     "output_type": "display_data"
    },
    {
     "name": "stdout",
     "output_type": "stream",
     "text": [
      "Epoch 931/1000, Loss: 6552.449374494881\n"
     ]
    },
    {
     "data": {
      "application/vnd.jupyter.widget-view+json": {
       "model_id": "7ed0ad9959c04f2a8e39fda915711ac7",
       "version_major": 2,
       "version_minor": 0
      },
      "text/plain": [
       "Epoch 932/1000:   0%|          | 0/1 [00:00<?, ?it/s]"
      ]
     },
     "metadata": {},
     "output_type": "display_data"
    },
    {
     "name": "stdout",
     "output_type": "stream",
     "text": [
      "Epoch 932/1000, Loss: 6532.437504209322\n"
     ]
    },
    {
     "data": {
      "application/vnd.jupyter.widget-view+json": {
       "model_id": "a7cb71624a3747ea925cd179ba301980",
       "version_major": 2,
       "version_minor": 0
      },
      "text/plain": [
       "Epoch 933/1000:   0%|          | 0/1 [00:00<?, ?it/s]"
      ]
     },
     "metadata": {},
     "output_type": "display_data"
    },
    {
     "name": "stdout",
     "output_type": "stream",
     "text": [
      "Epoch 933/1000, Loss: 6552.098864325161\n"
     ]
    },
    {
     "data": {
      "application/vnd.jupyter.widget-view+json": {
       "model_id": "e568e32e03234b2d927330038e4aec2b",
       "version_major": 2,
       "version_minor": 0
      },
      "text/plain": [
       "Epoch 934/1000:   0%|          | 0/1 [00:00<?, ?it/s]"
      ]
     },
     "metadata": {},
     "output_type": "display_data"
    },
    {
     "name": "stdout",
     "output_type": "stream",
     "text": [
      "Epoch 934/1000, Loss: 6546.3285543507545\n"
     ]
    },
    {
     "data": {
      "application/vnd.jupyter.widget-view+json": {
       "model_id": "0cd41b172331495e89d277172b044fc4",
       "version_major": 2,
       "version_minor": 0
      },
      "text/plain": [
       "Epoch 935/1000:   0%|          | 0/1 [00:00<?, ?it/s]"
      ]
     },
     "metadata": {},
     "output_type": "display_data"
    },
    {
     "name": "stdout",
     "output_type": "stream",
     "text": [
      "Epoch 935/1000, Loss: 6541.939053239494\n"
     ]
    },
    {
     "data": {
      "application/vnd.jupyter.widget-view+json": {
       "model_id": "3ee7159265d04d76be2619885f218090",
       "version_major": 2,
       "version_minor": 0
      },
      "text/plain": [
       "Epoch 936/1000:   0%|          | 0/1 [00:00<?, ?it/s]"
      ]
     },
     "metadata": {},
     "output_type": "display_data"
    },
    {
     "name": "stdout",
     "output_type": "stream",
     "text": [
      "Epoch 936/1000, Loss: 6556.087654903017\n"
     ]
    },
    {
     "data": {
      "application/vnd.jupyter.widget-view+json": {
       "model_id": "cceef5824add4e9380bd0eacbf467930",
       "version_major": 2,
       "version_minor": 0
      },
      "text/plain": [
       "Epoch 937/1000:   0%|          | 0/1 [00:00<?, ?it/s]"
      ]
     },
     "metadata": {},
     "output_type": "display_data"
    },
    {
     "name": "stdout",
     "output_type": "stream",
     "text": [
      "Epoch 937/1000, Loss: 6558.883629108297\n"
     ]
    },
    {
     "data": {
      "application/vnd.jupyter.widget-view+json": {
       "model_id": "8484c24c91fd4561a7bafc17b459c8ef",
       "version_major": 2,
       "version_minor": 0
      },
      "text/plain": [
       "Epoch 938/1000:   0%|          | 0/1 [00:00<?, ?it/s]"
      ]
     },
     "metadata": {},
     "output_type": "display_data"
    },
    {
     "name": "stdout",
     "output_type": "stream",
     "text": [
      "Epoch 938/1000, Loss: 6547.597967739763\n"
     ]
    },
    {
     "data": {
      "application/vnd.jupyter.widget-view+json": {
       "model_id": "258cfcb7ec1049dabefbed27e6b25af3",
       "version_major": 2,
       "version_minor": 0
      },
      "text/plain": [
       "Epoch 939/1000:   0%|          | 0/1 [00:00<?, ?it/s]"
      ]
     },
     "metadata": {},
     "output_type": "display_data"
    },
    {
     "name": "stdout",
     "output_type": "stream",
     "text": [
      "Epoch 939/1000, Loss: 6548.5753805226295\n"
     ]
    },
    {
     "data": {
      "application/vnd.jupyter.widget-view+json": {
       "model_id": "7f8cddebcd694186939e21909121d09c",
       "version_major": 2,
       "version_minor": 0
      },
      "text/plain": [
       "Epoch 940/1000:   0%|          | 0/1 [00:00<?, ?it/s]"
      ]
     },
     "metadata": {},
     "output_type": "display_data"
    },
    {
     "name": "stdout",
     "output_type": "stream",
     "text": [
      "Epoch 940/1000, Loss: 6550.297700026939\n"
     ]
    },
    {
     "data": {
      "application/vnd.jupyter.widget-view+json": {
       "model_id": "e74fae1708b842acb9ec169bc20d79aa",
       "version_major": 2,
       "version_minor": 0
      },
      "text/plain": [
       "Epoch 941/1000:   0%|          | 0/1 [00:00<?, ?it/s]"
      ]
     },
     "metadata": {},
     "output_type": "display_data"
    },
    {
     "name": "stdout",
     "output_type": "stream",
     "text": [
      "Epoch 941/1000, Loss: 6553.2545839507\n"
     ]
    },
    {
     "data": {
      "application/vnd.jupyter.widget-view+json": {
       "model_id": "2350bf3dd7de4965ba17fd678e0f0d51",
       "version_major": 2,
       "version_minor": 0
      },
      "text/plain": [
       "Epoch 942/1000:   0%|          | 0/1 [00:00<?, ?it/s]"
      ]
     },
     "metadata": {},
     "output_type": "display_data"
    },
    {
     "name": "stdout",
     "output_type": "stream",
     "text": [
      "Epoch 942/1000, Loss: 6552.402335331358\n"
     ]
    },
    {
     "data": {
      "application/vnd.jupyter.widget-view+json": {
       "model_id": "38def4f8b29540a0a607f6c9b37a2a1d",
       "version_major": 2,
       "version_minor": 0
      },
      "text/plain": [
       "Epoch 943/1000:   0%|          | 0/1 [00:00<?, ?it/s]"
      ]
     },
     "metadata": {},
     "output_type": "display_data"
    },
    {
     "name": "stdout",
     "output_type": "stream",
     "text": [
      "Epoch 943/1000, Loss: 6544.119788860453\n"
     ]
    },
    {
     "data": {
      "application/vnd.jupyter.widget-view+json": {
       "model_id": "79b39f7470aa49748d4bc0b973bed096",
       "version_major": 2,
       "version_minor": 0
      },
      "text/plain": [
       "Epoch 944/1000:   0%|          | 0/1 [00:00<?, ?it/s]"
      ]
     },
     "metadata": {},
     "output_type": "display_data"
    },
    {
     "name": "stdout",
     "output_type": "stream",
     "text": [
      "Epoch 944/1000, Loss: 6538.605077283136\n"
     ]
    },
    {
     "data": {
      "application/vnd.jupyter.widget-view+json": {
       "model_id": "3ffc379756344d46944e97a9b8dfda8f",
       "version_major": 2,
       "version_minor": 0
      },
      "text/plain": [
       "Epoch 945/1000:   0%|          | 0/1 [00:00<?, ?it/s]"
      ]
     },
     "metadata": {},
     "output_type": "display_data"
    },
    {
     "name": "stdout",
     "output_type": "stream",
     "text": [
      "Epoch 945/1000, Loss: 6532.560285897091\n"
     ]
    },
    {
     "data": {
      "application/vnd.jupyter.widget-view+json": {
       "model_id": "e9efb099b1494f6f9572f3bd6b398907",
       "version_major": 2,
       "version_minor": 0
      },
      "text/plain": [
       "Epoch 946/1000:   0%|          | 0/1 [00:00<?, ?it/s]"
      ]
     },
     "metadata": {},
     "output_type": "display_data"
    },
    {
     "name": "stdout",
     "output_type": "stream",
     "text": [
      "Epoch 946/1000, Loss: 6532.69918086611\n"
     ]
    },
    {
     "data": {
      "application/vnd.jupyter.widget-view+json": {
       "model_id": "29eba7a3622e4d649161112609187b61",
       "version_major": 2,
       "version_minor": 0
      },
      "text/plain": [
       "Epoch 947/1000:   0%|          | 0/1 [00:00<?, ?it/s]"
      ]
     },
     "metadata": {},
     "output_type": "display_data"
    },
    {
     "name": "stdout",
     "output_type": "stream",
     "text": [
      "Epoch 947/1000, Loss: 6541.643108499461\n"
     ]
    },
    {
     "data": {
      "application/vnd.jupyter.widget-view+json": {
       "model_id": "f128afbbe89e473cbbb01fe7cea6759e",
       "version_major": 2,
       "version_minor": 0
      },
      "text/plain": [
       "Epoch 948/1000:   0%|          | 0/1 [00:00<?, ?it/s]"
      ]
     },
     "metadata": {},
     "output_type": "display_data"
    },
    {
     "name": "stdout",
     "output_type": "stream",
     "text": [
      "Epoch 948/1000, Loss: 6537.3045864762935\n"
     ]
    },
    {
     "data": {
      "application/vnd.jupyter.widget-view+json": {
       "model_id": "74b4e1fac5b34e3e97cabaa9831689cc",
       "version_major": 2,
       "version_minor": 0
      },
      "text/plain": [
       "Epoch 949/1000:   0%|          | 0/1 [00:00<?, ?it/s]"
      ]
     },
     "metadata": {},
     "output_type": "display_data"
    },
    {
     "name": "stdout",
     "output_type": "stream",
     "text": [
      "Epoch 949/1000, Loss: 6545.372470198006\n"
     ]
    },
    {
     "data": {
      "application/vnd.jupyter.widget-view+json": {
       "model_id": "6f79893567a646528518932e3d8a2eb1",
       "version_major": 2,
       "version_minor": 0
      },
      "text/plain": [
       "Epoch 950/1000:   0%|          | 0/1 [00:00<?, ?it/s]"
      ]
     },
     "metadata": {},
     "output_type": "display_data"
    },
    {
     "name": "stdout",
     "output_type": "stream",
     "text": [
      "Epoch 950/1000, Loss: 6557.516445817619\n"
     ]
    },
    {
     "data": {
      "application/vnd.jupyter.widget-view+json": {
       "model_id": "6f10af35a93242faa4237f972b4c9769",
       "version_major": 2,
       "version_minor": 0
      },
      "text/plain": [
       "Epoch 951/1000:   0%|          | 0/1 [00:00<?, ?it/s]"
      ]
     },
     "metadata": {},
     "output_type": "display_data"
    },
    {
     "name": "stdout",
     "output_type": "stream",
     "text": [
      "Epoch 951/1000, Loss: 6541.120870655981\n"
     ]
    },
    {
     "data": {
      "application/vnd.jupyter.widget-view+json": {
       "model_id": "1d2a366bfa0b4ff387569fbd6b0b16f8",
       "version_major": 2,
       "version_minor": 0
      },
      "text/plain": [
       "Epoch 952/1000:   0%|          | 0/1 [00:00<?, ?it/s]"
      ]
     },
     "metadata": {},
     "output_type": "display_data"
    },
    {
     "name": "stdout",
     "output_type": "stream",
     "text": [
      "Epoch 952/1000, Loss: 6539.398307011045\n"
     ]
    },
    {
     "data": {
      "application/vnd.jupyter.widget-view+json": {
       "model_id": "5727f88e25a94f6390b0534af9b76b3c",
       "version_major": 2,
       "version_minor": 0
      },
      "text/plain": [
       "Epoch 953/1000:   0%|          | 0/1 [00:00<?, ?it/s]"
      ]
     },
     "metadata": {},
     "output_type": "display_data"
    },
    {
     "name": "stdout",
     "output_type": "stream",
     "text": [
      "Epoch 953/1000, Loss: 6541.444660055226\n"
     ]
    },
    {
     "data": {
      "application/vnd.jupyter.widget-view+json": {
       "model_id": "c95459d044ef4a149e919fe4d8eb9702",
       "version_major": 2,
       "version_minor": 0
      },
      "text/plain": [
       "Epoch 954/1000:   0%|          | 0/1 [00:00<?, ?it/s]"
      ]
     },
     "metadata": {},
     "output_type": "display_data"
    },
    {
     "name": "stdout",
     "output_type": "stream",
     "text": [
      "Epoch 954/1000, Loss: 6533.896981074892\n"
     ]
    },
    {
     "data": {
      "application/vnd.jupyter.widget-view+json": {
       "model_id": "d7acbe642ded4d0d9aa57a98f55a0e19",
       "version_major": 2,
       "version_minor": 0
      },
      "text/plain": [
       "Epoch 955/1000:   0%|          | 0/1 [00:00<?, ?it/s]"
      ]
     },
     "metadata": {},
     "output_type": "display_data"
    },
    {
     "name": "stdout",
     "output_type": "stream",
     "text": [
      "Epoch 955/1000, Loss: 6539.69441170528\n"
     ]
    },
    {
     "data": {
      "application/vnd.jupyter.widget-view+json": {
       "model_id": "7c4ba90906d24eb8a48c2d766e6b5732",
       "version_major": 2,
       "version_minor": 0
      },
      "text/plain": [
       "Epoch 956/1000:   0%|          | 0/1 [00:00<?, ?it/s]"
      ]
     },
     "metadata": {},
     "output_type": "display_data"
    },
    {
     "name": "stdout",
     "output_type": "stream",
     "text": [
      "Epoch 956/1000, Loss: 6544.654780946928\n"
     ]
    },
    {
     "data": {
      "application/vnd.jupyter.widget-view+json": {
       "model_id": "de0deb18455d433a90e2caf32e615f7d",
       "version_major": 2,
       "version_minor": 0
      },
      "text/plain": [
       "Epoch 957/1000:   0%|          | 0/1 [00:00<?, ?it/s]"
      ]
     },
     "metadata": {},
     "output_type": "display_data"
    },
    {
     "name": "stdout",
     "output_type": "stream",
     "text": [
      "Epoch 957/1000, Loss: 6532.059498754041\n"
     ]
    },
    {
     "data": {
      "application/vnd.jupyter.widget-view+json": {
       "model_id": "edb603f53c004295ac735322ff262d2f",
       "version_major": 2,
       "version_minor": 0
      },
      "text/plain": [
       "Epoch 958/1000:   0%|          | 0/1 [00:00<?, ?it/s]"
      ]
     },
     "metadata": {},
     "output_type": "display_data"
    },
    {
     "name": "stdout",
     "output_type": "stream",
     "text": [
      "Epoch 958/1000, Loss: 6537.075439453125\n"
     ]
    },
    {
     "data": {
      "application/vnd.jupyter.widget-view+json": {
       "model_id": "f61703be8e0a4a69a4bef833da78d545",
       "version_major": 2,
       "version_minor": 0
      },
      "text/plain": [
       "Epoch 959/1000:   0%|          | 0/1 [00:00<?, ?it/s]"
      ]
     },
     "metadata": {},
     "output_type": "display_data"
    },
    {
     "name": "stdout",
     "output_type": "stream",
     "text": [
      "Epoch 959/1000, Loss: 6536.926244275323\n"
     ]
    },
    {
     "data": {
      "application/vnd.jupyter.widget-view+json": {
       "model_id": "3a27acbf298e4481916f72f7ec6a11c9",
       "version_major": 2,
       "version_minor": 0
      },
      "text/plain": [
       "Epoch 960/1000:   0%|          | 0/1 [00:00<?, ?it/s]"
      ]
     },
     "metadata": {},
     "output_type": "display_data"
    },
    {
     "name": "stdout",
     "output_type": "stream",
     "text": [
      "Epoch 960/1000, Loss: 6527.625694537985\n"
     ]
    },
    {
     "data": {
      "application/vnd.jupyter.widget-view+json": {
       "model_id": "fe220968be4c41928bbcd7e3381d9669",
       "version_major": 2,
       "version_minor": 0
      },
      "text/plain": [
       "Epoch 961/1000:   0%|          | 0/1 [00:00<?, ?it/s]"
      ]
     },
     "metadata": {},
     "output_type": "display_data"
    },
    {
     "name": "stdout",
     "output_type": "stream",
     "text": [
      "Epoch 961/1000, Loss: 6542.707527949892\n"
     ]
    },
    {
     "data": {
      "application/vnd.jupyter.widget-view+json": {
       "model_id": "92b7e003c0924a8093866bdf153a34fe",
       "version_major": 2,
       "version_minor": 0
      },
      "text/plain": [
       "Epoch 962/1000:   0%|          | 0/1 [00:00<?, ?it/s]"
      ]
     },
     "metadata": {},
     "output_type": "display_data"
    },
    {
     "name": "stdout",
     "output_type": "stream",
     "text": [
      "Epoch 962/1000, Loss: 6531.198839911099\n"
     ]
    },
    {
     "data": {
      "application/vnd.jupyter.widget-view+json": {
       "model_id": "64451e22280847c0a10b23796fcfcd1c",
       "version_major": 2,
       "version_minor": 0
      },
      "text/plain": [
       "Epoch 963/1000:   0%|          | 0/1 [00:00<?, ?it/s]"
      ]
     },
     "metadata": {},
     "output_type": "display_data"
    },
    {
     "name": "stdout",
     "output_type": "stream",
     "text": [
      "Epoch 963/1000, Loss: 6527.745222420528\n"
     ]
    },
    {
     "data": {
      "application/vnd.jupyter.widget-view+json": {
       "model_id": "55fe3fee8ad04d738066496bd11c79ea",
       "version_major": 2,
       "version_minor": 0
      },
      "text/plain": [
       "Epoch 964/1000:   0%|          | 0/1 [00:00<?, ?it/s]"
      ]
     },
     "metadata": {},
     "output_type": "display_data"
    },
    {
     "name": "stdout",
     "output_type": "stream",
     "text": [
      "Epoch 964/1000, Loss: 6542.8230990705815\n"
     ]
    },
    {
     "data": {
      "application/vnd.jupyter.widget-view+json": {
       "model_id": "066b0e4f562942419a6bfc2fda68270c",
       "version_major": 2,
       "version_minor": 0
      },
      "text/plain": [
       "Epoch 965/1000:   0%|          | 0/1 [00:00<?, ?it/s]"
      ]
     },
     "metadata": {},
     "output_type": "display_data"
    },
    {
     "name": "stdout",
     "output_type": "stream",
     "text": [
      "Epoch 965/1000, Loss: 6528.2467251481685\n"
     ]
    },
    {
     "data": {
      "application/vnd.jupyter.widget-view+json": {
       "model_id": "f039e4e6e53a401cb579542a14b9fc15",
       "version_major": 2,
       "version_minor": 0
      },
      "text/plain": [
       "Epoch 966/1000:   0%|          | 0/1 [00:00<?, ?it/s]"
      ]
     },
     "metadata": {},
     "output_type": "display_data"
    },
    {
     "name": "stdout",
     "output_type": "stream",
     "text": [
      "Epoch 966/1000, Loss: 6552.523917362608\n"
     ]
    },
    {
     "data": {
      "application/vnd.jupyter.widget-view+json": {
       "model_id": "d17a0f527e744ea699339ced35e73ebf",
       "version_major": 2,
       "version_minor": 0
      },
      "text/plain": [
       "Epoch 967/1000:   0%|          | 0/1 [00:00<?, ?it/s]"
      ]
     },
     "metadata": {},
     "output_type": "display_data"
    },
    {
     "name": "stdout",
     "output_type": "stream",
     "text": [
      "Epoch 967/1000, Loss: 6534.593779465248\n"
     ]
    },
    {
     "data": {
      "application/vnd.jupyter.widget-view+json": {
       "model_id": "21ecdefa85e7484db11a509953d023a8",
       "version_major": 2,
       "version_minor": 0
      },
      "text/plain": [
       "Epoch 968/1000:   0%|          | 0/1 [00:00<?, ?it/s]"
      ]
     },
     "metadata": {},
     "output_type": "display_data"
    },
    {
     "name": "stdout",
     "output_type": "stream",
     "text": [
      "Epoch 968/1000, Loss: 6535.20642931708\n"
     ]
    },
    {
     "data": {
      "application/vnd.jupyter.widget-view+json": {
       "model_id": "b10388c00dda4f5ebf962183a1486ecc",
       "version_major": 2,
       "version_minor": 0
      },
      "text/plain": [
       "Epoch 969/1000:   0%|          | 0/1 [00:00<?, ?it/s]"
      ]
     },
     "metadata": {},
     "output_type": "display_data"
    },
    {
     "name": "stdout",
     "output_type": "stream",
     "text": [
      "Epoch 969/1000, Loss: 6541.727677970097\n"
     ]
    },
    {
     "data": {
      "application/vnd.jupyter.widget-view+json": {
       "model_id": "2d90ee38df9747878d7c8b5da78ced85",
       "version_major": 2,
       "version_minor": 0
      },
      "text/plain": [
       "Epoch 970/1000:   0%|          | 0/1 [00:00<?, ?it/s]"
      ]
     },
     "metadata": {},
     "output_type": "display_data"
    },
    {
     "name": "stdout",
     "output_type": "stream",
     "text": [
      "Epoch 970/1000, Loss: 6539.708487675108\n"
     ]
    },
    {
     "data": {
      "application/vnd.jupyter.widget-view+json": {
       "model_id": "d22a47c5440a49d488d95dd8b70815e7",
       "version_major": 2,
       "version_minor": 0
      },
      "text/plain": [
       "Epoch 971/1000:   0%|          | 0/1 [00:00<?, ?it/s]"
      ]
     },
     "metadata": {},
     "output_type": "display_data"
    },
    {
     "name": "stdout",
     "output_type": "stream",
     "text": [
      "Epoch 971/1000, Loss: 6538.495028791756\n"
     ]
    },
    {
     "data": {
      "application/vnd.jupyter.widget-view+json": {
       "model_id": "bd10a5ce1dd849018ee86b4459729938",
       "version_major": 2,
       "version_minor": 0
      },
      "text/plain": [
       "Epoch 972/1000:   0%|          | 0/1 [00:00<?, ?it/s]"
      ]
     },
     "metadata": {},
     "output_type": "display_data"
    },
    {
     "name": "stdout",
     "output_type": "stream",
     "text": [
      "Epoch 972/1000, Loss: 6537.8438510237065\n"
     ]
    },
    {
     "data": {
      "application/vnd.jupyter.widget-view+json": {
       "model_id": "b53afa6ef5bc4ab989fdc13eb523d6ef",
       "version_major": 2,
       "version_minor": 0
      },
      "text/plain": [
       "Epoch 973/1000:   0%|          | 0/1 [00:00<?, ?it/s]"
      ]
     },
     "metadata": {},
     "output_type": "display_data"
    },
    {
     "name": "stdout",
     "output_type": "stream",
     "text": [
      "Epoch 973/1000, Loss: 6526.088576744342\n"
     ]
    },
    {
     "data": {
      "application/vnd.jupyter.widget-view+json": {
       "model_id": "66983f637e5441e786b96697dc644990",
       "version_major": 2,
       "version_minor": 0
      },
      "text/plain": [
       "Epoch 974/1000:   0%|          | 0/1 [00:00<?, ?it/s]"
      ]
     },
     "metadata": {},
     "output_type": "display_data"
    },
    {
     "name": "stdout",
     "output_type": "stream",
     "text": [
      "Epoch 974/1000, Loss: 6542.45549063847\n"
     ]
    },
    {
     "data": {
      "application/vnd.jupyter.widget-view+json": {
       "model_id": "2f99ca089d784f7babe2202ddd0ced55",
       "version_major": 2,
       "version_minor": 0
      },
      "text/plain": [
       "Epoch 975/1000:   0%|          | 0/1 [00:00<?, ?it/s]"
      ]
     },
     "metadata": {},
     "output_type": "display_data"
    },
    {
     "name": "stdout",
     "output_type": "stream",
     "text": [
      "Epoch 975/1000, Loss: 6518.795006061422\n"
     ]
    },
    {
     "data": {
      "application/vnd.jupyter.widget-view+json": {
       "model_id": "c9a0e45591804c3f8c9bcd812ef2ae32",
       "version_major": 2,
       "version_minor": 0
      },
      "text/plain": [
       "Epoch 976/1000:   0%|          | 0/1 [00:00<?, ?it/s]"
      ]
     },
     "metadata": {},
     "output_type": "display_data"
    },
    {
     "name": "stdout",
     "output_type": "stream",
     "text": [
      "Epoch 976/1000, Loss: 6521.989661907328\n"
     ]
    },
    {
     "data": {
      "application/vnd.jupyter.widget-view+json": {
       "model_id": "a8206e1325cb4135afc6d3913bb62743",
       "version_major": 2,
       "version_minor": 0
      },
      "text/plain": [
       "Epoch 977/1000:   0%|          | 0/1 [00:00<?, ?it/s]"
      ]
     },
     "metadata": {},
     "output_type": "display_data"
    },
    {
     "name": "stdout",
     "output_type": "stream",
     "text": [
      "Epoch 977/1000, Loss: 6531.698494746767\n"
     ]
    },
    {
     "data": {
      "application/vnd.jupyter.widget-view+json": {
       "model_id": "279b6756ee66490a860ea9fa22142f51",
       "version_major": 2,
       "version_minor": 0
      },
      "text/plain": [
       "Epoch 978/1000:   0%|          | 0/1 [00:00<?, ?it/s]"
      ]
     },
     "metadata": {},
     "output_type": "display_data"
    },
    {
     "name": "stdout",
     "output_type": "stream",
     "text": [
      "Epoch 978/1000, Loss: 6523.977526434536\n"
     ]
    },
    {
     "data": {
      "application/vnd.jupyter.widget-view+json": {
       "model_id": "53cf3d996ca34becad66ab50c982d09e",
       "version_major": 2,
       "version_minor": 0
      },
      "text/plain": [
       "Epoch 979/1000:   0%|          | 0/1 [00:00<?, ?it/s]"
      ]
     },
     "metadata": {},
     "output_type": "display_data"
    },
    {
     "name": "stdout",
     "output_type": "stream",
     "text": [
      "Epoch 979/1000, Loss: 6518.912980704472\n"
     ]
    },
    {
     "data": {
      "application/vnd.jupyter.widget-view+json": {
       "model_id": "0f7efa58090d4aea951fb2b12658ed67",
       "version_major": 2,
       "version_minor": 0
      },
      "text/plain": [
       "Epoch 980/1000:   0%|          | 0/1 [00:00<?, ?it/s]"
      ]
     },
     "metadata": {},
     "output_type": "display_data"
    },
    {
     "name": "stdout",
     "output_type": "stream",
     "text": [
      "Epoch 980/1000, Loss: 6512.709178003772\n"
     ]
    },
    {
     "data": {
      "application/vnd.jupyter.widget-view+json": {
       "model_id": "5e4a02a79fd746cb8c405f0848b33145",
       "version_major": 2,
       "version_minor": 0
      },
      "text/plain": [
       "Epoch 981/1000:   0%|          | 0/1 [00:00<?, ?it/s]"
      ]
     },
     "metadata": {},
     "output_type": "display_data"
    },
    {
     "name": "stdout",
     "output_type": "stream",
     "text": [
      "Epoch 981/1000, Loss: 6517.339022932381\n"
     ]
    },
    {
     "data": {
      "application/vnd.jupyter.widget-view+json": {
       "model_id": "f04868d025a149ce90c6a2adffb68628",
       "version_major": 2,
       "version_minor": 0
      },
      "text/plain": [
       "Epoch 982/1000:   0%|          | 0/1 [00:00<?, ?it/s]"
      ]
     },
     "metadata": {},
     "output_type": "display_data"
    },
    {
     "name": "stdout",
     "output_type": "stream",
     "text": [
      "Epoch 982/1000, Loss: 6535.968792093211\n"
     ]
    },
    {
     "data": {
      "application/vnd.jupyter.widget-view+json": {
       "model_id": "6073df87b1394b2190deca4175ad34f3",
       "version_major": 2,
       "version_minor": 0
      },
      "text/plain": [
       "Epoch 983/1000:   0%|          | 0/1 [00:00<?, ?it/s]"
      ]
     },
     "metadata": {},
     "output_type": "display_data"
    },
    {
     "name": "stdout",
     "output_type": "stream",
     "text": [
      "Epoch 983/1000, Loss: 6530.215151030442\n"
     ]
    },
    {
     "data": {
      "application/vnd.jupyter.widget-view+json": {
       "model_id": "83c26fb6c6de433b9ca7f2a9c3260c8d",
       "version_major": 2,
       "version_minor": 0
      },
      "text/plain": [
       "Epoch 984/1000:   0%|          | 0/1 [00:00<?, ?it/s]"
      ]
     },
     "metadata": {},
     "output_type": "display_data"
    },
    {
     "name": "stdout",
     "output_type": "stream",
     "text": [
      "Epoch 984/1000, Loss: 6522.420090247845\n"
     ]
    },
    {
     "data": {
      "application/vnd.jupyter.widget-view+json": {
       "model_id": "24fcb61660ab42f7b8e5a28201f279f9",
       "version_major": 2,
       "version_minor": 0
      },
      "text/plain": [
       "Epoch 985/1000:   0%|          | 0/1 [00:00<?, ?it/s]"
      ]
     },
     "metadata": {},
     "output_type": "display_data"
    },
    {
     "name": "stdout",
     "output_type": "stream",
     "text": [
      "Epoch 985/1000, Loss: 6515.563122979526\n"
     ]
    },
    {
     "data": {
      "application/vnd.jupyter.widget-view+json": {
       "model_id": "f41f54426e2b4b5ba0b7444753825b58",
       "version_major": 2,
       "version_minor": 0
      },
      "text/plain": [
       "Epoch 986/1000:   0%|          | 0/1 [00:00<?, ?it/s]"
      ]
     },
     "metadata": {},
     "output_type": "display_data"
    },
    {
     "name": "stdout",
     "output_type": "stream",
     "text": [
      "Epoch 986/1000, Loss: 6523.444474845097\n"
     ]
    },
    {
     "data": {
      "application/vnd.jupyter.widget-view+json": {
       "model_id": "ef76abf88e9642c8b27fefb16121e79a",
       "version_major": 2,
       "version_minor": 0
      },
      "text/plain": [
       "Epoch 987/1000:   0%|          | 0/1 [00:00<?, ?it/s]"
      ]
     },
     "metadata": {},
     "output_type": "display_data"
    },
    {
     "name": "stdout",
     "output_type": "stream",
     "text": [
      "Epoch 987/1000, Loss: 6528.265561860183\n"
     ]
    },
    {
     "data": {
      "application/vnd.jupyter.widget-view+json": {
       "model_id": "be786f1d75554bb39e74d52ee63accc1",
       "version_major": 2,
       "version_minor": 0
      },
      "text/plain": [
       "Epoch 988/1000:   0%|          | 0/1 [00:00<?, ?it/s]"
      ]
     },
     "metadata": {},
     "output_type": "display_data"
    },
    {
     "name": "stdout",
     "output_type": "stream",
     "text": [
      "Epoch 988/1000, Loss: 6527.202497811153\n"
     ]
    },
    {
     "data": {
      "application/vnd.jupyter.widget-view+json": {
       "model_id": "d8b5bae9b7d54800a0fcdfaa8660d6e0",
       "version_major": 2,
       "version_minor": 0
      },
      "text/plain": [
       "Epoch 989/1000:   0%|          | 0/1 [00:00<?, ?it/s]"
      ]
     },
     "metadata": {},
     "output_type": "display_data"
    },
    {
     "name": "stdout",
     "output_type": "stream",
     "text": [
      "Epoch 989/1000, Loss: 6515.758742759967\n"
     ]
    },
    {
     "data": {
      "application/vnd.jupyter.widget-view+json": {
       "model_id": "77bc1b0445ca4bbbbcc11f289b3f83f7",
       "version_major": 2,
       "version_minor": 0
      },
      "text/plain": [
       "Epoch 990/1000:   0%|          | 0/1 [00:00<?, ?it/s]"
      ]
     },
     "metadata": {},
     "output_type": "display_data"
    },
    {
     "name": "stdout",
     "output_type": "stream",
     "text": [
      "Epoch 990/1000, Loss: 6532.890448208513\n"
     ]
    },
    {
     "data": {
      "application/vnd.jupyter.widget-view+json": {
       "model_id": "25ab90ceb09741598bb327d8609806a2",
       "version_major": 2,
       "version_minor": 0
      },
      "text/plain": [
       "Epoch 991/1000:   0%|          | 0/1 [00:00<?, ?it/s]"
      ]
     },
     "metadata": {},
     "output_type": "display_data"
    },
    {
     "name": "stdout",
     "output_type": "stream",
     "text": [
      "Epoch 991/1000, Loss: 6535.021572770744\n"
     ]
    },
    {
     "data": {
      "application/vnd.jupyter.widget-view+json": {
       "model_id": "d21b71e81baa473e9dd25c9767b871f4",
       "version_major": 2,
       "version_minor": 0
      },
      "text/plain": [
       "Epoch 992/1000:   0%|          | 0/1 [00:00<?, ?it/s]"
      ]
     },
     "metadata": {},
     "output_type": "display_data"
    },
    {
     "name": "stdout",
     "output_type": "stream",
     "text": [
      "Epoch 992/1000, Loss: 6524.240512190194\n"
     ]
    },
    {
     "data": {
      "application/vnd.jupyter.widget-view+json": {
       "model_id": "d0012d6121b34b3e8376dd65b456bade",
       "version_major": 2,
       "version_minor": 0
      },
      "text/plain": [
       "Epoch 993/1000:   0%|          | 0/1 [00:00<?, ?it/s]"
      ]
     },
     "metadata": {},
     "output_type": "display_data"
    },
    {
     "name": "stdout",
     "output_type": "stream",
     "text": [
      "Epoch 993/1000, Loss: 6523.088214742726\n"
     ]
    },
    {
     "data": {
      "application/vnd.jupyter.widget-view+json": {
       "model_id": "9aa8f66ab9284295b2b8795d99c5ee22",
       "version_major": 2,
       "version_minor": 0
      },
      "text/plain": [
       "Epoch 994/1000:   0%|          | 0/1 [00:00<?, ?it/s]"
      ]
     },
     "metadata": {},
     "output_type": "display_data"
    },
    {
     "name": "stdout",
     "output_type": "stream",
     "text": [
      "Epoch 994/1000, Loss: 6530.014673693427\n"
     ]
    },
    {
     "data": {
      "application/vnd.jupyter.widget-view+json": {
       "model_id": "79de36ac45aa4d5ca52395f0d8e42c81",
       "version_major": 2,
       "version_minor": 0
      },
      "text/plain": [
       "Epoch 995/1000:   0%|          | 0/1 [00:00<?, ?it/s]"
      ]
     },
     "metadata": {},
     "output_type": "display_data"
    },
    {
     "name": "stdout",
     "output_type": "stream",
     "text": [
      "Epoch 995/1000, Loss: 6520.623812971444\n"
     ]
    },
    {
     "data": {
      "application/vnd.jupyter.widget-view+json": {
       "model_id": "3fd9943c4b5b493da07528ddb70d27f4",
       "version_major": 2,
       "version_minor": 0
      },
      "text/plain": [
       "Epoch 996/1000:   0%|          | 0/1 [00:00<?, ?it/s]"
      ]
     },
     "metadata": {},
     "output_type": "display_data"
    },
    {
     "name": "stdout",
     "output_type": "stream",
     "text": [
      "Epoch 996/1000, Loss: 6527.907336004849\n"
     ]
    },
    {
     "data": {
      "application/vnd.jupyter.widget-view+json": {
       "model_id": "7c5f6cd0d28f4c32a48a24a35913e559",
       "version_major": 2,
       "version_minor": 0
      },
      "text/plain": [
       "Epoch 997/1000:   0%|          | 0/1 [00:00<?, ?it/s]"
      ]
     },
     "metadata": {},
     "output_type": "display_data"
    },
    {
     "name": "stdout",
     "output_type": "stream",
     "text": [
      "Epoch 997/1000, Loss: 6519.031670932112\n"
     ]
    },
    {
     "data": {
      "application/vnd.jupyter.widget-view+json": {
       "model_id": "4f403c969078420185058d394bd2b960",
       "version_major": 2,
       "version_minor": 0
      },
      "text/plain": [
       "Epoch 998/1000:   0%|          | 0/1 [00:00<?, ?it/s]"
      ]
     },
     "metadata": {},
     "output_type": "display_data"
    },
    {
     "name": "stdout",
     "output_type": "stream",
     "text": [
      "Epoch 998/1000, Loss: 6512.099356815733\n"
     ]
    },
    {
     "data": {
      "application/vnd.jupyter.widget-view+json": {
       "model_id": "cf62e29586ba4ef29db654f50ad4e231",
       "version_major": 2,
       "version_minor": 0
      },
      "text/plain": [
       "Epoch 999/1000:   0%|          | 0/1 [00:00<?, ?it/s]"
      ]
     },
     "metadata": {},
     "output_type": "display_data"
    },
    {
     "name": "stdout",
     "output_type": "stream",
     "text": [
      "Epoch 999/1000, Loss: 6528.736774313039\n"
     ]
    },
    {
     "data": {
      "application/vnd.jupyter.widget-view+json": {
       "model_id": "ae7929613c9c40d796ed656cb3fbc2a3",
       "version_major": 2,
       "version_minor": 0
      },
      "text/plain": [
       "Epoch 1000/1000:   0%|          | 0/1 [00:00<?, ?it/s]"
      ]
     },
     "metadata": {},
     "output_type": "display_data"
    },
    {
     "name": "stdout",
     "output_type": "stream",
     "text": [
      "Epoch 1000/1000, Loss: 6519.447665510506\n"
     ]
    }
   ],
   "source": [
    "# 定义损失函数和优化器\n",
    "criterion = nn.MSELoss()\n",
    "optimizer = optim.Adam(model.parameters(), lr=2e-4)\n",
    "\n",
    "save_path = \"./results/checkpoints_240/5\"\n",
    "os.makedirs(save_path, exist_ok=True)\n",
    "# 训练循环\n",
    "num_epochs = 1000\n",
    "for epoch in range(num_epochs):\n",
    "    model.train()\n",
    "    running_loss = 0.0\n",
    "\n",
    "    # 在每个epoch开始时创建一个进度条\n",
    "    progress_bar_epoch = tqdm(total=1, desc=f\"Epoch {epoch + 1}/{num_epochs}\", leave=True, mininterval=1.0)\n",
    "    \n",
    "    for batch_idx, (inputs, targets) in enumerate(train_loader):\n",
    "        inputs, targets = inputs.float().to(device), targets.float().to(device)\n",
    "\n",
    "        optimizer.zero_grad()\n",
    "        outputs = model(inputs)\n",
    "        loss = criterion(outputs, targets)\n",
    "\n",
    "        loss.backward()\n",
    "        optimizer.step()\n",
    "        \n",
    "        running_loss += loss.item()\n",
    "\n",
    "        # 记录每个batch的loss\n",
    "        wandb.log({\"train_loss\": loss.item(), \"step\": batch_idx})\n",
    "    \n",
    "    # 记录并更新每个epoch的总loss\n",
    "    wandb.log({\"total_train_loss\": running_loss / len(train_loader), \"epoch\": epoch+1})\n",
    "\n",
    "    # 每过40个epoch保存一次模型\n",
    "    if epoch % 40 == 0:\n",
    "        checkpoint_path = os.path.join(save_path, f\"checkpoint_epoch{epoch+1}.pth\")\n",
    "        torch.save(model.state_dict(), checkpoint_path)\n",
    "\n",
    "    # 更新 epoch 进度条的状态\n",
    "    progress_bar_epoch.update(1)  # 完成当前 epoch\n",
    "\n",
    "    # 打印当前 epoch 的损失\n",
    "    print(f\"Epoch {epoch+1}/{num_epochs}, Loss: {running_loss / len(train_loader)}\")"
   ]
  },
  {
   "cell_type": "markdown",
   "metadata": {},
   "source": [
    "### 5、测试"
   ]
  },
  {
   "cell_type": "markdown",
   "metadata": {},
   "source": [
    "#### 5.1 使用不同的模型"
   ]
  },
  {
   "cell_type": "code",
   "execution_count": 36,
   "metadata": {},
   "outputs": [],
   "source": [
    "results = []  # List to store individual metrics (MSE, MAE)"
   ]
  },
  {
   "cell_type": "markdown",
   "metadata": {},
   "source": [
    "#### 5.2 测试"
   ]
  },
  {
   "cell_type": "code",
   "execution_count": 53,
   "metadata": {},
   "outputs": [
    {
     "name": "stdout",
     "output_type": "stream",
     "text": [
      "最终结果的shape:(14735, 240),真实结果的shape(14735, 240),最佳结果为第115组\n",
      "Test Loss (MSE): 6303.894055596714\n",
      "Test MSE: 6301.96826171875\n",
      "Test MAE: 57.08427047729492\n"
     ]
    }
   ],
   "source": [
    "# Assuming `test_loader` and `model` are already defined\n",
    "model.load_state_dict(torch.load(\"./results/checkpoints_240/3/checkpoint_epoch921.pth\"))\n",
    "model.eval()  # Set model to evaluation mode\n",
    "criterion = nn.MSELoss()\n",
    "\n",
    "y_true = []  # List to store true values (targets)\n",
    "y_pred = []  # List to store predicted values\n",
    "\n",
    "\n",
    "with torch.no_grad():  # No need to track gradients during inference\n",
    "    test_loss = 0.0\n",
    "    pre_loss = 60000\n",
    "    index = -1\n",
    "    num = 0\n",
    "    for batch_idx, (inputs, targets) in enumerate(train_loader):\n",
    "        inputs, targets = inputs.float().to(device), targets.float().to(device)\n",
    "        \n",
    "        # Forward pass\n",
    "        outputs = model(inputs)  # Get model outputs\n",
    "\n",
    "        # Compute the loss\n",
    "        loss = criterion(outputs.squeeze(), targets)  # Assuming targets have shape (batch_size, 96)\n",
    "        if(loss<pre_loss):\n",
    "            index =batch_idx\n",
    "        test_loss += loss.item()  # Accumulate the test loss\n",
    "        # print(loss)\n",
    "        # Store true and predicted values for metric calculation\n",
    "        y_true.append(targets.cpu().numpy())  # Move targets to CPU for numpy conversion\n",
    "        y_pred.append(outputs.cpu().numpy())  # Move predictions to CPU for numpy conversion\n",
    "        # # Store results\n",
    "        # if num<6:\n",
    "        #     num+=1\n",
    "        #     mse = mean_squared_error(targets.cpu().numpy(), outputs.squeeze().cpu().numpy())\n",
    "        #     mae = mean_absolute_error(targets.cpu().numpy(), outputs.squeeze().cpu().numpy())\n",
    "        #     results.append((mse, mae))\n",
    "\n",
    "# Concatenate all batches to compute final metrics\n",
    "y_true = np.concatenate(y_true, axis=0)  # Shape: (num_samples, 96)\n",
    "y_pred = np.concatenate(y_pred, axis=0)  # Shape: (num_samples, 96)\n",
    "\n",
    "print(f\"最终结果的shape:{y_pred.shape},真实结果的shape{y_true.shape},最佳结果为第{index}组\")\n",
    "# Calculate MSE and MAE for the entire test set\n",
    "mse = mean_squared_error(y_true, y_pred)\n",
    "mae = mean_absolute_error(y_true, y_pred)\n",
    "\n",
    "# Print MSE and MAE for the test set\n",
    "print(f\"Test Loss (MSE): {test_loss / len(train_loader)}\")\n",
    "print(f\"Test MSE: {mse}\")\n",
    "print(f\"Test MAE: {mae}\")"
   ]
  },
  {
   "cell_type": "markdown",
   "metadata": {},
   "source": [
    "#### 5.3 保存不同模型的结果"
   ]
  },
  {
   "cell_type": "code",
   "execution_count": 47,
   "metadata": {},
   "outputs": [],
   "source": [
    "results.append((mse, mae))"
   ]
  },
  {
   "cell_type": "markdown",
   "metadata": {},
   "source": [
    "#### 5.4 计算最终的平均值以及标准差"
   ]
  },
  {
   "cell_type": "code",
   "execution_count": 51,
   "metadata": {},
   "outputs": [
    {
     "name": "stdout",
     "output_type": "stream",
     "text": [
      "Mean MSE: 25365.720703125 ± 3844.052001953125,Mean MAE: 113.96319580078125 ± 11.261698722839355\n"
     ]
    }
   ],
   "source": [
    "# Calculate the average and standard deviation for MSE and MAE\n",
    "mse_vals, mae_vals = zip(*results)\n",
    "mse_mean, mae_mean = np.mean(mse_vals), np.mean(mae_vals)\n",
    "mse_std, mae_std = np.std(mse_vals), np.std(mae_vals)\n",
    "\n",
    "# Print the averaged metrics\n",
    "print(f\"Mean MSE: {mse_mean} ± {mse_std},Mean MAE: {mae_mean} ± {mae_std}\")\n"
   ]
  },
  {
   "cell_type": "markdown",
   "metadata": {},
   "source": [
    "#### 5.4 保存预测值以及真实值"
   ]
  },
  {
   "cell_type": "code",
   "execution_count": 78,
   "metadata": {},
   "outputs": [],
   "source": [
    "# Optionally, save predictions to a CSV file\n",
    "predictions_df = pd.DataFrame(y_pred, columns=[f\"hour_{i+1}\" for i in range(96)])  # 96 hours prediction\n",
    "predictions_df.to_csv('predictions.csv', index=False)\n",
    "\n",
    "# Optionally, save the model's predictions along with the true values\n",
    "true_values_df = pd.DataFrame(y_true, columns=[f\"hour_{i+1}\" for i in range(96)])\n",
    "true_values_df.to_csv('true_values.csv', index=False)"
   ]
  },
  {
   "cell_type": "code",
   "execution_count": 54,
   "metadata": {},
   "outputs": [
    {
     "data": {
      "image/png": "[encoded data removed]",
      "text/plain": [
       "<Figure size 640x480 with 1 Axes>"
      ]
     },
     "metadata": {},
     "output_type": "display_data"
    }
   ],
   "source": [
    "#   画图\n",
    "sample_idx = 115\n",
    "# 使用 Seaborn 风格\n",
    "sns.set(style=\"whitegrid\")\n",
    "# 绘制真实值\n",
    "plt.plot(y_true[sample_idx], label='True Values', color='b', linestyle='-', marker=',', markersize=6, linewidth=2)\n",
    "\n",
    "# 绘制预测值\n",
    "plt.plot(y_pred[sample_idx], label='Predicted Values', color='r', linestyle='-', marker=',', markersize=6, linewidth=2)\n",
    "\n",
    "# 添加标题和标签\n",
    "plt.title(f\"True vs Predicted Values for Sample {sample_idx + 1}\", fontsize=16, fontweight='bold')\n",
    "plt.xlabel(\"Hours\", fontsize=14)\n",
    "plt.ylabel(\"Rental Count\", fontsize=14)\n",
    "\n",
    "# 设置 x 轴刻度（如果需要）\n",
    "plt.xticks(np.arange(0, y_train.shape[1], 20), fontsize=12)  # 每 8 个小时一个刻度\n",
    "# 设置 y 轴刻度\n",
    "plt.yticks(fontsize=12)\n",
    "\n",
    "# 添加图例\n",
    "plt.legend(loc='upper right', fontsize=12, frameon=False)\n",
    "\n",
    "# 网格线设置（如果需要）\n",
    "plt.grid(True, linestyle='--', alpha=0.6)\n",
    "\n",
    "# 保存图像\n",
    "plt.tight_layout()  # 自动调整布局\n",
    "plt.savefig(f'true_vs_predicted_sample{sample_idx + 1}_optimized.png')\n",
    "# 显示图像\n",
    "plt.show()\n"
   ]
  }
 ],
 "metadata": {
  "kernelspec": {
   "display_name": "pytorch",
   "language": "python",
   "name": "python3"
  },
  "language_info": {
   "codemirror_mode": {
    "name": "ipython",
    "version": 3
   },
   "file_extension": ".py",
   "mimetype": "text/x-python",
   "name": "python",
   "nbconvert_exporter": "python",
   "pygments_lexer": "ipython3",
   "version": "3.10.0"
  }
 },
 "nbformat": 4,
 "nbformat_minor": 2
}
